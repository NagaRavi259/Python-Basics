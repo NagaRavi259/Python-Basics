{
 "cells": [
  {
   "cell_type": "markdown",
   "id": "d011e99d-9b60-4825-ac7a-bf78c66b2857",
   "metadata": {
    "tags": []
   },
   "source": [
    "# Missing values in the Dataset\n",
    "- Missing values means while we getting a dataset it might have a few records are empty\n",
    "- Their might be a different causses for the missing data\n",
    "     1. Their might not recorded while recording\n",
    "     2. Their might be a data corruption when storing the data\n",
    "     3. Their might be sensor issue while getting a data\n",
    "     4. they didnt provided the data whilerecording"
   ]
  },
  {
   "cell_type": "markdown",
   "id": "687a5fa8-2a69-4cb1-a145-93adb040877a",
   "metadata": {
    "tags": []
   },
   "source": [
    "## Types of Missing data in a Dataset\n",
    "- ### Missing completely At random\n",
    "    - in this the probability of data missing is random for all its records \n",
    "    - there is no pattern between other data\n",
    "    - that missing data is independent of other data there is no pattern\n",
    "    - it will happen in a rare cases\n",
    "        - Example :-\n",
    "            -  Example, suppose in a library there are some overdue books. Some values of overdue books in the computer system are missing. The reason might be a human error like the librarian forgot to type in the values. So, the missing values of overdue books are not related to any other variable/data in the system.\n",
    "            \n",
    "- ### Missing at random\n",
    "    - in this type there might be a pattern between the missing values and the other data\n",
    "    - in this there is a pattern between the missing values because\n",
    "        - Example :- \n",
    "            - Suppose a poll is taken for overdue books of a library. Gender and the number of overdue books are asked in the poll. Assume that most of the females answer the poll and men are less likely to answer. So why the data is missing can be explained by another factor that is gender.\n",
    "            \n"
   ]
  },
  {
   "cell_type": "markdown",
   "id": "300d11a2-562d-4812-989c-4f281b71fa15",
   "metadata": {},
   "source": [
    "- ### Missing not at random\n",
    "    - if the missing data is not fall under Missing at random and Missing not at random that data will fall under the Missing Not at random \n",
    "    - Missing values depend on the unobserved data\n",
    "    - if there is some pattern between the data and missing data thir might be a unobserved data that can not be explained\n",
    "        - Example :- \n",
    "            - suppose the name and the number of overdue books are asked in the poll for a library. So most of the people "
   ]
  },
  {
   "cell_type": "markdown",
   "id": "c6571a77-92ef-420e-8565-cb50b7406325",
   "metadata": {},
   "source": [
    "## How to handle the missing values in a dataset\n",
    "- To handle the missing value in a dataset we can use multiple methods "
   ]
  },
  {
   "cell_type": "code",
   "execution_count": 2,
   "id": "5dc9d954-ea55-4538-8832-fdcbcd13aa85",
   "metadata": {},
   "outputs": [],
   "source": [
    "import pandas as pd\n",
    "import numpy as np\n",
    "import matplotlib.pyplot as plt\n",
    "%matplotlib inline\n",
    "import seaborn as sns"
   ]
  },
  {
   "cell_type": "code",
   "execution_count": 6,
   "id": "8dd3f842-32ff-4691-a048-562e7316d3a8",
   "metadata": {},
   "outputs": [],
   "source": [
    "df=pd.read_csv('https://raw.githubusercontent.com/sahutkarsh/loan-prediction-analytics-vidhya/master/train.csv')"
   ]
  },
  {
   "cell_type": "code",
   "execution_count": 8,
   "id": "713f17aa-8d24-48ee-b35e-194ebcbc6fc7",
   "metadata": {},
   "outputs": [
    {
     "data": {
      "text/plain": [
       "Loan_ID               0\n",
       "Gender               13\n",
       "Married               3\n",
       "Dependents           15\n",
       "Education             0\n",
       "Self_Employed        32\n",
       "ApplicantIncome       0\n",
       "CoapplicantIncome     0\n",
       "LoanAmount           22\n",
       "Loan_Amount_Term     14\n",
       "Credit_History       50\n",
       "Property_Area         0\n",
       "Loan_Status           0\n",
       "dtype: int64"
      ]
     },
     "execution_count": 8,
     "metadata": {},
     "output_type": "execute_result"
    }
   ],
   "source": [
    "#to get if there isnulls inthe data weill use \n",
    "df.isnull().sum()"
   ]
  },
  {
   "cell_type": "markdown",
   "id": "829ebc0f-23fc-4a7f-b5a3-ba6477d7f45c",
   "metadata": {},
   "source": [
    "- As we seen above we found so many null values in the columns \n",
    "- total of 6 columns"
   ]
  },
  {
   "cell_type": "code",
   "execution_count": 10,
   "id": "941b2ed0-4047-4437-9367-9965bc29e602",
   "metadata": {},
   "outputs": [
    {
     "data": {
      "text/plain": [
       "149"
      ]
     },
     "execution_count": 10,
     "metadata": {},
     "output_type": "execute_result"
    }
   ],
   "source": [
    "df.isnull().sum().sum() # this will getthe total number of null values in the dataSet"
   ]
  },
  {
   "cell_type": "markdown",
   "id": "5d8a2962-782d-473f-a369-39f2950e3502",
   "metadata": {},
   "source": [
    "As it showing we had total 149 null values in the dataset"
   ]
  },
  {
   "cell_type": "markdown",
   "id": "dddb3d52-d5a3-41b3-adac-304de2195e09",
   "metadata": {
    "tags": []
   },
   "source": [
    "## Figuring out the way to handle these null values in the dataset\n",
    "- Analyze the each column with the missing values and figure out why the msissing values occoured \n",
    "- and we had to use a method to use to handle these missing values\n",
    "- And also this is the crucial part of building the ML model\n",
    "    - There are Two methods to handle the missing values\n",
    "          1. Deleting the missing values\n",
    "          2. Imputing the missing values with a clossest or different methods to caluclate these values and imputing then in that place\n",
    "- ### Deleting the missing values\n",
    "    - Generaly this is not the best way to handle these missing values as it reduces the precession of the model\n",
    "    - if the missing values if types of the Missing not at random it should notbe deleted because it will effect on the dataset\n",
    "    - If the missing value is of type Missing At Random or Missing Completely At Random then it can be deleted \n",
    "        - ##### The disadvantage of this method is one might end up deleting some useful data from the dataset\n",
    "    - #### there are Two Different ways to delete the data\n",
    "        1. Deleting the entair row\n",
    "            - If the Row has manymissing values we can choose to delete that row \n",
    "            - if every row has some missing values we are endup deleting so many rows \n",
    "            - Code :- \n",
    "               - `df = train_df.dropna(axis=0)`\n",
    "               - `df.isnull().sum()`"
   ]
  },
  {
   "cell_type": "code",
   "execution_count": 12,
   "id": "f50c4a68-54ee-4288-a8fa-469539549ba6",
   "metadata": {},
   "outputs": [],
   "source": [
    "new_df = df.dropna(axis=0) # Deleting the entair row"
   ]
  },
  {
   "cell_type": "code",
   "execution_count": 17,
   "id": "684bfd76-19fb-47de-9a5a-04324049ea74",
   "metadata": {},
   "outputs": [
    {
     "data": {
      "text/plain": [
       "Loan_ID              0\n",
       "Gender               0\n",
       "Married              0\n",
       "Dependents           0\n",
       "Education            0\n",
       "Self_Employed        0\n",
       "ApplicantIncome      0\n",
       "CoapplicantIncome    0\n",
       "LoanAmount           0\n",
       "Loan_Amount_Term     0\n",
       "Credit_History       0\n",
       "Property_Area        0\n",
       "Loan_Status          0\n",
       "dtype: int64"
      ]
     },
     "execution_count": 17,
     "metadata": {},
     "output_type": "execute_result"
    }
   ],
   "source": [
    "new_df.isnull().sum() # To get the total number of missing values in the each columns"
   ]
  },
  {
   "cell_type": "code",
   "execution_count": 18,
   "id": "a5176128-8932-4032-b8dc-3789f3a5e765",
   "metadata": {},
   "outputs": [
    {
     "data": {
      "text/plain": [
       "(480, 13)"
      ]
     },
     "execution_count": 18,
     "metadata": {},
     "output_type": "execute_result"
    }
   ],
   "source": [
    "new_df.shape # Shape of New Data Frame"
   ]
  },
  {
   "cell_type": "markdown",
   "id": "4cb7f0ff-a40f-49ec-aa88-6d2b2ea842bd",
   "metadata": {},
   "source": [
    "2. Deleting the entair column\n",
    "    - if Certain columns have so many missing values we have to delete that column\n",
    "    - Code :- \n",
    "        - `df = train_df.drop(['Dependents'],axis=1)`\n",
    "        - `df.isnull().sum()`"
   ]
  },
  {
   "cell_type": "code",
   "execution_count": null,
   "id": "0cc65535-e007-430c-90df-05d61f3fc0da",
   "metadata": {},
   "outputs": [],
   "source": []
  }
 ],
 "metadata": {
  "kernelspec": {
   "display_name": "Python 3 (ipykernel)",
   "language": "python",
   "name": "python3"
  },
  "language_info": {
   "codemirror_mode": {
    "name": "ipython",
    "version": 3
   },
   "file_extension": ".py",
   "mimetype": "text/x-python",
   "name": "python",
   "nbconvert_exporter": "python",
   "pygments_lexer": "ipython3",
   "version": "3.9.7"
  }
 },
 "nbformat": 4,
 "nbformat_minor": 5
}
