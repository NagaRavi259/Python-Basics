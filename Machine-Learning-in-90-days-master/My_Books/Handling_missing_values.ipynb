{
 "cells": [
  {
   "cell_type": "markdown",
   "id": "d011e99d-9b60-4825-ac7a-bf78c66b2857",
   "metadata": {
    "tags": []
   },
   "source": [
    "# Missing values in the Dataset\n",
    "- Missing values means while we getting a dataset it might have a few records are empty\n",
    "- Their might be a different causses for the missing data\n",
    "     1. Their might not recorded while recording\n",
    "     2. Their might be a data corruption when storing the data\n",
    "     3. Their might be sensor issue while getting a data\n",
    "     4. they didnt provided the data whilerecording"
   ]
  },
  {
   "cell_type": "markdown",
   "id": "687a5fa8-2a69-4cb1-a145-93adb040877a",
   "metadata": {
    "tags": []
   },
   "source": [
    "## Types of Missing data in a Dataset\n",
    "- ### Missing completely At random\n",
    "    - in this the probability of data missing is random for all its records \n",
    "    - there is no pattern between other data\n",
    "    - that missing data is independent of other data there is no pattern\n",
    "    - it will happen in a rare cases\n",
    "        - Example :-\n",
    "            -  Example, suppose in a library there are some overdue books. Some values of overdue books in the computer system are missing. The reason might be a human error like the librarian forgot to type in the values. So, the missing values of overdue books are not related to any other variable/data in the system.\n",
    "            \n",
    "- ### Missing at random\n",
    "    - in this type there might be a pattern between the missing values and the other data\n",
    "    - in this there is a pattern between the missing values because\n",
    "        - Example :- \n",
    "            - Suppose a poll is taken for overdue books of a library. Gender and the number of overdue books are asked in the poll. Assume that most of the females answer the poll and men are less likely to answer. So why the data is missing can be explained by another factor that is gender.\n",
    "            \n"
   ]
  },
  {
   "cell_type": "markdown",
   "id": "300d11a2-562d-4812-989c-4f281b71fa15",
   "metadata": {},
   "source": [
    "- ### Missing not at random\n",
    "    - if the missing data is not fall under Missing at random and Missing not at random that data will fall under the Missing Not at random \n",
    "    - Missing values depend on the unobserved data\n",
    "    - if there is some pattern between the data and missing data thir might be a unobserved data that can not be explained\n",
    "        - Example :- \n",
    "            - suppose the name and the number of overdue books are asked in the poll for a library. So most of the people "
   ]
  },
  {
   "cell_type": "markdown",
   "id": "c6571a77-92ef-420e-8565-cb50b7406325",
   "metadata": {},
   "source": [
    "## How to handle the missing values in a dataset\n",
    "- To handle the missing value in a dataset we can use multiple methods "
   ]
  },
  {
   "cell_type": "code",
   "execution_count": 2,
   "id": "5dc9d954-ea55-4538-8832-fdcbcd13aa85",
   "metadata": {},
   "outputs": [],
   "source": [
    "import pandas as pd\n",
    "import numpy as np\n",
    "import matplotlib.pyplot as plt\n",
    "%matplotlib inline\n",
    "import seaborn as sns"
   ]
  },
  {
   "cell_type": "code",
   "execution_count": 19,
   "id": "8dd3f842-32ff-4691-a048-562e7316d3a8",
   "metadata": {},
   "outputs": [],
   "source": [
    "df=pd.read_csv('https://raw.githubusercontent.com/sahutkarsh/loan-prediction-analytics-vidhya/master/train.csv')"
   ]
  },
  {
   "cell_type": "code",
   "execution_count": 27,
   "id": "713f17aa-8d24-48ee-b35e-194ebcbc6fc7",
   "metadata": {},
   "outputs": [
    {
     "data": {
      "text/plain": [
       "Loan_ID               0\n",
       "Gender               13\n",
       "Married               3\n",
       "Dependents           15\n",
       "Education             0\n",
       "Self_Employed        32\n",
       "ApplicantIncome       0\n",
       "CoapplicantIncome     0\n",
       "LoanAmount           22\n",
       "Loan_Amount_Term     14\n",
       "Credit_History       50\n",
       "Property_Area         0\n",
       "Loan_Status           0\n",
       "dtype: int64"
      ]
     },
     "execution_count": 27,
     "metadata": {},
     "output_type": "execute_result"
    }
   ],
   "source": [
    "#to get if there isnulls inthe data weill use \n",
    "df.isnull().sum()"
   ]
  },
  {
   "cell_type": "markdown",
   "id": "829ebc0f-23fc-4a7f-b5a3-ba6477d7f45c",
   "metadata": {},
   "source": [
    "- As we seen above we found so many null values in the columns \n",
    "- total of 6 columns"
   ]
  },
  {
   "cell_type": "code",
   "execution_count": 10,
   "id": "941b2ed0-4047-4437-9367-9965bc29e602",
   "metadata": {},
   "outputs": [
    {
     "data": {
      "text/plain": [
       "149"
      ]
     },
     "execution_count": 10,
     "metadata": {},
     "output_type": "execute_result"
    }
   ],
   "source": [
    "df.isnull().sum().sum() # this will getthe total number of null values in the dataSet"
   ]
  },
  {
   "cell_type": "markdown",
   "id": "5d8a2962-782d-473f-a369-39f2950e3502",
   "metadata": {},
   "source": [
    "As it showing we had total 149 null values in the dataset"
   ]
  },
  {
   "cell_type": "markdown",
   "id": "0f68662b-ac37-4562-92ab-c61c235f5136",
   "metadata": {
    "tags": []
   },
   "source": [
    "## Figuring out the way to handle these null values in the dataset\n",
    "- Analyze the each column with the missing values and figure out why the msissing values occoured \n",
    "- and we had to use a method to use to handle these missing values\n",
    "- And also this is the crucial part of building the ML model\n",
    "    - There are Two methods to handle the missing values\n",
    "          1. Deleting the missing values\n",
    "          2. Imputing the missing values with a clossest or different methods to caluclate these values and imputing then in that place\n"
   ]
  },
  {
   "cell_type": "markdown",
   "id": "dddb3d52-d5a3-41b3-adac-304de2195e09",
   "metadata": {
    "tags": []
   },
   "source": [
    "- ### Deleting the missing values\n",
    "    - Generaly this is not the best way to handle these missing values as it reduces the precession of the model\n",
    "    - if the missing values if types of the Missing not at random it should notbe deleted because it will effect on the dataset\n",
    "    - If the missing value is of type Missing At Random or Missing Completely At Random then it can be deleted \n",
    "        - ##### The disadvantage of this method is one might end up deleting some useful data from the dataset\n",
    "    - #### there are Two Different ways to delete the data\n",
    "        1. Deleting the entair row\n",
    "            - If the Row has manymissing values we can choose to delete that row \n",
    "            - if every row has some missing values we are endup deleting so many rows \n",
    "            - Code :- \n",
    "               - `df = train_df.dropna(axis=0)`\n",
    "               - `df.isnull().sum()`"
   ]
  },
  {
   "cell_type": "code",
   "execution_count": 22,
   "id": "f50c4a68-54ee-4288-a8fa-469539549ba6",
   "metadata": {},
   "outputs": [],
   "source": [
    "new_Rdf = df.dropna(axis=0) # Deleting the entair row"
   ]
  },
  {
   "cell_type": "code",
   "execution_count": 23,
   "id": "684bfd76-19fb-47de-9a5a-04324049ea74",
   "metadata": {},
   "outputs": [
    {
     "data": {
      "text/plain": [
       "Loan_ID              0\n",
       "Gender               0\n",
       "Married              0\n",
       "Dependents           0\n",
       "Education            0\n",
       "Self_Employed        0\n",
       "ApplicantIncome      0\n",
       "CoapplicantIncome    0\n",
       "LoanAmount           0\n",
       "Loan_Amount_Term     0\n",
       "Credit_History       0\n",
       "Property_Area        0\n",
       "Loan_Status          0\n",
       "dtype: int64"
      ]
     },
     "execution_count": 23,
     "metadata": {},
     "output_type": "execute_result"
    }
   ],
   "source": [
    "new_Rdf.isnull().sum() # To get the total number of missing values in the each columns"
   ]
  },
  {
   "cell_type": "code",
   "execution_count": 24,
   "id": "a5176128-8932-4032-b8dc-3789f3a5e765",
   "metadata": {},
   "outputs": [
    {
     "data": {
      "text/plain": [
       "(480, 13)"
      ]
     },
     "execution_count": 24,
     "metadata": {},
     "output_type": "execute_result"
    }
   ],
   "source": [
    "new_df.shape # Shape of New Data Frame"
   ]
  },
  {
   "cell_type": "markdown",
   "id": "4cb7f0ff-a40f-49ec-aa88-6d2b2ea842bd",
   "metadata": {},
   "source": [
    "2. Deleting the entair column\n",
    "    - if Certain columns have so many missing values we have to delete that column\n",
    "    - Code :- \n",
    "        - `df = train_df.drop(['Dependents'],axis=1)`\n",
    "        - `df.isnull().sum()`"
   ]
  },
  {
   "cell_type": "code",
   "execution_count": 30,
   "id": "0cc65535-e007-430c-90df-05d61f3fc0da",
   "metadata": {},
   "outputs": [],
   "source": [
    "new_Cdf = df.drop(['Dependents'],axis=1) # Deleting the entair Column of 'Dependents'"
   ]
  },
  {
   "cell_type": "code",
   "execution_count": 31,
   "id": "6934b860-e892-4fe7-9d7b-6d3494cbc99d",
   "metadata": {},
   "outputs": [
    {
     "data": {
      "text/plain": [
       "Loan_ID               0\n",
       "Gender               13\n",
       "Married               3\n",
       "Education             0\n",
       "Self_Employed        32\n",
       "ApplicantIncome       0\n",
       "CoapplicantIncome     0\n",
       "LoanAmount           22\n",
       "Loan_Amount_Term     14\n",
       "Credit_History       50\n",
       "Property_Area         0\n",
       "Loan_Status           0\n",
       "dtype: int64"
      ]
     },
     "execution_count": 31,
     "metadata": {},
     "output_type": "execute_result"
    }
   ],
   "source": [
    "new_Cdf.isnull().sum()# To get the total number of missing values in the each columns"
   ]
  },
  {
   "cell_type": "markdown",
   "id": "cb389f5d-20d4-4b85-9424-e500f8949808",
   "metadata": {},
   "source": [
    "- ### 2. Imputing the missing values\n",
    "    - There are different ways to impute the values inside the missing value possition\n",
    "    - There are\n",
    "        - #### For Numaricals features\n",
    "            - 1. Replacing With Arbitrary Value\n",
    "            - 2. Replacing With Mean\n",
    "                - Mean is the average of the all data\n",
    "            - 3. Replacing With Mode\n",
    "                * Mode is the most repeated element in the dataset\n",
    "            - 4. Replacing With Median\n",
    "                * Median is the middle element when the data was sorted to assending order\n",
    "            - 5. Replacing with previous value – Forward fill\n",
    "            - 6. Replacing with next value – Backward fill\n",
    "            - 7. Interpolation\n",
    "         - Imputing Missing Values For Categorical Features\n",
    "         - There are two ways to impute missing values for categorical features as follows:\n",
    "             - Impute the Most Frequent Value\n",
    "             - Impute the Value “missing”, which treats it as a Separate Category"
   ]
  },
  {
   "cell_type": "markdown",
   "id": "83a065ea-844a-4390-ac55-90dbe2a6dedb",
   "metadata": {},
   "source": []
  },
  {
   "cell_type": "markdown",
   "id": "7936a4d2-14e8-4088-8133-45925eeeb8e2",
   "metadata": {},
   "source": [
    "- ### 1. Replacing With Arbitrary Value\n",
    "    - Arbitrary - based on personal choice or experience\n",
    "    - we replace thes values with a educated guess about the missing values as a arbitrary guess\n",
    "         - Example Code\n",
    "             - `df['Dependents'] = train_df['Dependents'].fillna(0)` \n",
    "             - we are replacing the null values with a zeros using fillna(0)"
   ]
  },
  {
   "cell_type": "code",
   "execution_count": 37,
   "id": "b2e6f038-0bbc-443e-88bc-135f5da6391a",
   "metadata": {},
   "outputs": [
    {
     "data": {
      "text/plain": [
       "0"
      ]
     },
     "execution_count": 37,
     "metadata": {},
     "output_type": "execute_result"
    }
   ],
   "source": [
    "df['Dependents'] = df['Dependents'].fillna(0)# we are replacing the null values with a zeros using fillna(0)\n",
    "df['Dependents'].isnull().sum() # Checking the missing values inside of the Dependents column"
   ]
  },
  {
   "cell_type": "markdown",
   "id": "17ee648f-0d81-4c68-8f0d-fb4b37d713ed",
   "metadata": {},
   "source": [
    "- ### 2. Replacing With Mean\n",
    "    - This is the most common method for filling the missing vlues of a numiric columns \n",
    "    -  If there are outliers then the mean will not be appropriate. In such cases, outliers need to be treated first. `Learn this `\n",
    "    - We ar using this method to fill the missing values in the ‘LoanAmount’ and ‘Credit_History’ columns With a mean of that column\n",
    "        - Code :- \n",
    "            - `df['LoanAmount'] = df['LoanAmount'].fillna(df['LoanAmount'].mean())`\n",
    "            - `df['Credit_History'] = df[‘Credit_History'].fillna(df['Credit_History'].mean())`"
   ]
  },
  {
   "cell_type": "code",
   "execution_count": 39,
   "id": "bb1d3643-e629-43c0-8632-af78a2de9c98",
   "metadata": {},
   "outputs": [],
   "source": [
    "df['LoanAmount'] = df['LoanAmount'].fillna(df['LoanAmount'].mean())\n",
    "df['Credit_History'] = df['Credit_History'].fillna(df['Credit_History'].mean())"
   ]
  },
  {
   "cell_type": "code",
   "execution_count": 40,
   "id": "1a9145f9-2ae4-4fb6-b4f7-7978ea2ce7e0",
   "metadata": {},
   "outputs": [
    {
     "data": {
      "text/plain": [
       "Loan_ID               0\n",
       "Gender               13\n",
       "Married               3\n",
       "Dependents            0\n",
       "Education             0\n",
       "Self_Employed        32\n",
       "ApplicantIncome       0\n",
       "CoapplicantIncome     0\n",
       "LoanAmount            0\n",
       "Loan_Amount_Term     14\n",
       "Credit_History        0\n",
       "Property_Area         0\n",
       "Loan_Status           0\n",
       "dtype: int64"
      ]
     },
     "execution_count": 40,
     "metadata": {},
     "output_type": "execute_result"
    }
   ],
   "source": [
    "df.isnull().sum()"
   ]
  },
  {
   "cell_type": "markdown",
   "id": "1c942aab-a234-41a2-9d7a-b4bffbe103da",
   "metadata": {},
   "source": [
    "- As We see the Columns 'LoanAmount' and 'Credit_History' columns missing values has been handled Sucsfully and clereed"
   ]
  },
  {
   "cell_type": "markdown",
   "id": "a3a80f07-1940-4cbf-a887-25f9e939321f",
   "metadata": {},
   "source": [
    "- ### 3. Replacing With Mode\n",
    "    - Mode is the most frequent occouring value it is used incase of Categorical Features\n",
    "        - Code :-\n",
    "            - `df['Gender'] = df['Gender'].fillna(df['Gender'].mode()[0])` Te replce the values in Gender column\n",
    "            - `df['Married'] = df['Married'].fillna(df['Married'].mode()[0])` Te replce the values in Maried column\n",
    "            - `df['Self_Employed'] = df[‘Self_Employed'].fillna(df['Self_Employed'].mode()[0])` Te replce the values in Self_employed column"
   ]
  },
  {
   "cell_type": "code",
   "execution_count": 43,
   "id": "05641f57-a84f-4b9f-bd9a-6fca938783f7",
   "metadata": {},
   "outputs": [],
   "source": [
    "df['Gender'] = df['Gender'].fillna(df['Gender'].mode()[0])\n",
    "df['Married'] = df['Married'].fillna(df['Married'].mode()[0])\n",
    "df['Self_Employed'] = df['Self_Employed'].fillna(df['Self_Employed'].mode()[0])"
   ]
  },
  {
   "cell_type": "code",
   "execution_count": 44,
   "id": "fa341063-753d-47da-af9a-e0f0e90561a1",
   "metadata": {},
   "outputs": [
    {
     "data": {
      "text/plain": [
       "Loan_ID               0\n",
       "Gender                0\n",
       "Married               0\n",
       "Dependents            0\n",
       "Education             0\n",
       "Self_Employed         0\n",
       "ApplicantIncome       0\n",
       "CoapplicantIncome     0\n",
       "LoanAmount            0\n",
       "Loan_Amount_Term     14\n",
       "Credit_History        0\n",
       "Property_Area         0\n",
       "Loan_Status           0\n",
       "dtype: int64"
      ]
     },
     "execution_count": 44,
     "metadata": {},
     "output_type": "execute_result"
    }
   ],
   "source": [
    "df.isnull().sum()"
   ]
  },
  {
   "cell_type": "markdown",
   "id": "1640daa5-ef62-4a0f-90ff-2a16c990697f",
   "metadata": {},
   "source": [
    "As We see the Columns 'Gender','Married' and 'Self_Employed' columns missing values has been handled Sucsfully and clereed"
   ]
  },
  {
   "cell_type": "markdown",
   "id": "da3cb364-a549-45a7-a449-551df4f00f31",
   "metadata": {},
   "source": [
    "- ### 4. Replacing With Median\n",
    "    - Median is the middlemost value. It’s better to use the median value for imputation in the case of outliers.\n",
    "        - Code :- \n",
    "            - `df['Loan_Amount_Term']= df['Loan_Amount_Term'].fillna(df['Loan_Amount_Term'].median())`"
   ]
  },
  {
   "cell_type": "code",
   "execution_count": 45,
   "id": "ec1f0df1-bdb8-4146-a9a1-2e6e7247f72e",
   "metadata": {},
   "outputs": [],
   "source": [
    "df['Loan_Amount_Term']= df['Loan_Amount_Term'].fillna(df['Loan_Amount_Term'].median())"
   ]
  },
  {
   "cell_type": "code",
   "execution_count": 46,
   "id": "835ecef6-a790-46dd-8e33-1c2a58db8907",
   "metadata": {},
   "outputs": [
    {
     "data": {
      "text/plain": [
       "Loan_ID              0\n",
       "Gender               0\n",
       "Married              0\n",
       "Dependents           0\n",
       "Education            0\n",
       "Self_Employed        0\n",
       "ApplicantIncome      0\n",
       "CoapplicantIncome    0\n",
       "LoanAmount           0\n",
       "Loan_Amount_Term     0\n",
       "Credit_History       0\n",
       "Property_Area        0\n",
       "Loan_Status          0\n",
       "dtype: int64"
      ]
     },
     "execution_count": 46,
     "metadata": {},
     "output_type": "execute_result"
    }
   ],
   "source": [
    "df.isnull().sum()"
   ]
  },
  {
   "cell_type": "markdown",
   "id": "429d447b-141d-4e0c-bd80-7b40f0ae86d7",
   "metadata": {},
   "source": [
    "- As We see the Columns 'Loan_Amount_Term' columns missing values has been handled Sucsfully and clereed\n",
    "- And also we cleared all the Missing values in the dataset With Appropriate Methods for values"
   ]
  },
  {
   "cell_type": "markdown",
   "id": "14365382-3991-48fc-8708-9b504977d425",
   "metadata": {},
   "source": [
    "- ### 5. Replacing with previous value – Forward fill\n",
    "    - In some cases, imputing the values with the previous value instead of mean, mode or median is more appropriate. This is called forward fill. \n",
    "    - It is mostly used in time series data.\n",
    "        - You can use ‘fillna’ function with the parameter ‘method = ffill’\n",
    "        - code \n",
    "            - `fillna(method='ffill')`\n",
    "            -The ffill will fill the missing value with Previous value of that column"
   ]
  },
  {
   "cell_type": "code",
   "execution_count": 47,
   "id": "9e1766ef-b391-438f-b125-2b91211de41c",
   "metadata": {},
   "outputs": [
    {
     "data": {
      "text/plain": [
       "0    0.0\n",
       "1    1.0\n",
       "2    NaN\n",
       "3    NaN\n",
       "4    NaN\n",
       "5    5.0\n",
       "dtype: float64"
      ]
     },
     "execution_count": 47,
     "metadata": {},
     "output_type": "execute_result"
    }
   ],
   "source": [
    "import pandas as pd\n",
    "import numpy as np\n",
    "test = pd.Series(range(6))\n",
    "test.loc[2:4] = np.nan\n",
    "test"
   ]
  },
  {
   "cell_type": "code",
   "execution_count": 49,
   "id": "4766751b-1eeb-4df8-905d-7a7389a10ac2",
   "metadata": {},
   "outputs": [
    {
     "data": {
      "text/plain": [
       "0    0.0\n",
       "1    1.0\n",
       "2    1.0\n",
       "3    1.0\n",
       "4    1.0\n",
       "5    5.0\n",
       "dtype: float64"
      ]
     },
     "execution_count": 49,
     "metadata": {},
     "output_type": "execute_result"
    }
   ],
   "source": [
    "# Forward-Fill\n",
    "test.fillna(method='ffill')"
   ]
  },
  {
   "cell_type": "markdown",
   "id": "6d3dfeb7-65b1-4050-a1b5-d657bccb617a",
   "metadata": {},
   "source": [
    "- As the whole missing values were replaced by the prvious value in that column"
   ]
  },
  {
   "cell_type": "markdown",
   "id": "889d51fb-f1b2-4e91-bcff-bc4c12701e7e",
   "metadata": {},
   "source": [
    "- ### 6. Replacing with next value – Backward fill\n",
    "- In backward fill, the missing value is imputed using the next value.\n",
    "    - Code :- \n",
    "        - `fillna(method=‘bfill')`\n",
    "        - The bfill will fill the missing value with next value of that column"
   ]
  },
  {
   "cell_type": "code",
   "execution_count": 51,
   "id": "49473e6a-b4a0-4b4b-943a-461aa7b35441",
   "metadata": {},
   "outputs": [
    {
     "data": {
      "text/plain": [
       "0    0.0\n",
       "1    1.0\n",
       "2    5.0\n",
       "3    5.0\n",
       "4    5.0\n",
       "5    5.0\n",
       "dtype: float64"
      ]
     },
     "execution_count": 51,
     "metadata": {},
     "output_type": "execute_result"
    }
   ],
   "source": [
    "test.fillna(method='bfill')"
   ]
  },
  {
   "cell_type": "markdown",
   "id": "93e20178-5b32-4a7a-ad46-9b711d8a87ad",
   "metadata": {},
   "source": [
    "- As the whole missing values were replaced by the next value in that column"
   ]
  },
  {
   "cell_type": "markdown",
   "id": "beb37036-4b31-440b-ab42-39be0bb4afed",
   "metadata": {},
   "source": [
    "- ### 7. Interpolation\n",
    "    - Missing values can also be imputed using interpolation\n",
    "    - Pandas has interpolate method can be used to replace the missing values with different interpolation methods like ‘polynomial’, ‘linear’, ‘quadratic’\n",
    "    - The Default method in pandas is ‘linear’.\n",
    "        - Code :-\n",
    "            - `test.interpolate()`"
   ]
  },
  {
   "cell_type": "code",
   "execution_count": 52,
   "id": "550abed9-cc7b-4416-98f2-7149cefe4b01",
   "metadata": {},
   "outputs": [
    {
     "data": {
      "text/plain": [
       "0    0.0\n",
       "1    1.0\n",
       "2    2.0\n",
       "3    3.0\n",
       "4    4.0\n",
       "5    5.0\n",
       "dtype: float64"
      ]
     },
     "execution_count": 52,
     "metadata": {},
     "output_type": "execute_result"
    }
   ],
   "source": [
    "test.interpolate()"
   ]
  },
  {
   "cell_type": "markdown",
   "id": "202bc08a-d103-4196-9bef-273083b1f1cc",
   "metadata": {},
   "source": [
    "- Imputing Missing Values For Categorical Features\n",
    "- There are two ways to impute missing values for categorical features as follows:\n",
    "     - Impute the Most Frequent Value\n",
    "     - Impute the Value “missing”, which treats it as a Separate Category"
   ]
  },
  {
   "cell_type": "markdown",
   "id": "a65bd2a2-649c-495c-9958-0aea173dd013",
   "metadata": {},
   "source": [
    "- ### 1. Impute the Most Frequent Value\n",
    "    - We will make use of ‘SimpleImputer’ in this case and as this is a non-numeric column we can’t use mean or median but we can use most frequent value and constant.\n",
    "    "
   ]
  },
  {
   "cell_type": "code",
   "execution_count": 57,
   "id": "18c0b73c-3fa7-4135-ae0b-cdb2768b145c",
   "metadata": {},
   "outputs": [
    {
     "data": {
      "text/html": [
       "<div>\n",
       "<style scoped>\n",
       "    .dataframe tbody tr th:only-of-type {\n",
       "        vertical-align: middle;\n",
       "    }\n",
       "\n",
       "    .dataframe tbody tr th {\n",
       "        vertical-align: top;\n",
       "    }\n",
       "\n",
       "    .dataframe thead th {\n",
       "        text-align: right;\n",
       "    }\n",
       "</style>\n",
       "<table border=\"1\" class=\"dataframe\">\n",
       "  <thead>\n",
       "    <tr style=\"text-align: right;\">\n",
       "      <th></th>\n",
       "      <th>Shape</th>\n",
       "    </tr>\n",
       "  </thead>\n",
       "  <tbody>\n",
       "    <tr>\n",
       "      <th>0</th>\n",
       "      <td>square</td>\n",
       "    </tr>\n",
       "    <tr>\n",
       "      <th>1</th>\n",
       "      <td>square</td>\n",
       "    </tr>\n",
       "    <tr>\n",
       "      <th>2</th>\n",
       "      <td>oval</td>\n",
       "    </tr>\n",
       "    <tr>\n",
       "      <th>3</th>\n",
       "      <td>circle</td>\n",
       "    </tr>\n",
       "    <tr>\n",
       "      <th>4</th>\n",
       "      <td>NaN</td>\n",
       "    </tr>\n",
       "  </tbody>\n",
       "</table>\n",
       "</div>"
      ],
      "text/plain": [
       "    Shape\n",
       "0  square\n",
       "1  square\n",
       "2    oval\n",
       "3  circle\n",
       "4     NaN"
      ]
     },
     "execution_count": 57,
     "metadata": {},
     "output_type": "execute_result"
    }
   ],
   "source": [
    "import pandas as pd\n",
    "import numpy as np\n",
    "X = pd.DataFrame({'Shape':['square', 'square', 'oval', 'circle', np.nan]})\n",
    "X"
   ]
  },
  {
   "cell_type": "code",
   "execution_count": 64,
   "id": "deb4c86a-6060-4ee9-b43b-c6c5e39ea756",
   "metadata": {},
   "outputs": [],
   "source": [
    "from sklearn.impute import SimpleImputer # We are importing the SimpleImputer from the sklearn.impute to impute the values"
   ]
  },
  {
   "cell_type": "code",
   "execution_count": 68,
   "id": "96a13c6d-d8f3-4256-aef3-a4c764bb50c4",
   "metadata": {},
   "outputs": [
    {
     "data": {
      "text/plain": [
       "array([['square'],\n",
       "       ['square'],\n",
       "       ['oval'],\n",
       "       ['circle'],\n",
       "       ['square']], dtype=object)"
      ]
     },
     "execution_count": 68,
     "metadata": {},
     "output_type": "execute_result"
    }
   ],
   "source": [
    "imputer = SimpleImputer(strategy='most_frequent') # We specified the stratagy as Most_frequent\n",
    "imputer.fit_transform(X)# we are applying the stratagy to the our dataframe"
   ]
  },
  {
   "cell_type": "markdown",
   "id": "2e344347-6c5f-4dfe-849d-bcafead0e8f1",
   "metadata": {},
   "source": [
    "- AS the squre is repeated two time before so the most frequent value was added here"
   ]
  },
  {
   "cell_type": "code",
   "execution_count": 70,
   "id": "225c3e28-25e2-4799-9441-552eacacf677",
   "metadata": {},
   "outputs": [
    {
     "data": {
      "text/plain": [
       "array([['square'],\n",
       "       ['square'],\n",
       "       ['oval'],\n",
       "       ['circle'],\n",
       "       ['missing']], dtype=object)"
      ]
     },
     "execution_count": 70,
     "metadata": {},
     "output_type": "execute_result"
    }
   ],
   "source": [
    "# Impute the Value “missing”, which treats it as a Separate Category\n",
    "imputer = SimpleImputer(strategy='constant', fill_value='missing')\n",
    "imputer.fit_transform(X)"
   ]
  },
  {
   "cell_type": "markdown",
   "id": "2bd09254-3e9d-435e-91d1-c3a016f1798d",
   "metadata": {},
   "source": [
    " "
   ]
  },
  {
   "cell_type": "markdown",
   "id": "a6014a61-9ee6-421f-87d9-d0c41f5acf60",
   "metadata": {},
   "source": [
    " "
   ]
  },
  {
   "cell_type": "markdown",
   "id": "53ed37ae-87ee-409d-8d75-ae965ed917f7",
   "metadata": {},
   "source": [
    "## Replacing missing values with the Si-kit library\n",
    "- Univariate Approach\n",
    "    - In a Univariate approach, only a single feature is taken into consideration. You can use the class SimpleImputer and replace the missing values with mean, mode, median or some constant value."
   ]
  },
  {
   "cell_type": "code",
   "execution_count": 73,
   "id": "54237925-7c6f-4f3c-a3da-b0fc261caf70",
   "metadata": {},
   "outputs": [
    {
     "data": {
      "text/plain": [
       "SimpleImputer()"
      ]
     },
     "execution_count": 73,
     "metadata": {},
     "output_type": "execute_result"
    }
   ],
   "source": [
    "import numpy as np\n",
    "from sklearn.impute import SimpleImputer\n",
    "imp = SimpleImputer(missing_values=np.nan, strategy='mean')\n",
    "imp.fit([[1, 2], [np.nan, 3], [7, 6]])"
   ]
  },
  {
   "cell_type": "code",
   "execution_count": 74,
   "id": "8fdf26b7-c607-42a0-901f-237c3408bd03",
   "metadata": {},
   "outputs": [
    {
     "name": "stdout",
     "output_type": "stream",
     "text": [
      "[[4.         2.        ]\n",
      " [6.         3.66666667]\n",
      " [7.         6.        ]]\n"
     ]
    }
   ],
   "source": [
    "X = [[np.nan, 2], [6, np.nan], [7, 6]]\n",
    "print(imp.transform(X))"
   ]
  },
  {
   "cell_type": "markdown",
   "id": "847024c4-b299-438d-9163-49a6b6b26bd0",
   "metadata": {},
   "source": [
    "- Multivariate Approach\n",
    "    - In a multivariate approach, more than one feature is taken into consideration. There are two ways to impute missing values considering the multivariate approach. Using KNNImputer or IterativeImputer classes."
   ]
  },
  {
   "cell_type": "code",
   "execution_count": 75,
   "id": "8439ab0d-181d-4b35-9084-001b42538181",
   "metadata": {},
   "outputs": [
    {
     "data": {
      "text/html": [
       "<div>\n",
       "<style scoped>\n",
       "    .dataframe tbody tr th:only-of-type {\n",
       "        vertical-align: middle;\n",
       "    }\n",
       "\n",
       "    .dataframe tbody tr th {\n",
       "        vertical-align: top;\n",
       "    }\n",
       "\n",
       "    .dataframe thead th {\n",
       "        text-align: right;\n",
       "    }\n",
       "</style>\n",
       "<table border=\"1\" class=\"dataframe\">\n",
       "  <thead>\n",
       "    <tr style=\"text-align: right;\">\n",
       "      <th></th>\n",
       "      <th>SibSp</th>\n",
       "      <th>Fare</th>\n",
       "      <th>Age</th>\n",
       "    </tr>\n",
       "  </thead>\n",
       "  <tbody>\n",
       "    <tr>\n",
       "      <th>0</th>\n",
       "      <td>1</td>\n",
       "      <td>7.2500</td>\n",
       "      <td>22.0</td>\n",
       "    </tr>\n",
       "    <tr>\n",
       "      <th>1</th>\n",
       "      <td>1</td>\n",
       "      <td>71.2833</td>\n",
       "      <td>38.0</td>\n",
       "    </tr>\n",
       "    <tr>\n",
       "      <th>2</th>\n",
       "      <td>0</td>\n",
       "      <td>7.9250</td>\n",
       "      <td>26.0</td>\n",
       "    </tr>\n",
       "    <tr>\n",
       "      <th>3</th>\n",
       "      <td>1</td>\n",
       "      <td>53.1000</td>\n",
       "      <td>35.0</td>\n",
       "    </tr>\n",
       "    <tr>\n",
       "      <th>4</th>\n",
       "      <td>0</td>\n",
       "      <td>8.0500</td>\n",
       "      <td>35.0</td>\n",
       "    </tr>\n",
       "    <tr>\n",
       "      <th>5</th>\n",
       "      <td>0</td>\n",
       "      <td>8.4583</td>\n",
       "      <td>NaN</td>\n",
       "    </tr>\n",
       "  </tbody>\n",
       "</table>\n",
       "</div>"
      ],
      "text/plain": [
       "   SibSp     Fare   Age\n",
       "0      1   7.2500  22.0\n",
       "1      1  71.2833  38.0\n",
       "2      0   7.9250  26.0\n",
       "3      1  53.1000  35.0\n",
       "4      0   8.0500  35.0\n",
       "5      0   8.4583   NaN"
      ]
     },
     "execution_count": 75,
     "metadata": {},
     "output_type": "execute_result"
    }
   ],
   "source": [
    "import pandas as pd\n",
    "df = pd.read_csv('http://bit.ly/kaggletrain', nrows=6)\n",
    "cols = ['SibSp', 'Fare', 'Age']\n",
    "X = df[cols]\n",
    "X"
   ]
  },
  {
   "cell_type": "code",
   "execution_count": 76,
   "id": "b21c29b1-c569-4d09-97eb-53b47bdbffff",
   "metadata": {},
   "outputs": [
    {
     "data": {
      "text/plain": [
       "array([[ 1.        ,  7.25      , 22.        ],\n",
       "       [ 1.        , 71.2833    , 38.        ],\n",
       "       [ 0.        ,  7.925     , 26.        ],\n",
       "       [ 1.        , 53.1       , 35.        ],\n",
       "       [ 0.        ,  8.05      , 35.        ],\n",
       "       [ 0.        ,  8.4583    , 28.50639495]])"
      ]
     },
     "execution_count": 76,
     "metadata": {},
     "output_type": "execute_result"
    }
   ],
   "source": [
    "from sklearn.experimental import enable_iterative_imputer\n",
    "from sklearn.impute import IterativeImputer\n",
    "impute_it = IterativeImputer()\n",
    "impute_it.fit_transform(X)"
   ]
  },
  {
   "cell_type": "markdown",
   "id": "c5c2154b-d390-4244-89f9-6440b13210b7",
   "metadata": {},
   "source": [
    "### Nearest Neighbors Imputations (KNNImputer)\n",
    "- Missing values are imputed using the k-Nearest Neighbors approach where a Euclidean distance is used to find the nearest neighbors."
   ]
  },
  {
   "cell_type": "code",
   "execution_count": 77,
   "id": "cedc9985-dff8-4330-90ba-1b562e3dbca3",
   "metadata": {},
   "outputs": [
    {
     "data": {
      "text/plain": [
       "array([[ 1.    ,  7.25  , 22.    ],\n",
       "       [ 1.    , 71.2833, 38.    ],\n",
       "       [ 0.    ,  7.925 , 26.    ],\n",
       "       [ 1.    , 53.1   , 35.    ],\n",
       "       [ 0.    ,  8.05  , 35.    ],\n",
       "       [ 0.    ,  8.4583, 30.5   ]])"
      ]
     },
     "execution_count": 77,
     "metadata": {},
     "output_type": "execute_result"
    }
   ],
   "source": [
    "from sklearn.impute import KNNImputer\n",
    "impute_knn = KNNImputer(n_neighbors=2)\n",
    "impute_knn.fit_transform(X)"
   ]
  },
  {
   "cell_type": "code",
   "execution_count": 78,
   "id": "24df14a9-72fd-4511-9543-4c9aeac4917d",
   "metadata": {},
   "outputs": [
    {
     "data": {
      "text/html": [
       "<div>\n",
       "<style scoped>\n",
       "    .dataframe tbody tr th:only-of-type {\n",
       "        vertical-align: middle;\n",
       "    }\n",
       "\n",
       "    .dataframe tbody tr th {\n",
       "        vertical-align: top;\n",
       "    }\n",
       "\n",
       "    .dataframe thead th {\n",
       "        text-align: right;\n",
       "    }\n",
       "</style>\n",
       "<table border=\"1\" class=\"dataframe\">\n",
       "  <thead>\n",
       "    <tr style=\"text-align: right;\">\n",
       "      <th></th>\n",
       "      <th>Age</th>\n",
       "    </tr>\n",
       "  </thead>\n",
       "  <tbody>\n",
       "    <tr>\n",
       "      <th>0</th>\n",
       "      <td>20.0</td>\n",
       "    </tr>\n",
       "    <tr>\n",
       "      <th>1</th>\n",
       "      <td>30.0</td>\n",
       "    </tr>\n",
       "    <tr>\n",
       "      <th>2</th>\n",
       "      <td>10.0</td>\n",
       "    </tr>\n",
       "    <tr>\n",
       "      <th>3</th>\n",
       "      <td>NaN</td>\n",
       "    </tr>\n",
       "    <tr>\n",
       "      <th>4</th>\n",
       "      <td>10.0</td>\n",
       "    </tr>\n",
       "  </tbody>\n",
       "</table>\n",
       "</div>"
      ],
      "text/plain": [
       "    Age\n",
       "0  20.0\n",
       "1  30.0\n",
       "2  10.0\n",
       "3   NaN\n",
       "4  10.0"
      ]
     },
     "execution_count": 78,
     "metadata": {},
     "output_type": "execute_result"
    }
   ],
   "source": [
    "import pandas as pd\n",
    "import numpy as np\n",
    "X = pd.DataFrame({'Age':[20, 30, 10, np.nan, 10]})\n",
    "X"
   ]
  },
  {
   "cell_type": "code",
   "execution_count": 80,
   "id": "88fea2dd-b2b9-4a5e-9fc9-06c0e3ccddb7",
   "metadata": {},
   "outputs": [
    {
     "data": {
      "text/plain": [
       "array([[20. ],\n",
       "       [30. ],\n",
       "       [10. ],\n",
       "       [17.5],\n",
       "       [10. ]])"
      ]
     },
     "execution_count": 80,
     "metadata": {},
     "output_type": "execute_result"
    }
   ],
   "source": [
    "from sklearn.impute import SimpleImputer\n",
    "# impute the mean\n",
    "imputer = SimpleImputer()\n",
    "imputer.fit_transform(X)"
   ]
  },
  {
   "cell_type": "code",
   "execution_count": 81,
   "id": "eb7316f4-a714-40e6-a0e5-72bb4f81c3ec",
   "metadata": {},
   "outputs": [
    {
     "data": {
      "text/plain": [
       "array([[20. ,  0. ],\n",
       "       [30. ,  0. ],\n",
       "       [10. ,  0. ],\n",
       "       [17.5,  1. ],\n",
       "       [10. ,  0. ]])"
      ]
     },
     "execution_count": 81,
     "metadata": {},
     "output_type": "execute_result"
    }
   ],
   "source": [
    "imputer = SimpleImputer(add_indicator=True)\n",
    "imputer.fit_transform(X)"
   ]
  },
  {
   "cell_type": "code",
   "execution_count": null,
   "id": "33903f72-d30c-4506-a84f-0bf65e142596",
   "metadata": {},
   "outputs": [],
   "source": []
  }
 ],
 "metadata": {
  "kernelspec": {
   "display_name": "Python 3 (ipykernel)",
   "language": "python",
   "name": "python3"
  },
  "language_info": {
   "codemirror_mode": {
    "name": "ipython",
    "version": 3
   },
   "file_extension": ".py",
   "mimetype": "text/x-python",
   "name": "python",
   "nbconvert_exporter": "python",
   "pygments_lexer": "ipython3",
   "version": "3.9.7"
  }
 },
 "nbformat": 4,
 "nbformat_minor": 5
}
