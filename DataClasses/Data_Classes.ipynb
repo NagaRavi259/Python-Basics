{
 "cells": [
  {
   "cell_type": "markdown",
   "id": "4cb5de90-882a-485a-ac4a-b6eabb78294a",
   "metadata": {},
   "source": [
    "# Data Classes\n",
    "- Data classes are used to manage and monitor,manipulate and analyze the data that we are getting when the application was running in the production\n",
    "- some classes are used to manipulate(Modify) data in that case we can use data Classes\n",
    "- Data Classes are different from regular classes\n",
    "    - data Classes has builtin initialize(init) to help quickly fill the data \n",
    "    - with data classes we can easily to compare ,print, sort the data, order data and also we can create data that ill be read only"
   ]
  },
  {
   "cell_type": "markdown",
   "id": "2553881e-8f49-4ab8-bcca-5def094e7323",
   "metadata": {},
   "source": [
    "## Normal class"
   ]
  },
  {
   "cell_type": "code",
   "execution_count": 1,
   "id": "f695fbd0-47d3-44c2-8bd8-25b2fa7c0c0f",
   "metadata": {},
   "outputs": [
    {
     "name": "stdout",
     "output_type": "stream",
     "text": [
      "1646907123456\n",
      "1646907122016\n",
      "<__main__.Person object at 0x0000017F735063A0>\n",
      "False\n"
     ]
    }
   ],
   "source": [
    "class Person:\n",
    "    name: str\n",
    "    job:str\n",
    "    age:int\n",
    "    \n",
    "    def __init__(self, name, job, age):\n",
    "        self.name = name\n",
    "        self.job = job\n",
    "        self.age = age\n",
    "    \n",
    "person1 = Person(\"Garalt\", \"witcher\", 39)\n",
    "person2 = Person(\"Yennifer\", \"Scocerror\", 25)\n",
    "person3 = Person(\"Yennifer\", \"Scocerror\", 25)\n",
    "\n",
    "print(id(person1)) ## we printed id's of each persons to verify\n",
    "print(id(person2)) ## we printed id's of each persons to verify\n",
    "print(person3) ## we printed person3 but with normal classes we get the location of the data that was stored as it was\n",
    "               ## just a locatin we cant get any information about the data inside the class instence\n",
    "    \n",
    "print(person2 == person3)  ## person3 and person2 are consists same data but different objects when we compare we get differet objects\n",
    "                           ## so it will show us both are different but with the data classes we can confirm that both classes same"
   ]
  },
  {
   "cell_type": "markdown",
   "id": "8a58a98a-8513-46bc-9c9a-ca2606d8b3cc",
   "metadata": {},
   "source": [
    "## Normal class converted into data class"
   ]
  },
  {
   "cell_type": "code",
   "execution_count": 31,
   "id": "056c1868-3507-4e66-a0e5-58ad39b68aba",
   "metadata": {},
   "outputs": [
    {
     "name": "stdout",
     "output_type": "stream",
     "text": [
      "1646909151600\n",
      "1646906360112\n",
      "Garalt,witcher,39\n",
      "True\n"
     ]
    }
   ],
   "source": [
    "from dataclasses import dataclass, field\n",
    "\n",
    "## to change class type as data class we need to add class decorator(Annotations) top of the class\n",
    "@dataclass(order=True, frozen=True)\n",
    "                                ## order=True this means the class data will be order by the size of the data inside the data of the class instence\n",
    "                                ## frozen=True this means the data inside of the class instence will frozen(Read-only) \n",
    "                                        ## once the class instence created with the passed values\n",
    "class Person:\n",
    "    sort_index: int = field(init=False, repr=False ) ##  here we given the sort index datatype is int and \n",
    "                                                            ## we desabled running sort_index at initialization so it will run after the initialize\n",
    "                                                    ## repr=False will remove the sort_index when its printing the dataclass\n",
    "                                                    ## \n",
    "    ## The data class need type hints so the data class knows the what type of data it is\n",
    "    name: str\n",
    "    job:str\n",
    "    age:int\n",
    "    strength:int = 100 ## dataclass also allows us to pass defult values and we can change when we creating the class instance\n",
    "    \n",
    "    ## AS we previously learned the data class has inbuilt initalization(__init__) function so we dont needed it \n",
    "    \n",
    "    # def __init__(self, name, job, age):\n",
    "    #     self.name = name\n",
    "    #     self.job = job\n",
    "    #     self.age = age\n",
    "    \n",
    "    def __post_init__(self):\n",
    "        # self.sort_index = self.age ## here we given the Sort index as varianle(age) so it will sort the age variables in each classs indexes\n",
    "                                    ## as we are using frozen method it was frozen so we canot assen to the sort method\n",
    "                                        ## to fix that we need to call set_attribute method\n",
    "        object.__setattr__(self,'sort_index',self.strength)\n",
    "    \n",
    "    def __str__(self):\n",
    "        return f'{self.name},{self.job},{self.age}' ## we use this method to check the data inside of the class \n",
    "    \n",
    "person1 = Person(\"Garalt\", \"witcher\", 39,56)\n",
    "person2 = Person(\"Yennifer\", \"Scocerror\", 25)\n",
    "person3 = Person(\"Yennifer\", \"Scocerror\", 25)\n",
    "\n",
    "print(id(person1)) ## we printed id's of each persons to verify\n",
    "print(id(person2)) ## we printed id's of each persons to verify\n",
    "print(person1) ## now with the data classes we can print the data inside of the class instence directly\n",
    "    \n",
    "print(person2 == person3)  ## person3 and person2 are consists same data but different objects when we compare we get the True\n",
    "                           ## result as the data inside of the class instence is same in person2 and person3"
   ]
  },
  {
   "cell_type": "code",
   "execution_count": 26,
   "id": "74b0f735-8623-493d-ad5f-f4b4aa5b958d",
   "metadata": {},
   "outputs": [
    {
     "name": "stdout",
     "output_type": "stream",
     "text": [
      "False\n"
     ]
    }
   ],
   "source": [
    "## with the data classes wecan compare the different data class instences to do that \n",
    "## we need to enable the compare method while defing dataclass(order=True) in perantthesis \n",
    "print(person2<person1) "
   ]
  },
  {
   "cell_type": "code",
   "execution_count": 28,
   "id": "03232707-0fb8-465c-9da3-25f30fb48d7b",
   "metadata": {},
   "outputs": [
    {
     "ename": "FrozenInstanceError",
     "evalue": "cannot assign to field 'age'",
     "output_type": "error",
     "traceback": [
      "\u001b[1;31m---------------------------------------------------------------------------\u001b[0m",
      "\u001b[1;31mFrozenInstanceError\u001b[0m                       Traceback (most recent call last)",
      "\u001b[1;32m~\\AppData\\Local\\Temp/ipykernel_20516/3889157615.py\u001b[0m in \u001b[0;36m<module>\u001b[1;34m\u001b[0m\n\u001b[1;32m----> 1\u001b[1;33m \u001b[0mperson3\u001b[0m\u001b[1;33m.\u001b[0m\u001b[0mage\u001b[0m\u001b[1;33m=\u001b[0m\u001b[1;36m76\u001b[0m \u001b[1;31m## As the class was frozen we cannot change the value\u001b[0m\u001b[1;33m\u001b[0m\u001b[1;33m\u001b[0m\u001b[0m\n\u001b[0m",
      "\u001b[1;32m<string>\u001b[0m in \u001b[0;36m__setattr__\u001b[1;34m(self, name, value)\u001b[0m\n",
      "\u001b[1;31mFrozenInstanceError\u001b[0m: cannot assign to field 'age'"
     ]
    }
   ],
   "source": [
    "person3.age=76 ## As the class was frozen we cannot change the value"
   ]
  },
  {
   "cell_type": "markdown",
   "id": "bec5555d-09fe-46c8-9bde-ad6210f1686e",
   "metadata": {},
   "source": [
    "- design patterns for injusting and transforming\n",
    "- data manipulation modules like pandas , data structures, architectures"
   ]
  },
  {
   "cell_type": "code",
   "execution_count": null,
   "id": "66bbc30b-d29d-4c57-b243-2053d7a86ba0",
   "metadata": {},
   "outputs": [],
   "source": []
  }
 ],
 "metadata": {
  "kernelspec": {
   "display_name": "Python 3 (ipykernel)",
   "language": "python",
   "name": "python3"
  },
  "language_info": {
   "codemirror_mode": {
    "name": "ipython",
    "version": 3
   },
   "file_extension": ".py",
   "mimetype": "text/x-python",
   "name": "python",
   "nbconvert_exporter": "python",
   "pygments_lexer": "ipython3",
   "version": "3.9.7"
  }
 },
 "nbformat": 4,
 "nbformat_minor": 5
}
