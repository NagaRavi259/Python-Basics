{
 "cells": [
  {
   "cell_type": "markdown",
   "id": "8e2ba95e-233a-4227-9829-6d02c1053f35",
   "metadata": {
    "tags": []
   },
   "source": [
    "## Programming Paradigms\n",
    "- Programming paradigms means writing style or writing pattern of the programming \n",
    "    - its mainly concerned on the how we structured the code and organized\n",
    "    \n",
    "- ## there are three different types of programming paradigms\n",
    "    - 1. Object Oriented Programming(OOP)\n",
    "    - 2. Procedural programming\n",
    "    - 3. Functional Programming\n",
    "* ### Object Oriented Programming\n",
    "    - If we are writing the code or organizing code in objects is called as object oriented programming(OOP) Storing the data in objects and storing the logic in methods(AKA Functions inside of the class)\n",
    "* ### Functional Programming\n",
    "    - when we writing the code in multiple function and controlling the flow by using the function calls this is called the Functional Programming it is mainly used in the JavaScript programming and controlling flow of the execution by using the function calls\n",
    "* ### Procedural programming\n",
    "    - the procedural programming is mainly concerned on the completing the task with programming other then the structure and the patterns of the code the procedural programming executes from top to bottom of the program in procedural programming we cant control the flow of the program"
   ]
  },
  {
   "cell_type": "markdown",
   "id": "d4c73821-c453-423e-9c3b-a86e6b4f7a26",
   "metadata": {},
   "source": []
  },
  {
   "cell_type": "code",
   "execution_count": null,
   "id": "bf6a447c-7c0e-4804-80f3-14278a572b3b",
   "metadata": {},
   "outputs": [],
   "source": []
  },
  {
   "cell_type": "code",
   "execution_count": null,
   "id": "92c2e2cd-4f27-418c-8282-dab6814d2edf",
   "metadata": {},
   "outputs": [],
   "source": []
  },
  {
   "cell_type": "code",
   "execution_count": null,
   "id": "05e0f754-6817-41be-9f7f-1c370ff23005",
   "metadata": {},
   "outputs": [],
   "source": []
  }
 ],
 "metadata": {
  "kernelspec": {
   "display_name": "Python 3 (ipykernel)",
   "language": "python",
   "name": "python3"
  },
  "language_info": {
   "codemirror_mode": {
    "name": "ipython",
    "version": 3
   },
   "file_extension": ".py",
   "mimetype": "text/x-python",
   "name": "python",
   "nbconvert_exporter": "python",
   "pygments_lexer": "ipython3",
   "version": "3.9.7"
  }
 },
 "nbformat": 4,
 "nbformat_minor": 5
}
