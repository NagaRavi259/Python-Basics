{
 "cells": [
  {
   "cell_type": "markdown",
   "id": "b3a5ad1b-de6f-449a-a6e4-a8bf37e7b0c4",
   "metadata": {},
   "source": [
    "# Python Training"
   ]
  },
  {
   "cell_type": "markdown",
   "id": "b8837849-9cea-4663-be19-13ceee6b84c8",
   "metadata": {
    "jp-MarkdownHeadingCollapsed": true,
    "tags": []
   },
   "source": [
    "## Part-1\n",
    "    \n",
    "- Basic Arthematics Operations\n",
    "- Contol and Conditional Structers\n",
    "- Looping - For,While Loops\n",
    "- User input\n",
    "- Strings\n",
    "- Integers\n",
    "- Float Values\n",
    "- Typecastings\n",
    "2 Days Each day 1Hrs"
   ]
  },
  {
   "cell_type": "markdown",
   "id": "6acd2e01-9885-4a0b-9758-c23266e31fde",
   "metadata": {
    "tags": []
   },
   "source": [
    "## Part-2\n",
    "- String and inbuilt operations\n",
    "- Lists and boolens variables inbuilt function\n",
    "- sets inbuilt functions\n",
    "- Dictionaries-inbuilt functions\n",
    "- Tuples-inbuilt functions\n",
    "- Functions in python\n",
    "- Lambda functions\n",
    "- Iterators and genarators\n",
    "- Execption handling and importing libraries\n",
    "- logging\n",
    "    \n",
    "3 Days  Each day 1Hrs"
   ]
  },
  {
   "cell_type": "markdown",
   "id": "3c62ddce-0434-423f-9a14-af5316e66ff2",
   "metadata": {},
   "source": [
    "## Part-3\n",
    "    1. Class\n",
    "    2. Objects\n",
    "    3. Methods\n",
    "    4. inheritence\n",
    "    5. Polymorphism\n",
    "    6. Data Abstraction\n",
    "    7. Encapsulation\n",
    "4 Days every day 2 hours total 8hrs"
   ]
  },
  {
   "cell_type": "markdown",
   "id": "b3a2ad47-bfb1-443b-b774-b08859f910be",
   "metadata": {},
   "source": [
    "## Part 4\n",
    "    Libraries with Python part 2\n",
    "        Numpy - Play with Arrays\n",
    "        Pandas\n",
    "        Matplotlib\n",
    "        Seaborn\n",
    "        Scipy\n",
    "2 days each day 2hr"
   ]
  },
  {
   "cell_type": "markdown",
   "id": "97c94367-8122-4628-b557-695a64dead78",
   "metadata": {},
   "source": [
    "## Framework for Machine Learning and Deep Learning\n",
    "    1. Numpy ***\n",
    "    2. Pandas ***\n",
    "    3. Flask  ***\n",
    "    4. Django    WEB Frameworks\n",
    "    5. Dask   WEB Framework\n",
    "    6. Scipy\n",
    "    7. Matplotlib\n",
    "    8. Seaborn\n",
    "    9. Nvidia CUDA\n",
    "    10. Keeras\n",
    "    11. Caffe\n",
    "    12. TensorFlow\n",
    "    13. Pytorch"
   ]
  },
  {
   "cell_type": "markdown",
   "id": "dc3096c0-d35a-44bb-9bbb-b0f503f771af",
   "metadata": {},
   "source": [
    "## Framework for WEBDevelopment\n",
    "     ## just know what it is \n",
    "         Flask\n",
    "         Django\n",
    "         Web2Py\n",
    "         Turboears\n",
    "         Cherrypy\n",
    "     ## FrameWorks for Desktop Applications\n",
    "         TKINTER\n",
    "         QT\n",
    "         KIvy"
   ]
  },
  {
   "cell_type": "code",
   "execution_count": 1,
   "id": "d9643d89-9d92-4e31-b424-5a8cd1fdeac9",
   "metadata": {},
   "outputs": [],
   "source": [
    "## Numpy\n",
    "    #Numpy used to create a Multi Dimentional Arrays\n",
    "    #it has inbuilt functions used to perform multi purpose array operations\n",
    "    #Numpy is a bindings of C and C++ librarys whichfaster then the python\n",
    "    #This will reduce the running time of the programe"
   ]
  },
  {
   "cell_type": "markdown",
   "id": "20124478-3cd4-4b21-b928-bae74f2e05ed",
   "metadata": {},
   "source": [
    "## What is Array\n",
    "- Array is a datastructure which stores same data type"
   ]
  },
  {
   "cell_type": "code",
   "execution_count": 4,
   "id": "7c72b6fc-55d8-415b-95a5-2d852d3bdd46",
   "metadata": {},
   "outputs": [],
   "source": [
    "import numpy as np"
   ]
  },
  {
   "cell_type": "code",
   "execution_count": 104,
   "id": "e1fc8384-91d5-47d6-9cdf-a9dfbaea20be",
   "metadata": {},
   "outputs": [],
   "source": [
    "lst=[4,5,6,5,3,3]"
   ]
  },
  {
   "cell_type": "code",
   "execution_count": 105,
   "id": "3d2afa63-6462-43f0-9a82-43e8c636dd0e",
   "metadata": {},
   "outputs": [],
   "source": [
    "array=np.array(lst)"
   ]
  },
  {
   "cell_type": "code",
   "execution_count": 106,
   "id": "74b08d42-b176-4a1f-a081-714f40e1f05f",
   "metadata": {},
   "outputs": [
    {
     "data": {
      "text/plain": [
       "numpy.ndarray"
      ]
     },
     "execution_count": 106,
     "metadata": {},
     "output_type": "execute_result"
    }
   ],
   "source": [
    "type(array)"
   ]
  },
  {
   "cell_type": "code",
   "execution_count": 107,
   "id": "1c763d94-3182-4ae1-a357-08e774207a52",
   "metadata": {},
   "outputs": [
    {
     "data": {
      "text/plain": [
       "list"
      ]
     },
     "execution_count": 107,
     "metadata": {},
     "output_type": "execute_result"
    }
   ],
   "source": [
    "type(lst)"
   ]
  },
  {
   "cell_type": "code",
   "execution_count": 108,
   "id": "aea2580e-8bc9-4c62-8bca-d74612aa611f",
   "metadata": {},
   "outputs": [
    {
     "data": {
      "text/plain": [
       "array([4, 5, 6, 5, 3, 3])"
      ]
     },
     "execution_count": 108,
     "metadata": {},
     "output_type": "execute_result"
    }
   ],
   "source": [
    "array"
   ]
  },
  {
   "cell_type": "code",
   "execution_count": 14,
   "id": "a0120218-a6af-4f84-a98d-b50c6ba17dc1",
   "metadata": {},
   "outputs": [
    {
     "data": {
      "text/plain": [
       "[4, 5, 6, 5, 3, 3]"
      ]
     },
     "execution_count": 14,
     "metadata": {},
     "output_type": "execute_result"
    }
   ],
   "source": [
    "lst"
   ]
  },
  {
   "cell_type": "code",
   "execution_count": 17,
   "id": "2923c94c-7837-451c-a8e8-12c927f9e6d7",
   "metadata": {},
   "outputs": [
    {
     "data": {
      "text/plain": [
       "(6,)"
      ]
     },
     "execution_count": 17,
     "metadata": {},
     "output_type": "execute_result"
    }
   ],
   "source": [
    "array.shape"
   ]
  },
  {
   "cell_type": "code",
   "execution_count": 24,
   "id": "bfaa9f2c-8049-4ff2-be53-98ae69f16d91",
   "metadata": {},
   "outputs": [],
   "source": [
    "lst1=[35,35,5,53,53]\n",
    "lst2=[23,32,2,34,24]\n",
    "lst3=[53,65,6,54,54]"
   ]
  },
  {
   "cell_type": "code",
   "execution_count": 25,
   "id": "0bc9eed6-2618-43ac-93e5-6f5894a697c7",
   "metadata": {},
   "outputs": [],
   "source": [
    "array2=np.array([lst1,lst2,lst3])"
   ]
  },
  {
   "cell_type": "code",
   "execution_count": 26,
   "id": "b0446c23-2b31-4e7e-9997-627a9870b01f",
   "metadata": {},
   "outputs": [
    {
     "data": {
      "text/plain": [
       "array([[35, 35,  5, 53, 53],\n",
       "       [23, 32,  2, 34, 24],\n",
       "       [53, 65,  6, 54, 54]])"
      ]
     },
     "execution_count": 26,
     "metadata": {},
     "output_type": "execute_result"
    }
   ],
   "source": [
    "array2"
   ]
  },
  {
   "cell_type": "code",
   "execution_count": 27,
   "id": "44a58fc8-23ce-445b-a3cf-fc34ef24e6fc",
   "metadata": {},
   "outputs": [
    {
     "data": {
      "text/plain": [
       "(3, 5)"
      ]
     },
     "execution_count": 27,
     "metadata": {},
     "output_type": "execute_result"
    }
   ],
   "source": [
    "array2.shape"
   ]
  },
  {
   "cell_type": "code",
   "execution_count": 33,
   "id": "04037c17-0b49-4548-b6c3-d7b1593efe9f",
   "metadata": {},
   "outputs": [
    {
     "data": {
      "text/plain": [
       "array([[35, 35,  5],\n",
       "       [53, 53, 23],\n",
       "       [32,  2, 34],\n",
       "       [24, 53, 65],\n",
       "       [ 6, 54, 54]])"
      ]
     },
     "execution_count": 33,
     "metadata": {},
     "output_type": "execute_result"
    }
   ],
   "source": [
    "array2.reshape(5,3)\n",
    "#We can reshape the array what everwe like we can even do it like one column and 15 rows vise versa"
   ]
  },
  {
   "cell_type": "code",
   "execution_count": 34,
   "id": "87490caa-fead-4c0c-8f60-94117f38bf7a",
   "metadata": {},
   "outputs": [
    {
     "data": {
      "text/plain": [
       "array([[35],\n",
       "       [35],\n",
       "       [ 5],\n",
       "       [53],\n",
       "       [53],\n",
       "       [23],\n",
       "       [32],\n",
       "       [ 2],\n",
       "       [34],\n",
       "       [24],\n",
       "       [53],\n",
       "       [65],\n",
       "       [ 6],\n",
       "       [54],\n",
       "       [54]])"
      ]
     },
     "execution_count": 34,
     "metadata": {},
     "output_type": "execute_result"
    }
   ],
   "source": [
    "array2.reshape(15,1)"
   ]
  },
  {
   "cell_type": "code",
   "execution_count": 35,
   "id": "c916179d-3e0a-4399-bd98-7f01724e9cee",
   "metadata": {},
   "outputs": [],
   "source": [
    "#We can use indexing in Numpy arrays\n",
    "arr3=np.array([2,4,3,4,5,5])"
   ]
  },
  {
   "cell_type": "code",
   "execution_count": 38,
   "id": "6d3d83ab-f043-4726-98fd-7aad05174c48",
   "metadata": {},
   "outputs": [
    {
     "data": {
      "text/plain": [
       "array([3, 4, 5])"
      ]
     },
     "execution_count": 38,
     "metadata": {},
     "output_type": "execute_result"
    }
   ],
   "source": [
    "arr3[2:5]"
   ]
  },
  {
   "cell_type": "code",
   "execution_count": 76,
   "id": "d551ba8b-473f-4e33-a3f4-b4586f566a8e",
   "metadata": {},
   "outputs": [
    {
     "data": {
      "text/plain": [
       "array([[32,  2, 34]])"
      ]
     },
     "execution_count": 76,
     "metadata": {},
     "output_type": "execute_result"
    }
   ],
   "source": [
    "#for two Dimentional Arrays we can acess two arrays index by seperating columns and rows by \" , \" between two indexings\n",
    "    #Left side of the index is for Rows\n",
    "    #Right side of the Index id for Columns\n",
    "    \n",
    "array2[1:2,1:4]"
   ]
  },
  {
   "cell_type": "code",
   "execution_count": 41,
   "id": "c594a428-5423-4e3a-a0dd-0be8fa9f0b13",
   "metadata": {},
   "outputs": [
    {
     "data": {
      "text/plain": [
       "array([[35, 35,  5, 53, 53],\n",
       "       [23, 32,  2, 34, 24],\n",
       "       [53, 65,  6, 54, 54]])"
      ]
     },
     "execution_count": 41,
     "metadata": {},
     "output_type": "execute_result"
    }
   ],
   "source": [
    "array2"
   ]
  },
  {
   "cell_type": "markdown",
   "id": "4951327e-6d35-4e7c-9a5a-8675066cfca9",
   "metadata": {
    "tags": []
   },
   "source": [
    "## Numpy inbuilt Functions"
   ]
  },
  {
   "cell_type": "code",
   "execution_count": 86,
   "id": "9b91de82-9ade-4b2a-a3d0-fbf83867ff83",
   "metadata": {},
   "outputs": [],
   "source": [
    "arrk=np.arange(0,5,step=0.2)"
   ]
  },
  {
   "cell_type": "code",
   "execution_count": 87,
   "id": "a17a0ab3-e792-4ce5-b517-b9b2123820d2",
   "metadata": {},
   "outputs": [
    {
     "data": {
      "text/plain": [
       "array([0. , 0.2, 0.4, 0.6, 0.8, 1. , 1.2, 1.4, 1.6, 1.8, 2. , 2.2, 2.4,\n",
       "       2.6, 2.8, 3. , 3.2, 3.4, 3.6, 3.8, 4. , 4.2, 4.4, 4.6, 4.8])"
      ]
     },
     "execution_count": 87,
     "metadata": {},
     "output_type": "execute_result"
    }
   ],
   "source": [
    "arrk"
   ]
  },
  {
   "cell_type": "code",
   "execution_count": 92,
   "id": "5c22c74f-9cfb-441d-b787-f708a622ed10",
   "metadata": {},
   "outputs": [
    {
     "data": {
      "text/plain": [
       "array([3.        , 3.15384615, 3.30769231, 3.46153846, 3.61538462,\n",
       "       3.76923077, 3.92307692, 4.07692308, 4.23076923, 4.38461538,\n",
       "       4.53846154, 4.69230769, 4.84615385, 5.        ])"
      ]
     },
     "execution_count": 92,
     "metadata": {},
     "output_type": "execute_result"
    }
   ],
   "source": [
    "np.linspace(3,5,num=14)"
   ]
  },
  {
   "cell_type": "markdown",
   "id": "6e443a22-d482-4dff-af0a-57ab3e571934",
   "metadata": {},
   "source": [
    "## AS copy Function\n",
    "- in Arrays when we assign somthing to reerence variable if we change reference variable it willeffect in parrrent variable also"
   ]
  },
  {
   "cell_type": "code",
   "execution_count": 95,
   "id": "80852002-8c47-4a72-ac2a-42328fd6e80b",
   "metadata": {},
   "outputs": [],
   "source": [
    "array[3:]=100"
   ]
  },
  {
   "cell_type": "code",
   "execution_count": 96,
   "id": "947a0581-3ad2-4430-b19e-ae0eefd94e0c",
   "metadata": {},
   "outputs": [
    {
     "data": {
      "text/plain": [
       "array([  4,   5,   6, 100, 100, 100])"
      ]
     },
     "execution_count": 96,
     "metadata": {},
     "output_type": "execute_result"
    }
   ],
   "source": [
    "array"
   ]
  },
  {
   "cell_type": "code",
   "execution_count": 97,
   "id": "4463e2e0-3f10-449a-b793-93e82a60e468",
   "metadata": {},
   "outputs": [],
   "source": [
    "arr1=array"
   ]
  },
  {
   "cell_type": "code",
   "execution_count": 98,
   "id": "34f88775-b40e-4657-80b9-c13881020f88",
   "metadata": {},
   "outputs": [],
   "source": [
    "arr1[3:]=500"
   ]
  },
  {
   "cell_type": "code",
   "execution_count": 99,
   "id": "04b6fa9d-f138-4589-b25b-fc544e6b6957",
   "metadata": {},
   "outputs": [
    {
     "data": {
      "text/plain": [
       "array([  4,   5,   6, 500, 500, 500])"
      ]
     },
     "execution_count": 99,
     "metadata": {},
     "output_type": "execute_result"
    }
   ],
   "source": [
    "array"
   ]
  },
  {
   "cell_type": "code",
   "execution_count": 100,
   "id": "2ed12591-738e-4652-888a-36139adf06e6",
   "metadata": {},
   "outputs": [
    {
     "data": {
      "text/plain": [
       "array([  4,   5,   6, 500, 500, 500])"
      ]
     },
     "execution_count": 100,
     "metadata": {},
     "output_type": "execute_result"
    }
   ],
   "source": [
    "arr1"
   ]
  },
  {
   "cell_type": "markdown",
   "id": "4880430d-7825-4dd1-a30a-5a6e928d2cb7",
   "metadata": {},
   "source": [
    "- To prevent this we have use .copy methd to elimante changing thereference data effecting"
   ]
  },
  {
   "cell_type": "code",
   "execution_count": 112,
   "id": "7ab113ae-3c80-4944-869c-cfb23410b0e3",
   "metadata": {},
   "outputs": [
    {
     "name": "stdout",
     "output_type": "stream",
     "text": [
      "[4 5 6 5 3 3] Original array\n",
      "[  4   5   6 259 259 259] Referenced Array\n"
     ]
    }
   ],
   "source": [
    "print(array,\"Original array\")\n",
    "arrayc=array.copy()\n",
    "arrayc[3:]=259\n",
    "print(arrayc,\"Referenced Array\")"
   ]
  },
  {
   "cell_type": "code",
   "execution_count": 124,
   "id": "46ec9622-c4e4-414a-8918-40a0a9ab2ed5",
   "metadata": {},
   "outputs": [
    {
     "name": "stdout",
     "output_type": "stream",
     "text": [
      "[False  True  True  True False False]\n"
     ]
    },
    {
     "data": {
      "text/plain": [
       "array([5, 6, 5])"
      ]
     },
     "execution_count": 124,
     "metadata": {},
     "output_type": "execute_result"
    }
   ],
   "source": [
    "val=2\n",
    "print(array>4)\n",
    "array[array>4]\n"
   ]
  },
  {
   "cell_type": "markdown",
   "id": "ed900fd9-4cff-4861-ae2a-ce4ebaac8644",
   "metadata": {},
   "source": [
    "## NP.ones()\n",
    "- np.ones will create a array with all the elements in the array sameas the given number in the peranthasis"
   ]
  },
  {
   "cell_type": "code",
   "execution_count": 129,
   "id": "7f0983df-631d-42d9-9b41-3c2e1858cf6b",
   "metadata": {},
   "outputs": [
    {
     "data": {
      "text/plain": [
       "array([1., 1., 1., 1., 1., 1.])"
      ]
     },
     "execution_count": 129,
     "metadata": {},
     "output_type": "execute_result"
    }
   ],
   "source": [
    "np.ones(6)"
   ]
  },
  {
   "cell_type": "code",
   "execution_count": 133,
   "id": "9a70ce41-6603-4f15-b878-babafbc7cbb6",
   "metadata": {},
   "outputs": [
    {
     "data": {
      "text/plain": [
       "array([[1, 1, 1, 1, 1, 1],\n",
       "       [1, 1, 1, 1, 1, 1],\n",
       "       [1, 1, 1, 1, 1, 1]])"
      ]
     },
     "execution_count": 133,
     "metadata": {},
     "output_type": "execute_result"
    }
   ],
   "source": [
    "np.ones([3,6],dtype=int)"
   ]
  },
  {
   "cell_type": "markdown",
   "id": "810e3d50-1b08-461a-8ea7-16052cd7ec07",
   "metadata": {},
   "source": [
    "## Numpy Random distribution\n",
    "- it will generate a random Numpy arrays with given shape inside the peranthesis\n",
    "- np.random.rand(4,3)\n",
    "## Uniform Distribution\n",
    "-   not be lessthen Zero and not be Greater then One"
   ]
  },
  {
   "cell_type": "code",
   "execution_count": 134,
   "id": "6503bc8b-b685-4956-95a8-92fb629ae425",
   "metadata": {},
   "outputs": [
    {
     "data": {
      "text/plain": [
       "array([[0.36136611, 0.39354455, 0.42266906],\n",
       "       [0.55632452, 0.84504172, 0.69210531],\n",
       "       [0.19440724, 0.91762104, 0.64571744],\n",
       "       [0.84035115, 0.63641024, 0.17787319]])"
      ]
     },
     "execution_count": 134,
     "metadata": {},
     "output_type": "execute_result"
    }
   ],
   "source": [
    "np.random.rand(4,3)"
   ]
  },
  {
   "cell_type": "code",
   "execution_count": 148,
   "id": "da93f2e7-9bbe-4f47-82dc-a8d1b4bb20d6",
   "metadata": {},
   "outputs": [
    {
     "data": {
      "text/plain": [
       "array([[ 1.31712867, -0.597616  ,  1.32175136],\n",
       "       [-1.05518052,  0.73563701, -1.34624452],\n",
       "       [-0.7150794 ,  0.0053638 , -0.05022485],\n",
       "       [ 0.35314639, -0.27706096, -2.33080978]])"
      ]
     },
     "execution_count": 148,
     "metadata": {},
     "output_type": "execute_result"
    }
   ],
   "source": [
    "np.random.randn(4,3)\n",
    "#it will select the basic variables from the standard normal distribution"
   ]
  },
  {
   "cell_type": "code",
   "execution_count": 3,
   "id": "17f61564-0240-4ee4-bdc5-773706c07c4e",
   "metadata": {},
   "outputs": [],
   "source": [
    "import seaborn as sns\n",
    "import pandas as pd"
   ]
  },
  {
   "cell_type": "code",
   "execution_count": 160,
   "id": "ac45ae34-4757-43f7-9624-9cde6ba61993",
   "metadata": {},
   "outputs": [
    {
     "name": "stderr",
     "output_type": "stream",
     "text": [
      "C:\\Users\\vnaga\\anaconda3\\lib\\site-packages\\seaborn\\distributions.py:2619: FutureWarning: `distplot` is a deprecated function and will be removed in a future version. Please adapt your code to use either `displot` (a figure-level function with similar flexibility) or `histplot` (an axes-level function for histograms).\n",
      "  warnings.warn(msg, FutureWarning)\n"
     ]
    },
    {
     "data": {
      "text/plain": [
       "<AxesSubplot:ylabel='Density'>"
      ]
     },
     "execution_count": 160,
     "metadata": {},
     "output_type": "execute_result"
    },
    {
     "data": {
      "image/png": "[encoded data removed]",
      "text/plain": [
       "<Figure size 432x288 with 1 Axes>"
      ]
     },
     "metadata": {
      "needs_background": "light"
     },
     "output_type": "display_data"
    }
   ],
   "source": [
    "sns.distplot(pd.DataFrame(array2.reshape(15,1)))"
   ]
  },
  {
   "cell_type": "code",
   "execution_count": 173,
   "id": "9229bb27-fadb-4c7a-9429-c9c8570ff390",
   "metadata": {},
   "outputs": [
    {
     "data": {
      "text/plain": [
       "array([32, 35, 41, 12, 35, 56, 91, 67])"
      ]
     },
     "execution_count": 173,
     "metadata": {},
     "output_type": "execute_result"
    }
   ],
   "source": [
    "np.random.randint(0,100,8)"
   ]
  },
  {
   "cell_type": "code",
   "execution_count": 174,
   "id": "2698ad36-3ebf-4964-b0e7-f6c0b30505a6",
   "metadata": {},
   "outputs": [
    {
     "data": {
      "text/plain": [
       "array([[57, 54],\n",
       "       [64, 33],\n",
       "       [62, 94],\n",
       "       [15, 34]])"
      ]
     },
     "execution_count": 174,
     "metadata": {},
     "output_type": "execute_result"
    }
   ],
   "source": [
    "np.random.randint(0,100,8).reshape(4,2)"
   ]
  },
  {
   "cell_type": "code",
   "execution_count": 210,
   "id": "b18fa769-cd19-468e-bdf6-749827c7c984",
   "metadata": {},
   "outputs": [
    {
     "data": {
      "text/plain": [
       "array([[8.34093780e-02, 2.35008887e-01, 9.65583361e-01, 5.32662931e-01,\n",
       "        5.77686867e-01],\n",
       "       [5.06521481e-04, 8.82750563e-01, 8.07533824e-01, 4.60679372e-01,\n",
       "        7.57278597e-01]])"
      ]
     },
     "execution_count": 210,
     "metadata": {},
     "output_type": "execute_result"
    }
   ],
   "source": [
    "np.random.random_sample((2,5))"
   ]
  },
  {
   "cell_type": "code",
   "execution_count": 244,
   "id": "ea444eaf-b32e-4afb-8263-5664e011f3aa",
   "metadata": {},
   "outputs": [],
   "source": [
    "kl1=np.linspace(20,100,num=(abs(int((10-101)/1))))"
   ]
  },
  {
   "cell_type": "code",
   "execution_count": 680,
   "id": "ceb9b0d9-4b11-4a53-a4f5-08b5f715fc86",
   "metadata": {},
   "outputs": [
    {
     "data": {
      "text/plain": [
       "82.22222222222223"
      ]
     },
     "execution_count": 680,
     "metadata": {},
     "output_type": "execute_result"
    }
   ],
   "source": [
    "import random\n",
    "random.choice(np.linspace(20,100,num=(abs(int((10-101)/1)))).tolist())"
   ]
  },
  {
   "cell_type": "code",
   "execution_count": 239,
   "id": "4e1e7caa-4822-4167-96bd-ba60acf989a2",
   "metadata": {},
   "outputs": [
    {
     "data": {
      "text/plain": [
       "-90.0"
      ]
     },
     "execution_count": 239,
     "metadata": {},
     "output_type": "execute_result"
    }
   ],
   "source": [
    "jk"
   ]
  },
  {
   "cell_type": "code",
   "execution_count": 240,
   "id": "74847804-97d5-4b68-98c1-475c3c51c863",
   "metadata": {},
   "outputs": [
    {
     "data": {
      "text/plain": [
       "90.0"
      ]
     },
     "execution_count": 240,
     "metadata": {},
     "output_type": "execute_result"
    }
   ],
   "source": [
    "abs(jk)"
   ]
  },
  {
   "cell_type": "code",
   "execution_count": 750,
   "id": "fc2a45af-ae2b-4729-92a9-80f012f3f4a7",
   "metadata": {},
   "outputs": [],
   "source": [
    "xa=np.linspace(20,100,num=(60))\n",
    "xb=np.linspace(20,100,num=(60))"
   ]
  },
  {
   "cell_type": "code",
   "execution_count": 14,
   "id": "b1ee41c3-53e9-4b80-baf3-3776056bd762",
   "metadata": {},
   "outputs": [
    {
     "data": {
      "text/plain": [
       "array([ 0,  1,  2,  3,  4,  5,  6,  7,  8,  9, 10, 11, 12, 13, 14, 15, 16,\n",
       "       17, 18, 19, 20, 21, 22, 23, 24, 25, 26, 27, 28, 29, 30, 31, 32, 33,\n",
       "       34, 35, 36, 37, 38, 39, 40, 41, 42, 43, 44, 45, 46, 47, 48, 49])"
      ]
     },
     "execution_count": 14,
     "metadata": {},
     "output_type": "execute_result"
    }
   ],
   "source": [
    "kj=np.arange(0,50)## this will generate the random data into a np array\n",
    "kj"
   ]
  },
  {
   "cell_type": "code",
   "execution_count": 16,
   "id": "0bcf5fa9-5fca-4879-a10c-f8788560841c",
   "metadata": {},
   "outputs": [
    {
     "name": "stdout",
     "output_type": "stream",
     "text": [
      "[[ 0  1  2  3  4]\n",
      " [ 5  6  7  8  9]\n",
      " [10 11 12 13 14]\n",
      " [15 16 17 18 19]\n",
      " [20 21 22 23 24]\n",
      " [25 26 27 28 29]\n",
      " [30 31 32 33 34]\n",
      " [35 36 37 38 39]\n",
      " [40 41 42 43 44]\n",
      " [45 46 47 48 49]]\n"
     ]
    }
   ],
   "source": [
    "kk=np.arange(0,50).reshape(10,5) ##this will create a 2 dimentional array from one dimentional array with give dimentionss\n",
    "print(kk)"
   ]
  },
  {
   "cell_type": "code",
   "execution_count": 15,
   "id": "905661db-bdd5-4d0c-89ca-b32bc0a0da37",
   "metadata": {},
   "outputs": [
    {
     "data": {
      "text/plain": [
       "295.6"
      ]
     },
     "execution_count": 15,
     "metadata": {},
     "output_type": "execute_result"
    }
   ],
   "source": [
    "290.39000000000004+5.21"
   ]
  },
  {
   "cell_type": "markdown",
   "id": "80eb60de-9764-45b7-ad35-2ba4eacc9d46",
   "metadata": {
    "tags": []
   },
   "source": [
    "# Pandas\n",
    " ## Part 1\n",
    "  - data frames and data series\n",
    "  - pandas is a open source library which BSD lisese\n",
    "      - whch is easy to use data structure and data analasis tool for python programing language\n",
    "  - when we import a file using the panda, pandas will convert that file into a dataframe using data structuresand algorithems\n"
   ]
  },
  {
   "cell_type": "code",
   "execution_count": 1,
   "id": "2f2bcfb1-bedd-43dc-8bad-2ddb76a69223",
   "metadata": {},
   "outputs": [],
   "source": [
    "import pandas as pd\n",
    "import numpy as np"
   ]
  },
  {
   "cell_type": "markdown",
   "id": "64248cfd-3429-40ed-bf6e-e44b5e1533bb",
   "metadata": {},
   "source": [
    "to convert a pyton list or dictonery into a data frame we have to use pd.Dataframe('np_array')\n",
    "to uread filewe have to use pd.read_csv('file location')\n",
    "### what is Data Frame\n",
    "    - data frame is a cobination of columns and rows which are representation of the data which is easy to understand excel sheet\n",
    "    - it is a combination of many columns and rows.\n",
    "    - At least it should be greater then one column and greatrer then one Row\n",
    "### what is data Series\n",
    "    - if the DataFrame has only one column or only one row wich called as data series"
   ]
  },
  {
   "cell_type": "code",
   "execution_count": 2,
   "id": "52b444b8-8130-4ea9-83f1-5e5e938d9fb2",
   "metadata": {},
   "outputs": [],
   "source": [
    "df=pd.DataFrame(np.arange(0,20).reshape(5,4),index=['R1','R2','R3','R4','R5'],columns=['C1','C2','C3','C4'])\n",
    "# DataFrame = will converts the np two dimentional array into a data frame\n",
    "# np.arange = will creat a one dimentional numpy array with range that given in peranthasis \n",
    "# .reshape will convert that 1 dimentional array into two dimentional values passed in the peranthsis\n",
    "# index is a pandas keyword which gives a names to the rows\n",
    "# column is a pandaskeyword which gives a names to the columns"
   ]
  },
  {
   "cell_type": "code",
   "execution_count": 3,
   "id": "188388c6-99be-4fd9-bde7-57d732c25bbc",
   "metadata": {},
   "outputs": [
    {
     "data": {
      "text/html": [
       "<div>\n",
       "<style scoped>\n",
       "    .dataframe tbody tr th:only-of-type {\n",
       "        vertical-align: middle;\n",
       "    }\n",
       "\n",
       "    .dataframe tbody tr th {\n",
       "        vertical-align: top;\n",
       "    }\n",
       "\n",
       "    .dataframe thead th {\n",
       "        text-align: right;\n",
       "    }\n",
       "</style>\n",
       "<table border=\"1\" class=\"dataframe\">\n",
       "  <thead>\n",
       "    <tr style=\"text-align: right;\">\n",
       "      <th></th>\n",
       "      <th>C1</th>\n",
       "      <th>C2</th>\n",
       "      <th>C3</th>\n",
       "      <th>C4</th>\n",
       "    </tr>\n",
       "  </thead>\n",
       "  <tbody>\n",
       "    <tr>\n",
       "      <th>R1</th>\n",
       "      <td>0</td>\n",
       "      <td>1</td>\n",
       "      <td>2</td>\n",
       "      <td>3</td>\n",
       "    </tr>\n",
       "    <tr>\n",
       "      <th>R2</th>\n",
       "      <td>4</td>\n",
       "      <td>5</td>\n",
       "      <td>6</td>\n",
       "      <td>7</td>\n",
       "    </tr>\n",
       "    <tr>\n",
       "      <th>R3</th>\n",
       "      <td>8</td>\n",
       "      <td>9</td>\n",
       "      <td>10</td>\n",
       "      <td>11</td>\n",
       "    </tr>\n",
       "    <tr>\n",
       "      <th>R4</th>\n",
       "      <td>12</td>\n",
       "      <td>13</td>\n",
       "      <td>14</td>\n",
       "      <td>15</td>\n",
       "    </tr>\n",
       "    <tr>\n",
       "      <th>R5</th>\n",
       "      <td>16</td>\n",
       "      <td>17</td>\n",
       "      <td>18</td>\n",
       "      <td>19</td>\n",
       "    </tr>\n",
       "  </tbody>\n",
       "</table>\n",
       "</div>"
      ],
      "text/plain": [
       "    C1  C2  C3  C4\n",
       "R1   0   1   2   3\n",
       "R2   4   5   6   7\n",
       "R3   8   9  10  11\n",
       "R4  12  13  14  15\n",
       "R5  16  17  18  19"
      ]
     },
     "execution_count": 3,
     "metadata": {},
     "output_type": "execute_result"
    }
   ],
   "source": [
    "df.head()\n",
    "# to get first few lines wecan use number inside the peranthsis"
   ]
  },
  {
   "cell_type": "code",
   "execution_count": 4,
   "id": "20de3c08-5b17-43ca-8fcc-a53a3591a98c",
   "metadata": {},
   "outputs": [],
   "source": [
    "df.to_csv('test1.csv')# to save the dataframe into a CSv fil"
   ]
  },
  {
   "cell_type": "markdown",
   "id": "c3741d8d-b4b8-400c-89e4-d89b7d539f84",
   "metadata": {},
   "source": [
    "- to acess the elements in DataFrame we have two ways\n",
    "    - ##### 1. is .loc('column names')\n",
    "        - loc basically means the idex locations\n",
    "            - example:-\n",
    "                - df.loc['R1'] which takes data from the Row one from dataFrame of df\n",
    "    - ##### 2. is .iloc(Row index,column index)\n",
    "        - iloc is used get the perticular element from the data frame as it needs both column and row index of the DataFrame\n",
    "        - df.iloc[(index of Rows),(index of columns)]\n",
    "            - Example:-\n",
    "                - df.iloc[:2,:2]\n",
    "                - which slices a data from the both rows and columns first elemtnt specifies select from the zero to Row two and and second one specifies select from the zero to second row"
   ]
  },
  {
   "cell_type": "code",
   "execution_count": 5,
   "id": "a3253037-d017-42df-84bd-b1b657ff39c9",
   "metadata": {},
   "outputs": [
    {
     "data": {
      "text/plain": [
       "C1    0\n",
       "C2    1\n",
       "C3    2\n",
       "C4    3\n",
       "Name: R1, dtype: int32"
      ]
     },
     "execution_count": 5,
     "metadata": {},
     "output_type": "execute_result"
    }
   ],
   "source": [
    "df.loc['R1'] ##it was getting Row one from the df DataFrame"
   ]
  },
  {
   "cell_type": "code",
   "execution_count": 6,
   "id": "f4004028-c7e3-4310-8c7a-78bfb6f24f07",
   "metadata": {},
   "outputs": [
    {
     "data": {
      "text/html": [
       "<div>\n",
       "<style scoped>\n",
       "    .dataframe tbody tr th:only-of-type {\n",
       "        vertical-align: middle;\n",
       "    }\n",
       "\n",
       "    .dataframe tbody tr th {\n",
       "        vertical-align: top;\n",
       "    }\n",
       "\n",
       "    .dataframe thead th {\n",
       "        text-align: right;\n",
       "    }\n",
       "</style>\n",
       "<table border=\"1\" class=\"dataframe\">\n",
       "  <thead>\n",
       "    <tr style=\"text-align: right;\">\n",
       "      <th></th>\n",
       "      <th>C2</th>\n",
       "      <th>C3</th>\n",
       "      <th>C4</th>\n",
       "    </tr>\n",
       "  </thead>\n",
       "  <tbody>\n",
       "    <tr>\n",
       "      <th>R2</th>\n",
       "      <td>5</td>\n",
       "      <td>6</td>\n",
       "      <td>7</td>\n",
       "    </tr>\n",
       "    <tr>\n",
       "      <th>R3</th>\n",
       "      <td>9</td>\n",
       "      <td>10</td>\n",
       "      <td>11</td>\n",
       "    </tr>\n",
       "    <tr>\n",
       "      <th>R4</th>\n",
       "      <td>13</td>\n",
       "      <td>14</td>\n",
       "      <td>15</td>\n",
       "    </tr>\n",
       "    <tr>\n",
       "      <th>R5</th>\n",
       "      <td>17</td>\n",
       "      <td>18</td>\n",
       "      <td>19</td>\n",
       "    </tr>\n",
       "  </tbody>\n",
       "</table>\n",
       "</div>"
      ],
      "text/plain": [
       "    C2  C3  C4\n",
       "R2   5   6   7\n",
       "R3   9  10  11\n",
       "R4  13  14  15\n",
       "R5  17  18  19"
      ]
     },
     "execution_count": 6,
     "metadata": {},
     "output_type": "execute_result"
    }
   ],
   "source": [
    "df.iloc[1:,1:]##it was getting Row and Columns with specified indexes from the df DataFrame"
   ]
  },
  {
   "cell_type": "code",
   "execution_count": 7,
   "id": "e54bc23b-89f2-48d6-a511-fb8a359e4947",
   "metadata": {},
   "outputs": [
    {
     "data": {
      "text/plain": [
       "pandas.core.series.Series"
      ]
     },
     "execution_count": 7,
     "metadata": {},
     "output_type": "execute_result"
    }
   ],
   "source": [
    "type(df.loc['R1']) ## as it has only one row which called as series "
   ]
  },
  {
   "cell_type": "markdown",
   "id": "f5ccf30a-0a80-402a-8a91-b645bed9c162",
   "metadata": {},
   "source": [
    "#### We can convert the data frames into a numpy arrays which will neglect the indexes of rows and columns and we only get data  \n",
    "- ##### to convert the DataFrme into numpy array \n",
    "    - df.values"
   ]
  },
  {
   "cell_type": "code",
   "execution_count": 8,
   "id": "84d94f06-e652-4338-9edb-d7e3dee80a66",
   "metadata": {},
   "outputs": [
    {
     "data": {
      "text/plain": [
       "(5, 4)"
      ]
     },
     "execution_count": 8,
     "metadata": {},
     "output_type": "execute_result"
    }
   ],
   "source": [
    "df.values.shape"
   ]
  },
  {
   "cell_type": "code",
   "execution_count": 9,
   "id": "4b80e539-5726-45fe-8e2a-6d3f544053bb",
   "metadata": {},
   "outputs": [
    {
     "data": {
      "text/html": [
       "<div>\n",
       "<style scoped>\n",
       "    .dataframe tbody tr th:only-of-type {\n",
       "        vertical-align: middle;\n",
       "    }\n",
       "\n",
       "    .dataframe tbody tr th {\n",
       "        vertical-align: top;\n",
       "    }\n",
       "\n",
       "    .dataframe thead th {\n",
       "        text-align: right;\n",
       "    }\n",
       "</style>\n",
       "<table border=\"1\" class=\"dataframe\">\n",
       "  <thead>\n",
       "    <tr style=\"text-align: right;\">\n",
       "      <th></th>\n",
       "      <th>C1</th>\n",
       "      <th>C2</th>\n",
       "      <th>C3</th>\n",
       "      <th>C4</th>\n",
       "    </tr>\n",
       "  </thead>\n",
       "  <tbody>\n",
       "    <tr>\n",
       "      <th>R1</th>\n",
       "      <td>False</td>\n",
       "      <td>False</td>\n",
       "      <td>False</td>\n",
       "      <td>False</td>\n",
       "    </tr>\n",
       "    <tr>\n",
       "      <th>R2</th>\n",
       "      <td>False</td>\n",
       "      <td>False</td>\n",
       "      <td>False</td>\n",
       "      <td>False</td>\n",
       "    </tr>\n",
       "    <tr>\n",
       "      <th>R3</th>\n",
       "      <td>False</td>\n",
       "      <td>False</td>\n",
       "      <td>False</td>\n",
       "      <td>False</td>\n",
       "    </tr>\n",
       "    <tr>\n",
       "      <th>R4</th>\n",
       "      <td>False</td>\n",
       "      <td>False</td>\n",
       "      <td>False</td>\n",
       "      <td>False</td>\n",
       "    </tr>\n",
       "    <tr>\n",
       "      <th>R5</th>\n",
       "      <td>False</td>\n",
       "      <td>False</td>\n",
       "      <td>False</td>\n",
       "      <td>False</td>\n",
       "    </tr>\n",
       "  </tbody>\n",
       "</table>\n",
       "</div>"
      ],
      "text/plain": [
       "       C1     C2     C3     C4\n",
       "R1  False  False  False  False\n",
       "R2  False  False  False  False\n",
       "R3  False  False  False  False\n",
       "R4  False  False  False  False\n",
       "R5  False  False  False  False"
      ]
     },
     "execution_count": 9,
     "metadata": {},
     "output_type": "execute_result"
    }
   ],
   "source": [
    "df.isnull()\n",
    "## isnull will check if there are any nulls"
   ]
  },
  {
   "cell_type": "code",
   "execution_count": 10,
   "id": "db86df05-7f0c-4be1-b4d0-0b159bc5e383",
   "metadata": {},
   "outputs": [
    {
     "data": {
      "text/plain": [
       "C1    0\n",
       "C2    0\n",
       "C3    0\n",
       "C4    0\n",
       "dtype: int64"
      ]
     },
     "execution_count": 10,
     "metadata": {},
     "output_type": "execute_result"
    }
   ],
   "source": [
    "df.isnull().sum()\n",
    "## .sum will return no of nulls in the DataFrame and return the count in ech column"
   ]
  },
  {
   "cell_type": "code",
   "execution_count": 11,
   "id": "d4dd832c-3e27-4b71-9f09-79e8022138f4",
   "metadata": {},
   "outputs": [
    {
     "data": {
      "text/plain": [
       "0     1\n",
       "4     1\n",
       "8     1\n",
       "12    1\n",
       "16    1\n",
       "Name: C1, dtype: int64"
      ]
     },
     "execution_count": 11,
     "metadata": {},
     "output_type": "execute_result"
    }
   ],
   "source": [
    "## to get a unique cateogarys in DataFrame\n",
    "## this will return no of different cateogarys in the each rows in specifiedcolumn\n",
    "df['C1'].value_counts()"
   ]
  },
  {
   "cell_type": "code",
   "execution_count": 15,
   "id": "21e1fd40-80e2-487f-9c21-420ee4baef96",
   "metadata": {},
   "outputs": [
    {
     "data": {
      "text/plain": [
       "array([ 2,  6, 10, 14, 18])"
      ]
     },
     "execution_count": 15,
     "metadata": {},
     "output_type": "execute_result"
    }
   ],
   "source": [
    "df['C3'].unique()\n",
    "#it will return the unique values from the data series as a numpy array"
   ]
  },
  {
   "cell_type": "code",
   "execution_count": 20,
   "id": "7f2f7fc6-38fd-419a-bacc-c31c7e41676a",
   "metadata": {},
   "outputs": [
    {
     "data": {
      "text/html": [
       "<div>\n",
       "<style scoped>\n",
       "    .dataframe tbody tr th:only-of-type {\n",
       "        vertical-align: middle;\n",
       "    }\n",
       "\n",
       "    .dataframe tbody tr th {\n",
       "        vertical-align: top;\n",
       "    }\n",
       "\n",
       "    .dataframe thead th {\n",
       "        text-align: right;\n",
       "    }\n",
       "</style>\n",
       "<table border=\"1\" class=\"dataframe\">\n",
       "  <thead>\n",
       "    <tr style=\"text-align: right;\">\n",
       "      <th></th>\n",
       "      <th>C1</th>\n",
       "      <th>C2</th>\n",
       "    </tr>\n",
       "  </thead>\n",
       "  <tbody>\n",
       "    <tr>\n",
       "      <th>R1</th>\n",
       "      <td>0</td>\n",
       "      <td>1</td>\n",
       "    </tr>\n",
       "    <tr>\n",
       "      <th>R2</th>\n",
       "      <td>4</td>\n",
       "      <td>5</td>\n",
       "    </tr>\n",
       "    <tr>\n",
       "      <th>R3</th>\n",
       "      <td>8</td>\n",
       "      <td>9</td>\n",
       "    </tr>\n",
       "    <tr>\n",
       "      <th>R4</th>\n",
       "      <td>12</td>\n",
       "      <td>13</td>\n",
       "    </tr>\n",
       "    <tr>\n",
       "      <th>R5</th>\n",
       "      <td>16</td>\n",
       "      <td>17</td>\n",
       "    </tr>\n",
       "  </tbody>\n",
       "</table>\n",
       "</div>"
      ],
      "text/plain": [
       "    C1  C2\n",
       "R1   0   1\n",
       "R2   4   5\n",
       "R3   8   9\n",
       "R4  12  13\n",
       "R5  16  17"
      ]
     },
     "execution_count": 22,
     "metadata": {},
     "output_type": "execute_result"
    }
   ],
   "source": [
    "## to acess only one column in a DataFrame use \n",
    "df['C1']"
   ]
  },
  {
   "cell_type": "code",
   "execution_count": 24,
   "id": "b08ea484-92c0-4c38-a412-c2060018ffdd",
   "metadata": {},
   "outputs": [
    {
     "data": {
      "text/html": [
       "<div>\n",
       "<style scoped>\n",
       "    .dataframe tbody tr th:only-of-type {\n",
       "        vertical-align: middle;\n",
       "    }\n",
       "\n",
       "    .dataframe tbody tr th {\n",
       "        vertical-align: top;\n",
       "    }\n",
       "\n",
       "    .dataframe thead th {\n",
       "        text-align: right;\n",
       "    }\n",
       "</style>\n",
       "<table border=\"1\" class=\"dataframe\">\n",
       "  <thead>\n",
       "    <tr style=\"text-align: right;\">\n",
       "      <th></th>\n",
       "      <th>C1</th>\n",
       "      <th>C2</th>\n",
       "    </tr>\n",
       "  </thead>\n",
       "  <tbody>\n",
       "    <tr>\n",
       "      <th>R1</th>\n",
       "      <td>0</td>\n",
       "      <td>1</td>\n",
       "    </tr>\n",
       "    <tr>\n",
       "      <th>R2</th>\n",
       "      <td>4</td>\n",
       "      <td>5</td>\n",
       "    </tr>\n",
       "    <tr>\n",
       "      <th>R3</th>\n",
       "      <td>8</td>\n",
       "      <td>9</td>\n",
       "    </tr>\n",
       "    <tr>\n",
       "      <th>R4</th>\n",
       "      <td>12</td>\n",
       "      <td>13</td>\n",
       "    </tr>\n",
       "    <tr>\n",
       "      <th>R5</th>\n",
       "      <td>16</td>\n",
       "      <td>17</td>\n",
       "    </tr>\n",
       "  </tbody>\n",
       "</table>\n",
       "</div>"
      ],
      "text/plain": [
       "    C1  C2\n",
       "R1   0   1\n",
       "R2   4   5\n",
       "R3   8   9\n",
       "R4  12  13\n",
       "R5  16  17"
      ]
     },
     "execution_count": 24,
     "metadata": {},
     "output_type": "execute_result"
    }
   ],
   "source": [
    "## to acess multiple columns use list of columns in the df[[list of columns we want]]\n",
    "df[['C1','C2']]"
   ]
  },
  {
   "cell_type": "markdown",
   "id": "ad575bdb-09c7-4e9c-9237-ca07476319ea",
   "metadata": {
    "tags": []
   },
   "source": [
    "# Pandas Part-2\n",
    "    - Reading Files with Pandas\n",
    "   "
   ]
  },
  {
   "cell_type": "code",
   "execution_count": 1,
   "id": "bccdd314-a6b9-419f-ac95-b26f48d8180c",
   "metadata": {},
   "outputs": [],
   "source": [
    "import pandas as pd\n",
    "import numpy as np"
   ]
  },
  {
   "cell_type": "code",
   "execution_count": 2,
   "id": "f150e17b-d2c7-4061-ac52-8899fbb328e5",
   "metadata": {},
   "outputs": [
    {
     "data": {
      "text/html": [
       "<div>\n",
       "<style scoped>\n",
       "    .dataframe tbody tr th:only-of-type {\n",
       "        vertical-align: middle;\n",
       "    }\n",
       "\n",
       "    .dataframe tbody tr th {\n",
       "        vertical-align: top;\n",
       "    }\n",
       "\n",
       "    .dataframe thead th {\n",
       "        text-align: right;\n",
       "    }\n",
       "</style>\n",
       "<table border=\"1\" class=\"dataframe\">\n",
       "  <thead>\n",
       "    <tr style=\"text-align: right;\">\n",
       "      <th></th>\n",
       "      <th>ID</th>\n",
       "      <th>y</th>\n",
       "      <th>X0</th>\n",
       "      <th>X1</th>\n",
       "      <th>X2</th>\n",
       "      <th>X3</th>\n",
       "      <th>X4</th>\n",
       "      <th>X5</th>\n",
       "      <th>X6</th>\n",
       "      <th>X8</th>\n",
       "      <th>...</th>\n",
       "      <th>X375</th>\n",
       "      <th>X376</th>\n",
       "      <th>X377</th>\n",
       "      <th>X378</th>\n",
       "      <th>X379</th>\n",
       "      <th>X380</th>\n",
       "      <th>X382</th>\n",
       "      <th>X383</th>\n",
       "      <th>X384</th>\n",
       "      <th>X385</th>\n",
       "    </tr>\n",
       "  </thead>\n",
       "  <tbody>\n",
       "    <tr>\n",
       "      <th>0</th>\n",
       "      <td>0</td>\n",
       "      <td>130.81</td>\n",
       "      <td>k</td>\n",
       "      <td>v</td>\n",
       "      <td>at</td>\n",
       "      <td>a</td>\n",
       "      <td>d</td>\n",
       "      <td>u</td>\n",
       "      <td>j</td>\n",
       "      <td>o</td>\n",
       "      <td>...</td>\n",
       "      <td>0</td>\n",
       "      <td>0</td>\n",
       "      <td>1</td>\n",
       "      <td>0</td>\n",
       "      <td>0</td>\n",
       "      <td>0</td>\n",
       "      <td>0</td>\n",
       "      <td>0</td>\n",
       "      <td>0</td>\n",
       "      <td>0</td>\n",
       "    </tr>\n",
       "    <tr>\n",
       "      <th>1</th>\n",
       "      <td>6</td>\n",
       "      <td>88.53</td>\n",
       "      <td>k</td>\n",
       "      <td>t</td>\n",
       "      <td>av</td>\n",
       "      <td>e</td>\n",
       "      <td>d</td>\n",
       "      <td>y</td>\n",
       "      <td>l</td>\n",
       "      <td>o</td>\n",
       "      <td>...</td>\n",
       "      <td>1</td>\n",
       "      <td>0</td>\n",
       "      <td>0</td>\n",
       "      <td>0</td>\n",
       "      <td>0</td>\n",
       "      <td>0</td>\n",
       "      <td>0</td>\n",
       "      <td>0</td>\n",
       "      <td>0</td>\n",
       "      <td>0</td>\n",
       "    </tr>\n",
       "    <tr>\n",
       "      <th>2</th>\n",
       "      <td>7</td>\n",
       "      <td>76.26</td>\n",
       "      <td>az</td>\n",
       "      <td>w</td>\n",
       "      <td>n</td>\n",
       "      <td>c</td>\n",
       "      <td>d</td>\n",
       "      <td>x</td>\n",
       "      <td>j</td>\n",
       "      <td>x</td>\n",
       "      <td>...</td>\n",
       "      <td>0</td>\n",
       "      <td>0</td>\n",
       "      <td>0</td>\n",
       "      <td>0</td>\n",
       "      <td>0</td>\n",
       "      <td>0</td>\n",
       "      <td>1</td>\n",
       "      <td>0</td>\n",
       "      <td>0</td>\n",
       "      <td>0</td>\n",
       "    </tr>\n",
       "    <tr>\n",
       "      <th>3</th>\n",
       "      <td>9</td>\n",
       "      <td>80.62</td>\n",
       "      <td>az</td>\n",
       "      <td>t</td>\n",
       "      <td>n</td>\n",
       "      <td>f</td>\n",
       "      <td>d</td>\n",
       "      <td>x</td>\n",
       "      <td>l</td>\n",
       "      <td>e</td>\n",
       "      <td>...</td>\n",
       "      <td>0</td>\n",
       "      <td>0</td>\n",
       "      <td>0</td>\n",
       "      <td>0</td>\n",
       "      <td>0</td>\n",
       "      <td>0</td>\n",
       "      <td>0</td>\n",
       "      <td>0</td>\n",
       "      <td>0</td>\n",
       "      <td>0</td>\n",
       "    </tr>\n",
       "    <tr>\n",
       "      <th>4</th>\n",
       "      <td>13</td>\n",
       "      <td>78.02</td>\n",
       "      <td>az</td>\n",
       "      <td>v</td>\n",
       "      <td>n</td>\n",
       "      <td>f</td>\n",
       "      <td>d</td>\n",
       "      <td>h</td>\n",
       "      <td>d</td>\n",
       "      <td>n</td>\n",
       "      <td>...</td>\n",
       "      <td>0</td>\n",
       "      <td>0</td>\n",
       "      <td>0</td>\n",
       "      <td>0</td>\n",
       "      <td>0</td>\n",
       "      <td>0</td>\n",
       "      <td>0</td>\n",
       "      <td>0</td>\n",
       "      <td>0</td>\n",
       "      <td>0</td>\n",
       "    </tr>\n",
       "    <tr>\n",
       "      <th>...</th>\n",
       "      <td>...</td>\n",
       "      <td>...</td>\n",
       "      <td>...</td>\n",
       "      <td>...</td>\n",
       "      <td>...</td>\n",
       "      <td>...</td>\n",
       "      <td>...</td>\n",
       "      <td>...</td>\n",
       "      <td>...</td>\n",
       "      <td>...</td>\n",
       "      <td>...</td>\n",
       "      <td>...</td>\n",
       "      <td>...</td>\n",
       "      <td>...</td>\n",
       "      <td>...</td>\n",
       "      <td>...</td>\n",
       "      <td>...</td>\n",
       "      <td>...</td>\n",
       "      <td>...</td>\n",
       "      <td>...</td>\n",
       "      <td>...</td>\n",
       "    </tr>\n",
       "    <tr>\n",
       "      <th>4204</th>\n",
       "      <td>8405</td>\n",
       "      <td>107.39</td>\n",
       "      <td>ak</td>\n",
       "      <td>s</td>\n",
       "      <td>as</td>\n",
       "      <td>c</td>\n",
       "      <td>d</td>\n",
       "      <td>aa</td>\n",
       "      <td>d</td>\n",
       "      <td>q</td>\n",
       "      <td>...</td>\n",
       "      <td>1</td>\n",
       "      <td>0</td>\n",
       "      <td>0</td>\n",
       "      <td>0</td>\n",
       "      <td>0</td>\n",
       "      <td>0</td>\n",
       "      <td>0</td>\n",
       "      <td>0</td>\n",
       "      <td>0</td>\n",
       "      <td>0</td>\n",
       "    </tr>\n",
       "    <tr>\n",
       "      <th>4205</th>\n",
       "      <td>8406</td>\n",
       "      <td>108.77</td>\n",
       "      <td>j</td>\n",
       "      <td>o</td>\n",
       "      <td>t</td>\n",
       "      <td>d</td>\n",
       "      <td>d</td>\n",
       "      <td>aa</td>\n",
       "      <td>h</td>\n",
       "      <td>h</td>\n",
       "      <td>...</td>\n",
       "      <td>0</td>\n",
       "      <td>1</td>\n",
       "      <td>0</td>\n",
       "      <td>0</td>\n",
       "      <td>0</td>\n",
       "      <td>0</td>\n",
       "      <td>0</td>\n",
       "      <td>0</td>\n",
       "      <td>0</td>\n",
       "      <td>0</td>\n",
       "    </tr>\n",
       "    <tr>\n",
       "      <th>4206</th>\n",
       "      <td>8412</td>\n",
       "      <td>109.22</td>\n",
       "      <td>ak</td>\n",
       "      <td>v</td>\n",
       "      <td>r</td>\n",
       "      <td>a</td>\n",
       "      <td>d</td>\n",
       "      <td>aa</td>\n",
       "      <td>g</td>\n",
       "      <td>e</td>\n",
       "      <td>...</td>\n",
       "      <td>0</td>\n",
       "      <td>0</td>\n",
       "      <td>1</td>\n",
       "      <td>0</td>\n",
       "      <td>0</td>\n",
       "      <td>0</td>\n",
       "      <td>0</td>\n",
       "      <td>0</td>\n",
       "      <td>0</td>\n",
       "      <td>0</td>\n",
       "    </tr>\n",
       "    <tr>\n",
       "      <th>4207</th>\n",
       "      <td>8415</td>\n",
       "      <td>87.48</td>\n",
       "      <td>al</td>\n",
       "      <td>r</td>\n",
       "      <td>e</td>\n",
       "      <td>f</td>\n",
       "      <td>d</td>\n",
       "      <td>aa</td>\n",
       "      <td>l</td>\n",
       "      <td>u</td>\n",
       "      <td>...</td>\n",
       "      <td>0</td>\n",
       "      <td>0</td>\n",
       "      <td>0</td>\n",
       "      <td>0</td>\n",
       "      <td>0</td>\n",
       "      <td>0</td>\n",
       "      <td>0</td>\n",
       "      <td>0</td>\n",
       "      <td>0</td>\n",
       "      <td>0</td>\n",
       "    </tr>\n",
       "    <tr>\n",
       "      <th>4208</th>\n",
       "      <td>8417</td>\n",
       "      <td>110.85</td>\n",
       "      <td>z</td>\n",
       "      <td>r</td>\n",
       "      <td>ae</td>\n",
       "      <td>c</td>\n",
       "      <td>d</td>\n",
       "      <td>aa</td>\n",
       "      <td>g</td>\n",
       "      <td>w</td>\n",
       "      <td>...</td>\n",
       "      <td>1</td>\n",
       "      <td>0</td>\n",
       "      <td>0</td>\n",
       "      <td>0</td>\n",
       "      <td>0</td>\n",
       "      <td>0</td>\n",
       "      <td>0</td>\n",
       "      <td>0</td>\n",
       "      <td>0</td>\n",
       "      <td>0</td>\n",
       "    </tr>\n",
       "  </tbody>\n",
       "</table>\n",
       "<p>4209 rows × 378 columns</p>\n",
       "</div>"
      ],
      "text/plain": [
       "        ID       y  X0 X1  X2 X3 X4  X5 X6 X8  ...  X375  X376  X377  X378  \\\n",
       "0        0  130.81   k  v  at  a  d   u  j  o  ...     0     0     1     0   \n",
       "1        6   88.53   k  t  av  e  d   y  l  o  ...     1     0     0     0   \n",
       "2        7   76.26  az  w   n  c  d   x  j  x  ...     0     0     0     0   \n",
       "3        9   80.62  az  t   n  f  d   x  l  e  ...     0     0     0     0   \n",
       "4       13   78.02  az  v   n  f  d   h  d  n  ...     0     0     0     0   \n",
       "...    ...     ...  .. ..  .. .. ..  .. .. ..  ...   ...   ...   ...   ...   \n",
       "4204  8405  107.39  ak  s  as  c  d  aa  d  q  ...     1     0     0     0   \n",
       "4205  8406  108.77   j  o   t  d  d  aa  h  h  ...     0     1     0     0   \n",
       "4206  8412  109.22  ak  v   r  a  d  aa  g  e  ...     0     0     1     0   \n",
       "4207  8415   87.48  al  r   e  f  d  aa  l  u  ...     0     0     0     0   \n",
       "4208  8417  110.85   z  r  ae  c  d  aa  g  w  ...     1     0     0     0   \n",
       "\n",
       "      X379  X380  X382  X383  X384  X385  \n",
       "0        0     0     0     0     0     0  \n",
       "1        0     0     0     0     0     0  \n",
       "2        0     0     1     0     0     0  \n",
       "3        0     0     0     0     0     0  \n",
       "4        0     0     0     0     0     0  \n",
       "...    ...   ...   ...   ...   ...   ...  \n",
       "4204     0     0     0     0     0     0  \n",
       "4205     0     0     0     0     0     0  \n",
       "4206     0     0     0     0     0     0  \n",
       "4207     0     0     0     0     0     0  \n",
       "4208     0     0     0     0     0     0  \n",
       "\n",
       "[4209 rows x 378 columns]"
      ]
     },
     "execution_count": 2,
     "metadata": {},
     "output_type": "execute_result"
    }
   ],
   "source": [
    " ## to reading files\n",
    "df=pd.read_csv(r'mercedesbenz.csv')\n",
    "df"
   ]
  },
  {
   "cell_type": "code",
   "execution_count": 13,
   "id": "030a9c7e-d033-4c5f-b834-04cd05b884f8",
   "metadata": {},
   "outputs": [
    {
     "data": {
      "text/html": [
       "<div>\n",
       "<style scoped>\n",
       "    .dataframe tbody tr th:only-of-type {\n",
       "        vertical-align: middle;\n",
       "    }\n",
       "\n",
       "    .dataframe tbody tr th {\n",
       "        vertical-align: top;\n",
       "    }\n",
       "\n",
       "    .dataframe thead th {\n",
       "        text-align: right;\n",
       "    }\n",
       "</style>\n",
       "<table border=\"1\" class=\"dataframe\">\n",
       "  <thead>\n",
       "    <tr style=\"text-align: right;\">\n",
       "      <th></th>\n",
       "      <th>ID</th>\n",
       "      <th>y</th>\n",
       "      <th>X0</th>\n",
       "      <th>X1</th>\n",
       "      <th>X2</th>\n",
       "      <th>X3</th>\n",
       "      <th>X4</th>\n",
       "      <th>X5</th>\n",
       "      <th>X6</th>\n",
       "      <th>X8</th>\n",
       "      <th>...</th>\n",
       "      <th>X375</th>\n",
       "      <th>X376</th>\n",
       "      <th>X377</th>\n",
       "      <th>X378</th>\n",
       "      <th>X379</th>\n",
       "      <th>X380</th>\n",
       "      <th>X382</th>\n",
       "      <th>X383</th>\n",
       "      <th>X384</th>\n",
       "      <th>X385</th>\n",
       "    </tr>\n",
       "  </thead>\n",
       "  <tbody>\n",
       "    <tr>\n",
       "      <th>0</th>\n",
       "      <td>0</td>\n",
       "      <td>130.81</td>\n",
       "      <td>k</td>\n",
       "      <td>v</td>\n",
       "      <td>at</td>\n",
       "      <td>a</td>\n",
       "      <td>d</td>\n",
       "      <td>u</td>\n",
       "      <td>j</td>\n",
       "      <td>o</td>\n",
       "      <td>...</td>\n",
       "      <td>0</td>\n",
       "      <td>0</td>\n",
       "      <td>1</td>\n",
       "      <td>0</td>\n",
       "      <td>0</td>\n",
       "      <td>0</td>\n",
       "      <td>0</td>\n",
       "      <td>0</td>\n",
       "      <td>0</td>\n",
       "      <td>0</td>\n",
       "    </tr>\n",
       "    <tr>\n",
       "      <th>1</th>\n",
       "      <td>6</td>\n",
       "      <td>88.53</td>\n",
       "      <td>k</td>\n",
       "      <td>t</td>\n",
       "      <td>av</td>\n",
       "      <td>e</td>\n",
       "      <td>d</td>\n",
       "      <td>y</td>\n",
       "      <td>l</td>\n",
       "      <td>o</td>\n",
       "      <td>...</td>\n",
       "      <td>1</td>\n",
       "      <td>0</td>\n",
       "      <td>0</td>\n",
       "      <td>0</td>\n",
       "      <td>0</td>\n",
       "      <td>0</td>\n",
       "      <td>0</td>\n",
       "      <td>0</td>\n",
       "      <td>0</td>\n",
       "      <td>0</td>\n",
       "    </tr>\n",
       "    <tr>\n",
       "      <th>2</th>\n",
       "      <td>7</td>\n",
       "      <td>76.26</td>\n",
       "      <td>az</td>\n",
       "      <td>w</td>\n",
       "      <td>n</td>\n",
       "      <td>c</td>\n",
       "      <td>d</td>\n",
       "      <td>x</td>\n",
       "      <td>j</td>\n",
       "      <td>x</td>\n",
       "      <td>...</td>\n",
       "      <td>0</td>\n",
       "      <td>0</td>\n",
       "      <td>0</td>\n",
       "      <td>0</td>\n",
       "      <td>0</td>\n",
       "      <td>0</td>\n",
       "      <td>1</td>\n",
       "      <td>0</td>\n",
       "      <td>0</td>\n",
       "      <td>0</td>\n",
       "    </tr>\n",
       "  </tbody>\n",
       "</table>\n",
       "<p>3 rows × 378 columns</p>\n",
       "</div>"
      ],
      "text/plain": [
       "   ID       y  X0 X1  X2 X3 X4 X5 X6 X8  ...  X375  X376  X377  X378  X379  \\\n",
       "0   0  130.81   k  v  at  a  d  u  j  o  ...     0     0     1     0     0   \n",
       "1   6   88.53   k  t  av  e  d  y  l  o  ...     1     0     0     0     0   \n",
       "2   7   76.26  az  w   n  c  d  x  j  x  ...     0     0     0     0     0   \n",
       "\n",
       "   X380  X382  X383  X384  X385  \n",
       "0     0     0     0     0     0  \n",
       "1     0     0     0     0     0  \n",
       "2     0     1     0     0     0  \n",
       "\n",
       "[3 rows x 378 columns]"
      ]
     },
     "execution_count": 13,
     "metadata": {},
     "output_type": "execute_result"
    }
   ],
   "source": [
    "df.head(3) ## gets the top 5 rows in the DataFrame that we imported or created"
   ]
  },
  {
   "cell_type": "code",
   "execution_count": 18,
   "id": "f25f24d2-378d-43a6-aae4-6fb625d5d1f1",
   "metadata": {},
   "outputs": [
    {
     "name": "stdout",
     "output_type": "stream",
     "text": [
      "<class 'pandas.core.frame.DataFrame'>\n",
      "RangeIndex: 4209 entries, 0 to 4208\n",
      "Columns: 378 entries, ID to X385\n",
      "dtypes: float64(1), int64(369), object(8)\n",
      "memory usage: 12.1+ MB\n"
     ]
    }
   ],
   "source": [
    "df.info() # gets the information of the DataFrame "
   ]
  },
  {
   "cell_type": "code",
   "execution_count": 20,
   "id": "6db8cf07-3d0d-4abb-b6d5-1c5dd0c09f33",
   "metadata": {},
   "outputs": [
    {
     "data": {
      "text/html": [
       "<div>\n",
       "<style scoped>\n",
       "    .dataframe tbody tr th:only-of-type {\n",
       "        vertical-align: middle;\n",
       "    }\n",
       "\n",
       "    .dataframe tbody tr th {\n",
       "        vertical-align: top;\n",
       "    }\n",
       "\n",
       "    .dataframe thead th {\n",
       "        text-align: right;\n",
       "    }\n",
       "</style>\n",
       "<table border=\"1\" class=\"dataframe\">\n",
       "  <thead>\n",
       "    <tr style=\"text-align: right;\">\n",
       "      <th></th>\n",
       "      <th>ID</th>\n",
       "      <th>y</th>\n",
       "      <th>X10</th>\n",
       "      <th>X11</th>\n",
       "      <th>X12</th>\n",
       "      <th>X13</th>\n",
       "      <th>X14</th>\n",
       "      <th>X15</th>\n",
       "      <th>X16</th>\n",
       "      <th>X17</th>\n",
       "      <th>...</th>\n",
       "      <th>X375</th>\n",
       "      <th>X376</th>\n",
       "      <th>X377</th>\n",
       "      <th>X378</th>\n",
       "      <th>X379</th>\n",
       "      <th>X380</th>\n",
       "      <th>X382</th>\n",
       "      <th>X383</th>\n",
       "      <th>X384</th>\n",
       "      <th>X385</th>\n",
       "    </tr>\n",
       "  </thead>\n",
       "  <tbody>\n",
       "    <tr>\n",
       "      <th>count</th>\n",
       "      <td>4209.000000</td>\n",
       "      <td>4209.000000</td>\n",
       "      <td>4209.000000</td>\n",
       "      <td>4209.0</td>\n",
       "      <td>4209.000000</td>\n",
       "      <td>4209.000000</td>\n",
       "      <td>4209.000000</td>\n",
       "      <td>4209.000000</td>\n",
       "      <td>4209.000000</td>\n",
       "      <td>4209.000000</td>\n",
       "      <td>...</td>\n",
       "      <td>4209.000000</td>\n",
       "      <td>4209.000000</td>\n",
       "      <td>4209.000000</td>\n",
       "      <td>4209.000000</td>\n",
       "      <td>4209.000000</td>\n",
       "      <td>4209.000000</td>\n",
       "      <td>4209.000000</td>\n",
       "      <td>4209.000000</td>\n",
       "      <td>4209.000000</td>\n",
       "      <td>4209.000000</td>\n",
       "    </tr>\n",
       "    <tr>\n",
       "      <th>mean</th>\n",
       "      <td>4205.960798</td>\n",
       "      <td>100.669318</td>\n",
       "      <td>0.013305</td>\n",
       "      <td>0.0</td>\n",
       "      <td>0.075077</td>\n",
       "      <td>0.057971</td>\n",
       "      <td>0.428130</td>\n",
       "      <td>0.000475</td>\n",
       "      <td>0.002613</td>\n",
       "      <td>0.007603</td>\n",
       "      <td>...</td>\n",
       "      <td>0.318841</td>\n",
       "      <td>0.057258</td>\n",
       "      <td>0.314802</td>\n",
       "      <td>0.020670</td>\n",
       "      <td>0.009503</td>\n",
       "      <td>0.008078</td>\n",
       "      <td>0.007603</td>\n",
       "      <td>0.001663</td>\n",
       "      <td>0.000475</td>\n",
       "      <td>0.001426</td>\n",
       "    </tr>\n",
       "    <tr>\n",
       "      <th>std</th>\n",
       "      <td>2437.608688</td>\n",
       "      <td>12.679381</td>\n",
       "      <td>0.114590</td>\n",
       "      <td>0.0</td>\n",
       "      <td>0.263547</td>\n",
       "      <td>0.233716</td>\n",
       "      <td>0.494867</td>\n",
       "      <td>0.021796</td>\n",
       "      <td>0.051061</td>\n",
       "      <td>0.086872</td>\n",
       "      <td>...</td>\n",
       "      <td>0.466082</td>\n",
       "      <td>0.232363</td>\n",
       "      <td>0.464492</td>\n",
       "      <td>0.142294</td>\n",
       "      <td>0.097033</td>\n",
       "      <td>0.089524</td>\n",
       "      <td>0.086872</td>\n",
       "      <td>0.040752</td>\n",
       "      <td>0.021796</td>\n",
       "      <td>0.037734</td>\n",
       "    </tr>\n",
       "    <tr>\n",
       "      <th>min</th>\n",
       "      <td>0.000000</td>\n",
       "      <td>72.110000</td>\n",
       "      <td>0.000000</td>\n",
       "      <td>0.0</td>\n",
       "      <td>0.000000</td>\n",
       "      <td>0.000000</td>\n",
       "      <td>0.000000</td>\n",
       "      <td>0.000000</td>\n",
       "      <td>0.000000</td>\n",
       "      <td>0.000000</td>\n",
       "      <td>...</td>\n",
       "      <td>0.000000</td>\n",
       "      <td>0.000000</td>\n",
       "      <td>0.000000</td>\n",
       "      <td>0.000000</td>\n",
       "      <td>0.000000</td>\n",
       "      <td>0.000000</td>\n",
       "      <td>0.000000</td>\n",
       "      <td>0.000000</td>\n",
       "      <td>0.000000</td>\n",
       "      <td>0.000000</td>\n",
       "    </tr>\n",
       "    <tr>\n",
       "      <th>25%</th>\n",
       "      <td>2095.000000</td>\n",
       "      <td>90.820000</td>\n",
       "      <td>0.000000</td>\n",
       "      <td>0.0</td>\n",
       "      <td>0.000000</td>\n",
       "      <td>0.000000</td>\n",
       "      <td>0.000000</td>\n",
       "      <td>0.000000</td>\n",
       "      <td>0.000000</td>\n",
       "      <td>0.000000</td>\n",
       "      <td>...</td>\n",
       "      <td>0.000000</td>\n",
       "      <td>0.000000</td>\n",
       "      <td>0.000000</td>\n",
       "      <td>0.000000</td>\n",
       "      <td>0.000000</td>\n",
       "      <td>0.000000</td>\n",
       "      <td>0.000000</td>\n",
       "      <td>0.000000</td>\n",
       "      <td>0.000000</td>\n",
       "      <td>0.000000</td>\n",
       "    </tr>\n",
       "    <tr>\n",
       "      <th>50%</th>\n",
       "      <td>4220.000000</td>\n",
       "      <td>99.150000</td>\n",
       "      <td>0.000000</td>\n",
       "      <td>0.0</td>\n",
       "      <td>0.000000</td>\n",
       "      <td>0.000000</td>\n",
       "      <td>0.000000</td>\n",
       "      <td>0.000000</td>\n",
       "      <td>0.000000</td>\n",
       "      <td>0.000000</td>\n",
       "      <td>...</td>\n",
       "      <td>0.000000</td>\n",
       "      <td>0.000000</td>\n",
       "      <td>0.000000</td>\n",
       "      <td>0.000000</td>\n",
       "      <td>0.000000</td>\n",
       "      <td>0.000000</td>\n",
       "      <td>0.000000</td>\n",
       "      <td>0.000000</td>\n",
       "      <td>0.000000</td>\n",
       "      <td>0.000000</td>\n",
       "    </tr>\n",
       "    <tr>\n",
       "      <th>75%</th>\n",
       "      <td>6314.000000</td>\n",
       "      <td>109.010000</td>\n",
       "      <td>0.000000</td>\n",
       "      <td>0.0</td>\n",
       "      <td>0.000000</td>\n",
       "      <td>0.000000</td>\n",
       "      <td>1.000000</td>\n",
       "      <td>0.000000</td>\n",
       "      <td>0.000000</td>\n",
       "      <td>0.000000</td>\n",
       "      <td>...</td>\n",
       "      <td>1.000000</td>\n",
       "      <td>0.000000</td>\n",
       "      <td>1.000000</td>\n",
       "      <td>0.000000</td>\n",
       "      <td>0.000000</td>\n",
       "      <td>0.000000</td>\n",
       "      <td>0.000000</td>\n",
       "      <td>0.000000</td>\n",
       "      <td>0.000000</td>\n",
       "      <td>0.000000</td>\n",
       "    </tr>\n",
       "    <tr>\n",
       "      <th>max</th>\n",
       "      <td>8417.000000</td>\n",
       "      <td>265.320000</td>\n",
       "      <td>1.000000</td>\n",
       "      <td>0.0</td>\n",
       "      <td>1.000000</td>\n",
       "      <td>1.000000</td>\n",
       "      <td>1.000000</td>\n",
       "      <td>1.000000</td>\n",
       "      <td>1.000000</td>\n",
       "      <td>1.000000</td>\n",
       "      <td>...</td>\n",
       "      <td>1.000000</td>\n",
       "      <td>1.000000</td>\n",
       "      <td>1.000000</td>\n",
       "      <td>1.000000</td>\n",
       "      <td>1.000000</td>\n",
       "      <td>1.000000</td>\n",
       "      <td>1.000000</td>\n",
       "      <td>1.000000</td>\n",
       "      <td>1.000000</td>\n",
       "      <td>1.000000</td>\n",
       "    </tr>\n",
       "  </tbody>\n",
       "</table>\n",
       "<p>8 rows × 370 columns</p>\n",
       "</div>"
      ],
      "text/plain": [
       "                ID            y          X10     X11          X12  \\\n",
       "count  4209.000000  4209.000000  4209.000000  4209.0  4209.000000   \n",
       "mean   4205.960798   100.669318     0.013305     0.0     0.075077   \n",
       "std    2437.608688    12.679381     0.114590     0.0     0.263547   \n",
       "min       0.000000    72.110000     0.000000     0.0     0.000000   \n",
       "25%    2095.000000    90.820000     0.000000     0.0     0.000000   \n",
       "50%    4220.000000    99.150000     0.000000     0.0     0.000000   \n",
       "75%    6314.000000   109.010000     0.000000     0.0     0.000000   \n",
       "max    8417.000000   265.320000     1.000000     0.0     1.000000   \n",
       "\n",
       "               X13          X14          X15          X16          X17  ...  \\\n",
       "count  4209.000000  4209.000000  4209.000000  4209.000000  4209.000000  ...   \n",
       "mean      0.057971     0.428130     0.000475     0.002613     0.007603  ...   \n",
       "std       0.233716     0.494867     0.021796     0.051061     0.086872  ...   \n",
       "min       0.000000     0.000000     0.000000     0.000000     0.000000  ...   \n",
       "25%       0.000000     0.000000     0.000000     0.000000     0.000000  ...   \n",
       "50%       0.000000     0.000000     0.000000     0.000000     0.000000  ...   \n",
       "75%       0.000000     1.000000     0.000000     0.000000     0.000000  ...   \n",
       "max       1.000000     1.000000     1.000000     1.000000     1.000000  ...   \n",
       "\n",
       "              X375         X376         X377         X378         X379  \\\n",
       "count  4209.000000  4209.000000  4209.000000  4209.000000  4209.000000   \n",
       "mean      0.318841     0.057258     0.314802     0.020670     0.009503   \n",
       "std       0.466082     0.232363     0.464492     0.142294     0.097033   \n",
       "min       0.000000     0.000000     0.000000     0.000000     0.000000   \n",
       "25%       0.000000     0.000000     0.000000     0.000000     0.000000   \n",
       "50%       0.000000     0.000000     0.000000     0.000000     0.000000   \n",
       "75%       1.000000     0.000000     1.000000     0.000000     0.000000   \n",
       "max       1.000000     1.000000     1.000000     1.000000     1.000000   \n",
       "\n",
       "              X380         X382         X383         X384         X385  \n",
       "count  4209.000000  4209.000000  4209.000000  4209.000000  4209.000000  \n",
       "mean      0.008078     0.007603     0.001663     0.000475     0.001426  \n",
       "std       0.089524     0.086872     0.040752     0.021796     0.037734  \n",
       "min       0.000000     0.000000     0.000000     0.000000     0.000000  \n",
       "25%       0.000000     0.000000     0.000000     0.000000     0.000000  \n",
       "50%       0.000000     0.000000     0.000000     0.000000     0.000000  \n",
       "75%       0.000000     0.000000     0.000000     0.000000     0.000000  \n",
       "max       1.000000     1.000000     1.000000     1.000000     1.000000  \n",
       "\n",
       "[8 rows x 370 columns]"
      ]
     },
     "execution_count": 20,
     "metadata": {},
     "output_type": "execute_result"
    }
   ],
   "source": [
    "df.describe() #in df.describe() will gets the whole DataFrame description as mean,min,max, count of the each column and all information of the intiger columns\n",
    "              # it wont consider the str or other columns it only consider the intiger columns\n",
    "    "
   ]
  },
  {
   "cell_type": "code",
   "execution_count": 27,
   "id": "8ba4bc43-cf58-41ea-a406-6d178532e1c3",
   "metadata": {},
   "outputs": [
    {
     "data": {
      "text/plain": [
       "0        True\n",
       "1       False\n",
       "2       False\n",
       "3       False\n",
       "4       False\n",
       "        ...  \n",
       "4204     True\n",
       "4205     True\n",
       "4206     True\n",
       "4207    False\n",
       "4208     True\n",
       "Name: y, Length: 4209, dtype: bool"
      ]
     },
     "execution_count": 27,
     "metadata": {},
     "output_type": "execute_result"
    }
   ],
   "source": [
    "df['y']>100 #when we use conditions it returns the list of true or false "
   ]
  },
  {
   "cell_type": "code",
   "execution_count": 29,
   "id": "7746b55e-7f1e-44d7-a1c4-831b96d83cce",
   "metadata": {},
   "outputs": [
    {
     "data": {
      "text/html": [
       "<div>\n",
       "<style scoped>\n",
       "    .dataframe tbody tr th:only-of-type {\n",
       "        vertical-align: middle;\n",
       "    }\n",
       "\n",
       "    .dataframe tbody tr th {\n",
       "        vertical-align: top;\n",
       "    }\n",
       "\n",
       "    .dataframe thead th {\n",
       "        text-align: right;\n",
       "    }\n",
       "</style>\n",
       "<table border=\"1\" class=\"dataframe\">\n",
       "  <thead>\n",
       "    <tr style=\"text-align: right;\">\n",
       "      <th></th>\n",
       "      <th>ID</th>\n",
       "      <th>y</th>\n",
       "      <th>X0</th>\n",
       "      <th>X1</th>\n",
       "      <th>X2</th>\n",
       "      <th>X3</th>\n",
       "      <th>X4</th>\n",
       "      <th>X5</th>\n",
       "      <th>X6</th>\n",
       "      <th>X8</th>\n",
       "      <th>...</th>\n",
       "      <th>X375</th>\n",
       "      <th>X376</th>\n",
       "      <th>X377</th>\n",
       "      <th>X378</th>\n",
       "      <th>X379</th>\n",
       "      <th>X380</th>\n",
       "      <th>X382</th>\n",
       "      <th>X383</th>\n",
       "      <th>X384</th>\n",
       "      <th>X385</th>\n",
       "    </tr>\n",
       "  </thead>\n",
       "  <tbody>\n",
       "    <tr>\n",
       "      <th>0</th>\n",
       "      <td>0</td>\n",
       "      <td>130.81</td>\n",
       "      <td>k</td>\n",
       "      <td>v</td>\n",
       "      <td>at</td>\n",
       "      <td>a</td>\n",
       "      <td>d</td>\n",
       "      <td>u</td>\n",
       "      <td>j</td>\n",
       "      <td>o</td>\n",
       "      <td>...</td>\n",
       "      <td>0</td>\n",
       "      <td>0</td>\n",
       "      <td>1</td>\n",
       "      <td>0</td>\n",
       "      <td>0</td>\n",
       "      <td>0</td>\n",
       "      <td>0</td>\n",
       "      <td>0</td>\n",
       "      <td>0</td>\n",
       "      <td>0</td>\n",
       "    </tr>\n",
       "    <tr>\n",
       "      <th>6</th>\n",
       "      <td>24</td>\n",
       "      <td>128.76</td>\n",
       "      <td>al</td>\n",
       "      <td>r</td>\n",
       "      <td>e</td>\n",
       "      <td>f</td>\n",
       "      <td>d</td>\n",
       "      <td>f</td>\n",
       "      <td>h</td>\n",
       "      <td>s</td>\n",
       "      <td>...</td>\n",
       "      <td>0</td>\n",
       "      <td>0</td>\n",
       "      <td>0</td>\n",
       "      <td>0</td>\n",
       "      <td>0</td>\n",
       "      <td>0</td>\n",
       "      <td>0</td>\n",
       "      <td>0</td>\n",
       "      <td>0</td>\n",
       "      <td>0</td>\n",
       "    </tr>\n",
       "    <tr>\n",
       "      <th>8</th>\n",
       "      <td>27</td>\n",
       "      <td>108.67</td>\n",
       "      <td>w</td>\n",
       "      <td>s</td>\n",
       "      <td>as</td>\n",
       "      <td>e</td>\n",
       "      <td>d</td>\n",
       "      <td>f</td>\n",
       "      <td>i</td>\n",
       "      <td>h</td>\n",
       "      <td>...</td>\n",
       "      <td>1</td>\n",
       "      <td>0</td>\n",
       "      <td>0</td>\n",
       "      <td>0</td>\n",
       "      <td>0</td>\n",
       "      <td>0</td>\n",
       "      <td>0</td>\n",
       "      <td>0</td>\n",
       "      <td>0</td>\n",
       "      <td>0</td>\n",
       "    </tr>\n",
       "    <tr>\n",
       "      <th>9</th>\n",
       "      <td>30</td>\n",
       "      <td>126.99</td>\n",
       "      <td>j</td>\n",
       "      <td>b</td>\n",
       "      <td>aq</td>\n",
       "      <td>c</td>\n",
       "      <td>d</td>\n",
       "      <td>f</td>\n",
       "      <td>a</td>\n",
       "      <td>e</td>\n",
       "      <td>...</td>\n",
       "      <td>0</td>\n",
       "      <td>0</td>\n",
       "      <td>1</td>\n",
       "      <td>0</td>\n",
       "      <td>0</td>\n",
       "      <td>0</td>\n",
       "      <td>0</td>\n",
       "      <td>0</td>\n",
       "      <td>0</td>\n",
       "      <td>0</td>\n",
       "    </tr>\n",
       "    <tr>\n",
       "      <th>10</th>\n",
       "      <td>31</td>\n",
       "      <td>102.09</td>\n",
       "      <td>h</td>\n",
       "      <td>r</td>\n",
       "      <td>r</td>\n",
       "      <td>f</td>\n",
       "      <td>d</td>\n",
       "      <td>f</td>\n",
       "      <td>h</td>\n",
       "      <td>p</td>\n",
       "      <td>...</td>\n",
       "      <td>0</td>\n",
       "      <td>0</td>\n",
       "      <td>0</td>\n",
       "      <td>0</td>\n",
       "      <td>0</td>\n",
       "      <td>0</td>\n",
       "      <td>0</td>\n",
       "      <td>0</td>\n",
       "      <td>0</td>\n",
       "      <td>0</td>\n",
       "    </tr>\n",
       "    <tr>\n",
       "      <th>...</th>\n",
       "      <td>...</td>\n",
       "      <td>...</td>\n",
       "      <td>...</td>\n",
       "      <td>...</td>\n",
       "      <td>...</td>\n",
       "      <td>...</td>\n",
       "      <td>...</td>\n",
       "      <td>...</td>\n",
       "      <td>...</td>\n",
       "      <td>...</td>\n",
       "      <td>...</td>\n",
       "      <td>...</td>\n",
       "      <td>...</td>\n",
       "      <td>...</td>\n",
       "      <td>...</td>\n",
       "      <td>...</td>\n",
       "      <td>...</td>\n",
       "      <td>...</td>\n",
       "      <td>...</td>\n",
       "      <td>...</td>\n",
       "      <td>...</td>\n",
       "    </tr>\n",
       "    <tr>\n",
       "      <th>4202</th>\n",
       "      <td>8402</td>\n",
       "      <td>123.34</td>\n",
       "      <td>ap</td>\n",
       "      <td>l</td>\n",
       "      <td>s</td>\n",
       "      <td>c</td>\n",
       "      <td>d</td>\n",
       "      <td>aa</td>\n",
       "      <td>d</td>\n",
       "      <td>r</td>\n",
       "      <td>...</td>\n",
       "      <td>0</td>\n",
       "      <td>0</td>\n",
       "      <td>0</td>\n",
       "      <td>0</td>\n",
       "      <td>0</td>\n",
       "      <td>0</td>\n",
       "      <td>0</td>\n",
       "      <td>0</td>\n",
       "      <td>0</td>\n",
       "      <td>0</td>\n",
       "    </tr>\n",
       "    <tr>\n",
       "      <th>4204</th>\n",
       "      <td>8405</td>\n",
       "      <td>107.39</td>\n",
       "      <td>ak</td>\n",
       "      <td>s</td>\n",
       "      <td>as</td>\n",
       "      <td>c</td>\n",
       "      <td>d</td>\n",
       "      <td>aa</td>\n",
       "      <td>d</td>\n",
       "      <td>q</td>\n",
       "      <td>...</td>\n",
       "      <td>1</td>\n",
       "      <td>0</td>\n",
       "      <td>0</td>\n",
       "      <td>0</td>\n",
       "      <td>0</td>\n",
       "      <td>0</td>\n",
       "      <td>0</td>\n",
       "      <td>0</td>\n",
       "      <td>0</td>\n",
       "      <td>0</td>\n",
       "    </tr>\n",
       "    <tr>\n",
       "      <th>4205</th>\n",
       "      <td>8406</td>\n",
       "      <td>108.77</td>\n",
       "      <td>j</td>\n",
       "      <td>o</td>\n",
       "      <td>t</td>\n",
       "      <td>d</td>\n",
       "      <td>d</td>\n",
       "      <td>aa</td>\n",
       "      <td>h</td>\n",
       "      <td>h</td>\n",
       "      <td>...</td>\n",
       "      <td>0</td>\n",
       "      <td>1</td>\n",
       "      <td>0</td>\n",
       "      <td>0</td>\n",
       "      <td>0</td>\n",
       "      <td>0</td>\n",
       "      <td>0</td>\n",
       "      <td>0</td>\n",
       "      <td>0</td>\n",
       "      <td>0</td>\n",
       "    </tr>\n",
       "    <tr>\n",
       "      <th>4206</th>\n",
       "      <td>8412</td>\n",
       "      <td>109.22</td>\n",
       "      <td>ak</td>\n",
       "      <td>v</td>\n",
       "      <td>r</td>\n",
       "      <td>a</td>\n",
       "      <td>d</td>\n",
       "      <td>aa</td>\n",
       "      <td>g</td>\n",
       "      <td>e</td>\n",
       "      <td>...</td>\n",
       "      <td>0</td>\n",
       "      <td>0</td>\n",
       "      <td>1</td>\n",
       "      <td>0</td>\n",
       "      <td>0</td>\n",
       "      <td>0</td>\n",
       "      <td>0</td>\n",
       "      <td>0</td>\n",
       "      <td>0</td>\n",
       "      <td>0</td>\n",
       "    </tr>\n",
       "    <tr>\n",
       "      <th>4208</th>\n",
       "      <td>8417</td>\n",
       "      <td>110.85</td>\n",
       "      <td>z</td>\n",
       "      <td>r</td>\n",
       "      <td>ae</td>\n",
       "      <td>c</td>\n",
       "      <td>d</td>\n",
       "      <td>aa</td>\n",
       "      <td>g</td>\n",
       "      <td>w</td>\n",
       "      <td>...</td>\n",
       "      <td>1</td>\n",
       "      <td>0</td>\n",
       "      <td>0</td>\n",
       "      <td>0</td>\n",
       "      <td>0</td>\n",
       "      <td>0</td>\n",
       "      <td>0</td>\n",
       "      <td>0</td>\n",
       "      <td>0</td>\n",
       "      <td>0</td>\n",
       "    </tr>\n",
       "  </tbody>\n",
       "</table>\n",
       "<p>2004 rows × 378 columns</p>\n",
       "</div>"
      ],
      "text/plain": [
       "        ID       y  X0 X1  X2 X3 X4  X5 X6 X8  ...  X375  X376  X377  X378  \\\n",
       "0        0  130.81   k  v  at  a  d   u  j  o  ...     0     0     1     0   \n",
       "6       24  128.76  al  r   e  f  d   f  h  s  ...     0     0     0     0   \n",
       "8       27  108.67   w  s  as  e  d   f  i  h  ...     1     0     0     0   \n",
       "9       30  126.99   j  b  aq  c  d   f  a  e  ...     0     0     1     0   \n",
       "10      31  102.09   h  r   r  f  d   f  h  p  ...     0     0     0     0   \n",
       "...    ...     ...  .. ..  .. .. ..  .. .. ..  ...   ...   ...   ...   ...   \n",
       "4202  8402  123.34  ap  l   s  c  d  aa  d  r  ...     0     0     0     0   \n",
       "4204  8405  107.39  ak  s  as  c  d  aa  d  q  ...     1     0     0     0   \n",
       "4205  8406  108.77   j  o   t  d  d  aa  h  h  ...     0     1     0     0   \n",
       "4206  8412  109.22  ak  v   r  a  d  aa  g  e  ...     0     0     1     0   \n",
       "4208  8417  110.85   z  r  ae  c  d  aa  g  w  ...     1     0     0     0   \n",
       "\n",
       "      X379  X380  X382  X383  X384  X385  \n",
       "0        0     0     0     0     0     0  \n",
       "6        0     0     0     0     0     0  \n",
       "8        0     0     0     0     0     0  \n",
       "9        0     0     0     0     0     0  \n",
       "10       0     0     0     0     0     0  \n",
       "...    ...   ...   ...   ...   ...   ...  \n",
       "4202     0     0     0     0     0     0  \n",
       "4204     0     0     0     0     0     0  \n",
       "4205     0     0     0     0     0     0  \n",
       "4206     0     0     0     0     0     0  \n",
       "4208     0     0     0     0     0     0  \n",
       "\n",
       "[2004 rows x 378 columns]"
      ]
     },
     "execution_count": 29,
     "metadata": {},
     "output_type": "execute_result"
    }
   ],
   "source": [
    "df[df['y']>100]\n",
    "#when we use conditions it returns the list of true or false \n",
    "#when we wrap the previous list of True or false in the df[] it will get the DataFrame with condition satisfied"
   ]
  },
  {
   "cell_type": "markdown",
   "id": "b095f4cb-8058-4d80-b2a5-83258472f36f",
   "metadata": {},
   "source": [
    "#CSV"
   ]
  },
  {
   "cell_type": "code",
   "execution_count": 33,
   "id": "19e950af-6bdc-4f0d-9e5d-1b14649acf99",
   "metadata": {},
   "outputs": [],
   "source": [
    "from io import StringIO, BytesIO"
   ]
  },
  {
   "cell_type": "code",
   "execution_count": 48,
   "id": "be25d72a-aa5d-4aad-aa6b-2f2130552702",
   "metadata": {},
   "outputs": [],
   "source": [
    "data=('Col1,Col2,Col3\\n'\n",
    "     'x,y,1\\n'\n",
    "     'a,b,2\\n'\n",
    "     'c,d,3')\n",
    "# Creatd a coma seperated values so we can Read that into a CSV"
   ]
  },
  {
   "cell_type": "code",
   "execution_count": 66,
   "id": "4eb6bd55-a293-4461-a8ce-f335b4f56fae",
   "metadata": {},
   "outputs": [
    {
     "name": "stdout",
     "output_type": "stream",
     "text": [
      "Col1,Col2,Col3\n",
      "x,y,1\n",
      "a,b,2\n",
      "c,d,3\n"
     ]
    }
   ],
   "source": [
    "print(data)\n",
    "#As it was showing as a string but we can read itas a CSV"
   ]
  },
  {
   "cell_type": "code",
   "execution_count": 76,
   "id": "2bde95b1-c0b0-4b5c-81d2-68f7cefbfcab",
   "metadata": {},
   "outputs": [],
   "source": [
    "df=pd.read_csv(StringIO(data)) ## StringIO will create a Text memory bufer which we can read it as a textfile"
   ]
  },
  {
   "cell_type": "code",
   "execution_count": 82,
   "id": "6fba7fb8-d4c9-448b-91c5-19c32f38293d",
   "metadata": {},
   "outputs": [
    {
     "data": {
      "text/plain": [
       "0    1\n",
       "1    2\n",
       "2    3\n",
       "Name: Col3, dtype: int64"
      ]
     },
     "execution_count": 82,
     "metadata": {},
     "output_type": "execute_result"
    }
   ],
   "source": [
    "df['Col3']"
   ]
  },
  {
   "cell_type": "code",
   "execution_count": 52,
   "id": "b4f92153-4bc4-410d-9ec1-55978105eab7",
   "metadata": {},
   "outputs": [],
   "source": [
    "##read_Ccsv from specific column"
   ]
  },
  {
   "cell_type": "code",
   "execution_count": 61,
   "id": "04f4ef5c-2ff1-422a-a27f-9cfaac6ce2d3",
   "metadata": {},
   "outputs": [],
   "source": [
    "df=pd.read_csv(StringIO(data), usecols = ['Col1','Col3'])"
   ]
  },
  {
   "cell_type": "code",
   "execution_count": 62,
   "id": "0a05dc2b-f5ea-4c8b-a4e8-30b128dbc5fe",
   "metadata": {},
   "outputs": [
    {
     "data": {
      "text/html": [
       "<div>\n",
       "<style scoped>\n",
       "    .dataframe tbody tr th:only-of-type {\n",
       "        vertical-align: middle;\n",
       "    }\n",
       "\n",
       "    .dataframe tbody tr th {\n",
       "        vertical-align: top;\n",
       "    }\n",
       "\n",
       "    .dataframe thead th {\n",
       "        text-align: right;\n",
       "    }\n",
       "</style>\n",
       "<table border=\"1\" class=\"dataframe\">\n",
       "  <thead>\n",
       "    <tr style=\"text-align: right;\">\n",
       "      <th></th>\n",
       "      <th>Col1</th>\n",
       "      <th>Col3</th>\n",
       "    </tr>\n",
       "  </thead>\n",
       "  <tbody>\n",
       "    <tr>\n",
       "      <th>0</th>\n",
       "      <td>x</td>\n",
       "      <td>1</td>\n",
       "    </tr>\n",
       "    <tr>\n",
       "      <th>1</th>\n",
       "      <td>a</td>\n",
       "      <td>2</td>\n",
       "    </tr>\n",
       "    <tr>\n",
       "      <th>2</th>\n",
       "      <td>c</td>\n",
       "      <td>3</td>\n",
       "    </tr>\n",
       "  </tbody>\n",
       "</table>\n",
       "</div>"
      ],
      "text/plain": [
       "  Col1  Col3\n",
       "0    x     1\n",
       "1    a     2\n",
       "2    c     3"
      ]
     },
     "execution_count": 62,
     "metadata": {},
     "output_type": "execute_result"
    }
   ],
   "source": [
    "df"
   ]
  },
  {
   "cell_type": "code",
   "execution_count": 65,
   "id": "80214598-3452-492c-b991-5f376ee620cb",
   "metadata": {},
   "outputs": [],
   "source": [
    "df.to_csv('test1.csv')"
   ]
  },
  {
   "cell_type": "markdown",
   "id": "78d152c8-8c47-46f9-880f-06d007de484b",
   "metadata": {},
   "source": [
    "# Pandas Part-3\n",
    "## Working with json\n",
    "    - pandas (pd.read_json())read the json in the form of string format then converts that into a data frame"
   ]
  },
  {
   "cell_type": "code",
   "execution_count": 1,
   "id": "d5db07e7-c47f-45a4-8ffe-5add040fa429",
   "metadata": {},
   "outputs": [],
   "source": [
    "import pandas as pd\n",
    "import numpy as np"
   ]
  },
  {
   "cell_type": "code",
   "execution_count": 6,
   "id": "514e827c-7287-4222-8206-b0599ff1f4a5",
   "metadata": {},
   "outputs": [],
   "source": [
    "data='{\"timeStamp\": \"2022-07-04 12:27:47\", \"deviceId\": 130, \"data\": {\"Feeder_Load\": 0.81, \"Belt_Speed\": 9.5, \"Material_Flow_Rate\": 0.12, \"Current_R\": 333, \"Current_Y\": 393, \"Current_B\": 369, \"Active_Power_Total\": 365.0, \"Voltage_R_N\": 2060, \"Voltage_Y_N\": 2270, \"Voltage_B_N\": 2090, \"Voltage_L_N_Avg\": 2140.0, \"Motor_Vibration\": -8.0, \"Motor_Temprature\": 70, \"Belt_Torque\": 12.5, \"Belt_Tensile\": 2.7, \"Active_Energy\": 1370, \"Ton_Per_Hour\": 1800, \"Stationary_Speed\": 3.0, \"Right_Sensor_1\": 58, \"Left_Sensor_1\": 20, \"Transient_Speed\": 10.0, \"Right_Sensor_2\": 2, \"Left_Sensor_2\": 32, \"Misalignment_1\": 39.0, \"Misalignment_2\": 17.0, \"Sensor_Speed_01\": 1.8, \"Sensor_Speed_02\": 2.8, \"Deviation_Speed_Sensor_01\": 0.7, \"Deviation_Speed_Sensor_02\": 2.4}}'"
   ]
  },
  {
   "cell_type": "code",
   "execution_count": 13,
   "id": "8512b1a7-053c-4c24-a182-7c73bb44b47e",
   "metadata": {},
   "outputs": [],
   "source": [
    "df=pd.read_json(data)"
   ]
  },
  {
   "cell_type": "code",
   "execution_count": 15,
   "id": "6d796ba7-a9cd-4931-814b-b24a7110a403",
   "metadata": {},
   "outputs": [],
   "source": [
    "df.to_csv('Test1.csv')# to save the DataFrame into CSV"
   ]
  },
  {
   "cell_type": "code",
   "execution_count": 16,
   "id": "fecd062c-c3f5-4295-ad44-547e9d8f571a",
   "metadata": {},
   "outputs": [
    {
     "data": {
      "text/html": [
       "<div>\n",
       "<style scoped>\n",
       "    .dataframe tbody tr th:only-of-type {\n",
       "        vertical-align: middle;\n",
       "    }\n",
       "\n",
       "    .dataframe tbody tr th {\n",
       "        vertical-align: top;\n",
       "    }\n",
       "\n",
       "    .dataframe thead th {\n",
       "        text-align: right;\n",
       "    }\n",
       "</style>\n",
       "<table border=\"1\" class=\"dataframe\">\n",
       "  <thead>\n",
       "    <tr style=\"text-align: right;\">\n",
       "      <th></th>\n",
       "      <th>timeStamp</th>\n",
       "      <th>deviceId</th>\n",
       "      <th>data</th>\n",
       "    </tr>\n",
       "  </thead>\n",
       "  <tbody>\n",
       "    <tr>\n",
       "      <th>Active_Energy</th>\n",
       "      <td>2022-07-04 12:27:47</td>\n",
       "      <td>130</td>\n",
       "      <td>1370.00</td>\n",
       "    </tr>\n",
       "    <tr>\n",
       "      <th>Active_Power_Total</th>\n",
       "      <td>2022-07-04 12:27:47</td>\n",
       "      <td>130</td>\n",
       "      <td>365.00</td>\n",
       "    </tr>\n",
       "    <tr>\n",
       "      <th>Belt_Speed</th>\n",
       "      <td>2022-07-04 12:27:47</td>\n",
       "      <td>130</td>\n",
       "      <td>9.50</td>\n",
       "    </tr>\n",
       "    <tr>\n",
       "      <th>Belt_Tensile</th>\n",
       "      <td>2022-07-04 12:27:47</td>\n",
       "      <td>130</td>\n",
       "      <td>2.70</td>\n",
       "    </tr>\n",
       "    <tr>\n",
       "      <th>Belt_Torque</th>\n",
       "      <td>2022-07-04 12:27:47</td>\n",
       "      <td>130</td>\n",
       "      <td>12.50</td>\n",
       "    </tr>\n",
       "    <tr>\n",
       "      <th>Current_B</th>\n",
       "      <td>2022-07-04 12:27:47</td>\n",
       "      <td>130</td>\n",
       "      <td>369.00</td>\n",
       "    </tr>\n",
       "    <tr>\n",
       "      <th>Current_R</th>\n",
       "      <td>2022-07-04 12:27:47</td>\n",
       "      <td>130</td>\n",
       "      <td>333.00</td>\n",
       "    </tr>\n",
       "    <tr>\n",
       "      <th>Current_Y</th>\n",
       "      <td>2022-07-04 12:27:47</td>\n",
       "      <td>130</td>\n",
       "      <td>393.00</td>\n",
       "    </tr>\n",
       "    <tr>\n",
       "      <th>Deviation_Speed_Sensor_01</th>\n",
       "      <td>2022-07-04 12:27:47</td>\n",
       "      <td>130</td>\n",
       "      <td>0.70</td>\n",
       "    </tr>\n",
       "    <tr>\n",
       "      <th>Deviation_Speed_Sensor_02</th>\n",
       "      <td>2022-07-04 12:27:47</td>\n",
       "      <td>130</td>\n",
       "      <td>2.40</td>\n",
       "    </tr>\n",
       "    <tr>\n",
       "      <th>Feeder_Load</th>\n",
       "      <td>2022-07-04 12:27:47</td>\n",
       "      <td>130</td>\n",
       "      <td>0.81</td>\n",
       "    </tr>\n",
       "    <tr>\n",
       "      <th>Left_Sensor_1</th>\n",
       "      <td>2022-07-04 12:27:47</td>\n",
       "      <td>130</td>\n",
       "      <td>20.00</td>\n",
       "    </tr>\n",
       "    <tr>\n",
       "      <th>Left_Sensor_2</th>\n",
       "      <td>2022-07-04 12:27:47</td>\n",
       "      <td>130</td>\n",
       "      <td>32.00</td>\n",
       "    </tr>\n",
       "    <tr>\n",
       "      <th>Material_Flow_Rate</th>\n",
       "      <td>2022-07-04 12:27:47</td>\n",
       "      <td>130</td>\n",
       "      <td>0.12</td>\n",
       "    </tr>\n",
       "    <tr>\n",
       "      <th>Misalignment_1</th>\n",
       "      <td>2022-07-04 12:27:47</td>\n",
       "      <td>130</td>\n",
       "      <td>39.00</td>\n",
       "    </tr>\n",
       "    <tr>\n",
       "      <th>Misalignment_2</th>\n",
       "      <td>2022-07-04 12:27:47</td>\n",
       "      <td>130</td>\n",
       "      <td>17.00</td>\n",
       "    </tr>\n",
       "    <tr>\n",
       "      <th>Motor_Temprature</th>\n",
       "      <td>2022-07-04 12:27:47</td>\n",
       "      <td>130</td>\n",
       "      <td>70.00</td>\n",
       "    </tr>\n",
       "    <tr>\n",
       "      <th>Motor_Vibration</th>\n",
       "      <td>2022-07-04 12:27:47</td>\n",
       "      <td>130</td>\n",
       "      <td>-8.00</td>\n",
       "    </tr>\n",
       "    <tr>\n",
       "      <th>Right_Sensor_1</th>\n",
       "      <td>2022-07-04 12:27:47</td>\n",
       "      <td>130</td>\n",
       "      <td>58.00</td>\n",
       "    </tr>\n",
       "    <tr>\n",
       "      <th>Right_Sensor_2</th>\n",
       "      <td>2022-07-04 12:27:47</td>\n",
       "      <td>130</td>\n",
       "      <td>2.00</td>\n",
       "    </tr>\n",
       "    <tr>\n",
       "      <th>Sensor_Speed_01</th>\n",
       "      <td>2022-07-04 12:27:47</td>\n",
       "      <td>130</td>\n",
       "      <td>1.80</td>\n",
       "    </tr>\n",
       "    <tr>\n",
       "      <th>Sensor_Speed_02</th>\n",
       "      <td>2022-07-04 12:27:47</td>\n",
       "      <td>130</td>\n",
       "      <td>2.80</td>\n",
       "    </tr>\n",
       "    <tr>\n",
       "      <th>Stationary_Speed</th>\n",
       "      <td>2022-07-04 12:27:47</td>\n",
       "      <td>130</td>\n",
       "      <td>3.00</td>\n",
       "    </tr>\n",
       "    <tr>\n",
       "      <th>Ton_Per_Hour</th>\n",
       "      <td>2022-07-04 12:27:47</td>\n",
       "      <td>130</td>\n",
       "      <td>1800.00</td>\n",
       "    </tr>\n",
       "    <tr>\n",
       "      <th>Transient_Speed</th>\n",
       "      <td>2022-07-04 12:27:47</td>\n",
       "      <td>130</td>\n",
       "      <td>10.00</td>\n",
       "    </tr>\n",
       "    <tr>\n",
       "      <th>Voltage_B_N</th>\n",
       "      <td>2022-07-04 12:27:47</td>\n",
       "      <td>130</td>\n",
       "      <td>2090.00</td>\n",
       "    </tr>\n",
       "    <tr>\n",
       "      <th>Voltage_L_N_Avg</th>\n",
       "      <td>2022-07-04 12:27:47</td>\n",
       "      <td>130</td>\n",
       "      <td>2140.00</td>\n",
       "    </tr>\n",
       "    <tr>\n",
       "      <th>Voltage_R_N</th>\n",
       "      <td>2022-07-04 12:27:47</td>\n",
       "      <td>130</td>\n",
       "      <td>2060.00</td>\n",
       "    </tr>\n",
       "    <tr>\n",
       "      <th>Voltage_Y_N</th>\n",
       "      <td>2022-07-04 12:27:47</td>\n",
       "      <td>130</td>\n",
       "      <td>2270.00</td>\n",
       "    </tr>\n",
       "  </tbody>\n",
       "</table>\n",
       "</div>"
      ],
      "text/plain": [
       "                                    timeStamp  deviceId     data\n",
       "Active_Energy             2022-07-04 12:27:47       130  1370.00\n",
       "Active_Power_Total        2022-07-04 12:27:47       130   365.00\n",
       "Belt_Speed                2022-07-04 12:27:47       130     9.50\n",
       "Belt_Tensile              2022-07-04 12:27:47       130     2.70\n",
       "Belt_Torque               2022-07-04 12:27:47       130    12.50\n",
       "Current_B                 2022-07-04 12:27:47       130   369.00\n",
       "Current_R                 2022-07-04 12:27:47       130   333.00\n",
       "Current_Y                 2022-07-04 12:27:47       130   393.00\n",
       "Deviation_Speed_Sensor_01 2022-07-04 12:27:47       130     0.70\n",
       "Deviation_Speed_Sensor_02 2022-07-04 12:27:47       130     2.40\n",
       "Feeder_Load               2022-07-04 12:27:47       130     0.81\n",
       "Left_Sensor_1             2022-07-04 12:27:47       130    20.00\n",
       "Left_Sensor_2             2022-07-04 12:27:47       130    32.00\n",
       "Material_Flow_Rate        2022-07-04 12:27:47       130     0.12\n",
       "Misalignment_1            2022-07-04 12:27:47       130    39.00\n",
       "Misalignment_2            2022-07-04 12:27:47       130    17.00\n",
       "Motor_Temprature          2022-07-04 12:27:47       130    70.00\n",
       "Motor_Vibration           2022-07-04 12:27:47       130    -8.00\n",
       "Right_Sensor_1            2022-07-04 12:27:47       130    58.00\n",
       "Right_Sensor_2            2022-07-04 12:27:47       130     2.00\n",
       "Sensor_Speed_01           2022-07-04 12:27:47       130     1.80\n",
       "Sensor_Speed_02           2022-07-04 12:27:47       130     2.80\n",
       "Stationary_Speed          2022-07-04 12:27:47       130     3.00\n",
       "Ton_Per_Hour              2022-07-04 12:27:47       130  1800.00\n",
       "Transient_Speed           2022-07-04 12:27:47       130    10.00\n",
       "Voltage_B_N               2022-07-04 12:27:47       130  2090.00\n",
       "Voltage_L_N_Avg           2022-07-04 12:27:47       130  2140.00\n",
       "Voltage_R_N               2022-07-04 12:27:47       130  2060.00\n",
       "Voltage_Y_N               2022-07-04 12:27:47       130  2270.00"
      ]
     },
     "execution_count": 16,
     "metadata": {},
     "output_type": "execute_result"
    }
   ],
   "source": [
    "df"
   ]
  },
  {
   "cell_type": "code",
   "execution_count": 20,
   "id": "ef8579ec-fc1e-42d2-8677-33b907abb22c",
   "metadata": {},
   "outputs": [
    {
     "name": "stdout",
     "output_type": "stream",
     "text": [
      "{\"timeStamp\":{\"Active_Energy\":1656937667000,\"Active_Power_Total\":1656937667000,\"Belt_Speed\":1656937667000,\"Belt_Tensile\":1656937667000,\"Belt_Torque\":1656937667000,\"Current_B\":1656937667000,\"Current_R\":1656937667000,\"Current_Y\":1656937667000,\"Deviation_Speed_Sensor_01\":1656937667000,\"Deviation_Speed_Sensor_02\":1656937667000,\"Feeder_Load\":1656937667000,\"Left_Sensor_1\":1656937667000,\"Left_Sensor_2\":1656937667000,\"Material_Flow_Rate\":1656937667000,\"Misalignment_1\":1656937667000,\"Misalignment_2\":1656937667000,\"Motor_Temprature\":1656937667000,\"Motor_Vibration\":1656937667000,\"Right_Sensor_1\":1656937667000,\"Right_Sensor_2\":1656937667000,\"Sensor_Speed_01\":1656937667000,\"Sensor_Speed_02\":1656937667000,\"Stationary_Speed\":1656937667000,\"Ton_Per_Hour\":1656937667000,\"Transient_Speed\":1656937667000,\"Voltage_B_N\":1656937667000,\"Voltage_L_N_Avg\":1656937667000,\"Voltage_R_N\":1656937667000,\"Voltage_Y_N\":1656937667000},\"deviceId\":{\"Active_Energy\":130,\"Active_Power_Total\":130,\"Belt_Speed\":130,\"Belt_Tensile\":130,\"Belt_Torque\":130,\"Current_B\":130,\"Current_R\":130,\"Current_Y\":130,\"Deviation_Speed_Sensor_01\":130,\"Deviation_Speed_Sensor_02\":130,\"Feeder_Load\":130,\"Left_Sensor_1\":130,\"Left_Sensor_2\":130,\"Material_Flow_Rate\":130,\"Misalignment_1\":130,\"Misalignment_2\":130,\"Motor_Temprature\":130,\"Motor_Vibration\":130,\"Right_Sensor_1\":130,\"Right_Sensor_2\":130,\"Sensor_Speed_01\":130,\"Sensor_Speed_02\":130,\"Stationary_Speed\":130,\"Ton_Per_Hour\":130,\"Transient_Speed\":130,\"Voltage_B_N\":130,\"Voltage_L_N_Avg\":130,\"Voltage_R_N\":130,\"Voltage_Y_N\":130},\"data\":{\"Active_Energy\":1370.0,\"Active_Power_Total\":365.0,\"Belt_Speed\":9.5,\"Belt_Tensile\":2.7,\"Belt_Torque\":12.5,\"Current_B\":369.0,\"Current_R\":333.0,\"Current_Y\":393.0,\"Deviation_Speed_Sensor_01\":0.7,\"Deviation_Speed_Sensor_02\":2.4,\"Feeder_Load\":0.81,\"Left_Sensor_1\":20.0,\"Left_Sensor_2\":32.0,\"Material_Flow_Rate\":0.12,\"Misalignment_1\":39.0,\"Misalignment_2\":17.0,\"Motor_Temprature\":70.0,\"Motor_Vibration\":-8.0,\"Right_Sensor_1\":58.0,\"Right_Sensor_2\":2.0,\"Sensor_Speed_01\":1.8,\"Sensor_Speed_02\":2.8,\"Stationary_Speed\":3.0,\"Ton_Per_Hour\":1800.0,\"Transient_Speed\":10.0,\"Voltage_B_N\":2090.0,\"Voltage_L_N_Avg\":2140.0,\"Voltage_R_N\":2060.0,\"Voltage_Y_N\":2270.0}}\n"
     ]
    }
   ],
   "source": [
    "print(df.to_json())# if no orientation provided itwill merge all  in different jsons"
   ]
  },
  {
   "cell_type": "code",
   "execution_count": 24,
   "id": "d5c5b0e4-1d78-4416-9f04-828f773bd9f7",
   "metadata": {},
   "outputs": [
    {
     "data": {
      "text/plain": [
       "'{\"columns\":[\"timeStamp\",\"deviceId\",\"data\"],\"index\":[\"Active_Energy\",\"Active_Power_Total\",\"Belt_Speed\",\"Belt_Tensile\",\"Belt_Torque\",\"Current_B\",\"Current_R\",\"Current_Y\",\"Deviation_Speed_Sensor_01\",\"Deviation_Speed_Sensor_02\",\"Feeder_Load\",\"Left_Sensor_1\",\"Left_Sensor_2\",\"Material_Flow_Rate\",\"Misalignment_1\",\"Misalignment_2\",\"Motor_Temprature\",\"Motor_Vibration\",\"Right_Sensor_1\",\"Right_Sensor_2\",\"Sensor_Speed_01\",\"Sensor_Speed_02\",\"Stationary_Speed\",\"Ton_Per_Hour\",\"Transient_Speed\",\"Voltage_B_N\",\"Voltage_L_N_Avg\",\"Voltage_R_N\",\"Voltage_Y_N\"],\"data\":[[1656937667000,130,1370.0],[1656937667000,130,365.0],[1656937667000,130,9.5],[1656937667000,130,2.7],[1656937667000,130,12.5],[1656937667000,130,369.0],[1656937667000,130,333.0],[1656937667000,130,393.0],[1656937667000,130,0.7],[1656937667000,130,2.4],[1656937667000,130,0.81],[1656937667000,130,20.0],[1656937667000,130,32.0],[1656937667000,130,0.12],[1656937667000,130,39.0],[1656937667000,130,17.0],[1656937667000,130,70.0],[1656937667000,130,-8.0],[1656937667000,130,58.0],[1656937667000,130,2.0],[1656937667000,130,1.8],[1656937667000,130,2.8],[1656937667000,130,3.0],[1656937667000,130,1800.0],[1656937667000,130,10.0],[1656937667000,130,2090.0],[1656937667000,130,2140.0],[1656937667000,130,2060.0],[1656937667000,130,2270.0]]}'"
      ]
     },
     "execution_count": 24,
     "metadata": {},
     "output_type": "execute_result"
    }
   ],
   "source": [
    "df.to_json(orient='split')# if no orientation provided it will merge all  in different jsons"
   ]
  },
  {
   "cell_type": "markdown",
   "id": "93209e12-7171-4736-95bf-90aa559cb69e",
   "metadata": {},
   "source": [
    "## Reading Html pages with help of pandas"
   ]
  },
  {
   "cell_type": "code",
   "execution_count": 28,
   "id": "5c1c38e2-8040-4c13-bc1b-9fe1e0ce597c",
   "metadata": {},
   "outputs": [],
   "source": [
    "url='https://www.fdic.gov/resources/resolutions/bank-failures/failed-bank-list/'\n",
    "df=pd.read_html(url)"
   ]
  },
  {
   "cell_type": "code",
   "execution_count": 32,
   "id": "659cd024-7328-4441-b6f3-658df959e7e7",
   "metadata": {},
   "outputs": [
    {
     "data": {
      "text/html": [
       "<div>\n",
       "<style scoped>\n",
       "    .dataframe tbody tr th:only-of-type {\n",
       "        vertical-align: middle;\n",
       "    }\n",
       "\n",
       "    .dataframe tbody tr th {\n",
       "        vertical-align: top;\n",
       "    }\n",
       "\n",
       "    .dataframe thead th {\n",
       "        text-align: right;\n",
       "    }\n",
       "</style>\n",
       "<table border=\"1\" class=\"dataframe\">\n",
       "  <thead>\n",
       "    <tr style=\"text-align: right;\">\n",
       "      <th></th>\n",
       "      <th>Bank NameBank</th>\n",
       "      <th>CityCity</th>\n",
       "      <th>StateSt</th>\n",
       "      <th>CertCert</th>\n",
       "      <th>Acquiring InstitutionAI</th>\n",
       "      <th>Closing DateClosing</th>\n",
       "      <th>FundFund</th>\n",
       "    </tr>\n",
       "  </thead>\n",
       "  <tbody>\n",
       "    <tr>\n",
       "      <th>0</th>\n",
       "      <td>Almena State Bank</td>\n",
       "      <td>Almena</td>\n",
       "      <td>KS</td>\n",
       "      <td>15426</td>\n",
       "      <td>Equity Bank</td>\n",
       "      <td>October 23, 2020</td>\n",
       "      <td>10538</td>\n",
       "    </tr>\n",
       "    <tr>\n",
       "      <th>1</th>\n",
       "      <td>First City Bank of Florida</td>\n",
       "      <td>Fort Walton Beach</td>\n",
       "      <td>FL</td>\n",
       "      <td>16748</td>\n",
       "      <td>United Fidelity Bank, fsb</td>\n",
       "      <td>October 16, 2020</td>\n",
       "      <td>10537</td>\n",
       "    </tr>\n",
       "    <tr>\n",
       "      <th>2</th>\n",
       "      <td>The First State Bank</td>\n",
       "      <td>Barboursville</td>\n",
       "      <td>WV</td>\n",
       "      <td>14361</td>\n",
       "      <td>MVB Bank, Inc.</td>\n",
       "      <td>April 3, 2020</td>\n",
       "      <td>10536</td>\n",
       "    </tr>\n",
       "    <tr>\n",
       "      <th>3</th>\n",
       "      <td>Ericson State Bank</td>\n",
       "      <td>Ericson</td>\n",
       "      <td>NE</td>\n",
       "      <td>18265</td>\n",
       "      <td>Farmers and Merchants Bank</td>\n",
       "      <td>February 14, 2020</td>\n",
       "      <td>10535</td>\n",
       "    </tr>\n",
       "    <tr>\n",
       "      <th>4</th>\n",
       "      <td>City National Bank of New Jersey</td>\n",
       "      <td>Newark</td>\n",
       "      <td>NJ</td>\n",
       "      <td>21111</td>\n",
       "      <td>Industrial Bank</td>\n",
       "      <td>November 1, 2019</td>\n",
       "      <td>10534</td>\n",
       "    </tr>\n",
       "    <tr>\n",
       "      <th>...</th>\n",
       "      <td>...</td>\n",
       "      <td>...</td>\n",
       "      <td>...</td>\n",
       "      <td>...</td>\n",
       "      <td>...</td>\n",
       "      <td>...</td>\n",
       "      <td>...</td>\n",
       "    </tr>\n",
       "    <tr>\n",
       "      <th>558</th>\n",
       "      <td>Superior Bank, FSB</td>\n",
       "      <td>Hinsdale</td>\n",
       "      <td>IL</td>\n",
       "      <td>32646</td>\n",
       "      <td>Superior Federal, FSB</td>\n",
       "      <td>July 27, 2001</td>\n",
       "      <td>6004</td>\n",
       "    </tr>\n",
       "    <tr>\n",
       "      <th>559</th>\n",
       "      <td>Malta National Bank</td>\n",
       "      <td>Malta</td>\n",
       "      <td>OH</td>\n",
       "      <td>6629</td>\n",
       "      <td>North Valley Bank</td>\n",
       "      <td>May 3, 2001</td>\n",
       "      <td>4648</td>\n",
       "    </tr>\n",
       "    <tr>\n",
       "      <th>560</th>\n",
       "      <td>First Alliance Bank &amp; Trust Co.</td>\n",
       "      <td>Manchester</td>\n",
       "      <td>NH</td>\n",
       "      <td>34264</td>\n",
       "      <td>Southern New Hampshire Bank &amp; Trust</td>\n",
       "      <td>February 2, 2001</td>\n",
       "      <td>4647</td>\n",
       "    </tr>\n",
       "    <tr>\n",
       "      <th>561</th>\n",
       "      <td>National State Bank of Metropolis</td>\n",
       "      <td>Metropolis</td>\n",
       "      <td>IL</td>\n",
       "      <td>3815</td>\n",
       "      <td>Banterra Bank of Marion</td>\n",
       "      <td>December 14, 2000</td>\n",
       "      <td>4646</td>\n",
       "    </tr>\n",
       "    <tr>\n",
       "      <th>562</th>\n",
       "      <td>Bank of Honolulu</td>\n",
       "      <td>Honolulu</td>\n",
       "      <td>HI</td>\n",
       "      <td>21029</td>\n",
       "      <td>Bank of the Orient</td>\n",
       "      <td>October 13, 2000</td>\n",
       "      <td>4645</td>\n",
       "    </tr>\n",
       "  </tbody>\n",
       "</table>\n",
       "<p>563 rows × 7 columns</p>\n",
       "</div>"
      ],
      "text/plain": [
       "                         Bank NameBank           CityCity StateSt  CertCert  \\\n",
       "0                    Almena State Bank             Almena      KS     15426   \n",
       "1           First City Bank of Florida  Fort Walton Beach      FL     16748   \n",
       "2                 The First State Bank      Barboursville      WV     14361   \n",
       "3                   Ericson State Bank            Ericson      NE     18265   \n",
       "4     City National Bank of New Jersey             Newark      NJ     21111   \n",
       "..                                 ...                ...     ...       ...   \n",
       "558                 Superior Bank, FSB           Hinsdale      IL     32646   \n",
       "559                Malta National Bank              Malta      OH      6629   \n",
       "560    First Alliance Bank & Trust Co.         Manchester      NH     34264   \n",
       "561  National State Bank of Metropolis         Metropolis      IL      3815   \n",
       "562                   Bank of Honolulu           Honolulu      HI     21029   \n",
       "\n",
       "                 Acquiring InstitutionAI Closing DateClosing  FundFund  \n",
       "0                            Equity Bank    October 23, 2020     10538  \n",
       "1              United Fidelity Bank, fsb    October 16, 2020     10537  \n",
       "2                         MVB Bank, Inc.       April 3, 2020     10536  \n",
       "3             Farmers and Merchants Bank   February 14, 2020     10535  \n",
       "4                        Industrial Bank    November 1, 2019     10534  \n",
       "..                                   ...                 ...       ...  \n",
       "558                Superior Federal, FSB       July 27, 2001      6004  \n",
       "559                    North Valley Bank         May 3, 2001      4648  \n",
       "560  Southern New Hampshire Bank & Trust    February 2, 2001      4647  \n",
       "561              Banterra Bank of Marion   December 14, 2000      4646  \n",
       "562                   Bank of the Orient    October 13, 2000      4645  \n",
       "\n",
       "[563 rows x 7 columns]"
      ]
     },
     "execution_count": 32,
     "metadata": {},
     "output_type": "execute_result"
    }
   ],
   "source": [
    "df[0]"
   ]
  },
  {
   "cell_type": "code",
   "execution_count": 47,
   "id": "ec3a574c-6ee8-461b-93d8-ce44a5ca2a58",
   "metadata": {},
   "outputs": [],
   "source": [
    "url1='https://en.wikipedia.org/wiki/Mobile_country_code'\n",
    "dfw=pd.read_html(url1,match='Country',header=0 ) ## match will return the matched string in the html page table"
   ]
  },
  {
   "cell_type": "code",
   "execution_count": 45,
   "id": "03190822-ee60-4868-b784-b639103c11a3",
   "metadata": {},
   "outputs": [
    {
     "data": {
      "text/html": [
       "<div>\n",
       "<style scoped>\n",
       "    .dataframe tbody tr th:only-of-type {\n",
       "        vertical-align: middle;\n",
       "    }\n",
       "\n",
       "    .dataframe tbody tr th {\n",
       "        vertical-align: top;\n",
       "    }\n",
       "\n",
       "    .dataframe thead th {\n",
       "        text-align: right;\n",
       "    }\n",
       "</style>\n",
       "<table border=\"1\" class=\"dataframe\">\n",
       "  <thead>\n",
       "    <tr style=\"text-align: right;\">\n",
       "      <th></th>\n",
       "      <th>Mobile country code</th>\n",
       "      <th>Country</th>\n",
       "      <th>ISO 3166</th>\n",
       "      <th>Mobile network codes</th>\n",
       "      <th>National MNC authority</th>\n",
       "      <th>Remarks</th>\n",
       "    </tr>\n",
       "  </thead>\n",
       "  <tbody>\n",
       "    <tr>\n",
       "      <th>0</th>\n",
       "      <td>289</td>\n",
       "      <td>A Abkhazia</td>\n",
       "      <td>GE-AB</td>\n",
       "      <td>List of mobile network codes in Abkhazia</td>\n",
       "      <td>NaN</td>\n",
       "      <td>MCC is not listed by ITU</td>\n",
       "    </tr>\n",
       "    <tr>\n",
       "      <th>1</th>\n",
       "      <td>412</td>\n",
       "      <td>Afghanistan</td>\n",
       "      <td>AF</td>\n",
       "      <td>List of mobile network codes in Afghanistan</td>\n",
       "      <td>NaN</td>\n",
       "      <td>NaN</td>\n",
       "    </tr>\n",
       "    <tr>\n",
       "      <th>2</th>\n",
       "      <td>276</td>\n",
       "      <td>Albania</td>\n",
       "      <td>AL</td>\n",
       "      <td>List of mobile network codes in Albania</td>\n",
       "      <td>NaN</td>\n",
       "      <td>NaN</td>\n",
       "    </tr>\n",
       "    <tr>\n",
       "      <th>3</th>\n",
       "      <td>603</td>\n",
       "      <td>Algeria</td>\n",
       "      <td>DZ</td>\n",
       "      <td>List of mobile network codes in Algeria</td>\n",
       "      <td>NaN</td>\n",
       "      <td>NaN</td>\n",
       "    </tr>\n",
       "    <tr>\n",
       "      <th>4</th>\n",
       "      <td>544</td>\n",
       "      <td>American Samoa (United States of America)</td>\n",
       "      <td>AS</td>\n",
       "      <td>List of mobile network codes in American Samoa</td>\n",
       "      <td>NaN</td>\n",
       "      <td>NaN</td>\n",
       "    </tr>\n",
       "    <tr>\n",
       "      <th>...</th>\n",
       "      <td>...</td>\n",
       "      <td>...</td>\n",
       "      <td>...</td>\n",
       "      <td>...</td>\n",
       "      <td>...</td>\n",
       "      <td>...</td>\n",
       "    </tr>\n",
       "    <tr>\n",
       "      <th>247</th>\n",
       "      <td>452</td>\n",
       "      <td>Vietnam</td>\n",
       "      <td>VN</td>\n",
       "      <td>List of mobile network codes in the Vietnam</td>\n",
       "      <td>NaN</td>\n",
       "      <td>NaN</td>\n",
       "    </tr>\n",
       "    <tr>\n",
       "      <th>248</th>\n",
       "      <td>543</td>\n",
       "      <td>W Wallis and Futuna</td>\n",
       "      <td>WF</td>\n",
       "      <td>List of mobile network codes in Wallis and Futuna</td>\n",
       "      <td>NaN</td>\n",
       "      <td>NaN</td>\n",
       "    </tr>\n",
       "    <tr>\n",
       "      <th>249</th>\n",
       "      <td>421</td>\n",
       "      <td>Y Yemen</td>\n",
       "      <td>YE</td>\n",
       "      <td>List of mobile network codes in the Yemen</td>\n",
       "      <td>NaN</td>\n",
       "      <td>NaN</td>\n",
       "    </tr>\n",
       "    <tr>\n",
       "      <th>250</th>\n",
       "      <td>645</td>\n",
       "      <td>Z Zambia</td>\n",
       "      <td>ZM</td>\n",
       "      <td>List of mobile network codes in Zambia</td>\n",
       "      <td>NaN</td>\n",
       "      <td>NaN</td>\n",
       "    </tr>\n",
       "    <tr>\n",
       "      <th>251</th>\n",
       "      <td>648</td>\n",
       "      <td>Zimbabwe</td>\n",
       "      <td>ZW</td>\n",
       "      <td>List of mobile network codes in Zimbabwe</td>\n",
       "      <td>NaN</td>\n",
       "      <td>NaN</td>\n",
       "    </tr>\n",
       "  </tbody>\n",
       "</table>\n",
       "<p>252 rows × 6 columns</p>\n",
       "</div>"
      ],
      "text/plain": [
       "     Mobile country code                                    Country ISO 3166  \\\n",
       "0                    289                                 A Abkhazia    GE-AB   \n",
       "1                    412                                Afghanistan       AF   \n",
       "2                    276                                    Albania       AL   \n",
       "3                    603                                    Algeria       DZ   \n",
       "4                    544  American Samoa (United States of America)       AS   \n",
       "..                   ...                                        ...      ...   \n",
       "247                  452                                    Vietnam       VN   \n",
       "248                  543                        W Wallis and Futuna       WF   \n",
       "249                  421                                    Y Yemen       YE   \n",
       "250                  645                                   Z Zambia       ZM   \n",
       "251                  648                                   Zimbabwe       ZW   \n",
       "\n",
       "                                  Mobile network codes National MNC authority  \\\n",
       "0             List of mobile network codes in Abkhazia                    NaN   \n",
       "1          List of mobile network codes in Afghanistan                    NaN   \n",
       "2              List of mobile network codes in Albania                    NaN   \n",
       "3              List of mobile network codes in Algeria                    NaN   \n",
       "4       List of mobile network codes in American Samoa                    NaN   \n",
       "..                                                 ...                    ...   \n",
       "247        List of mobile network codes in the Vietnam                    NaN   \n",
       "248  List of mobile network codes in Wallis and Futuna                    NaN   \n",
       "249          List of mobile network codes in the Yemen                    NaN   \n",
       "250             List of mobile network codes in Zambia                    NaN   \n",
       "251           List of mobile network codes in Zimbabwe                    NaN   \n",
       "\n",
       "                      Remarks  \n",
       "0    MCC is not listed by ITU  \n",
       "1                         NaN  \n",
       "2                         NaN  \n",
       "3                         NaN  \n",
       "4                         NaN  \n",
       "..                        ...  \n",
       "247                       NaN  \n",
       "248                       NaN  \n",
       "249                       NaN  \n",
       "250                       NaN  \n",
       "251                       NaN  \n",
       "\n",
       "[252 rows x 6 columns]"
      ]
     },
     "execution_count": 45,
     "metadata": {},
     "output_type": "execute_result"
    }
   ],
   "source": [
    "dfw[0]"
   ]
  },
  {
   "cell_type": "code",
   "execution_count": 48,
   "id": "7f6ad89c-31b6-466b-b9ea-b56d31f4df99",
   "metadata": {},
   "outputs": [],
   "source": [
    "## Reading Excl with Pandas"
   ]
  },
  {
   "cell_type": "code",
   "execution_count": 51,
   "id": "1896ec8f-a2e8-4b01-925b-818d7fafe64c",
   "metadata": {},
   "outputs": [],
   "source": [
    "dfx=pd.read_excel('test1.xlsx')"
   ]
  },
  {
   "cell_type": "code",
   "execution_count": 52,
   "id": "f4bb85de-de58-422b-9434-44937e233359",
   "metadata": {},
   "outputs": [
    {
     "data": {
      "text/html": [
       "<div>\n",
       "<style scoped>\n",
       "    .dataframe tbody tr th:only-of-type {\n",
       "        vertical-align: middle;\n",
       "    }\n",
       "\n",
       "    .dataframe tbody tr th {\n",
       "        vertical-align: top;\n",
       "    }\n",
       "\n",
       "    .dataframe thead th {\n",
       "        text-align: right;\n",
       "    }\n",
       "</style>\n",
       "<table border=\"1\" class=\"dataframe\">\n",
       "  <thead>\n",
       "    <tr style=\"text-align: right;\">\n",
       "      <th></th>\n",
       "      <th>Unnamed: 0</th>\n",
       "      <th>timeStamp</th>\n",
       "      <th>deviceId</th>\n",
       "      <th>data</th>\n",
       "    </tr>\n",
       "  </thead>\n",
       "  <tbody>\n",
       "    <tr>\n",
       "      <th>0</th>\n",
       "      <td>Active_Energy</td>\n",
       "      <td>2022-07-04 12:27:47</td>\n",
       "      <td>130</td>\n",
       "      <td>1370.0</td>\n",
       "    </tr>\n",
       "    <tr>\n",
       "      <th>1</th>\n",
       "      <td>Active_Power_Total</td>\n",
       "      <td>2022-07-04 12:27:47</td>\n",
       "      <td>130</td>\n",
       "      <td>365.0</td>\n",
       "    </tr>\n",
       "    <tr>\n",
       "      <th>2</th>\n",
       "      <td>Belt_Speed</td>\n",
       "      <td>2022-07-04 12:27:47</td>\n",
       "      <td>130</td>\n",
       "      <td>9.5</td>\n",
       "    </tr>\n",
       "    <tr>\n",
       "      <th>3</th>\n",
       "      <td>Belt_Tensile</td>\n",
       "      <td>2022-07-04 12:27:47</td>\n",
       "      <td>130</td>\n",
       "      <td>2.7</td>\n",
       "    </tr>\n",
       "    <tr>\n",
       "      <th>4</th>\n",
       "      <td>Belt_Torque</td>\n",
       "      <td>2022-07-04 12:27:47</td>\n",
       "      <td>130</td>\n",
       "      <td>12.5</td>\n",
       "    </tr>\n",
       "  </tbody>\n",
       "</table>\n",
       "</div>"
      ],
      "text/plain": [
       "           Unnamed: 0           timeStamp  deviceId    data\n",
       "0       Active_Energy 2022-07-04 12:27:47       130  1370.0\n",
       "1  Active_Power_Total 2022-07-04 12:27:47       130   365.0\n",
       "2          Belt_Speed 2022-07-04 12:27:47       130     9.5\n",
       "3        Belt_Tensile 2022-07-04 12:27:47       130     2.7\n",
       "4         Belt_Torque 2022-07-04 12:27:47       130    12.5"
      ]
     },
     "execution_count": 52,
     "metadata": {},
     "output_type": "execute_result"
    }
   ],
   "source": [
    "dfx.head()"
   ]
  },
  {
   "cell_type": "markdown",
   "id": "4be48983-fa71-4998-808a-9d5e9a663f35",
   "metadata": {},
   "source": [
    "## Pickle files with pandas\n",
    "- the process of converting the data into byte string and save it into a file is called pickelling\n",
    "    - all the pandas objects are equipped with to_pickle methods which use python cPickle module to save data strures to disk using the pickle format "
   ]
  },
  {
   "cell_type": "code",
   "execution_count": 53,
   "id": "dbdb4f97-0bd5-4706-9d28-0960de83be8b",
   "metadata": {},
   "outputs": [],
   "source": [
    "dfx.to_pickle('df_to_pickle')"
   ]
  },
  {
   "cell_type": "code",
   "execution_count": 55,
   "id": "539520bc-683f-4f69-bab1-045643f621b0",
   "metadata": {},
   "outputs": [],
   "source": [
    "dfp=pd.read_pickle('df_to_pickle')"
   ]
  },
  {
   "cell_type": "code",
   "execution_count": 57,
   "id": "d205a39a-4bbc-4e4c-a543-47551546b07e",
   "metadata": {},
   "outputs": [
    {
     "data": {
      "text/html": [
       "<div>\n",
       "<style scoped>\n",
       "    .dataframe tbody tr th:only-of-type {\n",
       "        vertical-align: middle;\n",
       "    }\n",
       "\n",
       "    .dataframe tbody tr th {\n",
       "        vertical-align: top;\n",
       "    }\n",
       "\n",
       "    .dataframe thead th {\n",
       "        text-align: right;\n",
       "    }\n",
       "</style>\n",
       "<table border=\"1\" class=\"dataframe\">\n",
       "  <thead>\n",
       "    <tr style=\"text-align: right;\">\n",
       "      <th></th>\n",
       "      <th>Unnamed: 0</th>\n",
       "      <th>timeStamp</th>\n",
       "      <th>deviceId</th>\n",
       "      <th>data</th>\n",
       "    </tr>\n",
       "  </thead>\n",
       "  <tbody>\n",
       "    <tr>\n",
       "      <th>0</th>\n",
       "      <td>Active_Energy</td>\n",
       "      <td>2022-07-04 12:27:47</td>\n",
       "      <td>130</td>\n",
       "      <td>1370.0</td>\n",
       "    </tr>\n",
       "    <tr>\n",
       "      <th>1</th>\n",
       "      <td>Active_Power_Total</td>\n",
       "      <td>2022-07-04 12:27:47</td>\n",
       "      <td>130</td>\n",
       "      <td>365.0</td>\n",
       "    </tr>\n",
       "    <tr>\n",
       "      <th>2</th>\n",
       "      <td>Belt_Speed</td>\n",
       "      <td>2022-07-04 12:27:47</td>\n",
       "      <td>130</td>\n",
       "      <td>9.5</td>\n",
       "    </tr>\n",
       "    <tr>\n",
       "      <th>3</th>\n",
       "      <td>Belt_Tensile</td>\n",
       "      <td>2022-07-04 12:27:47</td>\n",
       "      <td>130</td>\n",
       "      <td>2.7</td>\n",
       "    </tr>\n",
       "    <tr>\n",
       "      <th>4</th>\n",
       "      <td>Belt_Torque</td>\n",
       "      <td>2022-07-04 12:27:47</td>\n",
       "      <td>130</td>\n",
       "      <td>12.5</td>\n",
       "    </tr>\n",
       "  </tbody>\n",
       "</table>\n",
       "</div>"
      ],
      "text/plain": [
       "           Unnamed: 0           timeStamp  deviceId    data\n",
       "0       Active_Energy 2022-07-04 12:27:47       130  1370.0\n",
       "1  Active_Power_Total 2022-07-04 12:27:47       130   365.0\n",
       "2          Belt_Speed 2022-07-04 12:27:47       130     9.5\n",
       "3        Belt_Tensile 2022-07-04 12:27:47       130     2.7\n",
       "4         Belt_Torque 2022-07-04 12:27:47       130    12.5"
      ]
     },
     "execution_count": 57,
     "metadata": {},
     "output_type": "execute_result"
    }
   ],
   "source": [
    "dfp.head()"
   ]
  },
  {
   "cell_type": "code",
   "execution_count": null,
   "id": "04f59937-39bf-4e57-8c34-ee98ee0a31a2",
   "metadata": {},
   "outputs": [],
   "source": []
  }
 ],
 "metadata": {
  "kernelspec": {
   "display_name": "Python 3 (ipykernel)",
   "language": "python",
   "name": "python3"
  },
  "language_info": {
   "codemirror_mode": {
    "name": "ipython",
    "version": 3
   },
   "file_extension": ".py",
   "mimetype": "text/x-python",
   "name": "python",
   "nbconvert_exporter": "python",
   "pygments_lexer": "ipython3",
   "version": "3.9.7"
  }
 },
 "nbformat": 4,
 "nbformat_minor": 5
}
