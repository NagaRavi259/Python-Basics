{
 "cells": [
  {
   "cell_type": "markdown",
   "id": "d790a169-8246-4b10-98ed-8fb0101b09b5",
   "metadata": {
    "tags": []
   },
   "source": [
    "## Contrbuting Github opensource projects\n",
    "- Steps to get more github points\n",
    "- [ ] Find a project which i have knowldge\n",
    "    - To get project dont go through all the pojects on the github\n",
    "    - go with the explorer menu in the gitub and find the project\n",
    "    - or you can contribute on the project that youre working got he modules your working on \n",
    "    - see which one was old start at there\n",
    "    - go to the issue queue and find a solution and help them\n",
    "    - then check their any rules for contributing and follow \n",
    "- [ ] go to the top and click forke button and choose your self as a owener and create and clone it into your pc and start working on \n",
    "    - chang is just simple changing like data type or what itis just do it be creative\n",
    "    - add , commit, and push our forke that we created\n",
    "    - head oer to te main project braject branch and click compare and pull rquest and \n",
    "    - it will show the text field and enter what changes that we made to the project and anyissues we fixed and hit create and pull\n",
    "    - some projects have veriication \n",
    "    - some projects dont have verifiaction and they will instently mergeit into the projects\n",
    "    - wait for the fedback and review"
   ]
  },
  {
   "cell_type": "code",
   "execution_count": 1,
   "id": "19345d0e-a66e-496e-bb0b-5633a3d1708c",
   "metadata": {},
   "outputs": [
    {
     "ename": "SyntaxError",
     "evalue": "'return' outside function (Temp/ipykernel_11324/2326978372.py, line 2)",
     "output_type": "error",
     "traceback": [
      "\u001b[1;36m  File \u001b[1;32m\"C:\\Users\\vnaga\\AppData\\Local\\Temp/ipykernel_11324/2326978372.py\"\u001b[1;36m, line \u001b[1;32m2\u001b[0m\n\u001b[1;33m    return 4\u001b[0m\n\u001b[1;37m    ^\u001b[0m\n\u001b[1;31mSyntaxError\u001b[0m\u001b[1;31m:\u001b[0m 'return' outside function\n"
     ]
    }
   ],
   "source": [
    "if __name__=='__main__':\n",
    "    return 4 "
   ]
  },
  {
   "cell_type": "markdown",
   "id": "beab1aff-2092-4630-abdd-d7557e890b96",
   "metadata": {},
   "source": [
    "##__name__ returns the name of that module\n",
    "    - module is python file which contains pythons definitions and statements\n",
    "    - when we want to know which module we are working in then we can use this variable to find out\n",
    "    - if the file is imported and running by other python file it will return that file name in __name__ variable \n",
    "    - "
   ]
  },
  {
   "cell_type": "code",
   "execution_count": 2,
   "id": "79360798-de63-47aa-b2f7-90452d03483e",
   "metadata": {},
   "outputs": [
    {
     "data": {
      "text/plain": [
       "'__main__'"
      ]
     },
     "execution_count": 2,
     "metadata": {},
     "output_type": "execute_result"
    }
   ],
   "source": [
    "__name__"
   ]
  },
  {
   "cell_type": "markdown",
   "id": "f1d6110f-e919-47a8-a4f4-044caf2f41e4",
   "metadata": {},
   "source": [
    "## args and kwargs\n",
    "### *args\n",
    "- args means positional arguments these arenessesary to execute functin\n",
    "    - args are variables or values\n",
    "    - to specify variable as possitional argument add single * before the variable\n",
    "    - Example :-\n",
    "        - var = 'string'\n",
    "        - fun(21,var)\n",
    "        - fun(*var)\n",
    "\n",
    "### **kwargs\n",
    "- **kwargs are not nessesaryit defults store a value inside the **kwargs keyword but if the user needs to pass the value it will replace the defult value\n",
    "    - kwargs are value assigned variables in a function call\n",
    "    - to specify variable as possitional argument add double ** before the variable\n",
    "    - Example:-\n",
    "        - var = 50\n",
    "        - fun(kwarg1=20,kwarg2=30)\n",
    "        - fun(**var)"
   ]
  },
  {
   "cell_type": "markdown",
   "id": "25da834a-7d7d-4fd7-90ad-e0936d32cac9",
   "metadata": {
    "tags": []
   },
   "source": [
    "## Type annotation\n",
    "- Type annotation is the process of defining the input and output data ofthe function return value\n",
    "- it is done by using the  type annotations at the end of the function definition using the (-> str: , -> int:)_\n",
    "    - example \n",
    "        - -> def swim(test) -> str: # so it will return output as string value\n",
    "                - return \"I am swimming\"\n",
    "        - Type anotaions:\n",
    "            - str\n",
    "            - int\n",
    "            - None\n",
    "            - any"
   ]
  },
  {
   "cell_type": "code",
   "execution_count": 9,
   "id": "a7cfd743-b7ef-47c9-9210-a8f562d10ad3",
   "metadata": {},
   "outputs": [],
   "source": [
    "class whale():\n",
    "    def swim(self) -> str:\n",
    "        return \"I am swimming\"\n",
    "    def sing(self) -> str:\n",
    "        return 'I am singing'\n",
    "    def __len__(self) -> int:\n",
    "        return 17"
   ]
  },
  {
   "cell_type": "code",
   "execution_count": 10,
   "id": "805f8d21-6cc9-4ba9-8944-0208a45d9052",
   "metadata": {},
   "outputs": [],
   "source": [
    "test=whale()"
   ]
  },
  {
   "cell_type": "code",
   "execution_count": 11,
   "id": "fa0e7e3e-b794-4550-afb2-15bfe5713139",
   "metadata": {},
   "outputs": [
    {
     "data": {
      "text/plain": [
       "int"
      ]
     },
     "execution_count": 11,
     "metadata": {},
     "output_type": "execute_result"
    }
   ],
   "source": [
    "type(test.__len__())"
   ]
  },
  {
   "cell_type": "code",
   "execution_count": 3,
   "id": "c5ec3669-b44a-4070-8d06-4f32b10a746c",
   "metadata": {},
   "outputs": [],
   "source": [
    "def hello(*args,**kwargs):\n",
    "    pass"
   ]
  },
  {
   "cell_type": "markdown",
   "id": "e77a51fa-45d0-446a-af3c-03d1f8407e31",
   "metadata": {},
   "source": [
    " "
   ]
  },
  {
   "cell_type": "markdown",
   "id": "7b43d04f-55b8-4867-88e5-991da0401af1",
   "metadata": {},
   "source": [
    "## Lambda functions\n",
    "- Lambda functions are also called as anonymous functions\n",
    "- Lambda function is a function with no name\n",
    "- it defined by keyword lambda \n",
    "    - Examplec:-\n",
    "        - k=lambda a,b:a+b it is the function it will take a and b perameters and return sum of a+b\n",
    "        - to call function we have to use variable name as function name\n",
    "            - k(a,b)\n",
    "    - it will only works when we have single expression\n",
    "- lambda functions are faster then the normal functions\n"
   ]
  },
  {
   "cell_type": "code",
   "execution_count": 4,
   "id": "83c4f2c0-b7dc-42e8-a5d4-679b0fc350eb",
   "metadata": {},
   "outputs": [],
   "source": [
    "k=lambda a,b:a+b"
   ]
  },
  {
   "cell_type": "code",
   "execution_count": 5,
   "id": "a2325841-bba7-4834-bb61-cc0251d6c730",
   "metadata": {},
   "outputs": [
    {
     "data": {
      "text/plain": [
       "3"
      ]
     },
     "execution_count": 5,
     "metadata": {},
     "output_type": "execute_result"
    }
   ],
   "source": [
    "k(1,2) "
   ]
  },
  {
   "cell_type": "markdown",
   "id": "5804a19f-0797-4fc6-8835-8b4dd2143b41",
   "metadata": {},
   "source": [
    " "
   ]
  },
  {
   "cell_type": "markdown",
   "id": "c044c336-6cc4-4a0b-8d74-b11eeed80309",
   "metadata": {},
   "source": [
    "## map function\n",
    "- map function is used to itterate the one function on a list of elements\n",
    "- it takes two possitional arguments first one was a function and second one was itterables AKA lists\n",
    "    - Example:-\n",
    "        - k= map(fun,lst)"
   ]
  },
  {
   "cell_type": "code",
   "execution_count": 6,
   "id": "cdec2bdf-90a3-49c6-95e0-642c27ca1563",
   "metadata": {},
   "outputs": [],
   "source": [
    "lst=[1,2,3,4,5,6,7,8,9]\n",
    "def fun(a):  ## this function will take a one positional argument int and check weather the num is odd or even and return\n",
    "    if a%2==0:\n",
    "        return \"even\",a\n",
    "    else:\n",
    "        return \"odd\",a\n",
    "k=list(map(fun,lst)) #this run that function on each element in list and return weather odd or even"
   ]
  },
  {
   "cell_type": "code",
   "execution_count": 7,
   "id": "7adc1069-f49c-475e-a044-12da161c6e2e",
   "metadata": {},
   "outputs": [
    {
     "name": "stdout",
     "output_type": "stream",
     "text": [
      "[('odd', 1), ('even', 2), ('odd', 3), ('even', 4), ('odd', 5), ('even', 6), ('odd', 7), ('even', 8), ('odd', 9)]\n"
     ]
    }
   ],
   "source": [
    "print(k)"
   ]
  },
  {
   "cell_type": "markdown",
   "id": "c004e88d-4a8b-4bf0-9ff2-92715dc7e2bc",
   "metadata": {},
   "source": [
    " "
   ]
  },
  {
   "cell_type": "markdown",
   "id": "508dc644-3f93-4cec-8c66-f1da5085c2de",
   "metadata": {},
   "source": [
    "## Filter function\n",
    "- filter is similar to the map but it only stores the values which succsusfully ran\n",
    "- Filter function is used to itterate the one function on a list of elements\n",
    "- it takes two possitional arguments first one was a function and second one was itterables AKA lists\n",
    "    - Example:-\n",
    "        - k= Filter(fun,lst)\n",
    "        - the filyter function returns the only values that are return true"
   ]
  },
  {
   "cell_type": "code",
   "execution_count": 8,
   "id": "323726e8-8819-44c3-85c5-1a9fe1351e65",
   "metadata": {},
   "outputs": [],
   "source": [
    "lst=[1,2,3,4,5,6,7,8,9]\n",
    "def fil(a):  ## this function will take a one positional argument int and check weather the num is odd or even and return\n",
    "    if a%2==0:\n",
    "        return True\n",
    "filt=filter(fil,lst)"
   ]
  },
  {
   "cell_type": "code",
   "execution_count": 9,
   "id": "6cd1110c-d5ac-4251-8b8b-094506fb234a",
   "metadata": {},
   "outputs": [
    {
     "data": {
      "text/plain": [
       "[2, 4, 6, 8]"
      ]
     },
     "execution_count": 9,
     "metadata": {},
     "output_type": "execute_result"
    }
   ],
   "source": [
    "list(filt) # it stores a values that return the boolen value True in the function "
   ]
  },
  {
   "cell_type": "markdown",
   "id": "2afdc4b7-04dd-4c65-92fc-6ee32f0c81ed",
   "metadata": {},
   "source": [
    " "
   ]
  },
  {
   "cell_type": "markdown",
   "id": "59f1ba01-d768-4d35-b1b5-a02348451a69",
   "metadata": {},
   "source": [
    "## Reduce Function\n",
    "- the reduce function takes a two arguments one is function and second one was itterable\n",
    "- it takes a itterable and run the function and store it into a variable and takes the second value in itterables and do the function with previous values as first argument and second argument from iterable \n",
    "- and it continues until the itterables and end\n",
    "    - ***Example***:-\n",
    "        - lst=[1,2,3,4,5,6,7,8,9]\n",
    "        - fun(a,b):   \n",
    "        - reduce(fun,lst)\n",
    "            - execution:\n",
    "            - Step1 - var1=fun(1,2)\n",
    "            - Step2 - var2=fun(var1,3)\n",
    "            - Step3 - var3=fun(var2,4)\n",
    "        - and it goes\n",
    "            -  and it return the finale value after the execution"
   ]
  },
  {
   "cell_type": "code",
   "execution_count": 10,
   "id": "de9e5475-8577-46e3-a477-1d597b4b75ab",
   "metadata": {},
   "outputs": [
    {
     "data": {
      "text/plain": [
       "45"
      ]
     },
     "execution_count": 10,
     "metadata": {},
     "output_type": "execute_result"
    }
   ],
   "source": [
    "from functools import reduce\n",
    "\n",
    "lst=[1,2,3,4,5,6,7,8,9]\n",
    "def fil(a,b):  ## this function will take a one positional argument int and check weather the num is odd or even and return\n",
    "    return a+b\n",
    "k=reduce(fil,lst)\n",
    "k"
   ]
  },
  {
   "cell_type": "markdown",
   "id": "a596a806-2ce0-44b5-b80e-686a23d0274c",
   "metadata": {},
   "source": [
    " "
   ]
  },
  {
   "cell_type": "markdown",
   "id": "756b5df6-d629-42fc-a2ce-6337fec17e42",
   "metadata": {},
   "source": [
    "## list Comprehensions\n",
    "- List comprehension provides a concise way to create a list.\n",
    "- it consists of brackets containing an expression followed by a for clause, then zero or more for or if clauses.\n",
    "- The expression can be anything. meaning you can put in all kinds of objects in list\n",
    "- Example :-\n",
    "    - ['Operation' 'For loop' 'if clause']\n",
    "    -\n",
    "    - [k+1 for i in range(2,50) if i%2==0] \n",
    "    - The above expression will return a list with even numbers from range from 2 to 50"
   ]
  },
  {
   "cell_type": "code",
   "execution_count": 11,
   "id": "dc38db4f-f654-4167-881c-22d65824b7a4",
   "metadata": {},
   "outputs": [],
   "source": [
    "lst1=[]\n",
    "def lst_squre(lst):\n",
    "    for i in lst: # it takes more time as it has loops\n",
    "        lst1.append(i*i)\n",
    "    return lst1"
   ]
  },
  {
   "cell_type": "code",
   "execution_count": 12,
   "id": "e5660318-b551-458a-8807-abd363a2c888",
   "metadata": {},
   "outputs": [
    {
     "data": {
      "text/plain": [
       "[1, 4, 9, 16, 36, 49, 49, 36, 25, 16, 16, 36]"
      ]
     },
     "execution_count": 12,
     "metadata": {},
     "output_type": "execute_result"
    }
   ],
   "source": [
    "lst_squre([1,2,3,4,6,7,7,6,5,4,4,6])"
   ]
  },
  {
   "cell_type": "code",
   "execution_count": 13,
   "id": "095c989a-8def-46b0-9ed2-5e3fb8d7f5aa",
   "metadata": {},
   "outputs": [],
   "source": [
    "lst=[1,2,3,4,6,7,7,6,5,4,4,6]\n",
    "lstn=[i*i for i in lst]\n",
    "lst_even=[i*i for i in lst if i%2==0 ] ## "
   ]
  },
  {
   "cell_type": "code",
   "execution_count": 14,
   "id": "fbd1c061-f266-41cd-90f0-b73df98606c3",
   "metadata": {},
   "outputs": [
    {
     "data": {
      "text/plain": [
       "[4, 16, 36, 36, 16, 16, 36]"
      ]
     },
     "execution_count": 14,
     "metadata": {},
     "output_type": "execute_result"
    }
   ],
   "source": [
    "lst_even"
   ]
  },
  {
   "cell_type": "code",
   "execution_count": 15,
   "id": "ba655d10-19a7-4751-b355-63e0382f36ef",
   "metadata": {},
   "outputs": [
    {
     "name": "stdout",
     "output_type": "stream",
     "text": [
      "[3, 5, 7, 9, 11, 13, 15, 17, 19, 21, 23, 25, 27, 29, 31, 33, 35, 37, 39, 41, 43, 45, 47, 49]\n"
     ]
    }
   ],
   "source": [
    "print([i+1 for i in range(2,50) if i%2==0])#This expression will return a list with even numbers from range from 2 to 50"
   ]
  },
  {
   "cell_type": "markdown",
   "id": "30805102-d3b9-4c82-9258-3633d0927591",
   "metadata": {},
   "source": [
    " "
   ]
  },
  {
   "cell_type": "markdown",
   "id": "3ff08e1c-c12f-4e83-a3e4-96e089f8df0f",
   "metadata": {},
   "source": [
    "## String Formatting "
   ]
  },
  {
   "cell_type": "code",
   "execution_count": 16,
   "id": "99742f48-c351-4d93-9b5b-b133d0b5ed99",
   "metadata": {},
   "outputs": [
    {
     "name": "stdout",
     "output_type": "stream",
     "text": [
      "Hello Everyone\n"
     ]
    }
   ],
   "source": [
    "print('Hello Everyone')"
   ]
  },
  {
   "cell_type": "code",
   "execution_count": 17,
   "id": "09b9c213-5a2a-4610-8979-dd6e9ecd4cd5",
   "metadata": {},
   "outputs": [
    {
     "name": "stdout",
     "output_type": "stream",
     "text": [
      "Hello Everyone First_String Second_String\n",
      "Hello Everyone First_String Second_String\n"
     ]
    }
   ],
   "source": [
    "print('Hello Everyone {} {}'.format('First_String','Second_String'))\n",
    "# the curly brackets are place holders for dynamic strigs \n",
    "# those curly brackets will replace the paramates we given in .format() peranthasis\n",
    "    # in the above example sometimes the ordering will be missplaced \n",
    "    #to fix that issue we can pass the variables inside those curly braces\n",
    "print('Hello Everyone {fst} {snd}'.format(fst='First_String',snd='Second_String'))\n"
   ]
  },
  {
   "cell_type": "markdown",
   "id": "7b640520-5e30-4589-b83c-ffe6d806daee",
   "metadata": {},
   "source": [
    " "
   ]
  },
  {
   "cell_type": "markdown",
   "id": "910c4d2f-c43f-466a-9f48-33f4c39c5999",
   "metadata": {},
   "source": [
    "## Iterables vs Iterators\n",
    "- iterables \n",
    "    - iterables are storedin memory and easy to acess all at a same time or each one at a time \n",
    "    - example :-\n",
    "        - lists are iterables as lists are stored in a memory when we create list\n",
    "        - so we can acess all at same time\n",
    "- iterators \n",
    "    - itrators are created as objects but it wont be inialized in memory until we call that value from the object\n",
    "    - when we the iterator with next(iterator) it will take each value and allocate memory and once next value called it will erase previous value and initialize next value"
   ]
  },
  {
   "cell_type": "code",
   "execution_count": 18,
   "id": "9e7fe6ac-389b-4e38-9c23-44237293c6c4",
   "metadata": {},
   "outputs": [],
   "source": [
    "lst=[43,6,5,4,6,6,5,6]"
   ]
  },
  {
   "cell_type": "code",
   "execution_count": 19,
   "id": "3b3810c9-f510-4480-bc93-b9cb0bd15345",
   "metadata": {},
   "outputs": [
    {
     "name": "stdout",
     "output_type": "stream",
     "text": [
      "[43, 6, 5, 4, 6, 6, 5, 6]\n"
     ]
    }
   ],
   "source": [
    "print(lst)# as the lst was a list it allocate memory for list elemnts so we can acess the all the elements"
   ]
  },
  {
   "cell_type": "code",
   "execution_count": 20,
   "id": "d2973868-8697-43b7-89bf-52e4e7cfe9f1",
   "metadata": {},
   "outputs": [],
   "source": [
    "lsti=iter(lst) # converted the list(interable) into a iterator object with iter() function"
   ]
  },
  {
   "cell_type": "code",
   "execution_count": 21,
   "id": "725d8b51-cc82-4449-acfb-903341170590",
   "metadata": {},
   "outputs": [
    {
     "name": "stdout",
     "output_type": "stream",
     "text": [
      "<list_iterator object at 0x00000244DFDC2D90>\n"
     ]
    }
   ],
   "source": [
    "print(lsti)# as it was a iterator object we cant acess all elements"
   ]
  },
  {
   "cell_type": "markdown",
   "id": "d650acfb-923a-490e-887e-869d35ac3239",
   "metadata": {},
   "source": [
    "- to acess the elements inside the iterator object we have to use the next() to get the values"
   ]
  },
  {
   "cell_type": "code",
   "execution_count": 22,
   "id": "8f7ef5fe-e761-4f93-8b3a-558983553094",
   "metadata": {},
   "outputs": [
    {
     "data": {
      "text/plain": [
       "43"
      ]
     },
     "execution_count": 22,
     "metadata": {},
     "output_type": "execute_result"
    }
   ],
   "source": [
    "next(lsti)"
   ]
  },
  {
   "cell_type": "code",
   "execution_count": 23,
   "id": "5698906b-11c0-4fad-8849-84337dda00cb",
   "metadata": {},
   "outputs": [
    {
     "name": "stdout",
     "output_type": "stream",
     "text": [
      "6\n",
      "5\n",
      "4\n",
      "6\n",
      "6\n",
      "5\n",
      "6\n"
     ]
    }
   ],
   "source": [
    "#to acess all elements we can use with iteratoe object\n",
    "for i in lsti:\n",
    "    print(i)\n",
    "## As iterator stores one element at a time it takes less space to run the code"
   ]
  },
  {
   "cell_type": "markdown",
   "id": "aa49f063-c1be-464b-9f85-ac7add90067a",
   "metadata": {},
   "source": [
    "## Pyforest\n",
    "- pyforest is a tool which helps to import the libraris that we wantto use in code\n",
    "- when we use librarys in code it will check the functions and import those function to the code \n",
    "\n",
    "### need to import the pyforest so it will import other libraris it self"
   ]
  },
  {
   "cell_type": "code",
   "execution_count": 24,
   "id": "7798d332-add8-4024-ab1c-1f3278061777",
   "metadata": {},
   "outputs": [
    {
     "data": {
      "application/javascript": [
       "\n",
       "        if (window._pyforest_update_imports_cell) { window._pyforest_update_imports_cell('import numpy as np'); }\n",
       "    "
      ],
      "text/plain": [
       "<IPython.core.display.Javascript object>"
      ]
     },
     "metadata": {},
     "output_type": "display_data"
    }
   ],
   "source": [
    "kl=np.linspace(2,10,10)"
   ]
  },
  {
   "cell_type": "markdown",
   "id": "caadadde-d142-47da-a0a9-658deca01799",
   "metadata": {},
   "source": [
    " "
   ]
  },
  {
   "cell_type": "markdown",
   "id": "86d54020-1b34-4b40-97ce-66248d34a7a5",
   "metadata": {},
   "source": []
  },
  {
   "cell_type": "markdown",
   "id": "e4e91d92-1825-41bc-92b1-9023a7c79ce3",
   "metadata": {
    "tags": []
   },
   "source": [
    "## Exception handling \n",
    "---\n",
    "    \n",
    "- with the execption handling we can give a meaning full error to users\n",
    "    - Error:\n",
    "        - errors are caused when compiling the code example syntex error or symatic error\n",
    "        - errors are not handled within the code\n",
    "    - execption\n",
    "        - execptions are caused when it was using might be a data missmatch execptin or permission execptions\n",
    "        - execptions are handled within the code\n",
    "- ### Try\n",
    "    - the Try block where the code will run and when code throws an error except block will catch\n",
    "- ### Except\n",
    "    - The except block will catch the error and return the error and it will run the other code\n",
    "- ### else\n",
    "    - the else block will triger when the code is exited without throwing any error \n",
    "    - the else block will run when there is no errors in the code  \n",
    "    - if the execption is handled in except block else block will not be executed\n",
    "- ### finally\n",
    "    - the finally block will execute always at the end of the except or else block\n",
    "    - Example :-\n",
    "        - when we are working with data base if the error occoured while running the code \n",
    "        - it will get into the except or else block and if the error is handled it will go back \n",
    "        - if it never wont handled it will exit hte code \n",
    "            - in that time the finally block will closses the data base and exits the code\n",
    "- ### Try\n",
    "    - the Try block where the code will run and when code throws an error except block will catch\n",
    "- ### Except\n",
    "    - The except block will catch the error and return the error and it will run the other code\n",
    "- ### else\n",
    "    - the else block will triger when the code is exited without throwing any error \n",
    "    - the else block will run when there is no errors in the code  \n",
    "    - if the execption is handled in except block else block will not be executed\n",
    "- ### finally\n",
    "    - the finally block will execute always at the end of the except or else block\n",
    "    - Example :-\n",
    "        - when we are working with data base if the error occoured while running the code \n",
    "        - it will get into the except or else block and if the error is handled it will go back \n",
    "        - if it never wont handled it will exit hte code \n",
    "            - in that time the finally block will closses the data base and exits the code\n",
    "- when try block has an error which exits the try block and goes to the except block so the error has printed or re start code by changing what needs to changed\n",
    "- we can Write multiple except block with different types of errors\n",
    "    - if the first error dosent match with exception it will check with second error\n",
    "    "
   ]
  },
  {
   "cell_type": "code",
   "execution_count": 25,
   "id": "3a05c344-42be-42de-97cb-39bf90a47edf",
   "metadata": {},
   "outputs": [
    {
     "ename": "ZeroDivisionError",
     "evalue": "division by zero",
     "output_type": "error",
     "traceback": [
      "\u001b[1;31m---------------------------------------------------------------------------\u001b[0m",
      "\u001b[1;31mZeroDivisionError\u001b[0m                         Traceback (most recent call last)",
      "\u001b[1;32m~\\AppData\\Local\\Temp/ipykernel_11324/2714448116.py\u001b[0m in \u001b[0;36m<module>\u001b[1;34m\u001b[0m\n\u001b[1;32m----> 1\u001b[1;33m \u001b[1;36m12\u001b[0m\u001b[1;33m/\u001b[0m\u001b[1;36m0\u001b[0m\u001b[1;33m\u001b[0m\u001b[1;33m\u001b[0m\u001b[0m\n\u001b[0m\u001b[0;32m      2\u001b[0m \u001b[1;31m## this is the error as it was not defined\u001b[0m\u001b[1;33m\u001b[0m\u001b[1;33m\u001b[0m\u001b[0m\n",
      "\u001b[1;31mZeroDivisionError\u001b[0m: division by zero"
     ]
    }
   ],
   "source": [
    "12/0\n",
    "## this is the error as it was not defined "
   ]
  },
  {
   "cell_type": "code",
   "execution_count": 44,
   "id": "57280cd1-3dd9-4267-a1c3-f94aad735d84",
   "metadata": {},
   "outputs": [
    {
     "name": "stdin",
     "output_type": "stream",
     "text": [
      "Enter the number 1 :-  3\n",
      "enter the number 2 :-  5\n"
     ]
    },
    {
     "name": "stdout",
     "output_type": "stream",
     "text": [
      "0.6\n",
      "3\n",
      "5\n",
      "0.6\n"
     ]
    }
   ],
   "source": [
    "try:\n",
    "    ## Code where execptions are occoured\n",
    "    a=int(input(\"Enter the number 1 :- \"))\n",
    "    b=int(input(\"enter the number 2 :- \"))\n",
    "    c=a/b\n",
    "    print(c)\n",
    "except NameError as nx: ##in here we taking error type and handling that error accourdingly\n",
    "    print(\"the user not defined the values\") # in here when ever the name error comes it goes into this block and send thois message to user\n",
    "except TypeError as tx: ##in here we taking error type and handling that error accourdingly\n",
    "    print(\"Try to make data type similar\") # in here we got the Type error because of the we are tryto concatinate the string and int\n",
    "except ZeroDivisionError as tx: ##in here we taking error type and handling that error accourdingly\n",
    "    print(\"Please provide the number greater then zero\")# in here we got the Zerodevisionerror because of the we are try to devision positive number by zero\n",
    "except Exception as ex: # always this has to write to end of the exception handlin\n",
    "    print(ex) ## try block has an error which exits the try block and goes to the except block so the error has printed\n",
    "else:\n",
    "    print(a)\n",
    "    print(b)\n",
    "    print(c)"
   ]
  },
  {
   "cell_type": "markdown",
   "id": "e15222ae-2544-464b-b9b5-ce46a5ec4c7a",
   "metadata": {},
   "source": [
    "### Custom Execption Handling\n"
   ]
  },
  {
   "cell_type": "code",
   "execution_count": 45,
   "id": "8b42b6ec-4b7e-4e36-9ccb-8057114a94d6",
   "metadata": {},
   "outputs": [],
   "source": [
    "class Error(Exception):\n",
    "    pass\n",
    "class dobExecption(Error):\n",
    "    pass\n"
   ]
  },
  {
   "cell_type": "code",
   "execution_count": 46,
   "id": "448bc7cd-8d69-4f57-9419-667d4b8deeba",
   "metadata": {},
   "outputs": [
    {
     "name": "stdin",
     "output_type": "stream",
     "text": [
      "Enter yer of birth :-  5\n"
     ]
    },
    {
     "name": "stdout",
     "output_type": "stream",
     "text": [
      "You cannot apply\n"
     ]
    }
   ],
   "source": [
    "year=int(input('Enter yer of birth :- '))\n",
    "age=2021-year\n",
    "try:\n",
    "    if age <=30 and age>20:\n",
    "        print('you can applyy')\n",
    "    else:\n",
    "        raise(dobExecption)\n",
    "except dobExecption:\n",
    "    print('You cannot apply')"
   ]
  },
  {
   "cell_type": "markdown",
   "id": "8448f9a6-43f7-43b9-83ab-f6661f4a3671",
   "metadata": {},
   "source": [
    " "
   ]
  },
  {
   "cell_type": "markdown",
   "id": "f681e0cc-00a2-4e62-96ed-54cac343b031",
   "metadata": {
    "tags": []
   },
   "source": [
    "## OOPS concepts\n",
    "---"
   ]
  },
  {
   "cell_type": "markdown",
   "id": "5d22dd66-bbb4-4209-9641-e6030c0030a2",
   "metadata": {
    "tags": []
   },
   "source": [
    "### Class\n",
    "- class has objects and functions\n",
    "    - objects \n",
    "- class is a  combinationof multiple methods\n",
    "- each method has different functions\n"
   ]
  },
  {
   "cell_type": "code",
   "execution_count": 47,
   "id": "7483421f-f348-44c5-9b7e-86746bcb590f",
   "metadata": {},
   "outputs": [],
   "source": [
    "class car(): #just created a class which hasno function\n",
    "    pass"
   ]
  },
  {
   "cell_type": "code",
   "execution_count": 48,
   "id": "7c350b1e-6edd-4077-8dc1-44dd931c818a",
   "metadata": {},
   "outputs": [
    {
     "name": "stdout",
     "output_type": "stream",
     "text": [
      "<__main__.car object at 0x00000244E11DB670>\n"
     ]
    }
   ],
   "source": [
    "# to instantiate a classh we have to assign a classs with a variable\n",
    "car1=car()\n",
    "print(car1) # if we print the class it just return the memory location that class"
   ]
  },
  {
   "cell_type": "code",
   "execution_count": 49,
   "id": "10fcdfc2-e5e9-4730-83c0-6aee8d40675b",
   "metadata": {},
   "outputs": [],
   "source": [
    "## once we create a class \n",
    "car1.windows=4\n",
    "car1.engine=\"mazarati\"\n",
    "car1.enginetype='Diesel'\n",
    "# we can add infinite attributes to the class \n",
    "## this approach of creting class is wrong\n",
    "# class car():\n",
    "#     pass"
   ]
  },
  {
   "cell_type": "markdown",
   "id": "f0ab1ef2-bbac-4a7d-a4bf-860ac80ffa36",
   "metadata": {},
   "source": [
    "### __init__\n",
    "-  __init__ will initalize the class\n",
    "- init also acts as a constructer to the class when ever we call the class and what values we passed defult int that init perameter\n",
    "    - Example:- \n",
    "        - def __init__(self,windows,enginetype,doors):\n",
    "        - in the above statement it needs total 3 perameters \n",
    "        - 1.windows\n",
    "        - 2.enginetype\n",
    "        - 3.doors\n",
    "     - it will take those perameter and add it to the class instence variable\n",
    "- init will limit the no of attributes to be placed inside class\n",
    "- once we initilize we can give how many parameters need to be consider inside that class inside a peranthasis\n",
    "\n",
    "### self\n",
    "- self will act as a route for class objects and class intence variable when we call the self keyword it will get the all objects and variables inside the class\n",
    "-  by using the self keyword in the second method we are able to use the variables inside the other methods "
   ]
  },
  {
   "cell_type": "code",
   "execution_count": 50,
   "id": "21e4828b-b44a-4ab1-9b75-b4343aedda15",
   "metadata": {},
   "outputs": [],
   "source": [
    "class car:\n",
    "    def __init__(self,windows,enginetype,doors):\n",
    "        self.windows=windows\n",
    "        self.doors=doors\n",
    "        self.enginetype=enginetype\n",
    "    def self_driving(self): # by using the self keyword in the second method we are able to use the variables inside the other methods \n",
    "        return \"this is a {} car\".format(self.enginetype)"
   ]
  },
  {
   "cell_type": "code",
   "execution_count": 51,
   "id": "a8c53732-0c10-4342-a9dd-d2f1bf34916b",
   "metadata": {},
   "outputs": [],
   "source": [
    "car1=car(4,'petrol',4)"
   ]
  },
  {
   "cell_type": "code",
   "execution_count": 52,
   "id": "07455a3c-fa52-4526-8882-7b3102ee1318",
   "metadata": {},
   "outputs": [],
   "source": [
    "car2=car(3,'diesel',4)"
   ]
  },
  {
   "cell_type": "code",
   "execution_count": 53,
   "id": "73f97c33-4048-42eb-b511-020a3f008aea",
   "metadata": {},
   "outputs": [
    {
     "name": "stdout",
     "output_type": "stream",
     "text": [
      "4\n"
     ]
    }
   ],
   "source": [
    "print(car1.windows)"
   ]
  },
  {
   "cell_type": "code",
   "execution_count": 54,
   "id": "cc57f17b-1056-4a15-8d29-fee7597ff7ac",
   "metadata": {},
   "outputs": [
    {
     "name": "stdout",
     "output_type": "stream",
     "text": [
      "diesel\n"
     ]
    }
   ],
   "source": [
    "print(car2.enginetype)"
   ]
  },
  {
   "cell_type": "code",
   "execution_count": 55,
   "id": "6ec5e14c-371e-47db-9ab9-41078f4a1227",
   "metadata": {},
   "outputs": [
    {
     "data": {
      "text/plain": [
       "'this is a petrol car'"
      ]
     },
     "execution_count": 55,
     "metadata": {},
     "output_type": "execute_result"
    }
   ],
   "source": [
    "car1.self_driving() ## Calling the second method inside of the class"
   ]
  },
  {
   "cell_type": "markdown",
   "id": "65f63fba-252b-4b1c-8117-85f244a6dbd8",
   "metadata": {
    "tags": []
   },
   "source": [
    "### Inheritence \n",
    "- Inheritence is used when the code is bigger and messy and when w need to simply the code\n",
    "- we use multiple classes for each functionality and import the primary class to the secondary class so we can able to acess all the methods inside of the primary class in secondary class"
   ]
  },
  {
   "cell_type": "code",
   "execution_count": 56,
   "id": "08079ce1-d1f4-4551-9964-9de239ae47d9",
   "metadata": {},
   "outputs": [],
   "source": [
    "class car(): ## We defined a class called a car\n",
    "    def __init__(self,windows,doors,enginetype):\n",
    "        self.windows=windows\n",
    "        self.doors=doors\n",
    "        self.enginetype=enginetype\n",
    "    def drive(self):\n",
    "        print(\"The person drive car\")"
   ]
  },
  {
   "cell_type": "code",
   "execution_count": 57,
   "id": "3fc90ed7-9f23-47e9-b641-90f15b4abf0f",
   "metadata": {},
   "outputs": [],
   "source": [
    "car1=car(4,5,'diesel')"
   ]
  },
  {
   "cell_type": "code",
   "execution_count": 58,
   "id": "5b032ca7-9e41-408c-91b9-a6b62a77a7b0",
   "metadata": {},
   "outputs": [
    {
     "data": {
      "text/plain": [
       "'diesel'"
      ]
     },
     "execution_count": 58,
     "metadata": {},
     "output_type": "execute_result"
    }
   ],
   "source": [
    "car1.enginetype"
   ]
  },
  {
   "cell_type": "code",
   "execution_count": 59,
   "id": "750eef6a-fc25-4fcb-ba97-4fb069105258",
   "metadata": {},
   "outputs": [
    {
     "data": {
      "text/plain": [
       "['__class__',\n",
       " '__delattr__',\n",
       " '__dict__',\n",
       " '__dir__',\n",
       " '__doc__',\n",
       " '__eq__',\n",
       " '__format__',\n",
       " '__ge__',\n",
       " '__getattribute__',\n",
       " '__gt__',\n",
       " '__hash__',\n",
       " '__init__',\n",
       " '__init_subclass__',\n",
       " '__le__',\n",
       " '__lt__',\n",
       " '__module__',\n",
       " '__ne__',\n",
       " '__new__',\n",
       " '__reduce__',\n",
       " '__reduce_ex__',\n",
       " '__repr__',\n",
       " '__setattr__',\n",
       " '__sizeof__',\n",
       " '__str__',\n",
       " '__subclasshook__',\n",
       " '__weakref__',\n",
       " 'doors',\n",
       " 'drive',\n",
       " 'enginetype',\n",
       " 'windows']"
      ]
     },
     "execution_count": 59,
     "metadata": {},
     "output_type": "execute_result"
    }
   ],
   "source": [
    "dir(car1) # to get the functions(methods) inside of the class"
   ]
  },
  {
   "cell_type": "code",
   "execution_count": 60,
   "id": "218abfa4-f075-433d-afa7-d08aa46f6789",
   "metadata": {},
   "outputs": [
    {
     "name": "stdout",
     "output_type": "stream",
     "text": [
      "The person drive car\n"
     ]
    }
   ],
   "source": [
    "car1.drive() # to activate the method inside of the class"
   ]
  },
  {
   "cell_type": "markdown",
   "id": "02322770-d33e-47f3-b508-3cf2e12a79e5",
   "metadata": {},
   "source": [
    "- As we seen below we imported the car class in the audi class so we can acess all the methods inside of the car class from the audi class"
   ]
  },
  {
   "cell_type": "code",
   "execution_count": 61,
   "id": "5a79617b-fb81-496b-b34b-1856e9273ec2",
   "metadata": {},
   "outputs": [],
   "source": [
    "class audi(car): ## We passed the previos class car into audi class so we can acess all methods inside the car class with audi class\n",
    "    def __init__(self,windows,doors,enginetype,enableai):\n",
    "        super().__init__(windows,doors,enginetype)\n",
    "        self.enableai=enableai\n",
    "    def selfdrive(self):\n",
    "        print('audi support self driving')"
   ]
  },
  {
   "cell_type": "code",
   "execution_count": 62,
   "id": "5a0bfc20-693a-4a8f-889a-1f7260fa8fab",
   "metadata": {},
   "outputs": [],
   "source": [
    "audi1=audi(5,5,'desil',True)"
   ]
  },
  {
   "cell_type": "code",
   "execution_count": 63,
   "id": "01623f08-f308-4c89-957e-41fbb058aab3",
   "metadata": {},
   "outputs": [
    {
     "data": {
      "text/plain": [
       "['__class__',\n",
       " '__delattr__',\n",
       " '__dict__',\n",
       " '__dir__',\n",
       " '__doc__',\n",
       " '__eq__',\n",
       " '__format__',\n",
       " '__ge__',\n",
       " '__getattribute__',\n",
       " '__gt__',\n",
       " '__hash__',\n",
       " '__init__',\n",
       " '__init_subclass__',\n",
       " '__le__',\n",
       " '__lt__',\n",
       " '__module__',\n",
       " '__ne__',\n",
       " '__new__',\n",
       " '__reduce__',\n",
       " '__reduce_ex__',\n",
       " '__repr__',\n",
       " '__setattr__',\n",
       " '__sizeof__',\n",
       " '__str__',\n",
       " '__subclasshook__',\n",
       " '__weakref__',\n",
       " 'doors',\n",
       " 'drive',\n",
       " 'enableai',\n",
       " 'enginetype',\n",
       " 'selfdrive',\n",
       " 'windows']"
      ]
     },
     "execution_count": 63,
     "metadata": {},
     "output_type": "execute_result"
    }
   ],
   "source": [
    "dir(audi1)"
   ]
  },
  {
   "cell_type": "markdown",
   "id": "334dbf96-9a99-4ed4-97ba-42827d7acb9f",
   "metadata": {},
   "source": [
    "- As we can wsee the methods inside of the car class also showing on the audi class"
   ]
  },
  {
   "cell_type": "code",
   "execution_count": 64,
   "id": "4e0ca415-52fc-40fe-8e98-a90978555395",
   "metadata": {},
   "outputs": [
    {
     "name": "stdout",
     "output_type": "stream",
     "text": [
      "5\n",
      "5\n",
      "desil\n",
      "True\n"
     ]
    }
   ],
   "source": [
    "print(audi1.windows)\n",
    "print(audi1.doors)\n",
    "print(audi1.enginetype)\n",
    "print(audi1.enableai)"
   ]
  },
  {
   "cell_type": "markdown",
   "id": "b013f1e9-be75-4f1c-858b-07f2f8571f37",
   "metadata": {},
   "source": [
    "### Magic methods in classes\n",
    "- when we use command ```dir(class)``` w can see all the methods in that methods some are starting with the __ those methods are called as the Magic_Methods\n",
    "    - Examples:-'__class__',\n",
    "         __delattr__,\n",
    "         '__dict__',\n",
    "         '__dir__',\n",
    "         '__doc__',\n",
    "         '__eq__',\n",
    "         '__format__',\n",
    "         '__ge__',\n",
    "         '__getattribute__',\n",
    "         '__gt__',\n",
    "         '__hash__',\n",
    "         '__init__','__class__',\n",
    "         '__delattr__',\n",
    "         '__dict__',\n",
    "         '__dir__',\n",
    "         '__doc__',\n",
    "         '__eq__',\n",
    "         '__format__',\n",
    "         '__ge__',\n",
    "         '__getattribute__',\n",
    "         '__gt__',\n",
    "         '__hash__',\n",
    "         '__init__',\n",
    "- Each magic method has different use cases in method calling\n",
    "- We can overide the magic methods"
   ]
  },
  {
   "cell_type": "code",
   "execution_count": 65,
   "id": "2ca937e5-f001-4ae2-8774-9b8c9ceae2e2",
   "metadata": {},
   "outputs": [],
   "source": [
    "class car(): ## We defined a class called a car\n",
    "    def __init__(self,windows,doors,enginetype):\n",
    "        self.windows=windows\n",
    "        self.doors=doors\n",
    "        self.enginetype=enginetype\n",
    "    def __str__(self): ## previously we get message with method store lcation in memory now we get the message below\n",
    "        return 'We printing this from the __str__ magic method'\n",
    "    def __sizeof__(self): ## previously we get Size of metod inbytes\n",
    "        return 'We printing this from the __sizeof__ magic method'\n",
    "    def drive(self):\n",
    "        print(\"The person drive car\")"
   ]
  },
  {
   "cell_type": "code",
   "execution_count": 66,
   "id": "154595b2-939e-4828-9823-6503de255d72",
   "metadata": {},
   "outputs": [],
   "source": [
    "c=car(4,5,'Desiel')"
   ]
  },
  {
   "cell_type": "code",
   "execution_count": 67,
   "id": "8bab4083-1912-4510-b864-1a4d1bcf9b51",
   "metadata": {},
   "outputs": [
    {
     "data": {
      "text/plain": [
       "['__class__',\n",
       " '__delattr__',\n",
       " '__dict__',\n",
       " '__dir__',\n",
       " '__doc__',\n",
       " '__eq__',\n",
       " '__format__',\n",
       " '__ge__',\n",
       " '__getattribute__',\n",
       " '__gt__',\n",
       " '__hash__',\n",
       " '__init__',\n",
       " '__init_subclass__',\n",
       " '__le__',\n",
       " '__lt__',\n",
       " '__module__',\n",
       " '__ne__',\n",
       " '__new__',\n",
       " '__reduce__',\n",
       " '__reduce_ex__',\n",
       " '__repr__',\n",
       " '__setattr__',\n",
       " '__sizeof__',\n",
       " '__str__',\n",
       " '__subclasshook__',\n",
       " '__weakref__',\n",
       " 'doors',\n",
       " 'drive',\n",
       " 'enginetype',\n",
       " 'windows']"
      ]
     },
     "execution_count": 67,
     "metadata": {},
     "output_type": "execute_result"
    }
   ],
   "source": [
    "dir(c)"
   ]
  },
  {
   "cell_type": "code",
   "execution_count": 68,
   "id": "3583ece1-d0a8-4e80-b0b0-535cd2abc22f",
   "metadata": {},
   "outputs": [
    {
     "name": "stdout",
     "output_type": "stream",
     "text": [
      "We printing this from the __str__ magic method\n"
     ]
    }
   ],
   "source": [
    "print(c)"
   ]
  },
  {
   "cell_type": "code",
   "execution_count": 69,
   "id": "a9cc0d1f-f6dc-4f31-94d8-964636ec320c",
   "metadata": {},
   "outputs": [
    {
     "data": {
      "text/plain": [
       "'We printing this from the __sizeof__ magic method'"
      ]
     },
     "execution_count": 69,
     "metadata": {},
     "output_type": "execute_result"
    }
   ],
   "source": [
    "c.__sizeof__()"
   ]
  },
  {
   "cell_type": "markdown",
   "id": "abee3c73-df43-40d9-afb8-6ba9e1b7fd59",
   "metadata": {
    "tags": []
   },
   "source": [
    "## Python Assert\n",
    "- python provides the assert statement to check if the given logical expression is true or false.\n",
    "    - if we give 10>=10\n",
    "        - it will return true as a result \n",
    "        - when it was not satisfied the logical expression it will give raisses an ```AssertionError```\n",
    "    - as it was a logical expression\n",
    "- this is same as the execption handling \n",
    "- program execution proceeds only if the expression is true and raises the AssertionError when it is false. The follwing code shows the usage of the assert statement\n",
    "\n",
    "#### in below example we given an togical expression to check the input is even or odd if the given value is even it will continue with code flow if it is wrong it raises an AssertionError and with try catch block we can catch that error and return another function"
   ]
  },
  {
   "cell_type": "code",
   "execution_count": 70,
   "id": "106cbe23-a6c0-47be-a4d8-687e1803e1e1",
   "metadata": {},
   "outputs": [
    {
     "ename": "AssertionError",
     "evalue": "",
     "output_type": "error",
     "traceback": [
      "\u001b[1;31m---------------------------------------------------------------------------\u001b[0m",
      "\u001b[1;31mAssertionError\u001b[0m                            Traceback (most recent call last)",
      "\u001b[1;32m~\\AppData\\Local\\Temp/ipykernel_11324/365550704.py\u001b[0m in \u001b[0;36m<module>\u001b[1;34m\u001b[0m\n\u001b[0;32m      1\u001b[0m \u001b[0mnum\u001b[0m\u001b[1;33m=\u001b[0m\u001b[1;36m10\u001b[0m\u001b[1;33m\u001b[0m\u001b[1;33m\u001b[0m\u001b[0m\n\u001b[1;32m----> 2\u001b[1;33m \u001b[1;32massert\u001b[0m \u001b[0mnum\u001b[0m\u001b[1;33m>=\u001b[0m\u001b[1;36m16\u001b[0m\u001b[1;33m\u001b[0m\u001b[1;33m\u001b[0m\u001b[0m\n\u001b[0m\u001b[0;32m      3\u001b[0m \u001b[0mprint\u001b[0m\u001b[1;33m(\u001b[0m\u001b[1;34m'success'\u001b[0m\u001b[1;33m)\u001b[0m\u001b[1;33m\u001b[0m\u001b[1;33m\u001b[0m\u001b[0m\n",
      "\u001b[1;31mAssertionError\u001b[0m: "
     ]
    }
   ],
   "source": [
    "num=10\n",
    "assert num>=16\n",
    "print('success')"
   ]
  },
  {
   "cell_type": "code",
   "execution_count": 71,
   "id": "40ca1801-6853-47ba-b5e2-e8455bf29426",
   "metadata": {},
   "outputs": [
    {
     "name": "stdin",
     "output_type": "stream",
     "text": [
      "Enter a number 5\n"
     ]
    },
    {
     "name": "stdout",
     "output_type": "stream",
     "text": [
      "Please enter even Number\n"
     ]
    }
   ],
   "source": [
    "try:\n",
    "    num=int(input('Enter a number'))\n",
    "    assert num%2==0 \n",
    "    print('number is even')\n",
    "except AssertionError:\n",
    "    print('Please enter even Number')    "
   ]
  },
  {
   "cell_type": "markdown",
   "id": "3c707e8f-c7c3-4bc0-be2c-9bf843f2118c",
   "metadata": {},
   "source": [
    "## Iterator vs Genrator\n",
    "- #### Iterator ( itrable )\n",
    "    - itterators are bunch of collections which which can be go through one by one\n",
    "    - Example\n",
    "        - lists, Dicts, Sets, etc \n",
    "            - we can go through each element in those dataTypes\n",
    "    - We can make a iterator by using iter() keyword\n",
    "    - #### When we use this iterator this will store the data into the memory and it get the data only whenwe call it as it uses the less memory when compared with list\n",
    "    - iterator will uses much more efficient\n",
    "    \n",
    "    \n",
    "    - we can use this itrator to iterator\n",
    "    - Example \n",
    "        - iter(k)\n",
    "    - once we will cess the data it will erase from the memory\n",
    "    - we can only acess the data once \n",
    "        - to acess the data we can use for loop or next(iterator) keyword to go through each element in the iterator\n",
    "        - in next(iterator) when we access all elements in the iterato it will through an execption as `StopIteration` \n",
    "        - but in for loop the error will handled and exits the for loop\n",
    "    \n",
    "- #### Generator\n",
    "    - generator is used to generate a iterator object \n",
    "    - to create a generator we use function along with yield() keyword\n",
    "    - the yield keyword will save local variables inside a iterator\n",
    "    - generator let us write fast and compact code"
   ]
  },
  {
   "cell_type": "code",
   "execution_count": 13,
   "id": "5bc5dd93-a57f-4eaf-be4f-6a4a0a3e8cee",
   "metadata": {},
   "outputs": [],
   "source": [
    "#Iteretor\n",
    "lst=[3,4,5,7,3,1,5,7,4,2,2]"
   ]
  },
  {
   "cell_type": "code",
   "execution_count": 14,
   "id": "118d427f-e652-473d-8a28-2514aa71b8bd",
   "metadata": {
    "tags": []
   },
   "outputs": [
    {
     "name": "stdout",
     "output_type": "stream",
     "text": [
      "34573157422"
     ]
    }
   ],
   "source": [
    "for i in lst:\n",
    "    print(i, end=\"\")"
   ]
  },
  {
   "cell_type": "code",
   "execution_count": 47,
   "id": "dca19174-a874-4597-975b-9d47938c7f35",
   "metadata": {},
   "outputs": [],
   "source": [
    "iterator=iter(lst)"
   ]
  },
  {
   "cell_type": "code",
   "execution_count": 46,
   "id": "34d6ebee-2b01-45a8-afcb-2ee51335b46d",
   "metadata": {},
   "outputs": [],
   "source": [
    "for k in iterator:\n",
    "    print(k)"
   ]
  },
  {
   "cell_type": "code",
   "execution_count": 31,
   "id": "53f81dd8-590b-44ef-b70f-0ac422cc9e65",
   "metadata": {},
   "outputs": [
    {
     "ename": "StopIteration",
     "evalue": "",
     "output_type": "error",
     "traceback": [
      "\u001b[1;31m---------------------------------------------------------------------------\u001b[0m",
      "\u001b[1;31mStopIteration\u001b[0m                             Traceback (most recent call last)",
      "\u001b[1;32m~\\AppData\\Local\\Temp/ipykernel_23648/4235178104.py\u001b[0m in \u001b[0;36m<module>\u001b[1;34m\u001b[0m\n\u001b[1;32m----> 1\u001b[1;33m \u001b[0mnext\u001b[0m\u001b[1;33m(\u001b[0m\u001b[0miterator\u001b[0m\u001b[1;33m)\u001b[0m\u001b[1;33m\u001b[0m\u001b[1;33m\u001b[0m\u001b[0m\n\u001b[0m",
      "\u001b[1;31mStopIteration\u001b[0m: "
     ]
    }
   ],
   "source": [
    "next(iterator)"
   ]
  },
  {
   "cell_type": "code",
   "execution_count": 42,
   "id": "a5dcf6a4-5d4b-4172-b608-593f5b005303",
   "metadata": {},
   "outputs": [],
   "source": [
    "#Generator\n",
    "def square(n):\n",
    "    for i in range(n):\n",
    "        #return i**2 #it will gives the first vakue as 0\n",
    "        yield i**2 # it will gives the iterator object with all values from the loop"
   ]
  },
  {
   "cell_type": "code",
   "execution_count": 44,
   "id": "f9b52c7a-397b-4d62-a1b1-42e9966be928",
   "metadata": {},
   "outputs": [],
   "source": [
    "g=square(3)"
   ]
  },
  {
   "cell_type": "code",
   "execution_count": 45,
   "id": "ce1950b6-7139-4c16-bad5-b89c8f09ed5f",
   "metadata": {},
   "outputs": [
    {
     "name": "stdout",
     "output_type": "stream",
     "text": [
      "014"
     ]
    }
   ],
   "source": [
    "for i in g:\n",
    "    print(i,end=\"\")"
   ]
  },
  {
   "cell_type": "markdown",
   "id": "3f4b9ac8-0982-463d-bd33-ad36c0166408",
   "metadata": {},
   "source": [
    "## Python Decoretors\n",
    "- ### Function copy\n",
    "    - function copy said when we return value from the function and store it into the variable\n",
    "    - so it will acessable even after deleting the fuction\n",
    "- ### closures\n",
    "    - Whenever we called a function inside a function that willbe called as a closures function\n",
    "    - when we use functions inside a function we can use variable in all sub functions as it was closeres\n",
    "- ### decorators\n",
    "    - Decorator are called when we call one function from another function nd we are pssing a function as a parameter to the function"
   ]
  },
  {
   "cell_type": "code",
   "execution_count": 60,
   "id": "919aaceb-41c3-44d1-a353-faf97c1c57f7",
   "metadata": {},
   "outputs": [],
   "source": [
    "## Function copy\n",
    "def welcome():\n",
    "    return \"Welcome\""
   ]
  },
  {
   "cell_type": "code",
   "execution_count": 59,
   "id": "fc58bdb5-3b2c-4f6c-ba5c-21419bbde0de",
   "metadata": {},
   "outputs": [
    {
     "ename": "NameError",
     "evalue": "name 'welcome' is not defined",
     "output_type": "error",
     "traceback": [
      "\u001b[1;31m---------------------------------------------------------------------------\u001b[0m",
      "\u001b[1;31mNameError\u001b[0m                                 Traceback (most recent call last)",
      "\u001b[1;32m~\\AppData\\Local\\Temp/ipykernel_23648/3428405491.py\u001b[0m in \u001b[0;36m<module>\u001b[1;34m\u001b[0m\n\u001b[1;32m----> 1\u001b[1;33m \u001b[0mkl\u001b[0m\u001b[1;33m=\u001b[0m\u001b[0mwelcome\u001b[0m\u001b[1;33m(\u001b[0m\u001b[1;33m)\u001b[0m\u001b[1;33m\u001b[0m\u001b[1;33m\u001b[0m\u001b[0m\n\u001b[0m",
      "\u001b[1;31mNameError\u001b[0m: name 'welcome' is not defined"
     ]
    }
   ],
   "source": [
    "kl=welcome()"
   ]
  },
  {
   "cell_type": "code",
   "execution_count": 55,
   "id": "e81df04c-b742-47e7-8ba7-7fa9fa90dbb7",
   "metadata": {},
   "outputs": [
    {
     "data": {
      "text/plain": [
       "'Welcome'"
      ]
     },
     "execution_count": 55,
     "metadata": {},
     "output_type": "execute_result"
    }
   ],
   "source": [
    "kl"
   ]
  },
  {
   "cell_type": "code",
   "execution_count": 57,
   "id": "d59959d2-7a26-48b4-af6c-2c3fbacbebba",
   "metadata": {},
   "outputs": [],
   "source": [
    "del welcome # we deleted the function"
   ]
  },
  {
   "cell_type": "code",
   "execution_count": 61,
   "id": "a64e4ca8-dab8-4601-aefb-b1989924f955",
   "metadata": {},
   "outputs": [
    {
     "data": {
      "text/plain": [
       "'Welcome'"
      ]
     },
     "execution_count": 61,
     "metadata": {},
     "output_type": "execute_result"
    }
   ],
   "source": [
    "kl # Even as we deleted the function we aregetting the value because \n",
    "    # we saved the valuere turned from the function inside of a variable"
   ]
  },
  {
   "cell_type": "code",
   "execution_count": 75,
   "id": "3f470869-e885-4fc7-afd6-4e352c2806c8",
   "metadata": {},
   "outputs": [],
   "source": [
    "### Closures\n",
    "def main_welcome(msg):\n",
    "    k=50\n",
    "    def sub_welcome():\n",
    "        print('Welcome to krish naik')\n",
    "        print(msg)\n",
    "        print('lern new things')\n",
    "        def test():\n",
    "            print(msg)\n",
    "            print(k)\n",
    "        return test()\n",
    "    return sub_welcome()"
   ]
  },
  {
   "cell_type": "code",
   "execution_count": 76,
   "id": "675ca3e6-b9eb-4afd-85bc-3eaa93b98576",
   "metadata": {},
   "outputs": [
    {
     "name": "stdout",
     "output_type": "stream",
     "text": [
      "Welcome to krish naik\n",
      "krish\n",
      "lern new things\n",
      "krish\n",
      "50\n"
     ]
    }
   ],
   "source": [
    "main_welcome('krish')"
   ]
  },
  {
   "cell_type": "code",
   "execution_count": 20,
   "id": "0a98c610-b49f-4965-9e86-0fc434155963",
   "metadata": {},
   "outputs": [],
   "source": [
    "## Closeures and decorators\n",
    "### Closures\n",
    "\n",
    "# inside a function we can give another function\n",
    "def main_welcome(func):# in function calling print in the paremater input the print \n",
    "                       # function will replace by func that we passed inside a function\n",
    "    def sub_welcome():\n",
    "        print('Welcome to krish naik')\n",
    "        print(func()) # as we called hereit will reflectas print and prin the statement\n",
    "        print('lern new things')\n",
    "    return sub_welcome()"
   ]
  },
  {
   "cell_type": "code",
   "execution_count": 21,
   "id": "cc2ca5bc-6b1b-43b6-b270-d48d1ede8745",
   "metadata": {},
   "outputs": [
    {
     "name": "stdout",
     "output_type": "stream",
     "text": [
      "Welcome to krish naik\n",
      "this is crishnaik yt chalnnel\n",
      "None\n",
      "lern new things\n"
     ]
    }
   ],
   "source": [
    "main_welcome(channel_name)# in here what ever function that we are passing \n",
    "                   # inside a peranthasis it will reflect on the inside function of function"
   ]
  },
  {
   "cell_type": "code",
   "execution_count": 23,
   "id": "6110b1fd-3a76-4aff-8b6a-b75e721befe3",
   "metadata": {},
   "outputs": [
    {
     "name": "stdout",
     "output_type": "stream",
     "text": [
      "Welcome to krish naik\n",
      "this is crishnaik yt chalnnel\n",
      "None\n",
      "lern new things\n"
     ]
    }
   ],
   "source": [
    "@main_welcome\n",
    "def channel_name():\n",
    "    print(\"this is crishnaik yt chalnnel\")"
   ]
  },
  {
   "cell_type": "code",
   "execution_count": 28,
   "id": "3e88715e-0483-46b6-a0b7-20468119ec4a",
   "metadata": {},
   "outputs": [
    {
     "name": "stdout",
     "output_type": "stream",
     "text": [
      "Welcome to krish naik\n",
      "tehbd f\n",
      "None\n",
      "lern new things\n"
     ]
    }
   ],
   "source": [
    "@main_welcome ## this @main_welcome decorator takes the below function and pass the function as permeter to the main_welcom function\n",
    "def channel_name():\n",
    "    print('tehbd f')"
   ]
  },
  {
   "cell_type": "markdown",
   "id": "a154edb4-e8f5-439b-934d-cc760b6d4148",
   "metadata": {},
   "source": [
    "## is vs == keywords\n",
    "- ### `is`\n",
    "    - is keyword will compare the values of two elements and also where it was stored in memory (Location)\n",
    "- ### `==`\n",
    "    - == keyword will compare only the values stored inside of the variable"
   ]
  },
  {
   "cell_type": "code",
   "execution_count": 33,
   "id": "44689654-0c5a-478e-8b64-c6337d82ec6e",
   "metadata": {},
   "outputs": [],
   "source": [
    "lst1=['krish','krish1','kris2']\n",
    "lst2=['krish','krish1','kris2']"
   ]
  },
  {
   "cell_type": "code",
   "execution_count": 34,
   "id": "675856a8-07c5-4ffe-88c7-9da68118bf54",
   "metadata": {},
   "outputs": [
    {
     "data": {
      "text/plain": [
       "True"
      ]
     },
     "execution_count": 34,
     "metadata": {},
     "output_type": "execute_result"
    }
   ],
   "source": [
    "lst1==lst2"
   ]
  },
  {
   "cell_type": "code",
   "execution_count": 35,
   "id": "8bea872c-25e6-4c8c-8a82-41d8b58d6a1e",
   "metadata": {},
   "outputs": [
    {
     "data": {
      "text/plain": [
       "True"
      ]
     },
     "execution_count": 35,
     "metadata": {},
     "output_type": "execute_result"
    }
   ],
   "source": [
    "a='krish'\n",
    "b='krish'\n",
    "a==b"
   ]
  },
  {
   "cell_type": "code",
   "execution_count": 37,
   "id": "a4ea4c23-ef9d-4795-ab88-581ec09f40d0",
   "metadata": {},
   "outputs": [
    {
     "data": {
      "text/plain": [
       "True"
      ]
     },
     "execution_count": 37,
     "metadata": {},
     "output_type": "execute_result"
    }
   ],
   "source": [
    "lst1=['krish','krish1','kris2']\n",
    "lst2=lst1\n",
    "lst1 is lst2"
   ]
  },
  {
   "cell_type": "code",
   "execution_count": 38,
   "id": "929a64fc-4e4c-4ba5-94d1-b2a8f0e13b4e",
   "metadata": {},
   "outputs": [
    {
     "data": {
      "text/plain": [
       "True"
      ]
     },
     "execution_count": 38,
     "metadata": {},
     "output_type": "execute_result"
    }
   ],
   "source": [
    "lst2 is lst1"
   ]
  },
  {
   "cell_type": "markdown",
   "id": "883ebf2c-a477-404d-a91b-838f08bb9d25",
   "metadata": {
    "tags": []
   },
   "source": [
    "## Shallow copy vs Deep copy\n",
    "- ### Shallow copy\n",
    "    - in here we are refering to the list that was stored in one memory location with the two variables \n",
    "        - so if we change lst2 it will reflect on the lst1\n",
    "        - this is called as Shllow copy\n",
    "        - it is done by using variable.copy()\n",
    "    - in single dimention shallow copy is good\n",
    "    - but in nested lists shallow copy wont work\n",
    "- ### Deep copy\n",
    "    - in deep copy the data is written in the different memory location \n",
    "    - the deep copy is done by using the module `copy` with `copy.deepcopy(lst1)` variable\n",
    "    - it will work fine for nested and mormal objects"
   ]
  },
  {
   "cell_type": "code",
   "execution_count": 40,
   "id": "5c9a8cd5-e6cc-4207-a376-2c486bc990fd",
   "metadata": {},
   "outputs": [],
   "source": [
    "\n",
    "lst1=[1,2,3,4]\n",
    "lst2=lst1"
   ]
  },
  {
   "cell_type": "code",
   "execution_count": 56,
   "id": "d810def3-e932-4d28-bce8-a4212a23584b",
   "metadata": {},
   "outputs": [],
   "source": [
    "# Shallow copy\n",
    "lst1=[1,2,3,4]\n",
    "lst2=lst1.copy() \n",
    "# this method will not work with the nested objects as they are refereing to the same objects once copied"
   ]
  },
  {
   "cell_type": "code",
   "execution_count": 43,
   "id": "ff978653-4169-476f-ba14-f0c484d2a000",
   "metadata": {},
   "outputs": [],
   "source": [
    "lst2[2]=4"
   ]
  },
  {
   "cell_type": "code",
   "execution_count": 46,
   "id": "dd2bcf6c-c4b2-4a4b-8caa-ced433c34df7",
   "metadata": {},
   "outputs": [
    {
     "data": {
      "text/plain": [
       "([1, 2, 4, 4], [1, 2, 3, 4])"
      ]
     },
     "execution_count": 46,
     "metadata": {},
     "output_type": "execute_result"
    }
   ],
   "source": [
    "lst2, lst1"
   ]
  },
  {
   "cell_type": "code",
   "execution_count": 53,
   "id": "2f69b5a2-9e60-4c79-86ab-7a8f4e1dfd3d",
   "metadata": {},
   "outputs": [],
   "source": [
    "lst1=[[4,1,3,5],[0,8,5,32]]\n",
    "lst2=lst1.copy()"
   ]
  },
  {
   "cell_type": "code",
   "execution_count": 54,
   "id": "40e9df39-9419-4f53-8943-cf46f7996b80",
   "metadata": {},
   "outputs": [],
   "source": [
    "lst2[0][3]=100"
   ]
  },
  {
   "cell_type": "code",
   "execution_count": 55,
   "id": "94768fcb-c20b-42c7-a03c-b6a66c612b6a",
   "metadata": {},
   "outputs": [
    {
     "data": {
      "text/plain": [
       "([[4, 1, 3, 100], [0, 8, 5, 32]], [[4, 1, 3, 100], [0, 8, 5, 32]])"
      ]
     },
     "execution_count": 55,
     "metadata": {},
     "output_type": "execute_result"
    }
   ],
   "source": [
    "lst2,lst1"
   ]
  },
  {
   "cell_type": "code",
   "execution_count": 57,
   "id": "104ceebe-b46e-4bdc-92fe-bc8f81bdaeb4",
   "metadata": {},
   "outputs": [],
   "source": [
    "lst1.append([6,3,9,2])"
   ]
  },
  {
   "cell_type": "code",
   "execution_count": 58,
   "id": "c3bda09e-ad42-4d0a-9430-ea187009ed2e",
   "metadata": {},
   "outputs": [
    {
     "data": {
      "text/plain": [
       "([1, 2, 3, 4], [1, 2, 3, 4, [6, 3, 9, 2]])"
      ]
     },
     "execution_count": 58,
     "metadata": {},
     "output_type": "execute_result"
    }
   ],
   "source": [
    "lst2,lst1"
   ]
  },
  {
   "cell_type": "code",
   "execution_count": 59,
   "id": "f9288a13-e627-4d7d-b9fa-3a2ed61f40f9",
   "metadata": {},
   "outputs": [],
   "source": [
    "## Deep copy\n",
    "import copy"
   ]
  },
  {
   "cell_type": "code",
   "execution_count": 60,
   "id": "b6cc379a-67c7-4b2e-84a1-bb46e8a96347",
   "metadata": {},
   "outputs": [],
   "source": [
    "lst1=[1,2,3,4,3]\n",
    "lst2=copy.deepcopy(lst1)"
   ]
  },
  {
   "cell_type": "code",
   "execution_count": 61,
   "id": "852eda72-9fa5-4380-b6e8-1476c43cd114",
   "metadata": {},
   "outputs": [
    {
     "data": {
      "text/plain": [
       "([1, 2, 3, 4, 3], [1, 2, 3, 4, 3])"
      ]
     },
     "execution_count": 61,
     "metadata": {},
     "output_type": "execute_result"
    }
   ],
   "source": [
    "lst1,lst2"
   ]
  },
  {
   "cell_type": "code",
   "execution_count": 62,
   "id": "374ecd6c-60ce-479a-a14b-fa4f5472f139",
   "metadata": {},
   "outputs": [],
   "source": [
    "lst2[1]=1000"
   ]
  },
  {
   "cell_type": "code",
   "execution_count": 63,
   "id": "d05ba99f-6564-48d9-8bb2-5706b275f3de",
   "metadata": {},
   "outputs": [
    {
     "data": {
      "text/plain": [
       "([1, 2, 3, 4, 3], [1, 1000, 3, 4, 3])"
      ]
     },
     "execution_count": 63,
     "metadata": {},
     "output_type": "execute_result"
    }
   ],
   "source": [
    "lst1,lst2"
   ]
  },
  {
   "cell_type": "markdown",
   "id": "43c4779f-2d42-47bc-a655-9ad9609180c1",
   "metadata": {},
   "source": [
    " "
   ]
  },
  {
   "cell_type": "markdown",
   "id": "676a818a-e4ae-4de1-875a-49af4cc4ebc1",
   "metadata": {},
   "source": [
    "## Speeding pandas\n",
    "- this will improve the running speed of the pandas import module\n",
    "- pandas was slow when we compared with the numpy as the numpy was compiled with Cpython \n",
    "    - Cpython was a combination of the C and python language \n",
    "    - but in pandas it was compiled using only the python language\n",
    "- ### We have a module named modin which improves the speed of the python \n",
    "- nativily pandas run on single CPU core \n",
    "- Modin splits the pandas execution to the all CPU core so it will increases the speed of the pandas"
   ]
  },
  {
   "cell_type": "code",
   "execution_count": 1,
   "id": "466c618b-efe3-4f28-b83f-8c963885f1a0",
   "metadata": {
    "scrolled": true,
    "tags": []
   },
   "outputs": [
    {
     "name": "stdout",
     "output_type": "stream",
     "text": [
      "Collecting modin\n",
      "  Downloading modin-0.15.2-py3-none-any.whl (868 kB)\n",
      "     -------------------------------------- 868.9/868.9 kB 3.4 MB/s eta 0:00:00\n",
      "Requirement already satisfied: numpy>=1.18.5 in c:\\users\\vnaga\\anaconda3\\lib\\site-packages (from modin) (1.20.3)\n",
      "Collecting pandas==1.4.3\n",
      "  Downloading pandas-1.4.3-cp39-cp39-win_amd64.whl (10.6 MB)\n",
      "     ---------------------------------------- 10.6/10.6 MB 5.7 MB/s eta 0:00:00\n",
      "Requirement already satisfied: packaging in c:\\users\\vnaga\\anaconda3\\lib\\site-packages (from modin) (21.0)\n",
      "Requirement already satisfied: psutil in c:\\users\\vnaga\\anaconda3\\lib\\site-packages (from modin) (5.8.0)\n",
      "Requirement already satisfied: fsspec in c:\\users\\vnaga\\anaconda3\\lib\\site-packages (from modin) (2021.10.1)\n",
      "Requirement already satisfied: python-dateutil>=2.8.1 in c:\\users\\vnaga\\anaconda3\\lib\\site-packages (from pandas==1.4.3->modin) (2.8.2)\n",
      "Requirement already satisfied: pytz>=2020.1 in c:\\users\\vnaga\\anaconda3\\lib\\site-packages (from pandas==1.4.3->modin) (2021.3)\n",
      "Requirement already satisfied: pyparsing>=2.0.2 in c:\\users\\vnaga\\anaconda3\\lib\\site-packages (from packaging->modin) (3.0.4)\n",
      "Requirement already satisfied: six>=1.5 in c:\\users\\vnaga\\anaconda3\\lib\\site-packages (from python-dateutil>=2.8.1->pandas==1.4.3->modin) (1.16.0)\n",
      "Installing collected packages: pandas, modin\n",
      "  Attempting uninstall: pandas\n",
      "    Found existing installation: pandas 1.3.4\n",
      "    Uninstalling pandas-1.3.4:\n",
      "      Successfully uninstalled pandas-1.3.4\n",
      "Successfully installed modin-0.15.2 pandas-1.4.3\n"
     ]
    },
    {
     "name": "stderr",
     "output_type": "stream",
     "text": [
      "ERROR: Invalid requirement: '#'\n",
      "ERROR: Invalid requirement: '#'\n"
     ]
    }
   ],
   "source": [
    "#to install modin use pip\n",
    "!pip install modin\n",
    "# After installing moding, we have to install modin dependecys\n",
    "# We can use Dask or Ray to run pandason it. \n",
    "# Dask Ray are python modules which helps the python to improve parllel procesing of python\n",
    "# We can us eeither one dask or ray torun parllel process"
   ]
  },
  {
   "cell_type": "code",
   "execution_count": 2,
   "id": "35dccaf3-01ac-4db8-ac3c-ac1431c006d9",
   "metadata": {
    "scrolled": true,
    "tags": []
   },
   "outputs": [
    {
     "name": "stdout",
     "output_type": "stream",
     "text": [
      "Requirement already satisfied: modin[dask] in c:\\users\\vnaga\\anaconda3\\lib\\site-packages (0.15.2)\n",
      "Requirement already satisfied: numpy>=1.18.5 in c:\\users\\vnaga\\anaconda3\\lib\\site-packages (from modin[dask]) (1.20.3)\n",
      "Requirement already satisfied: packaging in c:\\users\\vnaga\\anaconda3\\lib\\site-packages (from modin[dask]) (21.0)\n",
      "Requirement already satisfied: pandas==1.4.3 in c:\\users\\vnaga\\anaconda3\\lib\\site-packages (from modin[dask]) (1.4.3)\n",
      "Requirement already satisfied: psutil in c:\\users\\vnaga\\anaconda3\\lib\\site-packages (from modin[dask]) (5.8.0)\n",
      "Requirement already satisfied: fsspec in c:\\users\\vnaga\\anaconda3\\lib\\site-packages (from modin[dask]) (2021.10.1)\n",
      "Requirement already satisfied: distributed<2022.2.0,>=2.22.0 in c:\\users\\vnaga\\anaconda3\\lib\\site-packages (from modin[dask]) (2021.10.0)\n",
      "Requirement already satisfied: dask<2022.2.0,>=2.22.0 in c:\\users\\vnaga\\anaconda3\\lib\\site-packages (from modin[dask]) (2021.10.0)\n",
      "Requirement already satisfied: pytz>=2020.1 in c:\\users\\vnaga\\anaconda3\\lib\\site-packages (from pandas==1.4.3->modin[dask]) (2021.3)\n",
      "Requirement already satisfied: python-dateutil>=2.8.1 in c:\\users\\vnaga\\anaconda3\\lib\\site-packages (from pandas==1.4.3->modin[dask]) (2.8.2)\n",
      "Requirement already satisfied: cloudpickle>=1.1.1 in c:\\users\\vnaga\\anaconda3\\lib\\site-packages (from dask<2022.2.0,>=2.22.0->modin[dask]) (2.0.0)\n",
      "Requirement already satisfied: partd>=0.3.10 in c:\\users\\vnaga\\anaconda3\\lib\\site-packages (from dask<2022.2.0,>=2.22.0->modin[dask]) (1.2.0)\n",
      "Requirement already satisfied: pyyaml in c:\\users\\vnaga\\anaconda3\\lib\\site-packages (from dask<2022.2.0,>=2.22.0->modin[dask]) (6.0)\n",
      "Requirement already satisfied: toolz>=0.8.2 in c:\\users\\vnaga\\anaconda3\\lib\\site-packages (from dask<2022.2.0,>=2.22.0->modin[dask]) (0.11.1)\n",
      "Requirement already satisfied: click>=6.6 in c:\\users\\vnaga\\anaconda3\\lib\\site-packages (from distributed<2022.2.0,>=2.22.0->modin[dask]) (8.0.3)\n",
      "Requirement already satisfied: zict>=0.1.3 in c:\\users\\vnaga\\anaconda3\\lib\\site-packages (from distributed<2022.2.0,>=2.22.0->modin[dask]) (2.0.0)\n",
      "Requirement already satisfied: sortedcontainers!=2.0.0,!=2.0.1 in c:\\users\\vnaga\\anaconda3\\lib\\site-packages (from distributed<2022.2.0,>=2.22.0->modin[dask]) (2.4.0)\n",
      "Requirement already satisfied: tornado>=6.0.3 in c:\\users\\vnaga\\anaconda3\\lib\\site-packages (from distributed<2022.2.0,>=2.22.0->modin[dask]) (6.1)\n",
      "Requirement already satisfied: jinja2 in c:\\users\\vnaga\\anaconda3\\lib\\site-packages (from distributed<2022.2.0,>=2.22.0->modin[dask]) (2.11.3)\n",
      "Requirement already satisfied: setuptools in c:\\users\\vnaga\\anaconda3\\lib\\site-packages (from distributed<2022.2.0,>=2.22.0->modin[dask]) (58.0.4)\n",
      "Requirement already satisfied: tblib>=1.6.0 in c:\\users\\vnaga\\anaconda3\\lib\\site-packages (from distributed<2022.2.0,>=2.22.0->modin[dask]) (1.7.0)\n",
      "Requirement already satisfied: msgpack>=0.6.0 in c:\\users\\vnaga\\anaconda3\\lib\\site-packages (from distributed<2022.2.0,>=2.22.0->modin[dask]) (1.0.2)\n",
      "Requirement already satisfied: pyparsing>=2.0.2 in c:\\users\\vnaga\\anaconda3\\lib\\site-packages (from packaging->modin[dask]) (3.0.4)\n",
      "Requirement already satisfied: colorama in c:\\users\\vnaga\\anaconda3\\lib\\site-packages (from click>=6.6->distributed<2022.2.0,>=2.22.0->modin[dask]) (0.4.4)\n",
      "Requirement already satisfied: locket in c:\\users\\vnaga\\anaconda3\\lib\\site-packages\\locket-0.2.1-py3.9.egg (from partd>=0.3.10->dask<2022.2.0,>=2.22.0->modin[dask]) (0.2.1)\n",
      "Requirement already satisfied: six>=1.5 in c:\\users\\vnaga\\anaconda3\\lib\\site-packages (from python-dateutil>=2.8.1->pandas==1.4.3->modin[dask]) (1.16.0)\n",
      "Requirement already satisfied: heapdict in c:\\users\\vnaga\\anaconda3\\lib\\site-packages (from zict>=0.1.3->distributed<2022.2.0,>=2.22.0->modin[dask]) (1.0.1)\n",
      "Requirement already satisfied: MarkupSafe>=0.23 in c:\\users\\vnaga\\anaconda3\\lib\\site-packages (from jinja2->distributed<2022.2.0,>=2.22.0->modin[dask]) (1.1.1)\n"
     ]
    }
   ],
   "source": [
    "!pip install \"modin[dask]\""
   ]
  },
  {
   "cell_type": "code",
   "execution_count": 3,
   "id": "090ffdfe-8207-4c04-8946-b5bacfdececa",
   "metadata": {
    "scrolled": true,
    "tags": []
   },
   "outputs": [
    {
     "name": "stdout",
     "output_type": "stream",
     "text": [
      "Requirement already satisfied: modin[all] in c:\\users\\vnaga\\anaconda3\\lib\\site-packages (0.15.2)\n",
      "Requirement already satisfied: packaging in c:\\users\\vnaga\\anaconda3\\lib\\site-packages (from modin[all]) (21.0)\n",
      "Requirement already satisfied: psutil in c:\\users\\vnaga\\anaconda3\\lib\\site-packages (from modin[all]) (5.8.0)\n",
      "Requirement already satisfied: numpy>=1.18.5 in c:\\users\\vnaga\\anaconda3\\lib\\site-packages (from modin[all]) (1.20.3)\n",
      "Requirement already satisfied: pandas==1.4.3 in c:\\users\\vnaga\\anaconda3\\lib\\site-packages (from modin[all]) (1.4.3)\n",
      "Requirement already satisfied: fsspec in c:\\users\\vnaga\\anaconda3\\lib\\site-packages (from modin[all]) (2021.10.1)\n",
      "Collecting protobuf<4.0.0\n",
      "  Downloading protobuf-3.20.1-cp39-cp39-win_amd64.whl (904 kB)\n",
      "     -------------------------------------- 904.1/904.1 kB 1.7 MB/s eta 0:00:00\n",
      "Collecting modin-spreadsheet>=0.1.0\n",
      "  Downloading modin_spreadsheet-0.1.2-py2.py3-none-any.whl (1.8 MB)\n",
      "     ---------------------------------------- 1.8/1.8 MB 2.6 MB/s eta 0:00:00\n",
      "Collecting rpyc==4.1.5\n",
      "  Downloading rpyc-4.1.5-py3-none-any.whl (68 kB)\n",
      "     ---------------------------------------- 68.9/68.9 kB 1.9 MB/s eta 0:00:00\n",
      "Requirement already satisfied: distributed<2022.2.0,>=2.22.0 in c:\\users\\vnaga\\anaconda3\\lib\\site-packages (from modin[all]) (2021.10.0)\n",
      "Requirement already satisfied: dask<2022.2.0,>=2.22.0 in c:\\users\\vnaga\\anaconda3\\lib\\site-packages (from modin[all]) (2021.10.0)\n",
      "Collecting ray[default]<1.13.0,>=1.4.0\n",
      "  Downloading ray-1.12.1-cp39-cp39-win_amd64.whl (19.8 MB)\n",
      "     ---------------------------------------- 19.8/19.8 MB 5.1 MB/s eta 0:00:00\n",
      "Collecting boto3\n",
      "  Downloading boto3-1.24.36-py3-none-any.whl (132 kB)\n",
      "     -------------------------------------- 132.5/132.5 kB 7.6 MB/s eta 0:00:00\n",
      "Collecting redis<4.0.0,>=3.5.0\n",
      "  Downloading redis-3.5.3-py2.py3-none-any.whl (72 kB)\n",
      "     ---------------------------------------- 72.1/72.1 kB ? eta 0:00:00\n",
      "Requirement already satisfied: cloudpickle in c:\\users\\vnaga\\anaconda3\\lib\\site-packages (from modin[all]) (2.0.0)\n",
      "Collecting pyarrow>=4.0.1\n",
      "  Downloading pyarrow-8.0.0-cp39-cp39-win_amd64.whl (17.9 MB)\n",
      "     ---------------------------------------- 17.9/17.9 MB 5.6 MB/s eta 0:00:00\n",
      "Requirement already satisfied: python-dateutil>=2.8.1 in c:\\users\\vnaga\\anaconda3\\lib\\site-packages (from pandas==1.4.3->modin[all]) (2.8.2)\n",
      "Requirement already satisfied: pytz>=2020.1 in c:\\users\\vnaga\\anaconda3\\lib\\site-packages (from pandas==1.4.3->modin[all]) (2021.3)\n",
      "Collecting plumbum\n",
      "  Downloading plumbum-1.7.2-py2.py3-none-any.whl (117 kB)\n",
      "     -------------------------------------- 117.8/117.8 kB 7.2 MB/s eta 0:00:00\n",
      "Requirement already satisfied: partd>=0.3.10 in c:\\users\\vnaga\\anaconda3\\lib\\site-packages (from dask<2022.2.0,>=2.22.0->modin[all]) (1.2.0)\n",
      "Requirement already satisfied: pyyaml in c:\\users\\vnaga\\anaconda3\\lib\\site-packages (from dask<2022.2.0,>=2.22.0->modin[all]) (6.0)\n",
      "Requirement already satisfied: toolz>=0.8.2 in c:\\users\\vnaga\\anaconda3\\lib\\site-packages (from dask<2022.2.0,>=2.22.0->modin[all]) (0.11.1)\n",
      "Requirement already satisfied: zict>=0.1.3 in c:\\users\\vnaga\\anaconda3\\lib\\site-packages (from distributed<2022.2.0,>=2.22.0->modin[all]) (2.0.0)\n",
      "Requirement already satisfied: jinja2 in c:\\users\\vnaga\\anaconda3\\lib\\site-packages (from distributed<2022.2.0,>=2.22.0->modin[all]) (2.11.3)\n",
      "Requirement already satisfied: setuptools in c:\\users\\vnaga\\anaconda3\\lib\\site-packages (from distributed<2022.2.0,>=2.22.0->modin[all]) (58.0.4)\n",
      "Requirement already satisfied: click>=6.6 in c:\\users\\vnaga\\anaconda3\\lib\\site-packages (from distributed<2022.2.0,>=2.22.0->modin[all]) (8.0.3)\n",
      "Requirement already satisfied: msgpack>=0.6.0 in c:\\users\\vnaga\\anaconda3\\lib\\site-packages (from distributed<2022.2.0,>=2.22.0->modin[all]) (1.0.2)\n",
      "Requirement already satisfied: tblib>=1.6.0 in c:\\users\\vnaga\\anaconda3\\lib\\site-packages (from distributed<2022.2.0,>=2.22.0->modin[all]) (1.7.0)\n",
      "Requirement already satisfied: sortedcontainers!=2.0.0,!=2.0.1 in c:\\users\\vnaga\\anaconda3\\lib\\site-packages (from distributed<2022.2.0,>=2.22.0->modin[all]) (2.4.0)\n",
      "Requirement already satisfied: tornado>=6.0.3 in c:\\users\\vnaga\\anaconda3\\lib\\site-packages (from distributed<2022.2.0,>=2.22.0->modin[all]) (6.1)\n",
      "Requirement already satisfied: notebook>=6.0.3 in c:\\users\\vnaga\\anaconda3\\lib\\site-packages (from modin-spreadsheet>=0.1.0->modin[all]) (6.4.5)\n",
      "Requirement already satisfied: ipywidgets>=7.0.0 in c:\\users\\vnaga\\anaconda3\\lib\\site-packages (from modin-spreadsheet>=0.1.0->modin[all]) (7.6.5)\n",
      "Requirement already satisfied: jupyter>=1.0.0 in c:\\users\\vnaga\\anaconda3\\lib\\site-packages (from modin-spreadsheet>=0.1.0->modin[all]) (1.0.0)\n",
      "Requirement already satisfied: pyparsing>=2.0.2 in c:\\users\\vnaga\\anaconda3\\lib\\site-packages (from packaging->modin[all]) (3.0.4)\n",
      "Requirement already satisfied: filelock in c:\\users\\vnaga\\anaconda3\\lib\\site-packages (from ray[default]<1.13.0,>=1.4.0->modin[all]) (3.3.1)\n",
      "Requirement already satisfied: requests in c:\\users\\vnaga\\anaconda3\\lib\\site-packages (from ray[default]<1.13.0,>=1.4.0->modin[all]) (2.26.0)\n",
      "Collecting frozenlist\n",
      "  Downloading frozenlist-1.3.0-cp39-cp39-win_amd64.whl (33 kB)\n",
      "Collecting virtualenv\n",
      "  Downloading virtualenv-20.15.1-py2.py3-none-any.whl (10.1 MB)\n",
      "     ---------------------------------------- 10.1/10.1 MB 5.5 MB/s eta 0:00:00\n",
      "Requirement already satisfied: attrs in c:\\users\\vnaga\\anaconda3\\lib\\site-packages (from ray[default]<1.13.0,>=1.4.0->modin[all]) (21.2.0)\n",
      "Collecting aiosignal\n",
      "  Downloading aiosignal-1.2.0-py3-none-any.whl (8.2 kB)\n",
      "Requirement already satisfied: jsonschema in c:\\users\\vnaga\\anaconda3\\lib\\site-packages (from ray[default]<1.13.0,>=1.4.0->modin[all]) (3.2.0)\n",
      "Collecting grpcio<=1.43.0,>=1.28.1\n",
      "  Downloading grpcio-1.43.0-cp39-cp39-win_amd64.whl (3.4 MB)\n",
      "     ---------------------------------------- 3.4/3.4 MB 4.6 MB/s eta 0:00:00\n",
      "Collecting colorful\n",
      "  Downloading colorful-0.5.4-py2.py3-none-any.whl (201 kB)\n",
      "     -------------------------------------- 202.0/202.0 kB 6.0 MB/s eta 0:00:00\n",
      "Collecting opencensus\n",
      "  Downloading opencensus-0.10.0-py2.py3-none-any.whl (128 kB)\n",
      "     -------------------------------------- 128.2/128.2 kB 3.7 MB/s eta 0:00:00\n",
      "Collecting aiohttp>=3.7\n",
      "  Downloading aiohttp-3.8.1-cp39-cp39-win_amd64.whl (554 kB)\n",
      "     -------------------------------------- 554.9/554.9 kB 5.0 MB/s eta 0:00:00\n",
      "Collecting aiohttp-cors\n",
      "  Downloading aiohttp_cors-0.7.0-py3-none-any.whl (27 kB)\n",
      "Collecting py-spy>=0.2.0\n",
      "  Downloading py_spy-0.3.12-py2.py3-none-win_amd64.whl (1.4 MB)\n",
      "     ---------------------------------------- 1.4/1.4 MB 5.8 MB/s eta 0:00:00\n",
      "Collecting gpustat>=1.0.0b1\n",
      "  Downloading gpustat-1.0.0rc1.tar.gz (89 kB)\n",
      "     ---------------------------------------- 89.9/89.9 kB 5.3 MB/s eta 0:00:00\n",
      "  Preparing metadata (setup.py): started\n",
      "  Preparing metadata (setup.py): finished with status 'done'\n",
      "Requirement already satisfied: prometheus-client<0.14.0,>=0.7.1 in c:\\users\\vnaga\\anaconda3\\lib\\site-packages (from ray[default]<1.13.0,>=1.4.0->modin[all]) (0.11.0)\n",
      "Collecting smart-open\n",
      "  Downloading smart_open-6.0.0-py3-none-any.whl (58 kB)\n",
      "     ---------------------------------------- 58.4/58.4 kB ? eta 0:00:00\n",
      "Collecting s3transfer<0.7.0,>=0.6.0\n",
      "  Downloading s3transfer-0.6.0-py3-none-any.whl (79 kB)\n",
      "     ---------------------------------------- 79.6/79.6 kB 4.3 MB/s eta 0:00:00\n",
      "Collecting jmespath<2.0.0,>=0.7.1\n",
      "  Downloading jmespath-1.0.1-py3-none-any.whl (20 kB)\n",
      "Collecting botocore<1.28.0,>=1.27.36\n",
      "  Downloading botocore-1.27.36-py3-none-any.whl (9.0 MB)\n",
      "     ---------------------------------------- 9.0/9.0 MB 5.8 MB/s eta 0:00:00\n",
      "Requirement already satisfied: async-timeout<5.0,>=4.0.0a3 in c:\\users\\vnaga\\anaconda3\\lib\\site-packages (from aiohttp>=3.7->ray[default]<1.13.0,>=1.4.0->modin[all]) (4.0.2)\n",
      "Requirement already satisfied: charset-normalizer<3.0,>=2.0 in c:\\users\\vnaga\\anaconda3\\lib\\site-packages (from aiohttp>=3.7->ray[default]<1.13.0,>=1.4.0->modin[all]) (2.0.4)\n",
      "Collecting multidict<7.0,>=4.5\n",
      "  Downloading multidict-6.0.2-cp39-cp39-win_amd64.whl (28 kB)\n",
      "Collecting yarl<2.0,>=1.0\n",
      "  Downloading yarl-1.7.2-cp39-cp39-win_amd64.whl (122 kB)\n",
      "     -------------------------------------- 122.1/122.1 kB 3.6 MB/s eta 0:00:00\n",
      "Requirement already satisfied: urllib3<1.27,>=1.25.4 in c:\\users\\vnaga\\anaconda3\\lib\\site-packages (from botocore<1.28.0,>=1.27.36->boto3->modin[all]) (1.26.7)\n",
      "Requirement already satisfied: colorama in c:\\users\\vnaga\\anaconda3\\lib\\site-packages (from click>=6.6->distributed<2022.2.0,>=2.22.0->modin[all]) (0.4.4)\n",
      "Requirement already satisfied: six>=1.7 in c:\\users\\vnaga\\anaconda3\\lib\\site-packages (from gpustat>=1.0.0b1->ray[default]<1.13.0,>=1.4.0->modin[all]) (1.16.0)\n",
      "Collecting nvidia-ml-py<=11.495.46,>=11.450.129\n",
      "  Downloading nvidia_ml_py-11.495.46-py3-none-any.whl (25 kB)\n",
      "Collecting blessed>=1.17.1\n",
      "  Downloading blessed-1.19.1-py2.py3-none-any.whl (58 kB)\n",
      "     ---------------------------------------- 58.0/58.0 kB 3.2 MB/s eta 0:00:00\n",
      "Requirement already satisfied: jupyterlab-widgets>=1.0.0 in c:\\users\\vnaga\\anaconda3\\lib\\site-packages (from ipywidgets>=7.0.0->modin-spreadsheet>=0.1.0->modin[all]) (1.0.0)\n",
      "Requirement already satisfied: nbformat>=4.2.0 in c:\\users\\vnaga\\anaconda3\\lib\\site-packages (from ipywidgets>=7.0.0->modin-spreadsheet>=0.1.0->modin[all]) (5.1.3)\n",
      "Requirement already satisfied: traitlets>=4.3.1 in c:\\users\\vnaga\\anaconda3\\lib\\site-packages (from ipywidgets>=7.0.0->modin-spreadsheet>=0.1.0->modin[all]) (5.1.0)\n",
      "Requirement already satisfied: ipython-genutils~=0.2.0 in c:\\users\\vnaga\\anaconda3\\lib\\site-packages (from ipywidgets>=7.0.0->modin-spreadsheet>=0.1.0->modin[all]) (0.2.0)\n",
      "Requirement already satisfied: ipython>=4.0.0 in c:\\users\\vnaga\\anaconda3\\lib\\site-packages (from ipywidgets>=7.0.0->modin-spreadsheet>=0.1.0->modin[all]) (7.29.0)\n",
      "Requirement already satisfied: widgetsnbextension~=3.5.0 in c:\\users\\vnaga\\anaconda3\\lib\\site-packages (from ipywidgets>=7.0.0->modin-spreadsheet>=0.1.0->modin[all]) (3.5.1)\n",
      "Requirement already satisfied: ipykernel>=4.5.1 in c:\\users\\vnaga\\anaconda3\\lib\\site-packages (from ipywidgets>=7.0.0->modin-spreadsheet>=0.1.0->modin[all]) (6.4.1)\n",
      "Requirement already satisfied: nbconvert in c:\\users\\vnaga\\anaconda3\\lib\\site-packages (from jupyter>=1.0.0->modin-spreadsheet>=0.1.0->modin[all]) (6.1.0)\n",
      "Requirement already satisfied: jupyter-console in c:\\users\\vnaga\\anaconda3\\lib\\site-packages (from jupyter>=1.0.0->modin-spreadsheet>=0.1.0->modin[all]) (6.4.0)\n",
      "Requirement already satisfied: qtconsole in c:\\users\\vnaga\\anaconda3\\lib\\site-packages (from jupyter>=1.0.0->modin-spreadsheet>=0.1.0->modin[all]) (5.1.1)\n",
      "Requirement already satisfied: jupyter-core>=4.6.1 in c:\\users\\vnaga\\anaconda3\\lib\\site-packages (from notebook>=6.0.3->modin-spreadsheet>=0.1.0->modin[all]) (4.8.1)\n",
      "Requirement already satisfied: jupyter-client>=5.3.4 in c:\\users\\vnaga\\anaconda3\\lib\\site-packages (from notebook>=6.0.3->modin-spreadsheet>=0.1.0->modin[all]) (6.1.12)\n",
      "Requirement already satisfied: argon2-cffi in c:\\users\\vnaga\\anaconda3\\lib\\site-packages (from notebook>=6.0.3->modin-spreadsheet>=0.1.0->modin[all]) (20.1.0)\n",
      "Requirement already satisfied: terminado>=0.8.3 in c:\\users\\vnaga\\anaconda3\\lib\\site-packages (from notebook>=6.0.3->modin-spreadsheet>=0.1.0->modin[all]) (0.9.4)\n",
      "Requirement already satisfied: Send2Trash>=1.5.0 in c:\\users\\vnaga\\anaconda3\\lib\\site-packages (from notebook>=6.0.3->modin-spreadsheet>=0.1.0->modin[all]) (1.8.0)\n",
      "Requirement already satisfied: pyzmq>=17 in c:\\users\\vnaga\\anaconda3\\lib\\site-packages (from notebook>=6.0.3->modin-spreadsheet>=0.1.0->modin[all]) (22.2.1)\n",
      "Requirement already satisfied: locket in c:\\users\\vnaga\\anaconda3\\lib\\site-packages\\locket-0.2.1-py3.9.egg (from partd>=0.3.10->dask<2022.2.0,>=2.22.0->modin[all]) (0.2.1)\n",
      "Requirement already satisfied: heapdict in c:\\users\\vnaga\\anaconda3\\lib\\site-packages (from zict>=0.1.3->distributed<2022.2.0,>=2.22.0->modin[all]) (1.0.1)\n",
      "Requirement already satisfied: MarkupSafe>=0.23 in c:\\users\\vnaga\\anaconda3\\lib\\site-packages (from jinja2->distributed<2022.2.0,>=2.22.0->modin[all]) (1.1.1)\n",
      "Requirement already satisfied: pyrsistent>=0.14.0 in c:\\users\\vnaga\\anaconda3\\lib\\site-packages (from jsonschema->ray[default]<1.13.0,>=1.4.0->modin[all]) (0.18.0)\n",
      "Collecting google-api-core<3.0.0,>=1.0.0\n",
      "  Downloading google_api_core-2.8.2-py3-none-any.whl (114 kB)\n",
      "     -------------------------------------- 114.6/114.6 kB 3.4 MB/s eta 0:00:00\n",
      "Collecting opencensus-context>=0.1.2\n",
      "  Downloading opencensus_context-0.1.2-py2.py3-none-any.whl (4.4 kB)\n",
      "Requirement already satisfied: pywin32 in c:\\users\\vnaga\\anaconda3\\lib\\site-packages (from plumbum->rpyc==4.1.5->modin[all]) (228)\n",
      "Requirement already satisfied: idna<4,>=2.5 in c:\\users\\vnaga\\anaconda3\\lib\\site-packages (from requests->ray[default]<1.13.0,>=1.4.0->modin[all]) (3.2)\n",
      "Requirement already satisfied: certifi>=2017.4.17 in c:\\users\\vnaga\\anaconda3\\lib\\site-packages (from requests->ray[default]<1.13.0,>=1.4.0->modin[all]) (2021.10.8)\n",
      "Collecting platformdirs<3,>=2\n",
      "  Downloading platformdirs-2.5.2-py3-none-any.whl (14 kB)\n",
      "Collecting distlib<1,>=0.3.1\n",
      "  Downloading distlib-0.3.5-py2.py3-none-any.whl (466 kB)\n",
      "     -------------------------------------- 467.0/467.0 kB 4.9 MB/s eta 0:00:00\n",
      "Collecting jinxed>=1.1.0\n",
      "  Downloading jinxed-1.2.0-py2.py3-none-any.whl (33 kB)\n",
      "Requirement already satisfied: wcwidth>=0.1.4 in c:\\users\\vnaga\\anaconda3\\lib\\site-packages (from blessed>=1.17.1->gpustat>=1.0.0b1->ray[default]<1.13.0,>=1.4.0->modin[all]) (0.2.5)\n",
      "Collecting googleapis-common-protos<2.0dev,>=1.56.2\n",
      "  Downloading googleapis_common_protos-1.56.4-py2.py3-none-any.whl (211 kB)\n",
      "     -------------------------------------- 211.7/211.7 kB 4.3 MB/s eta 0:00:00\n",
      "Collecting google-auth<3.0dev,>=1.25.0\n",
      "  Downloading google_auth-2.9.1-py2.py3-none-any.whl (167 kB)\n",
      "     -------------------------------------- 167.8/167.8 kB 5.1 MB/s eta 0:00:00\n",
      "Requirement already satisfied: matplotlib-inline<0.2.0,>=0.1.0 in c:\\users\\vnaga\\anaconda3\\lib\\site-packages (from ipykernel>=4.5.1->ipywidgets>=7.0.0->modin-spreadsheet>=0.1.0->modin[all]) (0.1.2)\n",
      "Requirement already satisfied: debugpy<2.0,>=1.0.0 in c:\\users\\vnaga\\anaconda3\\lib\\site-packages (from ipykernel>=4.5.1->ipywidgets>=7.0.0->modin-spreadsheet>=0.1.0->modin[all]) (1.4.1)\n",
      "Requirement already satisfied: prompt-toolkit!=3.0.0,!=3.0.1,<3.1.0,>=2.0.0 in c:\\users\\vnaga\\anaconda3\\lib\\site-packages (from ipython>=4.0.0->ipywidgets>=7.0.0->modin-spreadsheet>=0.1.0->modin[all]) (3.0.20)\n",
      "Requirement already satisfied: pygments in c:\\users\\vnaga\\anaconda3\\lib\\site-packages (from ipython>=4.0.0->ipywidgets>=7.0.0->modin-spreadsheet>=0.1.0->modin[all]) (2.10.0)\n",
      "Requirement already satisfied: decorator in c:\\users\\vnaga\\anaconda3\\lib\\site-packages (from ipython>=4.0.0->ipywidgets>=7.0.0->modin-spreadsheet>=0.1.0->modin[all]) (5.1.0)\n",
      "Requirement already satisfied: pickleshare in c:\\users\\vnaga\\anaconda3\\lib\\site-packages (from ipython>=4.0.0->ipywidgets>=7.0.0->modin-spreadsheet>=0.1.0->modin[all]) (0.7.5)\n",
      "Requirement already satisfied: backcall in c:\\users\\vnaga\\anaconda3\\lib\\site-packages (from ipython>=4.0.0->ipywidgets>=7.0.0->modin-spreadsheet>=0.1.0->modin[all]) (0.2.0)\n",
      "Requirement already satisfied: jedi>=0.16 in c:\\users\\vnaga\\anaconda3\\lib\\site-packages (from ipython>=4.0.0->ipywidgets>=7.0.0->modin-spreadsheet>=0.1.0->modin[all]) (0.18.0)\n",
      "Requirement already satisfied: pywinpty>=0.5 in c:\\users\\vnaga\\anaconda3\\lib\\site-packages (from terminado>=0.8.3->notebook>=6.0.3->modin-spreadsheet>=0.1.0->modin[all]) (0.5.7)\n",
      "Requirement already satisfied: cffi>=1.0.0 in c:\\users\\vnaga\\anaconda3\\lib\\site-packages (from argon2-cffi->notebook>=6.0.3->modin-spreadsheet>=0.1.0->modin[all]) (1.14.6)\n",
      "Requirement already satisfied: testpath in c:\\users\\vnaga\\anaconda3\\lib\\site-packages (from nbconvert->jupyter>=1.0.0->modin-spreadsheet>=0.1.0->modin[all]) (0.5.0)\n",
      "Requirement already satisfied: entrypoints>=0.2.2 in c:\\users\\vnaga\\anaconda3\\lib\\site-packages (from nbconvert->jupyter>=1.0.0->modin-spreadsheet>=0.1.0->modin[all]) (0.3)\n",
      "Requirement already satisfied: defusedxml in c:\\users\\vnaga\\anaconda3\\lib\\site-packages (from nbconvert->jupyter>=1.0.0->modin-spreadsheet>=0.1.0->modin[all]) (0.7.1)\n",
      "Requirement already satisfied: bleach in c:\\users\\vnaga\\anaconda3\\lib\\site-packages (from nbconvert->jupyter>=1.0.0->modin-spreadsheet>=0.1.0->modin[all]) (4.0.0)\n",
      "Requirement already satisfied: mistune<2,>=0.8.1 in c:\\users\\vnaga\\anaconda3\\lib\\site-packages (from nbconvert->jupyter>=1.0.0->modin-spreadsheet>=0.1.0->modin[all]) (0.8.4)\n",
      "Requirement already satisfied: jupyterlab-pygments in c:\\users\\vnaga\\anaconda3\\lib\\site-packages (from nbconvert->jupyter>=1.0.0->modin-spreadsheet>=0.1.0->modin[all]) (0.1.2)\n",
      "Requirement already satisfied: pandocfilters>=1.4.1 in c:\\users\\vnaga\\anaconda3\\lib\\site-packages (from nbconvert->jupyter>=1.0.0->modin-spreadsheet>=0.1.0->modin[all]) (1.4.3)\n",
      "Requirement already satisfied: nbclient<0.6.0,>=0.5.0 in c:\\users\\vnaga\\anaconda3\\lib\\site-packages (from nbconvert->jupyter>=1.0.0->modin-spreadsheet>=0.1.0->modin[all]) (0.5.3)\n",
      "Requirement already satisfied: qtpy in c:\\users\\vnaga\\anaconda3\\lib\\site-packages (from qtconsole->jupyter>=1.0.0->modin-spreadsheet>=0.1.0->modin[all]) (1.10.0)\n",
      "Requirement already satisfied: pycparser in c:\\users\\vnaga\\anaconda3\\lib\\site-packages (from cffi>=1.0.0->argon2-cffi->notebook>=6.0.3->modin-spreadsheet>=0.1.0->modin[all]) (2.20)\n",
      "Collecting pyasn1-modules>=0.2.1\n",
      "  Downloading pyasn1_modules-0.2.8-py2.py3-none-any.whl (155 kB)\n",
      "     -------------------------------------- 155.3/155.3 kB 9.1 MB/s eta 0:00:00\n",
      "Collecting rsa<5,>=3.1.4\n",
      "  Downloading rsa-4.9-py3-none-any.whl (34 kB)\n",
      "Collecting cachetools<6.0,>=2.0.0\n",
      "  Downloading cachetools-5.2.0-py3-none-any.whl (9.3 kB)\n",
      "Requirement already satisfied: parso<0.9.0,>=0.8.0 in c:\\users\\vnaga\\anaconda3\\lib\\site-packages (from jedi>=0.16->ipython>=4.0.0->ipywidgets>=7.0.0->modin-spreadsheet>=0.1.0->modin[all]) (0.8.2)\n",
      "Collecting ansicon\n",
      "  Downloading ansicon-1.89.0-py2.py3-none-any.whl (63 kB)\n",
      "     ---------------------------------------- 63.7/63.7 kB 3.3 MB/s eta 0:00:00\n",
      "Requirement already satisfied: nest-asyncio in c:\\users\\vnaga\\anaconda3\\lib\\site-packages (from nbclient<0.6.0,>=0.5.0->nbconvert->jupyter>=1.0.0->modin-spreadsheet>=0.1.0->modin[all]) (1.5.1)\n",
      "Requirement already satisfied: async-generator in c:\\users\\vnaga\\anaconda3\\lib\\site-packages (from nbclient<0.6.0,>=0.5.0->nbconvert->jupyter>=1.0.0->modin-spreadsheet>=0.1.0->modin[all]) (1.10)\n",
      "Requirement already satisfied: webencodings in c:\\users\\vnaga\\anaconda3\\lib\\site-packages (from bleach->nbconvert->jupyter>=1.0.0->modin-spreadsheet>=0.1.0->modin[all]) (0.5.1)\n",
      "Collecting pyasn1<0.5.0,>=0.4.6\n",
      "  Downloading pyasn1-0.4.8-py2.py3-none-any.whl (77 kB)\n",
      "     ---------------------------------------- 77.1/77.1 kB 4.2 MB/s eta 0:00:00\n",
      "Building wheels for collected packages: gpustat\n",
      "  Building wheel for gpustat (setup.py): started\n",
      "  Building wheel for gpustat (setup.py): finished with status 'done'\n",
      "  Created wheel for gpustat: filename=gpustat-1.0.0rc1-py3-none-any.whl size=18872 sha256=49b069661a52e74f712c4f394f666ea1e7f3b95e72bde3424bcf85ef76aeaddd\n",
      "  Stored in directory: c:\\users\\vnaga\\appdata\\local\\pip\\cache\\wheels\\7c\\4e\\33\\1a3f327bcffa30ccb8955326bbd5c6373447c23631005a8425\n",
      "Successfully built gpustat\n",
      "Installing collected packages: pyasn1, py-spy, opencensus-context, nvidia-ml-py, distlib, ansicon, smart-open, rsa, redis, pyasn1-modules, pyarrow, protobuf, plumbum, platformdirs, multidict, jmespath, jinxed, grpcio, frozenlist, colorful, cachetools, yarl, virtualenv, rpyc, googleapis-common-protos, google-auth, botocore, blessed, aiosignal, s3transfer, ray, gpustat, google-api-core, aiohttp, opencensus, boto3, aiohttp-cors, modin-spreadsheet\n",
      "  Attempting uninstall: redis\n",
      "    Found existing installation: redis 4.2.2\n",
      "    Uninstalling redis-4.2.2:\n",
      "      Successfully uninstalled redis-4.2.2\n",
      "Successfully installed aiohttp-3.8.1 aiohttp-cors-0.7.0 aiosignal-1.2.0 ansicon-1.89.0 blessed-1.19.1 boto3-1.24.36 botocore-1.27.36 cachetools-5.2.0 colorful-0.5.4 distlib-0.3.5 frozenlist-1.3.0 google-api-core-2.8.2 google-auth-2.9.1 googleapis-common-protos-1.56.4 gpustat-1.0.0rc1 grpcio-1.43.0 jinxed-1.2.0 jmespath-1.0.1 modin-spreadsheet-0.1.2 multidict-6.0.2 nvidia-ml-py-11.495.46 opencensus-0.10.0 opencensus-context-0.1.2 platformdirs-2.5.2 plumbum-1.7.2 protobuf-3.20.1 py-spy-0.3.12 pyarrow-8.0.0 pyasn1-0.4.8 pyasn1-modules-0.2.8 ray-1.12.1 redis-3.5.3 rpyc-4.1.5 rsa-4.9 s3transfer-0.6.0 smart-open-6.0.0 virtualenv-20.15.1 yarl-1.7.2\n"
     ]
    }
   ],
   "source": [
    "!pip install \"modin[all]\" "
   ]
  },
  {
   "cell_type": "code",
   "execution_count": null,
   "id": "3807044b-7069-47a5-b59c-7cac51c34833",
   "metadata": {},
   "outputs": [],
   "source": []
  },
  {
   "cell_type": "code",
   "execution_count": null,
   "id": "f13da092-f641-490b-ae2f-2d4a92ba53f7",
   "metadata": {},
   "outputs": [],
   "source": []
  },
  {
   "cell_type": "code",
   "execution_count": null,
   "id": "0a9cd334-7e06-4849-9bfc-f087d072b458",
   "metadata": {},
   "outputs": [],
   "source": []
  },
  {
   "cell_type": "code",
   "execution_count": null,
   "id": "3828f893-2fcf-46fe-8abd-1ab8ba364c2d",
   "metadata": {},
   "outputs": [],
   "source": []
  },
  {
   "cell_type": "code",
   "execution_count": null,
   "id": "de301c2b-5b4d-40c1-bcf1-04d4f57e4b8c",
   "metadata": {},
   "outputs": [],
   "source": []
  },
  {
   "cell_type": "code",
   "execution_count": null,
   "id": "71d2d8d8-0457-440a-89bd-97e929bfd73e",
   "metadata": {},
   "outputs": [],
   "source": []
  },
  {
   "cell_type": "code",
   "execution_count": null,
   "id": "7a0e1ca1-706d-48d2-996b-83362a2263aa",
   "metadata": {},
   "outputs": [],
   "source": []
  },
  {
   "cell_type": "code",
   "execution_count": null,
   "id": "257c72fd-04e7-47af-9381-5baece2cc179",
   "metadata": {},
   "outputs": [],
   "source": []
  },
  {
   "cell_type": "code",
   "execution_count": null,
   "id": "8676957a-c53b-4ae7-8892-1513b59bca65",
   "metadata": {},
   "outputs": [],
   "source": []
  },
  {
   "cell_type": "code",
   "execution_count": null,
   "id": "7430f075-0f6c-4ba9-a0f2-18e072a846b0",
   "metadata": {},
   "outputs": [],
   "source": []
  },
  {
   "cell_type": "code",
   "execution_count": null,
   "id": "8d584556-2401-4c31-9dcc-fe06d39f35ca",
   "metadata": {},
   "outputs": [],
   "source": []
  },
  {
   "cell_type": "code",
   "execution_count": null,
   "id": "24ab72c8-6d03-408a-8735-c8bce2469ebe",
   "metadata": {},
   "outputs": [],
   "source": []
  },
  {
   "cell_type": "code",
   "execution_count": null,
   "id": "56a9e817-1b96-47fd-8c0e-dc01f1fb1f0e",
   "metadata": {},
   "outputs": [],
   "source": []
  },
  {
   "cell_type": "code",
   "execution_count": null,
   "id": "0acc640c-da02-42af-adc6-e1263d6f972b",
   "metadata": {},
   "outputs": [],
   "source": []
  },
  {
   "cell_type": "code",
   "execution_count": null,
   "id": "78f8d0f2-1272-4503-9904-5840abfc7c6e",
   "metadata": {},
   "outputs": [],
   "source": []
  },
  {
   "cell_type": "code",
   "execution_count": null,
   "id": "fad41b3f-da1f-499b-8049-dddb1c907707",
   "metadata": {},
   "outputs": [],
   "source": []
  },
  {
   "cell_type": "code",
   "execution_count": null,
   "id": "09f25413-145f-4b73-8b9c-074d6def9cae",
   "metadata": {},
   "outputs": [],
   "source": []
  },
  {
   "cell_type": "code",
   "execution_count": null,
   "id": "22a2045e-8a66-4d27-82d2-5acd34c91084",
   "metadata": {},
   "outputs": [],
   "source": []
  },
  {
   "cell_type": "code",
   "execution_count": null,
   "id": "2224664f-52c5-4f26-9736-42f608cdeed5",
   "metadata": {},
   "outputs": [],
   "source": []
  },
  {
   "cell_type": "code",
   "execution_count": null,
   "id": "867e2d66-72b9-466b-9a2e-4e7ad963130d",
   "metadata": {},
   "outputs": [],
   "source": []
  },
  {
   "cell_type": "code",
   "execution_count": null,
   "id": "ad305872-d9de-4e64-ae37-5672f8eabc13",
   "metadata": {},
   "outputs": [],
   "source": []
  },
  {
   "cell_type": "code",
   "execution_count": null,
   "id": "6b3f9fde-88e7-41b5-a136-301439169436",
   "metadata": {},
   "outputs": [],
   "source": []
  },
  {
   "cell_type": "code",
   "execution_count": null,
   "id": "619cdb16-322f-4e37-a2c7-3d0460a4b397",
   "metadata": {},
   "outputs": [],
   "source": []
  },
  {
   "cell_type": "code",
   "execution_count": null,
   "id": "6870f5a5-9f0f-4750-b6cb-e10ae452507d",
   "metadata": {},
   "outputs": [],
   "source": []
  },
  {
   "cell_type": "code",
   "execution_count": null,
   "id": "9cef4fdd-25b0-41c5-b49c-acc0a439f25c",
   "metadata": {},
   "outputs": [],
   "source": []
  },
  {
   "cell_type": "code",
   "execution_count": null,
   "id": "d5318d88-cc54-4b51-ab09-b2f1e2f9e4ab",
   "metadata": {},
   "outputs": [],
   "source": []
  },
  {
   "cell_type": "code",
   "execution_count": null,
   "id": "7a1e6a68-527e-4c2f-89eb-5306b5784146",
   "metadata": {},
   "outputs": [],
   "source": []
  },
  {
   "cell_type": "code",
   "execution_count": null,
   "id": "0c653bff-3727-49e6-863a-08e594a9bb68",
   "metadata": {},
   "outputs": [],
   "source": [
    "empty.array vs empty.asarray  "
   ]
  },
  {
   "cell_type": "code",
   "execution_count": null,
   "id": "c1af0ae6-59c7-4d4d-b322-73f4ecc4ea02",
   "metadata": {},
   "outputs": [],
   "source": []
  }
 ],
 "metadata": {
  "kernelspec": {
   "display_name": "Python 3 (ipykernel)",
   "language": "python",
   "name": "python3"
  },
  "language_info": {
   "codemirror_mode": {
    "name": "ipython",
    "version": 3
   },
   "file_extension": ".py",
   "mimetype": "text/x-python",
   "name": "python",
   "nbconvert_exporter": "python",
   "pygments_lexer": "ipython3",
   "version": "3.9.7"
  }
 },
 "nbformat": 4,
 "nbformat_minor": 5
}
