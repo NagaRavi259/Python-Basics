{
 "cells": [
  {
   "cell_type": "markdown",
   "id": "b3a5ad1b-de6f-449a-a6e4-a8bf37e7b0c4",
   "metadata": {},
   "source": [
    "# Python Training"
   ]
  },
  {
   "cell_type": "markdown",
   "id": "b8837849-9cea-4663-be19-13ceee6b84c8",
   "metadata": {
    "jp-MarkdownHeadingCollapsed": true,
    "tags": []
   },
   "source": [
    "## Part-1\n",
    "    \n",
    "- Basic Arthematics Operations\n",
    "- Contol and Conditional Structers\n",
    "- Looping - For,While Loops\n",
    "- User input\n",
    "- Strings\n",
    "- Integers\n",
    "- Float Values\n",
    "- Typecastings\n",
    "2 Days Each day 1Hrs"
   ]
  },
  {
   "cell_type": "markdown",
   "id": "6acd2e01-9885-4a0b-9758-c23266e31fde",
   "metadata": {
    "tags": []
   },
   "source": [
    "## Part-2\n",
    "- String and inbuilt operations\n",
    "- Lists and boolens variables inbuilt function\n",
    "- sets inbuilt functions\n",
    "- Dictionaries-inbuilt functions\n",
    "- Tuples-inbuilt functions\n",
    "- Functions in python\n",
    "- Lambda functions\n",
    "- Iterators and genarators\n",
    "- Execption handling and importing libraries\n",
    "- logging\n",
    "    \n",
    "3 Days  Each day 1Hrs"
   ]
  },
  {
   "cell_type": "markdown",
   "id": "3c62ddce-0434-423f-9a14-af5316e66ff2",
   "metadata": {},
   "source": [
    "## Part-3\n",
    "    1. Class\n",
    "    2. Objects\n",
    "    3. Methods\n",
    "    4. inheritence\n",
    "    5. Polymorphism\n",
    "    6. Data Abstraction\n",
    "    7. Encapsulation\n",
    "4 Days every day 2 hours total 8hrs"
   ]
  },
  {
   "cell_type": "markdown",
   "id": "b3a2ad47-bfb1-443b-b774-b08859f910be",
   "metadata": {},
   "source": [
    "## Part 4\n",
    "    Libraries with Python part 2\n",
    "        Numpy - Play with Arrays\n",
    "        Pandas\n",
    "        Matplotlib\n",
    "        Seaborn\n",
    "        Scipy\n",
    "2 days each day 2hr"
   ]
  },
  {
   "cell_type": "markdown",
   "id": "97c94367-8122-4628-b557-695a64dead78",
   "metadata": {},
   "source": [
    "## Framework for Machine Learning and Deep Learning\n",
    "    1. Numpy ***\n",
    "    2. Pandas ***\n",
    "    3. Flask  ***\n",
    "    4. Django    WEB Frameworks\n",
    "    5. Dask   WEB Framework\n",
    "    6. Scipy\n",
    "    7. Matplotlib\n",
    "    8. Seaborn\n",
    "    9. Nvidia CUDA\n",
    "    10. Keeras\n",
    "    11. Caffe\n",
    "    12. TensorFlow\n",
    "    13. Pytorch"
   ]
  },
  {
   "cell_type": "markdown",
   "id": "dc3096c0-d35a-44bb-9bbb-b0f503f771af",
   "metadata": {},
   "source": [
    "## Framework for WEBDevelopment\n",
    "     ## just know what it is \n",
    "         Flask\n",
    "         Django\n",
    "         Web2Py\n",
    "         Turboears\n",
    "         Cherrypy\n",
    "     ## FrameWorks for Desktop Applications\n",
    "         TKINTER\n",
    "         QT\n",
    "         KIvy"
   ]
  },
  {
   "cell_type": "code",
   "execution_count": 1,
   "id": "d9643d89-9d92-4e31-b424-5a8cd1fdeac9",
   "metadata": {},
   "outputs": [],
   "source": [
    "## Numpy\n",
    "    #Numpy used to create a Multi Dimentional Arrays\n",
    "    #it has inbuilt functions used to perform multi purpose array operations\n",
    "    #Numpy is a bindings of C and C++ librarys whichfaster then the python\n",
    "    #This will reduce the running time of the programe"
   ]
  },
  {
   "cell_type": "markdown",
   "id": "20124478-3cd4-4b21-b928-bae74f2e05ed",
   "metadata": {},
   "source": [
    "## What is Array\n",
    "- Array is a datastructure which stores same data type"
   ]
  },
  {
   "cell_type": "code",
   "execution_count": 5,
   "id": "7c72b6fc-55d8-415b-95a5-2d852d3bdd46",
   "metadata": {},
   "outputs": [],
   "source": [
    "import numpy as np"
   ]
  },
  {
   "cell_type": "code",
   "execution_count": 104,
   "id": "e1fc8384-91d5-47d6-9cdf-a9dfbaea20be",
   "metadata": {},
   "outputs": [],
   "source": [
    "lst=[4,5,6,5,3,3]"
   ]
  },
  {
   "cell_type": "code",
   "execution_count": 105,
   "id": "3d2afa63-6462-43f0-9a82-43e8c636dd0e",
   "metadata": {},
   "outputs": [],
   "source": [
    "array=np.array(lst)"
   ]
  },
  {
   "cell_type": "code",
   "execution_count": 106,
   "id": "74b08d42-b176-4a1f-a081-714f40e1f05f",
   "metadata": {},
   "outputs": [
    {
     "data": {
      "text/plain": [
       "numpy.ndarray"
      ]
     },
     "execution_count": 106,
     "metadata": {},
     "output_type": "execute_result"
    }
   ],
   "source": [
    "type(array)"
   ]
  },
  {
   "cell_type": "code",
   "execution_count": 107,
   "id": "1c763d94-3182-4ae1-a357-08e774207a52",
   "metadata": {},
   "outputs": [
    {
     "data": {
      "text/plain": [
       "list"
      ]
     },
     "execution_count": 107,
     "metadata": {},
     "output_type": "execute_result"
    }
   ],
   "source": [
    "type(lst)"
   ]
  },
  {
   "cell_type": "code",
   "execution_count": 108,
   "id": "aea2580e-8bc9-4c62-8bca-d74612aa611f",
   "metadata": {},
   "outputs": [
    {
     "data": {
      "text/plain": [
       "array([4, 5, 6, 5, 3, 3])"
      ]
     },
     "execution_count": 108,
     "metadata": {},
     "output_type": "execute_result"
    }
   ],
   "source": [
    "array"
   ]
  },
  {
   "cell_type": "code",
   "execution_count": 14,
   "id": "a0120218-a6af-4f84-a98d-b50c6ba17dc1",
   "metadata": {},
   "outputs": [
    {
     "data": {
      "text/plain": [
       "[4, 5, 6, 5, 3, 3]"
      ]
     },
     "execution_count": 14,
     "metadata": {},
     "output_type": "execute_result"
    }
   ],
   "source": [
    "lst"
   ]
  },
  {
   "cell_type": "code",
   "execution_count": 17,
   "id": "2923c94c-7837-451c-a8e8-12c927f9e6d7",
   "metadata": {},
   "outputs": [
    {
     "data": {
      "text/plain": [
       "(6,)"
      ]
     },
     "execution_count": 17,
     "metadata": {},
     "output_type": "execute_result"
    }
   ],
   "source": [
    "array.shape"
   ]
  },
  {
   "cell_type": "code",
   "execution_count": 24,
   "id": "bfaa9f2c-8049-4ff2-be53-98ae69f16d91",
   "metadata": {},
   "outputs": [],
   "source": [
    "lst1=[35,35,5,53,53]\n",
    "lst2=[23,32,2,34,24]\n",
    "lst3=[53,65,6,54,54]"
   ]
  },
  {
   "cell_type": "code",
   "execution_count": 25,
   "id": "0bc9eed6-2618-43ac-93e5-6f5894a697c7",
   "metadata": {},
   "outputs": [],
   "source": [
    "array2=np.array([lst1,lst2,lst3])"
   ]
  },
  {
   "cell_type": "code",
   "execution_count": 26,
   "id": "b0446c23-2b31-4e7e-9997-627a9870b01f",
   "metadata": {},
   "outputs": [
    {
     "data": {
      "text/plain": [
       "array([[35, 35,  5, 53, 53],\n",
       "       [23, 32,  2, 34, 24],\n",
       "       [53, 65,  6, 54, 54]])"
      ]
     },
     "execution_count": 26,
     "metadata": {},
     "output_type": "execute_result"
    }
   ],
   "source": [
    "array2"
   ]
  },
  {
   "cell_type": "code",
   "execution_count": 27,
   "id": "44a58fc8-23ce-445b-a3cf-fc34ef24e6fc",
   "metadata": {},
   "outputs": [
    {
     "data": {
      "text/plain": [
       "(3, 5)"
      ]
     },
     "execution_count": 27,
     "metadata": {},
     "output_type": "execute_result"
    }
   ],
   "source": [
    "array2.shape"
   ]
  },
  {
   "cell_type": "code",
   "execution_count": 33,
   "id": "04037c17-0b49-4548-b6c3-d7b1593efe9f",
   "metadata": {},
   "outputs": [
    {
     "data": {
      "text/plain": [
       "array([[35, 35,  5],\n",
       "       [53, 53, 23],\n",
       "       [32,  2, 34],\n",
       "       [24, 53, 65],\n",
       "       [ 6, 54, 54]])"
      ]
     },
     "execution_count": 33,
     "metadata": {},
     "output_type": "execute_result"
    }
   ],
   "source": [
    "array2.reshape(5,3)\n",
    "#We can reshape the array what everwe like we can even do it like one column and 15 rows vise versa"
   ]
  },
  {
   "cell_type": "code",
   "execution_count": 34,
   "id": "87490caa-fead-4c0c-8f60-94117f38bf7a",
   "metadata": {},
   "outputs": [
    {
     "data": {
      "text/plain": [
       "array([[35],\n",
       "       [35],\n",
       "       [ 5],\n",
       "       [53],\n",
       "       [53],\n",
       "       [23],\n",
       "       [32],\n",
       "       [ 2],\n",
       "       [34],\n",
       "       [24],\n",
       "       [53],\n",
       "       [65],\n",
       "       [ 6],\n",
       "       [54],\n",
       "       [54]])"
      ]
     },
     "execution_count": 34,
     "metadata": {},
     "output_type": "execute_result"
    }
   ],
   "source": [
    "array2.reshape(15,1)"
   ]
  },
  {
   "cell_type": "code",
   "execution_count": 35,
   "id": "c916179d-3e0a-4399-bd98-7f01724e9cee",
   "metadata": {},
   "outputs": [],
   "source": [
    "#We can use indexing in Numpy arrays\n",
    "arr3=np.array([2,4,3,4,5,5])"
   ]
  },
  {
   "cell_type": "code",
   "execution_count": 38,
   "id": "6d3d83ab-f043-4726-98fd-7aad05174c48",
   "metadata": {},
   "outputs": [
    {
     "data": {
      "text/plain": [
       "array([3, 4, 5])"
      ]
     },
     "execution_count": 38,
     "metadata": {},
     "output_type": "execute_result"
    }
   ],
   "source": [
    "arr3[2:5]"
   ]
  },
  {
   "cell_type": "code",
   "execution_count": 76,
   "id": "d551ba8b-473f-4e33-a3f4-b4586f566a8e",
   "metadata": {},
   "outputs": [
    {
     "data": {
      "text/plain": [
       "array([[32,  2, 34]])"
      ]
     },
     "execution_count": 76,
     "metadata": {},
     "output_type": "execute_result"
    }
   ],
   "source": [
    "#for two Dimentional Arrays we can acess two arrays index by seperating columns and rows by \" , \" between two indexings\n",
    "    #Left side of the index is for Rows\n",
    "    #Right side of the Index id for Columns\n",
    "    \n",
    "array2[1:2,1:4]"
   ]
  },
  {
   "cell_type": "code",
   "execution_count": 41,
   "id": "c594a428-5423-4e3a-a0dd-0be8fa9f0b13",
   "metadata": {},
   "outputs": [
    {
     "data": {
      "text/plain": [
       "array([[35, 35,  5, 53, 53],\n",
       "       [23, 32,  2, 34, 24],\n",
       "       [53, 65,  6, 54, 54]])"
      ]
     },
     "execution_count": 41,
     "metadata": {},
     "output_type": "execute_result"
    }
   ],
   "source": [
    "array2"
   ]
  },
  {
   "cell_type": "markdown",
   "id": "4951327e-6d35-4e7c-9a5a-8675066cfca9",
   "metadata": {
    "tags": []
   },
   "source": [
    "## Numpy inbuilt Functions"
   ]
  },
  {
   "cell_type": "code",
   "execution_count": 86,
   "id": "9b91de82-9ade-4b2a-a3d0-fbf83867ff83",
   "metadata": {},
   "outputs": [],
   "source": [
    "arrk=np.arange(0,5,step=0.2)"
   ]
  },
  {
   "cell_type": "code",
   "execution_count": 87,
   "id": "a17a0ab3-e792-4ce5-b517-b9b2123820d2",
   "metadata": {},
   "outputs": [
    {
     "data": {
      "text/plain": [
       "array([0. , 0.2, 0.4, 0.6, 0.8, 1. , 1.2, 1.4, 1.6, 1.8, 2. , 2.2, 2.4,\n",
       "       2.6, 2.8, 3. , 3.2, 3.4, 3.6, 3.8, 4. , 4.2, 4.4, 4.6, 4.8])"
      ]
     },
     "execution_count": 87,
     "metadata": {},
     "output_type": "execute_result"
    }
   ],
   "source": [
    "arrk"
   ]
  },
  {
   "cell_type": "code",
   "execution_count": 92,
   "id": "5c22c74f-9cfb-441d-b787-f708a622ed10",
   "metadata": {},
   "outputs": [
    {
     "data": {
      "text/plain": [
       "array([3.        , 3.15384615, 3.30769231, 3.46153846, 3.61538462,\n",
       "       3.76923077, 3.92307692, 4.07692308, 4.23076923, 4.38461538,\n",
       "       4.53846154, 4.69230769, 4.84615385, 5.        ])"
      ]
     },
     "execution_count": 92,
     "metadata": {},
     "output_type": "execute_result"
    }
   ],
   "source": [
    "np.linspace(3,5,num=14)"
   ]
  },
  {
   "cell_type": "markdown",
   "id": "6e443a22-d482-4dff-af0a-57ab3e571934",
   "metadata": {},
   "source": [
    "## AS copy Function\n",
    "- in Arrays when we assign somthing to reerence variable if we change reference variable it willeffect in parrrent variable also"
   ]
  },
  {
   "cell_type": "code",
   "execution_count": 95,
   "id": "80852002-8c47-4a72-ac2a-42328fd6e80b",
   "metadata": {},
   "outputs": [],
   "source": [
    "array[3:]=100"
   ]
  },
  {
   "cell_type": "code",
   "execution_count": 96,
   "id": "947a0581-3ad2-4430-b19e-ae0eefd94e0c",
   "metadata": {},
   "outputs": [
    {
     "data": {
      "text/plain": [
       "array([  4,   5,   6, 100, 100, 100])"
      ]
     },
     "execution_count": 96,
     "metadata": {},
     "output_type": "execute_result"
    }
   ],
   "source": [
    "array"
   ]
  },
  {
   "cell_type": "code",
   "execution_count": 97,
   "id": "4463e2e0-3f10-449a-b793-93e82a60e468",
   "metadata": {},
   "outputs": [],
   "source": [
    "arr1=array"
   ]
  },
  {
   "cell_type": "code",
   "execution_count": 98,
   "id": "34f88775-b40e-4657-80b9-c13881020f88",
   "metadata": {},
   "outputs": [],
   "source": [
    "arr1[3:]=500"
   ]
  },
  {
   "cell_type": "code",
   "execution_count": 99,
   "id": "04b6fa9d-f138-4589-b25b-fc544e6b6957",
   "metadata": {},
   "outputs": [
    {
     "data": {
      "text/plain": [
       "array([  4,   5,   6, 500, 500, 500])"
      ]
     },
     "execution_count": 99,
     "metadata": {},
     "output_type": "execute_result"
    }
   ],
   "source": [
    "array"
   ]
  },
  {
   "cell_type": "code",
   "execution_count": 100,
   "id": "2ed12591-738e-4652-888a-36139adf06e6",
   "metadata": {},
   "outputs": [
    {
     "data": {
      "text/plain": [
       "array([  4,   5,   6, 500, 500, 500])"
      ]
     },
     "execution_count": 100,
     "metadata": {},
     "output_type": "execute_result"
    }
   ],
   "source": [
    "arr1"
   ]
  },
  {
   "cell_type": "markdown",
   "id": "4880430d-7825-4dd1-a30a-5a6e928d2cb7",
   "metadata": {},
   "source": [
    "- To prevent this we have use .copy methd to elimante changing thereference data effecting"
   ]
  },
  {
   "cell_type": "code",
   "execution_count": 112,
   "id": "7ab113ae-3c80-4944-869c-cfb23410b0e3",
   "metadata": {},
   "outputs": [
    {
     "name": "stdout",
     "output_type": "stream",
     "text": [
      "[4 5 6 5 3 3] Original array\n",
      "[  4   5   6 259 259 259] Referenced Array\n"
     ]
    }
   ],
   "source": [
    "print(array,\"Original array\")\n",
    "arrayc=array.copy()\n",
    "arrayc[3:]=259\n",
    "print(arrayc,\"Referenced Array\")"
   ]
  },
  {
   "cell_type": "code",
   "execution_count": 124,
   "id": "46ec9622-c4e4-414a-8918-40a0a9ab2ed5",
   "metadata": {},
   "outputs": [
    {
     "name": "stdout",
     "output_type": "stream",
     "text": [
      "[False  True  True  True False False]\n"
     ]
    },
    {
     "data": {
      "text/plain": [
       "array([5, 6, 5])"
      ]
     },
     "execution_count": 124,
     "metadata": {},
     "output_type": "execute_result"
    }
   ],
   "source": [
    "val=2\n",
    "print(array>4)\n",
    "array[array>4]\n"
   ]
  },
  {
   "cell_type": "markdown",
   "id": "ed900fd9-4cff-4861-ae2a-ce4ebaac8644",
   "metadata": {},
   "source": [
    "## NP.ones()\n",
    "- np.ones will create a array with all the elements in the array sameas the given number in the peranthasis"
   ]
  },
  {
   "cell_type": "code",
   "execution_count": 129,
   "id": "7f0983df-631d-42d9-9b41-3c2e1858cf6b",
   "metadata": {},
   "outputs": [
    {
     "data": {
      "text/plain": [
       "array([1., 1., 1., 1., 1., 1.])"
      ]
     },
     "execution_count": 129,
     "metadata": {},
     "output_type": "execute_result"
    }
   ],
   "source": [
    "np.ones(6)"
   ]
  },
  {
   "cell_type": "code",
   "execution_count": 133,
   "id": "9a70ce41-6603-4f15-b878-babafbc7cbb6",
   "metadata": {},
   "outputs": [
    {
     "data": {
      "text/plain": [
       "array([[1, 1, 1, 1, 1, 1],\n",
       "       [1, 1, 1, 1, 1, 1],\n",
       "       [1, 1, 1, 1, 1, 1]])"
      ]
     },
     "execution_count": 133,
     "metadata": {},
     "output_type": "execute_result"
    }
   ],
   "source": [
    "np.ones([3,6],dtype=int)"
   ]
  },
  {
   "cell_type": "markdown",
   "id": "810e3d50-1b08-461a-8ea7-16052cd7ec07",
   "metadata": {},
   "source": [
    "## Numpy Random distribution\n",
    "- it will generate a random Numpy arrays with given shape inside the peranthesis\n",
    "- np.random.rand(4,3)\n",
    "## Uniform Distribution\n",
    "-   not be lessthen Zero and not be Greater then One"
   ]
  },
  {
   "cell_type": "code",
   "execution_count": 134,
   "id": "6503bc8b-b685-4956-95a8-92fb629ae425",
   "metadata": {},
   "outputs": [
    {
     "data": {
      "text/plain": [
       "array([[0.36136611, 0.39354455, 0.42266906],\n",
       "       [0.55632452, 0.84504172, 0.69210531],\n",
       "       [0.19440724, 0.91762104, 0.64571744],\n",
       "       [0.84035115, 0.63641024, 0.17787319]])"
      ]
     },
     "execution_count": 134,
     "metadata": {},
     "output_type": "execute_result"
    }
   ],
   "source": [
    "np.random.rand(4,3)"
   ]
  },
  {
   "cell_type": "code",
   "execution_count": 148,
   "id": "da93f2e7-9bbe-4f47-82dc-a8d1b4bb20d6",
   "metadata": {},
   "outputs": [
    {
     "data": {
      "text/plain": [
       "array([[ 1.31712867, -0.597616  ,  1.32175136],\n",
       "       [-1.05518052,  0.73563701, -1.34624452],\n",
       "       [-0.7150794 ,  0.0053638 , -0.05022485],\n",
       "       [ 0.35314639, -0.27706096, -2.33080978]])"
      ]
     },
     "execution_count": 148,
     "metadata": {},
     "output_type": "execute_result"
    }
   ],
   "source": [
    "np.random.randn(4,3)\n",
    "#it will select the basic variables from the standard normal distribution"
   ]
  },
  {
   "cell_type": "code",
   "execution_count": 153,
   "id": "17f61564-0240-4ee4-bdc5-773706c07c4e",
   "metadata": {},
   "outputs": [],
   "source": [
    "import seaborn as sns\n",
    "import pandas as pd"
   ]
  },
  {
   "cell_type": "code",
   "execution_count": 160,
   "id": "ac45ae34-4757-43f7-9624-9cde6ba61993",
   "metadata": {},
   "outputs": [
    {
     "name": "stderr",
     "output_type": "stream",
     "text": [
      "C:\\Users\\vnaga\\anaconda3\\lib\\site-packages\\seaborn\\distributions.py:2619: FutureWarning: `distplot` is a deprecated function and will be removed in a future version. Please adapt your code to use either `displot` (a figure-level function with similar flexibility) or `histplot` (an axes-level function for histograms).\n",
      "  warnings.warn(msg, FutureWarning)\n"
     ]
    },
    {
     "data": {
      "text/plain": [
       "<AxesSubplot:ylabel='Density'>"
      ]
     },
     "execution_count": 160,
     "metadata": {},
     "output_type": "execute_result"
    },
    {
     "data": {
      "image/png": "[encoded data removed]",
      "text/plain": [
       "<Figure size 432x288 with 1 Axes>"
      ]
     },
     "metadata": {
      "needs_background": "light"
     },
     "output_type": "display_data"
    }
   ],
   "source": [
    "sns.distplot(pd.DataFrame(array2.reshape(15,1)))"
   ]
  },
  {
   "cell_type": "code",
   "execution_count": 173,
   "id": "9229bb27-fadb-4c7a-9429-c9c8570ff390",
   "metadata": {},
   "outputs": [
    {
     "data": {
      "text/plain": [
       "array([32, 35, 41, 12, 35, 56, 91, 67])"
      ]
     },
     "execution_count": 173,
     "metadata": {},
     "output_type": "execute_result"
    }
   ],
   "source": [
    "np.random.randint(0,100,8)"
   ]
  },
  {
   "cell_type": "code",
   "execution_count": 174,
   "id": "2698ad36-3ebf-4964-b0e7-f6c0b30505a6",
   "metadata": {},
   "outputs": [
    {
     "data": {
      "text/plain": [
       "array([[57, 54],\n",
       "       [64, 33],\n",
       "       [62, 94],\n",
       "       [15, 34]])"
      ]
     },
     "execution_count": 174,
     "metadata": {},
     "output_type": "execute_result"
    }
   ],
   "source": [
    "np.random.randint(0,100,8).reshape(4,2)"
   ]
  },
  {
   "cell_type": "code",
   "execution_count": 208,
   "id": "b18fa769-cd19-468e-bdf6-749827c7c984",
   "metadata": {},
   "outputs": [
    {
     "data": {
      "text/plain": [
       "array([[0.83024319, 0.83644285, 0.59461775, 0.67723313, 0.78111904]])"
      ]
     },
     "execution_count": 208,
     "metadata": {},
     "output_type": "execute_result"
    }
   ],
   "source": [
    "np.random.random_sample((1,5))"
   ]
  },
  {
   "cell_type": "code",
   "execution_count": null,
   "id": "ea444eaf-b32e-4afb-8263-5664e011f3aa",
   "metadata": {},
   "outputs": [],
   "source": []
  }
 ],
 "metadata": {
  "kernelspec": {
   "display_name": "Python 3 (ipykernel)",
   "language": "python",
   "name": "python3"
  },
  "language_info": {
   "codemirror_mode": {
    "name": "ipython",
    "version": 3
   },
   "file_extension": ".py",
   "mimetype": "text/x-python",
   "name": "python",
   "nbconvert_exporter": "python",
   "pygments_lexer": "ipython3",
   "version": "3.9.7"
  }
 },
 "nbformat": 4,
 "nbformat_minor": 5
}
