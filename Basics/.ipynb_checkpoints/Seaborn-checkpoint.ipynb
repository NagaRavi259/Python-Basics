{
 "cells": [
  {
   "cell_type": "code",
   "execution_count": null,
   "id": "656d83ab-4d7e-4414-b7ce-3fb86825eaa1",
   "metadata": {},
   "outputs": [],
   "source": []
  },
  {
   "cell_type": "code",
   "execution_count": null,
   "id": "2e6ce916-7da1-44f9-9342-ae55f12b6744",
   "metadata": {},
   "outputs": [],
   "source": []
  },
  {
   "cell_type": "code",
   "execution_count": null,
   "id": "0501742a-eb7e-40ee-8015-31e2661b713d",
   "metadata": {},
   "outputs": [],
   "source": []
  },
  {
   "cell_type": "code",
   "execution_count": null,
   "id": "b02f64b8-b32e-489b-b504-14a0290be763",
   "metadata": {},
   "outputs": [],
   "source": []
  },
  {
   "cell_type": "code",
   "execution_count": null,
   "id": "e21e5f86-c18f-421c-91e3-e9cc3176aca5",
   "metadata": {},
   "outputs": [],
   "source": []
  },
  {
   "cell_type": "code",
   "execution_count": null,
   "id": "2d015762-e929-4cc5-826e-abf702380856",
   "metadata": {},
   "outputs": [],
   "source": []
  },
  {
   "cell_type": "markdown",
   "id": "56fa4dc5-0540-4658-af4a-c65219f72f6f",
   "metadata": {},
   "source": [
    "based on the type of problem we have to devide the data set into a multiple parts\n",
    "in a dataset we are getting F1,F2,F3,F4"
   ]
  },
  {
   "cell_type": "markdown",
   "id": "763a3441-20a3-431e-8be6-4490cf991c14",
   "metadata": {},
   "source": [
    "# Seaborn\n",
    "- Seaborn has a lot of statistical tools\n",
    "    ## Distribution plots\n",
    "    - distplot\n",
    "    - joinplot\n",
    "    - pairplot"
   ]
  },
  {
   "cell_type": "code",
   "execution_count": null,
   "id": "8f075d0a-eb8d-4d32-9d1e-fb8ca5eadeda",
   "metadata": {},
   "outputs": [],
   "source": []
  }
 ],
 "metadata": {
  "kernelspec": {
   "display_name": "Python 3 (ipykernel)",
   "language": "python",
   "name": "python3"
  },
  "language_info": {
   "codemirror_mode": {
    "name": "ipython",
    "version": 3
   },
   "file_extension": ".py",
   "mimetype": "text/x-python",
   "name": "python",
   "nbconvert_exporter": "python",
   "pygments_lexer": "ipython3",
   "version": "3.9.7"
  }
 },
 "nbformat": 4,
 "nbformat_minor": 5
}
