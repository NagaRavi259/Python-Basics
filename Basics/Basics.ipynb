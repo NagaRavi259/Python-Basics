{
 "cells": [
  {
   "cell_type": "markdown",
   "id": "d790a169-8246-4b10-98ed-8fb0101b09b5",
   "metadata": {
    "tags": []
   },
   "source": [
    "## Contrbuting Github opensource projects\n",
    "- Steps to get more github points\n",
    "- [ ] Find a project which i have knowldge\n",
    "    - To get project dont go through all the pojects on the github\n",
    "    - go with the explorer menu in the gitub and find the project\n",
    "    - or you can contribute on the project that youre working got he modules your working on \n",
    "    - see which one was old start at there\n",
    "    - go to the issue queue and find a solution and help them\n",
    "    - then check their any rules for contributing and follow \n",
    "- [ ] go to the top and click forke button and choose your self as a owener and create and clone it into your pc and start working on \n",
    "    - chang is just simple changing like data type or what itis just do it be creative\n",
    "    - add , commit, and push our forke that we created\n",
    "    - head oer to te main project braject branch and click compare and pull rquest and \n",
    "    - it will show the text field and enter what changes that we made to the project and anyissues we fixed and hit create and pull\n",
    "    - some projects have veriication \n",
    "    - some projects dont have verifiaction and they will instently mergeit into the projects\n",
    "    - wait for the fedback and review"
   ]
  },
  {
   "cell_type": "code",
   "execution_count": 1,
   "id": "19345d0e-a66e-496e-bb0b-5633a3d1708c",
   "metadata": {},
   "outputs": [],
   "source": [
    "if __name__=='__main__':\n",
    "    def __init__(self):\n",
    "        return 4 "
   ]
  },
  {
   "cell_type": "markdown",
   "id": "beab1aff-2092-4630-abdd-d7557e890b96",
   "metadata": {},
   "source": [
    "##__name__ returns the name of that module\n",
    "    - module is python file which contains pythons definitions and statements\n",
    "    - when we want to know which module we are working in then we can use this variable to find out\n",
    "    - if the file is imported and running by other python file it will return that file name in __name__ variable \n",
    "    - "
   ]
  },
  {
   "cell_type": "code",
   "execution_count": 2,
   "id": "79360798-de63-47aa-b2f7-90452d03483e",
   "metadata": {},
   "outputs": [
    {
     "data": {
      "text/plain": [
       "'__main__'"
      ]
     },
     "execution_count": 2,
     "metadata": {},
     "output_type": "execute_result"
    }
   ],
   "source": [
    "__name__"
   ]
  },
  {
   "cell_type": "markdown",
   "id": "f1d6110f-e919-47a8-a4f4-044caf2f41e4",
   "metadata": {},
   "source": [
    "## args and kwargs\n",
    "### *args\n",
    "- args means positional arguments these arenessesary to execute functin\n",
    "    - args are variables or values\n",
    "    - to specify variable as possitional argument add single * before the variable\n",
    "    - Example :-\n",
    "        - var = 'string'\n",
    "        - fun(21,var)\n",
    "        - fun(*var)\n",
    "\n",
    "### **kwargs\n",
    "- **kwargs are not nessesaryit defults store a value inside the **kwargs keyword but if the user needs to pass the value it will replace the defult value\n",
    "    - kwargs are value assigned variables in a function call\n",
    "    - to specify variable as possitional argument add double ** before the variable\n",
    "    - Example:-\n",
    "        - var = 50\n",
    "        - fun(kwarg1=20,kwarg2=30)\n",
    "        - fun(**var)"
   ]
  },
  {
   "cell_type": "markdown",
   "id": "25da834a-7d7d-4fd7-90ad-e0936d32cac9",
   "metadata": {
    "tags": []
   },
   "source": [
    "## Type annotation\n",
    "- Type annotation is the process of defining the input and output data ofthe function return value\n",
    "- it is done by using the  type annotations at the end of the function definition using the (-> str: , -> int:)_\n",
    "    - example \n",
    "        - -> def swim(test) -> str: # so it will return output as string value\n",
    "                - return \"I am swimming\"\n",
    "        - Type anotaions:\n",
    "            - str\n",
    "            - int\n",
    "            - None\n",
    "            - any"
   ]
  },
  {
   "cell_type": "code",
   "execution_count": 3,
   "id": "a7cfd743-b7ef-47c9-9210-a8f562d10ad3",
   "metadata": {},
   "outputs": [],
   "source": [
    "class whale():\n",
    "    def swim(self) -> str:\n",
    "        return \"I am swimming\"\n",
    "    def sing(self) -> str:\n",
    "        return 'I am singing'\n",
    "    def __len__(self) -> int:\n",
    "        return 17"
   ]
  },
  {
   "cell_type": "code",
   "execution_count": 4,
   "id": "805f8d21-6cc9-4ba9-8944-0208a45d9052",
   "metadata": {},
   "outputs": [],
   "source": [
    "test=whale()"
   ]
  },
  {
   "cell_type": "code",
   "execution_count": 5,
   "id": "fa0e7e3e-b794-4550-afb2-15bfe5713139",
   "metadata": {},
   "outputs": [
    {
     "data": {
      "text/plain": [
       "int"
      ]
     },
     "execution_count": 5,
     "metadata": {},
     "output_type": "execute_result"
    }
   ],
   "source": [
    "type(test.__len__())"
   ]
  },
  {
   "cell_type": "code",
   "execution_count": 6,
   "id": "c5ec3669-b44a-4070-8d06-4f32b10a746c",
   "metadata": {},
   "outputs": [],
   "source": [
    "def hello(*args,**kwargs):\n",
    "    pass"
   ]
  },
  {
   "cell_type": "markdown",
   "id": "e77a51fa-45d0-446a-af3c-03d1f8407e31",
   "metadata": {},
   "source": [
    " "
   ]
  },
  {
   "cell_type": "markdown",
   "id": "7b43d04f-55b8-4867-88e5-991da0401af1",
   "metadata": {},
   "source": [
    "## Lambda functions\n",
    "- Lambda functions are also called as anonymous functions\n",
    "- Lambda function is a function with no name\n",
    "- it defined by keyword lambda \n",
    "    - Examplec:-\n",
    "        - k=lambda a,b:a+b it is the function it will take a and b perameters and return sum of a+b\n",
    "        - to call function we have to use variable name as function name\n",
    "            - k(a,b)\n",
    "    - it will only works when we have single expression\n",
    "- lambda functions are faster then the normal functions\n"
   ]
  },
  {
   "cell_type": "code",
   "execution_count": 7,
   "id": "83c4f2c0-b7dc-42e8-a5d4-679b0fc350eb",
   "metadata": {},
   "outputs": [],
   "source": [
    "k=lambda a,b:a+b"
   ]
  },
  {
   "cell_type": "code",
   "execution_count": 8,
   "id": "a2325841-bba7-4834-bb61-cc0251d6c730",
   "metadata": {},
   "outputs": [
    {
     "data": {
      "text/plain": [
       "3"
      ]
     },
     "execution_count": 8,
     "metadata": {},
     "output_type": "execute_result"
    }
   ],
   "source": [
    "k(1,2) "
   ]
  },
  {
   "cell_type": "markdown",
   "id": "5804a19f-0797-4fc6-8835-8b4dd2143b41",
   "metadata": {},
   "source": [
    " "
   ]
  },
  {
   "cell_type": "markdown",
   "id": "c044c336-6cc4-4a0b-8d74-b11eeed80309",
   "metadata": {},
   "source": [
    "## map function\n",
    "- map function is used to itterate the one function on a list of elements\n",
    "- it takes two possitional arguments first one was a function and second one was itterables AKA lists\n",
    "    - Example:-\n",
    "        - k= map(fun,lst)"
   ]
  },
  {
   "cell_type": "code",
   "execution_count": 9,
   "id": "cdec2bdf-90a3-49c6-95e0-642c27ca1563",
   "metadata": {},
   "outputs": [],
   "source": [
    "lst=[1,2,3,4,5,6,7,8,9]\n",
    "def fun(a):  ## this function will take a one positional argument int and check weather the num is odd or even and return\n",
    "    if a%2==0:\n",
    "        return \"even\",a\n",
    "    else:\n",
    "        return \"odd\",a\n",
    "k=list(map(fun,lst)) #this run that function on each element in list and return weather odd or even"
   ]
  },
  {
   "cell_type": "code",
   "execution_count": 10,
   "id": "7adc1069-f49c-475e-a044-12da161c6e2e",
   "metadata": {},
   "outputs": [
    {
     "name": "stdout",
     "output_type": "stream",
     "text": [
      "[('odd', 1), ('even', 2), ('odd', 3), ('even', 4), ('odd', 5), ('even', 6), ('odd', 7), ('even', 8), ('odd', 9)]\n"
     ]
    }
   ],
   "source": [
    "print(k)"
   ]
  },
  {
   "cell_type": "markdown",
   "id": "c004e88d-4a8b-4bf0-9ff2-92715dc7e2bc",
   "metadata": {},
   "source": [
    " "
   ]
  },
  {
   "cell_type": "markdown",
   "id": "508dc644-3f93-4cec-8c66-f1da5085c2de",
   "metadata": {},
   "source": [
    "## Filter function\n",
    "- filter is similar to the map but it only stores the values which succsusfully ran\n",
    "- Filter function is used to itterate the one function on a list of elements\n",
    "- it takes two possitional arguments first one was a function and second one was itterables AKA lists\n",
    "    - Example:-\n",
    "        - k= Filter(fun,lst)\n",
    "        - the filyter function returns the only values that are return true"
   ]
  },
  {
   "cell_type": "code",
   "execution_count": 11,
   "id": "323726e8-8819-44c3-85c5-1a9fe1351e65",
   "metadata": {},
   "outputs": [],
   "source": [
    "lst=[1,2,3,4,5,6,7,8,9]\n",
    "def fil(a):  ## this function will take a one positional argument int and check weather the num is odd or even and return\n",
    "    if a%2==0:\n",
    "        return True\n",
    "filt=filter(fil,lst)"
   ]
  },
  {
   "cell_type": "code",
   "execution_count": 12,
   "id": "6cd1110c-d5ac-4251-8b8b-094506fb234a",
   "metadata": {},
   "outputs": [
    {
     "data": {
      "text/plain": [
       "[2, 4, 6, 8]"
      ]
     },
     "execution_count": 12,
     "metadata": {},
     "output_type": "execute_result"
    }
   ],
   "source": [
    "list(filt) # it stores a values that return the boolen value True in the function "
   ]
  },
  {
   "cell_type": "markdown",
   "id": "2afdc4b7-04dd-4c65-92fc-6ee32f0c81ed",
   "metadata": {},
   "source": [
    " "
   ]
  },
  {
   "cell_type": "markdown",
   "id": "59f1ba01-d768-4d35-b1b5-a02348451a69",
   "metadata": {},
   "source": [
    "## Reduce Function\n",
    "- the reduce function takes a two arguments one is function and second one was itterable\n",
    "- it takes a itterable and run the function and store it into a variable and takes the second value in itterables and do the function with previous values as first argument and second argument from iterable \n",
    "- and it continues until the itterables and end\n",
    "    - ***Example***:-\n",
    "        - lst=[1,2,3,4,5,6,7,8,9]\n",
    "        - fun(a,b):   \n",
    "        - reduce(fun,lst)\n",
    "            - execution:\n",
    "            - Step1 - var1=fun(1,2)\n",
    "            - Step2 - var2=fun(var1,3)\n",
    "            - Step3 - var3=fun(var2,4)\n",
    "        - and it goes\n",
    "            -  and it return the finale value after the execution"
   ]
  },
  {
   "cell_type": "code",
   "execution_count": 13,
   "id": "de9e5475-8577-46e3-a477-1d597b4b75ab",
   "metadata": {},
   "outputs": [
    {
     "data": {
      "text/plain": [
       "45"
      ]
     },
     "execution_count": 13,
     "metadata": {},
     "output_type": "execute_result"
    }
   ],
   "source": [
    "from functools import reduce\n",
    "\n",
    "lst=[1,2,3,4,5,6,7,8,9]\n",
    "def fil(a,b):  ## this function will take a one positional argument int and check weather the num is odd or even and return\n",
    "    return a+b\n",
    "k=reduce(fil,lst)\n",
    "k"
   ]
  },
  {
   "cell_type": "markdown",
   "id": "a596a806-2ce0-44b5-b80e-686a23d0274c",
   "metadata": {},
   "source": [
    " "
   ]
  },
  {
   "cell_type": "markdown",
   "id": "756b5df6-d629-42fc-a2ce-6337fec17e42",
   "metadata": {},
   "source": [
    "## list Comprehensions\n",
    "- List comprehension provides a concise way to create a list.\n",
    "- it consists of brackets containing an expression followed by a for clause, then zero or more for or if clauses.\n",
    "- The expression can be anything. meaning you can put in all kinds of objects in list\n",
    "- Example :-\n",
    "    - ['Operation' 'For loop' 'if clause']\n",
    "    -\n",
    "    - [k+1 for i in range(2,50) if i%2==0] \n",
    "    - The above expression will return a list with even numbers from range from 2 to 50"
   ]
  },
  {
   "cell_type": "code",
   "execution_count": 14,
   "id": "dc38db4f-f654-4167-881c-22d65824b7a4",
   "metadata": {},
   "outputs": [],
   "source": [
    "lst1=[]\n",
    "def lst_squre(lst):\n",
    "    for i in lst: # it takes more time as it has loops\n",
    "        lst1.append(i*i)\n",
    "    return lst1"
   ]
  },
  {
   "cell_type": "code",
   "execution_count": 15,
   "id": "e5660318-b551-458a-8807-abd363a2c888",
   "metadata": {},
   "outputs": [
    {
     "data": {
      "text/plain": [
       "[1, 4, 9, 16, 36, 49, 49, 36, 25, 16, 16, 36]"
      ]
     },
     "execution_count": 15,
     "metadata": {},
     "output_type": "execute_result"
    }
   ],
   "source": [
    "lst_squre([1,2,3,4,6,7,7,6,5,4,4,6])"
   ]
  },
  {
   "cell_type": "code",
   "execution_count": 16,
   "id": "095c989a-8def-46b0-9ed2-5e3fb8d7f5aa",
   "metadata": {},
   "outputs": [],
   "source": [
    "lst=[1,2,3,4,6,7,7,6,5,4,4,6]\n",
    "lstn=[i*i for i in lst]\n",
    "lst_even=[i*i for i in lst if i%2==0 ] ## "
   ]
  },
  {
   "cell_type": "code",
   "execution_count": 17,
   "id": "fbd1c061-f266-41cd-90f0-b73df98606c3",
   "metadata": {},
   "outputs": [
    {
     "data": {
      "text/plain": [
       "[4, 16, 36, 36, 16, 16, 36]"
      ]
     },
     "execution_count": 17,
     "metadata": {},
     "output_type": "execute_result"
    }
   ],
   "source": [
    "lst_even"
   ]
  },
  {
   "cell_type": "code",
   "execution_count": 18,
   "id": "ba655d10-19a7-4751-b355-63e0382f36ef",
   "metadata": {},
   "outputs": [
    {
     "name": "stdout",
     "output_type": "stream",
     "text": [
      "[3, 5, 7, 9, 11, 13, 15, 17, 19, 21, 23, 25, 27, 29, 31, 33, 35, 37, 39, 41, 43, 45, 47, 49]\n"
     ]
    }
   ],
   "source": [
    "print([i+1 for i in range(2,50) if i%2==0])#This expression will return a list with even numbers from range from 2 to 50"
   ]
  },
  {
   "cell_type": "markdown",
   "id": "30805102-d3b9-4c82-9258-3633d0927591",
   "metadata": {},
   "source": [
    " "
   ]
  },
  {
   "cell_type": "markdown",
   "id": "3ff08e1c-c12f-4e83-a3e4-96e089f8df0f",
   "metadata": {},
   "source": [
    "## String Formatting "
   ]
  },
  {
   "cell_type": "code",
   "execution_count": 19,
   "id": "99742f48-c351-4d93-9b5b-b133d0b5ed99",
   "metadata": {},
   "outputs": [
    {
     "name": "stdout",
     "output_type": "stream",
     "text": [
      "Hello Everyone\n"
     ]
    }
   ],
   "source": [
    "print('Hello Everyone')"
   ]
  },
  {
   "cell_type": "code",
   "execution_count": 20,
   "id": "09b9c213-5a2a-4610-8979-dd6e9ecd4cd5",
   "metadata": {},
   "outputs": [
    {
     "name": "stdout",
     "output_type": "stream",
     "text": [
      "Hello Everyone First_String Second_String\n",
      "Hello Everyone First_String Second_String\n"
     ]
    }
   ],
   "source": [
    "print('Hello Everyone {} {}'.format('First_String','Second_String'))\n",
    "# the curly brackets are place holders for dynamic strigs \n",
    "# those curly brackets will replace the paramates we given in .format() peranthasis\n",
    "    # in the above example sometimes the ordering will be missplaced \n",
    "    #to fix that issue we can pass the variables inside those curly braces\n",
    "print('Hello Everyone {fst} {snd}'.format(fst='First_String',snd='Second_String'))\n"
   ]
  },
  {
   "cell_type": "markdown",
   "id": "7b640520-5e30-4589-b83c-ffe6d806daee",
   "metadata": {},
   "source": [
    " "
   ]
  },
  {
   "cell_type": "markdown",
   "id": "910c4d2f-c43f-466a-9f48-33f4c39c5999",
   "metadata": {},
   "source": [
    "## Iterables vs Iterators\n",
    "- iterables \n",
    "    - iterables are storedin memory and easy to acess all at a same time or each one at a time \n",
    "    - example :-\n",
    "        - lists are iterables as lists are stored in a memory when we create list\n",
    "        - so we can acess all at same time\n",
    "- iterators \n",
    "    - itrators are created as objects but it wont be inialized in memory until we call that value from the object\n",
    "    - when we the iterator with next(iterator) it will take each value and allocate memory and once next value called it will erase previous value and initialize next value"
   ]
  },
  {
   "cell_type": "code",
   "execution_count": 21,
   "id": "9e7fe6ac-389b-4e38-9c23-44237293c6c4",
   "metadata": {},
   "outputs": [],
   "source": [
    "lst=[43,6,5,4,6,6,5,6]"
   ]
  },
  {
   "cell_type": "code",
   "execution_count": 22,
   "id": "3b3810c9-f510-4480-bc93-b9cb0bd15345",
   "metadata": {},
   "outputs": [
    {
     "name": "stdout",
     "output_type": "stream",
     "text": [
      "[43, 6, 5, 4, 6, 6, 5, 6]\n"
     ]
    }
   ],
   "source": [
    "print(lst)# as the lst was a list it allocate memory for list elemnts so we can acess the all the elements"
   ]
  },
  {
   "cell_type": "code",
   "execution_count": 23,
   "id": "d2973868-8697-43b7-89bf-52e4e7cfe9f1",
   "metadata": {},
   "outputs": [],
   "source": [
    "lsti=iter(lst) # converted the list(interable) into a iterator object with iter() function"
   ]
  },
  {
   "cell_type": "code",
   "execution_count": 24,
   "id": "725d8b51-cc82-4449-acfb-903341170590",
   "metadata": {},
   "outputs": [
    {
     "name": "stdout",
     "output_type": "stream",
     "text": [
      "<list_iterator object at 0x000001B84A83F640>\n"
     ]
    }
   ],
   "source": [
    "print(lsti)# as it was a iterator object we cant acess all elements"
   ]
  },
  {
   "cell_type": "markdown",
   "id": "d650acfb-923a-490e-887e-869d35ac3239",
   "metadata": {},
   "source": [
    "- to acess the elements inside the iterator object we have to use the next() to get the values"
   ]
  },
  {
   "cell_type": "code",
   "execution_count": 25,
   "id": "8f7ef5fe-e761-4f93-8b3a-558983553094",
   "metadata": {},
   "outputs": [
    {
     "data": {
      "text/plain": [
       "43"
      ]
     },
     "execution_count": 25,
     "metadata": {},
     "output_type": "execute_result"
    }
   ],
   "source": [
    "next(lsti)"
   ]
  },
  {
   "cell_type": "code",
   "execution_count": 26,
   "id": "5698906b-11c0-4fad-8849-84337dda00cb",
   "metadata": {},
   "outputs": [
    {
     "name": "stdout",
     "output_type": "stream",
     "text": [
      "6\n",
      "5\n",
      "4\n",
      "6\n",
      "6\n",
      "5\n",
      "6\n"
     ]
    }
   ],
   "source": [
    "#to acess all elements we can use with iteratoe object\n",
    "for i in lsti:\n",
    "    print(i)\n",
    "## As iterator stores one element at a time it takes less space to run the code"
   ]
  },
  {
   "cell_type": "markdown",
   "id": "aa49f063-c1be-464b-9f85-ac7add90067a",
   "metadata": {},
   "source": [
    "## Pyforest\n",
    "- pyforest is a tool which helps to import the libraris that we wantto use in code\n",
    "- when we use librarys in code it will check the functions and import those function to the code \n",
    "\n",
    "### need to import the pyforest so it will import other libraris it self"
   ]
  },
  {
   "cell_type": "code",
   "execution_count": 27,
   "id": "7798d332-add8-4024-ab1c-1f3278061777",
   "metadata": {},
   "outputs": [
    {
     "data": {
      "application/javascript": [
       "\n",
       "        if (window._pyforest_update_imports_cell) { window._pyforest_update_imports_cell('import numpy as np'); }\n",
       "    "
      ],
      "text/plain": [
       "<IPython.core.display.Javascript object>"
      ]
     },
     "metadata": {},
     "output_type": "display_data"
    }
   ],
   "source": [
    "kl=np.linspace(2,10,10)"
   ]
  },
  {
   "cell_type": "markdown",
   "id": "caadadde-d142-47da-a0a9-658deca01799",
   "metadata": {},
   "source": [
    " "
   ]
  },
  {
   "cell_type": "markdown",
   "id": "86d54020-1b34-4b40-97ce-66248d34a7a5",
   "metadata": {},
   "source": []
  },
  {
   "cell_type": "markdown",
   "id": "e4e91d92-1825-41bc-92b1-9023a7c79ce3",
   "metadata": {
    "tags": []
   },
   "source": [
    "## Exception handling \n",
    "---\n",
    "    \n",
    "- with the execption handling we can give a meaning full error to users\n",
    "    - Error:\n",
    "        - errors are caused when compiling the code example syntex error or symatic error\n",
    "        - errors are not handled within the code\n",
    "    - execption\n",
    "        - execptions are caused when it was using might be a data missmatch execptin or permission execptions\n",
    "        - execptions are handled within the code\n",
    "- ### Try\n",
    "    - the Try block where the code will run and when code throws an error except block will catch\n",
    "- ### Except\n",
    "    - The except block will catch the error and return the error and it will run the other code\n",
    "- ### else\n",
    "    - the else block will triger when the code is exited without throwing any error \n",
    "    - the else block will run when there is no errors in the code  \n",
    "    - if the execption is handled in except block else block will not be executed\n",
    "- ### finally\n",
    "    - the finally block will execute always at the end of the except or else block\n",
    "    - Example :-\n",
    "        - when we are working with data base if the error occoured while running the code \n",
    "        - it will get into the except or else block and if the error is handled it will go back \n",
    "        - if it never wont handled it will exit hte code \n",
    "            - in that time the finally block will closses the data base and exits the code\n",
    "- ### Try\n",
    "    - the Try block where the code will run and when code throws an error except block will catch\n",
    "- ### Except\n",
    "    - The except block will catch the error and return the error and it will run the other code\n",
    "- ### else\n",
    "    - the else block will triger when the code is exited without throwing any error \n",
    "    - the else block will run when there is no errors in the code  \n",
    "    - if the execption is handled in except block else block will not be executed\n",
    "- ### finally\n",
    "    - the finally block will execute always at the end of the except or else block\n",
    "    - Example :-\n",
    "        - when we are working with data base if the error occoured while running the code \n",
    "        - it will get into the except or else block and if the error is handled it will go back \n",
    "        - if it never wont handled it will exit hte code \n",
    "            - in that time the finally block will closses the data base and exits the code\n",
    "- when try block has an error which exits the try block and goes to the except block so the error has printed or re start code by changing what needs to changed\n",
    "- we can Write multiple except block with different types of errors\n",
    "    - if the first error dosent match with exception it will check with second error\n",
    "    "
   ]
  },
  {
   "cell_type": "code",
   "execution_count": 28,
   "id": "3a05c344-42be-42de-97cb-39bf90a47edf",
   "metadata": {},
   "outputs": [],
   "source": [
    "#12/0\n",
    "## this is the error as it was not defined "
   ]
  },
  {
   "cell_type": "code",
   "execution_count": 29,
   "id": "57280cd1-3dd9-4267-a1c3-f94aad735d84",
   "metadata": {},
   "outputs": [
    {
     "name": "stdin",
     "output_type": "stream",
     "text": [
      "Enter the number 1 :-  3\n",
      "enter the number 2 :-  45\n"
     ]
    },
    {
     "name": "stdout",
     "output_type": "stream",
     "text": [
      "0.06666666666666667\n",
      "3\n",
      "45\n",
      "0.06666666666666667\n"
     ]
    }
   ],
   "source": [
    "try:\n",
    "    ## Code where execptions are occoured\n",
    "    a=int(input(\"Enter the number 1 :- \"))\n",
    "    b=int(input(\"enter the number 2 :- \"))\n",
    "    c=a/b\n",
    "    print(c)\n",
    "except NameError as nx: ##in here we taking error type and handling that error accourdingly\n",
    "    print(\"the user not defined the values\") # in here when ever the name error comes it goes into this block and send thois message to user\n",
    "except TypeError as tx: ##in here we taking error type and handling that error accourdingly\n",
    "    print(\"Try to make data type similar\") # in here we got the Type error because of the we are tryto concatinate the string and int\n",
    "except ZeroDivisionError as tx: ##in here we taking error type and handling that error accourdingly\n",
    "    print(\"Please provide the number greater then zero\")# in here we got the Zerodevisionerror because of the we are try to devision positive number by zero\n",
    "except Exception as ex: # always this has to write to end of the exception handlin\n",
    "    print(ex) ## try block has an error which exits the try block and goes to the except block so the error has printed\n",
    "else:\n",
    "    print(a)\n",
    "    print(b)\n",
    "    print(c)"
   ]
  },
  {
   "cell_type": "markdown",
   "id": "e15222ae-2544-464b-b9b5-ce46a5ec4c7a",
   "metadata": {},
   "source": [
    "### Custom Execption Handling\n"
   ]
  },
  {
   "cell_type": "code",
   "execution_count": 30,
   "id": "8b42b6ec-4b7e-4e36-9ccb-8057114a94d6",
   "metadata": {},
   "outputs": [],
   "source": [
    "class Error(Exception):\n",
    "    pass\n",
    "class dobExecption(Error):\n",
    "    pass\n"
   ]
  },
  {
   "cell_type": "code",
   "execution_count": 31,
   "id": "448bc7cd-8d69-4f57-9419-667d4b8deeba",
   "metadata": {},
   "outputs": [
    {
     "name": "stdin",
     "output_type": "stream",
     "text": [
      "Enter yer of birth :-  2019\n"
     ]
    },
    {
     "name": "stdout",
     "output_type": "stream",
     "text": [
      "You cannot apply\n"
     ]
    }
   ],
   "source": [
    "year=int(input('Enter yer of birth :- '))\n",
    "age=2021-year\n",
    "try:\n",
    "    if age <=30 and age>20:\n",
    "        print('you can applyy')\n",
    "    else:\n",
    "        raise(dobExecption)\n",
    "except dobExecption:\n",
    "    print('You cannot apply')"
   ]
  },
  {
   "cell_type": "markdown",
   "id": "8448f9a6-43f7-43b9-83ab-f6661f4a3671",
   "metadata": {},
   "source": [
    " "
   ]
  },
  {
   "cell_type": "markdown",
   "id": "f681e0cc-00a2-4e62-96ed-54cac343b031",
   "metadata": {
    "tags": []
   },
   "source": [
    "## OOPS concepts\n",
    "---"
   ]
  },
  {
   "cell_type": "markdown",
   "id": "5d22dd66-bbb4-4209-9641-e6030c0030a2",
   "metadata": {
    "tags": []
   },
   "source": [
    "### Class\n",
    "- class has objects and functions\n",
    "    - objects \n",
    "- class is a  combinationof multiple methods\n",
    "- each method has different functions\n"
   ]
  },
  {
   "cell_type": "code",
   "execution_count": 32,
   "id": "7483421f-f348-44c5-9b7e-86746bcb590f",
   "metadata": {},
   "outputs": [],
   "source": [
    "class car(): #just created a class which hasno function\n",
    "    pass"
   ]
  },
  {
   "cell_type": "code",
   "execution_count": 33,
   "id": "7c350b1e-6edd-4077-8dc1-44dd931c818a",
   "metadata": {},
   "outputs": [
    {
     "name": "stdout",
     "output_type": "stream",
     "text": [
      "<__main__.car object at 0x000001B84BC32B80>\n"
     ]
    }
   ],
   "source": [
    "# to instantiate a classh we have to assign a classs with a variable\n",
    "car1=car()\n",
    "print(car1) # if we print the class it just return the memory location that class"
   ]
  },
  {
   "cell_type": "code",
   "execution_count": 34,
   "id": "10fcdfc2-e5e9-4730-83c0-6aee8d40675b",
   "metadata": {},
   "outputs": [],
   "source": [
    "## once we create a class \n",
    "car1.windows=4\n",
    "car1.engine=\"mazarati\"\n",
    "car1.enginetype='Diesel'\n",
    "# we can add infinite attributes to the class \n",
    "## this approach of creting class is wrong\n",
    "# class car():\n",
    "#     pass"
   ]
  },
  {
   "cell_type": "markdown",
   "id": "f0ab1ef2-bbac-4a7d-a4bf-860ac80ffa36",
   "metadata": {},
   "source": [
    "### __init__\n",
    "-  __init__ will initalize the class\n",
    "- init also acts as a constructer to the class when ever we call the class and what values we passed defult int that init perameter\n",
    "    - Example:- \n",
    "        - def __init__(self,windows,enginetype,doors):\n",
    "        - in the above statement it needs total 3 perameters \n",
    "        - 1.windows\n",
    "        - 2.enginetype\n",
    "        - 3.doors\n",
    "     - it will take those perameter and add it to the class instence variable\n",
    "- init will limit the no of attributes to be placed inside class\n",
    "- once we initilize we can give how many parameters need to be consider inside that class inside a peranthasis\n",
    "\n",
    "### self\n",
    "- self will act as a route for class objects and class intence variable when we call the self keyword it will get the all objects and variables inside the class\n",
    "-  by using the self keyword in the second method we are able to use the variables inside the other methods "
   ]
  },
  {
   "cell_type": "code",
   "execution_count": 35,
   "id": "21e4828b-b44a-4ab1-9b75-b4343aedda15",
   "metadata": {},
   "outputs": [],
   "source": [
    "class car:\n",
    "    def __init__(self,windows,enginetype,doors):\n",
    "        self.windows=windows\n",
    "        self.doors=doors\n",
    "        self.enginetype=enginetype\n",
    "    def self_driving(self): # by using the self keyword in the second method we are able to use the variables inside the other methods \n",
    "        return \"this is a {} car\".format(self.enginetype)"
   ]
  },
  {
   "cell_type": "code",
   "execution_count": 36,
   "id": "a8c53732-0c10-4342-a9dd-d2f1bf34916b",
   "metadata": {},
   "outputs": [],
   "source": [
    "car1=car(4,'petrol',4)"
   ]
  },
  {
   "cell_type": "code",
   "execution_count": 37,
   "id": "07455a3c-fa52-4526-8882-7b3102ee1318",
   "metadata": {},
   "outputs": [],
   "source": [
    "car2=car(3,'diesel',4)"
   ]
  },
  {
   "cell_type": "code",
   "execution_count": 38,
   "id": "73f97c33-4048-42eb-b511-020a3f008aea",
   "metadata": {},
   "outputs": [
    {
     "name": "stdout",
     "output_type": "stream",
     "text": [
      "4\n"
     ]
    }
   ],
   "source": [
    "print(car1.windows)"
   ]
  },
  {
   "cell_type": "code",
   "execution_count": 39,
   "id": "cc57f17b-1056-4a15-8d29-fee7597ff7ac",
   "metadata": {},
   "outputs": [
    {
     "name": "stdout",
     "output_type": "stream",
     "text": [
      "diesel\n"
     ]
    }
   ],
   "source": [
    "print(car2.enginetype)"
   ]
  },
  {
   "cell_type": "code",
   "execution_count": 40,
   "id": "6ec5e14c-371e-47db-9ab9-41078f4a1227",
   "metadata": {},
   "outputs": [
    {
     "data": {
      "text/plain": [
       "'this is a petrol car'"
      ]
     },
     "execution_count": 40,
     "metadata": {},
     "output_type": "execute_result"
    }
   ],
   "source": [
    "car1.self_driving() ## Calling the second method inside of the class"
   ]
  },
  {
   "cell_type": "markdown",
   "id": "2224195a-2344-46f3-9307-ca262ec77d82",
   "metadata": {},
   "source": [
    " "
   ]
  },
  {
   "cell_type": "markdown",
   "id": "aec640e1-f5f6-4c82-9e7f-6601224a47d5",
   "metadata": {},
   "source": [
    "## Class methods and class variables\n",
    "- "
   ]
  },
  {
   "cell_type": "code",
   "execution_count": 41,
   "id": "3532a970-e41a-4612-81b3-bac287b4aa3f",
   "metadata": {},
   "outputs": [],
   "source": [
    "import datetime\n",
    "now = datetime.datetime.now()\n",
    "class car:\n",
    "    base_price=100000 # this is a class variable\n",
    "    def __init__(self,windows,doors,power):\n",
    "        self.windows=windows\n",
    "        self.doors=doors\n",
    "        self.power=power\n",
    "    def what_base_price(self):\n",
    "        print(\"The base price is {}\".format(self.baseprice))\n",
    "    @classmethod ## this is class methods\n",
    "    def revice_base_price(cls,inflation):# when ever we pass self method it provides data about the instence of that class \n",
    "                               # but when we provide a cls method it provide data about class(refering to the class)\n",
    "        cls.base_price=cls.base_price+cls.base_price*inflation\n",
    "        \n",
    "    @staticmethod # in static method we dont provide self or cls perameters \n",
    "    def check_year():\n",
    "        if now.year==2021:\n",
    "            return True\n",
    "        else:\n",
    "            return False"
   ]
  },
  {
   "cell_type": "code",
   "execution_count": 42,
   "id": "464acadd-7838-4763-8d5d-8627cd027450",
   "metadata": {},
   "outputs": [],
   "source": [
    "car1=car(2,6,10000)"
   ]
  },
  {
   "cell_type": "code",
   "execution_count": 43,
   "id": "05a764c9-e2ae-4626-93d7-b9a7cd9b4128",
   "metadata": {},
   "outputs": [],
   "source": [
    "car1.revice_base_price(0.90)"
   ]
  },
  {
   "cell_type": "code",
   "execution_count": 44,
   "id": "bad407c6-ed27-47d6-aea0-7a37908b2cd4",
   "metadata": {},
   "outputs": [
    {
     "data": {
      "text/plain": [
       "190000.0"
      ]
     },
     "execution_count": 44,
     "metadata": {},
     "output_type": "execute_result"
    }
   ],
   "source": [
    "car1.base_price"
   ]
  },
  {
   "cell_type": "code",
   "execution_count": 45,
   "id": "afa67e8b-e937-4645-b921-320e4839a98e",
   "metadata": {},
   "outputs": [],
   "source": [
    "barb=car(2,4,200)"
   ]
  },
  {
   "cell_type": "code",
   "execution_count": 46,
   "id": "74778b79-a4f3-4573-943c-8bd35a5fe524",
   "metadata": {},
   "outputs": [
    {
     "data": {
      "text/plain": [
       "190000.0"
      ]
     },
     "execution_count": 46,
     "metadata": {},
     "output_type": "execute_result"
    }
   ],
   "source": [
    "barb.base_price"
   ]
  },
  {
   "cell_type": "code",
   "execution_count": 47,
   "id": "fa57047b-5962-4705-ad1b-1ffba8b533ad",
   "metadata": {},
   "outputs": [
    {
     "data": {
      "text/plain": [
       "False"
      ]
     },
     "execution_count": 47,
     "metadata": {},
     "output_type": "execute_result"
    }
   ],
   "source": [
    "car1.check_year()"
   ]
  },
  {
   "cell_type": "markdown",
   "id": "b0511f64-99d5-47d7-ac53-18976981477f",
   "metadata": {},
   "source": [
    " "
   ]
  },
  {
   "cell_type": "markdown",
   "id": "65f63fba-252b-4b1c-8117-85f244a6dbd8",
   "metadata": {
    "tags": []
   },
   "source": [
    "### Inheritence \n",
    "- Inheritence is used when the code is bigger and messy and when w need to simply the code\n",
    "- we use multiple classes for each functionality and import the primary class to the secondary class so we can able to acess all the methods inside of the primary class in secondary class"
   ]
  },
  {
   "cell_type": "code",
   "execution_count": 48,
   "id": "08079ce1-d1f4-4551-9964-9de239ae47d9",
   "metadata": {},
   "outputs": [],
   "source": [
    "class car(): ## We defined a class called a car\n",
    "    def __init__(self,windows,doors,enginetype):\n",
    "        self.windows=windows\n",
    "        self.doors=doors\n",
    "        self.enginetype=enginetype\n",
    "    def drive(self):\n",
    "        print(\"The person drive car\")"
   ]
  },
  {
   "cell_type": "code",
   "execution_count": 49,
   "id": "3fc90ed7-9f23-47e9-b641-90f15b4abf0f",
   "metadata": {},
   "outputs": [],
   "source": [
    "car1=car(4,5,'diesel')"
   ]
  },
  {
   "cell_type": "code",
   "execution_count": 50,
   "id": "5b032ca7-9e41-408c-91b9-a6b62a77a7b0",
   "metadata": {},
   "outputs": [
    {
     "data": {
      "text/plain": [
       "'diesel'"
      ]
     },
     "execution_count": 50,
     "metadata": {},
     "output_type": "execute_result"
    }
   ],
   "source": [
    "car1.enginetype"
   ]
  },
  {
   "cell_type": "code",
   "execution_count": 51,
   "id": "750eef6a-fc25-4fcb-ba97-4fb069105258",
   "metadata": {},
   "outputs": [
    {
     "data": {
      "text/plain": [
       "['__class__',\n",
       " '__delattr__',\n",
       " '__dict__',\n",
       " '__dir__',\n",
       " '__doc__',\n",
       " '__eq__',\n",
       " '__format__',\n",
       " '__ge__',\n",
       " '__getattribute__',\n",
       " '__gt__',\n",
       " '__hash__',\n",
       " '__init__',\n",
       " '__init_subclass__',\n",
       " '__le__',\n",
       " '__lt__',\n",
       " '__module__',\n",
       " '__ne__',\n",
       " '__new__',\n",
       " '__reduce__',\n",
       " '__reduce_ex__',\n",
       " '__repr__',\n",
       " '__setattr__',\n",
       " '__sizeof__',\n",
       " '__str__',\n",
       " '__subclasshook__',\n",
       " '__weakref__',\n",
       " 'doors',\n",
       " 'drive',\n",
       " 'enginetype',\n",
       " 'windows']"
      ]
     },
     "execution_count": 51,
     "metadata": {},
     "output_type": "execute_result"
    }
   ],
   "source": [
    "dir(car1) # to get the functions(methods) inside of the class"
   ]
  },
  {
   "cell_type": "code",
   "execution_count": 52,
   "id": "218abfa4-f075-433d-afa7-d08aa46f6789",
   "metadata": {},
   "outputs": [
    {
     "name": "stdout",
     "output_type": "stream",
     "text": [
      "The person drive car\n"
     ]
    }
   ],
   "source": [
    "car1.drive() # to activate the method inside of the class"
   ]
  },
  {
   "cell_type": "markdown",
   "id": "02322770-d33e-47f3-b508-3cf2e12a79e5",
   "metadata": {},
   "source": [
    "- As we seen below we imported the car class in the audi class so we can acess all the methods inside of the car class from the audi class"
   ]
  },
  {
   "cell_type": "code",
   "execution_count": 53,
   "id": "5a79617b-fb81-496b-b34b-1856e9273ec2",
   "metadata": {},
   "outputs": [],
   "source": [
    "class audi(car): ## We passed the previos class car into audi class so we can acess all methods inside the car class with audi class\n",
    "    def __init__(self,windows,doors,enginetype,enableai):\n",
    "        super().__init__(windows,doors,enginetype)\n",
    "        self.enableai=enableai\n",
    "    def selfdrive(self):\n",
    "        print('audi support self driving')"
   ]
  },
  {
   "cell_type": "code",
   "execution_count": 54,
   "id": "5a0bfc20-693a-4a8f-889a-1f7260fa8fab",
   "metadata": {},
   "outputs": [],
   "source": [
    "audi1=audi(5,5,'desil',True)"
   ]
  },
  {
   "cell_type": "code",
   "execution_count": 55,
   "id": "01623f08-f308-4c89-957e-41fbb058aab3",
   "metadata": {},
   "outputs": [
    {
     "data": {
      "text/plain": [
       "['__class__',\n",
       " '__delattr__',\n",
       " '__dict__',\n",
       " '__dir__',\n",
       " '__doc__',\n",
       " '__eq__',\n",
       " '__format__',\n",
       " '__ge__',\n",
       " '__getattribute__',\n",
       " '__gt__',\n",
       " '__hash__',\n",
       " '__init__',\n",
       " '__init_subclass__',\n",
       " '__le__',\n",
       " '__lt__',\n",
       " '__module__',\n",
       " '__ne__',\n",
       " '__new__',\n",
       " '__reduce__',\n",
       " '__reduce_ex__',\n",
       " '__repr__',\n",
       " '__setattr__',\n",
       " '__sizeof__',\n",
       " '__str__',\n",
       " '__subclasshook__',\n",
       " '__weakref__',\n",
       " 'doors',\n",
       " 'drive',\n",
       " 'enableai',\n",
       " 'enginetype',\n",
       " 'selfdrive',\n",
       " 'windows']"
      ]
     },
     "execution_count": 55,
     "metadata": {},
     "output_type": "execute_result"
    }
   ],
   "source": [
    "dir(audi1)"
   ]
  },
  {
   "cell_type": "markdown",
   "id": "334dbf96-9a99-4ed4-97ba-42827d7acb9f",
   "metadata": {},
   "source": [
    "- As we can wsee the methods inside of the car class also showing on the audi class"
   ]
  },
  {
   "cell_type": "code",
   "execution_count": 56,
   "id": "4e0ca415-52fc-40fe-8e98-a90978555395",
   "metadata": {},
   "outputs": [
    {
     "name": "stdout",
     "output_type": "stream",
     "text": [
      "5\n",
      "5\n",
      "desil\n",
      "True\n"
     ]
    }
   ],
   "source": [
    "print(audi1.windows)\n",
    "print(audi1.doors)\n",
    "print(audi1.enginetype)\n",
    "print(audi1.enableai)"
   ]
  },
  {
   "cell_type": "markdown",
   "id": "f497d1ed-391b-4fee-8937-46889e188119",
   "metadata": {},
   "source": [
    "## Multiple inheritence\n",
    "- Multiple inheritence means importing multiple classes into the same class as we importing the Class B and Class C into the Class D\n",
    "- So we can able to acess the Methods inside of the Class B and Class C ethods from the Class A\n",
    "- to import multiple classes to present class use , to seperate multiple classes"
   ]
  },
  {
   "cell_type": "code",
   "execution_count": 57,
   "id": "b4824779-1daf-487e-a000-54de89683eff",
   "metadata": {},
   "outputs": [],
   "source": [
    "class A:\n",
    "    def method(self):\n",
    "        print(\"A class method is called\")"
   ]
  },
  {
   "cell_type": "code",
   "execution_count": 58,
   "id": "fe52ac13-1bdf-41db-8eb2-bb6ed26902bc",
   "metadata": {},
   "outputs": [],
   "source": [
    "class B(A):\n",
    "    def method1(self):\n",
    "        print(\"B class method is called\")\n",
    "    def method2(self):\n",
    "        print(\"B class method2 is called\")"
   ]
  },
  {
   "cell_type": "code",
   "execution_count": 59,
   "id": "c7280130-8ec3-4ab5-bf6d-2fdac9579059",
   "metadata": {},
   "outputs": [],
   "source": [
    "class C(A):\n",
    "    def method1(self):\n",
    "        print(\"C class method is called\")"
   ]
  },
  {
   "cell_type": "code",
   "execution_count": 60,
   "id": "8e510e5a-11ae-427d-9282-dbef9293befb",
   "metadata": {},
   "outputs": [],
   "source": [
    "class D(B,C):\n",
    "    def method1(self):\n",
    "        print(\"D class method is called\")\n",
    "        C.method1(self)\n",
    "        B.method1(self)\n",
    "        A.method(self)"
   ]
  },
  {
   "cell_type": "code",
   "execution_count": 61,
   "id": "a0d14c1b-de4d-4d85-b115-32daeda23a75",
   "metadata": {},
   "outputs": [],
   "source": [
    "d=D()"
   ]
  },
  {
   "cell_type": "code",
   "execution_count": 62,
   "id": "7c3fc59c-22e2-43e2-a3cf-41238dd5bc32",
   "metadata": {},
   "outputs": [
    {
     "name": "stdout",
     "output_type": "stream",
     "text": [
      "D class method is called\n",
      "C class method is called\n",
      "B class method is called\n",
      "A class method is called\n"
     ]
    }
   ],
   "source": [
    "d.method1()"
   ]
  },
  {
   "cell_type": "code",
   "execution_count": 63,
   "id": "e098ebe1-c577-443c-9f2f-ba47562b67d1",
   "metadata": {},
   "outputs": [
    {
     "name": "stdout",
     "output_type": "stream",
     "text": [
      "B class method is called\n"
     ]
    }
   ],
   "source": [
    "B.method1(d)"
   ]
  },
  {
   "cell_type": "code",
   "execution_count": 64,
   "id": "114f4d17-35c5-4c4f-aed9-af2c6eb9d5a7",
   "metadata": {},
   "outputs": [
    {
     "name": "stdout",
     "output_type": "stream",
     "text": [
      "A class method is called\n"
     ]
    }
   ],
   "source": [
    "A.method(d)"
   ]
  },
  {
   "cell_type": "code",
   "execution_count": null,
   "id": "b6a2917f-dee1-4e24-9699-88233d69c149",
   "metadata": {},
   "outputs": [],
   "source": []
  },
  {
   "cell_type": "markdown",
   "id": "b013f1e9-be75-4f1c-858b-07f2f8571f37",
   "metadata": {},
   "source": [
    "### Magic methods in classes\n",
    "- when we use command ```dir(class)``` w can see all the methods in that methods some are starting with the __ those methods are called as the Magic_Methods\n",
    "    - Examples:-'__class__',\n",
    "         __delattr__,\n",
    "         '__dict__',\n",
    "         '__dir__',\n",
    "         '__doc__',\n",
    "         '__eq__',\n",
    "         '__format__',\n",
    "         '__ge__',\n",
    "         '__getattribute__',\n",
    "         '__gt__',\n",
    "         '__hash__',\n",
    "         '__init__','__class__',\n",
    "         '__delattr__',\n",
    "         '__dict__',\n",
    "         '__dir__',\n",
    "         '__doc__',\n",
    "         '__eq__',\n",
    "         '__format__',\n",
    "         '__ge__',\n",
    "         '__getattribute__',\n",
    "         '__gt__',\n",
    "         '__hash__',\n",
    "         '__init__',\n",
    "- Each magic method has different use cases in method calling\n",
    "- We can overide the magic methods"
   ]
  },
  {
   "cell_type": "code",
   "execution_count": 65,
   "id": "2ca937e5-f001-4ae2-8774-9b8c9ceae2e2",
   "metadata": {},
   "outputs": [],
   "source": [
    "class car(): ## We defined a class called a car\n",
    "    def __init__(self,windows,doors,enginetype):\n",
    "        self.windows=windows\n",
    "        self.doors=doors\n",
    "        self.enginetype=enginetype\n",
    "    def __str__(self): ## previously we get message with method store lcation in memory now we get the message below\n",
    "        return 'We printing this from the __str__ magic method'\n",
    "    def __sizeof__(self): ## previously we get Size of metod inbytes\n",
    "        return 'We printing this from the __sizeof__ magic method'\n",
    "    def drive(self):\n",
    "        print(\"The person drive car\")"
   ]
  },
  {
   "cell_type": "code",
   "execution_count": 66,
   "id": "154595b2-939e-4828-9823-6503de255d72",
   "metadata": {},
   "outputs": [],
   "source": [
    "c=car(4,5,'Desiel')"
   ]
  },
  {
   "cell_type": "code",
   "execution_count": 67,
   "id": "8bab4083-1912-4510-b864-1a4d1bcf9b51",
   "metadata": {},
   "outputs": [
    {
     "data": {
      "text/plain": [
       "['__class__',\n",
       " '__delattr__',\n",
       " '__dict__',\n",
       " '__dir__',\n",
       " '__doc__',\n",
       " '__eq__',\n",
       " '__format__',\n",
       " '__ge__',\n",
       " '__getattribute__',\n",
       " '__gt__',\n",
       " '__hash__',\n",
       " '__init__',\n",
       " '__init_subclass__',\n",
       " '__le__',\n",
       " '__lt__',\n",
       " '__module__',\n",
       " '__ne__',\n",
       " '__new__',\n",
       " '__reduce__',\n",
       " '__reduce_ex__',\n",
       " '__repr__',\n",
       " '__setattr__',\n",
       " '__sizeof__',\n",
       " '__str__',\n",
       " '__subclasshook__',\n",
       " '__weakref__',\n",
       " 'doors',\n",
       " 'drive',\n",
       " 'enginetype',\n",
       " 'windows']"
      ]
     },
     "execution_count": 67,
     "metadata": {},
     "output_type": "execute_result"
    }
   ],
   "source": [
    "dir(c)"
   ]
  },
  {
   "cell_type": "code",
   "execution_count": 68,
   "id": "3583ece1-d0a8-4e80-b0b0-535cd2abc22f",
   "metadata": {},
   "outputs": [
    {
     "name": "stdout",
     "output_type": "stream",
     "text": [
      "We printing this from the __str__ magic method\n"
     ]
    }
   ],
   "source": [
    "print(c)"
   ]
  },
  {
   "cell_type": "code",
   "execution_count": 69,
   "id": "a9cc0d1f-f6dc-4f31-94d8-964636ec320c",
   "metadata": {},
   "outputs": [
    {
     "data": {
      "text/plain": [
       "'We printing this from the __sizeof__ magic method'"
      ]
     },
     "execution_count": 69,
     "metadata": {},
     "output_type": "execute_result"
    }
   ],
   "source": [
    "c.__sizeof__()"
   ]
  },
  {
   "cell_type": "markdown",
   "id": "0fbea9ac-411d-4ed2-b272-9f3eb4679516",
   "metadata": {},
   "source": [
    "## Python Eval Function--> Evaluating Expression Dynamically\n",
    "- the `eval()` will check if the python expression is stored in the data type as string int the object\n",
    "- the `eval()` function will evaluate python expression which are written as strings\n",
    "- it takes 3 arguments\n",
    "    - 1. String Expression\n",
    "         - the string is python expresssion that was stored as a string\n",
    "    - 2. Global\n",
    "    - 3. local\n",
    "        - for defult defult Global and local is none\n",
    "        - the global and local rfers to the variable that we passed inside function and outside functin variables\n",
    "        - to define that we have to use the key value pairs as secondary arguments we have to pass the these permeters as key value pairs as dictonary\n",
    "            - Example :-\n",
    "                - x=50\n",
    "                - y=30\n",
    "                - test=\"x+y\"\n",
    "                - eval(test,{\"x\":x,\"y\":y})# we defined x and y globel variable to the eval function\n",
    "                - #### Result 80\n",
    "        \n",
    "- the eval function takes the string and check if the python expression was storedinsid eof the variable  and if it exists the eval function will do the evalution andreturn the intiger\n",
    "- ### How does `eval()` works\n",
    "    - 1. It parsses the data that we are passing\n",
    "    - 2. Complies the parsses data\n",
    "    - 3. Evalute the compiled data"
   ]
  },
  {
   "cell_type": "code",
   "execution_count": 117,
   "id": "2822b21c-d13a-4d70-873b-123bde1730d6",
   "metadata": {},
   "outputs": [],
   "source": [
    "k='5*5'"
   ]
  },
  {
   "cell_type": "code",
   "execution_count": 118,
   "id": "2abd46c6-e3bf-4a15-a24d-5c8b3f0d41f9",
   "metadata": {},
   "outputs": [
    {
     "name": "stdout",
     "output_type": "stream",
     "text": [
      "5*5\n"
     ]
    }
   ],
   "source": [
    "print(k) # as it was a string the print function was printed that as it was stored"
   ]
  },
  {
   "cell_type": "code",
   "execution_count": 119,
   "id": "8e988ef9-c99b-4849-b1b7-fd586f50d837",
   "metadata": {},
   "outputs": [
    {
     "name": "stdout",
     "output_type": "stream",
     "text": [
      "25\n"
     ]
    }
   ],
   "source": [
    "print(eval(k)) # the eval function takes the string and check if the python expression was storedinsid eof the variable  and if it exists the eval function will do the evalution andreturn the intiger"
   ]
  },
  {
   "cell_type": "code",
   "execution_count": 122,
   "id": "53360f7c-d8a0-4b39-8e8d-fd511fa11caf",
   "metadata": {},
   "outputs": [
    {
     "name": "stdin",
     "output_type": "stream",
     "text": [
      "Enter the python expression :-  sum([3,5,7,76])\n"
     ]
    },
    {
     "data": {
      "text/plain": [
       "91"
      ]
     },
     "execution_count": 122,
     "metadata": {},
     "output_type": "execute_result"
    }
   ],
   "source": [
    "eval(input(\"Enter the python expression :- \"))"
   ]
  },
  {
   "cell_type": "code",
   "execution_count": 129,
   "id": "d3cfce9e-71ff-47a6-a3ea-71a5f2763baf",
   "metadata": {},
   "outputs": [
    {
     "data": {
      "text/plain": [
       "3180"
      ]
     },
     "execution_count": 129,
     "metadata": {},
     "output_type": "execute_result"
    }
   ],
   "source": [
    "x=5\n",
    "eval('x+50+x**5',{\"x\":x})"
   ]
  },
  {
   "cell_type": "code",
   "execution_count": 131,
   "id": "8bcf510a-cdf7-4ddd-8ff6-21f26008b191",
   "metadata": {},
   "outputs": [
    {
     "data": {
      "text/plain": [
       "80"
      ]
     },
     "execution_count": 131,
     "metadata": {},
     "output_type": "execute_result"
    }
   ],
   "source": [
    "x=50\n",
    "y=30\n",
    "test=\"x+y\"\n",
    "eval(test,{\"x\":x,\"y\":y})# we defined x and y globel variable to the eval function"
   ]
  },
  {
   "cell_type": "code",
   "execution_count": null,
   "id": "89357659-1eee-4c0b-a07c-ca7d5dcddae3",
   "metadata": {},
   "outputs": [],
   "source": []
  },
  {
   "cell_type": "code",
   "execution_count": null,
   "id": "b4cddaa4-dce5-4b97-b8c6-245bedfc1ee0",
   "metadata": {},
   "outputs": [],
   "source": []
  },
  {
   "cell_type": "code",
   "execution_count": null,
   "id": "4eab3d10-2d80-4b9a-8f06-587786f90730",
   "metadata": {},
   "outputs": [],
   "source": []
  },
  {
   "cell_type": "markdown",
   "id": "abee3c73-df43-40d9-afb8-6ba9e1b7fd59",
   "metadata": {
    "tags": []
   },
   "source": [
    "## Python Assert\n",
    "- python provides the assert statement to check if the given logical expression is true or false.\n",
    "    - if we give 10>=10\n",
    "        - it will return true as a result \n",
    "        - when it was not satisfied the logical expression it will give raisses an ```AssertionError```\n",
    "    - as it was a logical expression\n",
    "- this is same as the execption handling \n",
    "- program execution proceeds only if the expression is true and raises the AssertionError when it is false. The follwing code shows the usage of the assert statement\n",
    "\n",
    "#### in below example we given an togical expression to check the input is even or odd if the given value is even it will continue with code flow if it is wrong it raises an AssertionError and with try catch block we can catch that error and return another function"
   ]
  },
  {
   "cell_type": "code",
   "execution_count": 70,
   "id": "106cbe23-a6c0-47be-a4d8-687e1803e1e1",
   "metadata": {},
   "outputs": [
    {
     "name": "stdout",
     "output_type": "stream",
     "text": [
      "success\n"
     ]
    }
   ],
   "source": [
    "num=10\n",
    "#assert num>=16\n",
    "print('success')"
   ]
  },
  {
   "cell_type": "code",
   "execution_count": 71,
   "id": "40ca1801-6853-47ba-b5e2-e8455bf29426",
   "metadata": {},
   "outputs": [
    {
     "name": "stdin",
     "output_type": "stream",
     "text": [
      "Enter a number 4\n"
     ]
    },
    {
     "name": "stdout",
     "output_type": "stream",
     "text": [
      "number is even\n"
     ]
    }
   ],
   "source": [
    "try:\n",
    "    num=int(input('Enter a number'))\n",
    "    assert num%2==0 \n",
    "    print('number is even')\n",
    "except AssertionError:\n",
    "    print('Please enter even Number')    "
   ]
  },
  {
   "cell_type": "markdown",
   "id": "3c707e8f-c7c3-4bc0-be2c-9bf843f2118c",
   "metadata": {},
   "source": [
    "## Iterator vs Genrator\n",
    "- #### Iterator ( itrable )\n",
    "    - itterators are bunch of collections which which can be go through one by one\n",
    "    - Example\n",
    "        - lists, Dicts, Sets, etc \n",
    "            - we can go through each element in those dataTypes\n",
    "    - We can make a iterator by using iter() keyword\n",
    "    - #### When we use this iterator this will store the data into the memory and it get the data only whenwe call it as it uses the less memory when compared with list\n",
    "    - iterator will uses much more efficient\n",
    "    \n",
    "    \n",
    "    - we can use this itrator to iterator\n",
    "    - Example \n",
    "        - iter(k)\n",
    "    - once we will cess the data it will erase from the memory\n",
    "    - we can only acess the data once \n",
    "        - to acess the data we can use for loop or next(iterator) keyword to go through each element in the iterator\n",
    "        - in next(iterator) when we access all elements in the iterato it will through an execption as `StopIteration` \n",
    "        - but in for loop the error will handled and exits the for loop\n",
    "    \n",
    "- #### Generator\n",
    "    - generator is used to generate a iterator object \n",
    "    - to create a generator we use function along with yield() keyword\n",
    "    - the yield keyword will save local variables inside a iterator\n",
    "    - generator let us write fast and compact code"
   ]
  },
  {
   "cell_type": "code",
   "execution_count": 72,
   "id": "5bc5dd93-a57f-4eaf-be4f-6a4a0a3e8cee",
   "metadata": {},
   "outputs": [],
   "source": [
    "#Iteretor\n",
    "lst=[3,4,5,7,3,1,5,7,4,2,2]"
   ]
  },
  {
   "cell_type": "code",
   "execution_count": 73,
   "id": "118d427f-e652-473d-8a28-2514aa71b8bd",
   "metadata": {
    "tags": []
   },
   "outputs": [
    {
     "name": "stdout",
     "output_type": "stream",
     "text": [
      "34573157422"
     ]
    }
   ],
   "source": [
    "for i in lst:\n",
    "    print(i, end=\"\")"
   ]
  },
  {
   "cell_type": "code",
   "execution_count": 74,
   "id": "dca19174-a874-4597-975b-9d47938c7f35",
   "metadata": {},
   "outputs": [],
   "source": [
    "iterator=iter(lst)"
   ]
  },
  {
   "cell_type": "code",
   "execution_count": 75,
   "id": "34d6ebee-2b01-45a8-afcb-2ee51335b46d",
   "metadata": {},
   "outputs": [
    {
     "name": "stdout",
     "output_type": "stream",
     "text": [
      "3\n",
      "4\n",
      "5\n",
      "7\n",
      "3\n",
      "1\n",
      "5\n",
      "7\n",
      "4\n",
      "2\n",
      "2\n"
     ]
    }
   ],
   "source": [
    "for k in iterator:\n",
    "    print(k)"
   ]
  },
  {
   "cell_type": "code",
   "execution_count": 76,
   "id": "53f81dd8-590b-44ef-b70f-0ac422cc9e65",
   "metadata": {},
   "outputs": [],
   "source": [
    "# next(iterator)"
   ]
  },
  {
   "cell_type": "code",
   "execution_count": 77,
   "id": "a5dcf6a4-5d4b-4172-b608-593f5b005303",
   "metadata": {},
   "outputs": [],
   "source": [
    "#Generator\n",
    "def square(n):\n",
    "    for i in range(n):\n",
    "        #return i**2 #it will gives the first vakue as 0\n",
    "        yield i**2 # it will gives the iterator object with all values from the loop"
   ]
  },
  {
   "cell_type": "code",
   "execution_count": 78,
   "id": "f9b52c7a-397b-4d62-a1b1-42e9966be928",
   "metadata": {},
   "outputs": [],
   "source": [
    "g=square(3)"
   ]
  },
  {
   "cell_type": "code",
   "execution_count": 79,
   "id": "ce1950b6-7139-4c16-bad5-b89c8f09ed5f",
   "metadata": {},
   "outputs": [
    {
     "name": "stdout",
     "output_type": "stream",
     "text": [
      "014"
     ]
    }
   ],
   "source": [
    "for i in g:\n",
    "    print(i,end=\"\")"
   ]
  },
  {
   "cell_type": "markdown",
   "id": "3f4b9ac8-0982-463d-bd33-ad36c0166408",
   "metadata": {},
   "source": [
    "## Python Decoretors\n",
    "- ### Function copy\n",
    "    - function copy said when we return value from the function and store it into the variable\n",
    "    - so it will acessable even after deleting the fuction\n",
    "- ### closures\n",
    "    - Whenever we called a function inside a function that willbe called as a closures function\n",
    "    - when we use functions inside a function we can use variable in all sub functions as it was closeres\n",
    "- ### decorators\n",
    "    - Decorator are called when we call one function from another function nd we are pssing a function as a parameter to the function"
   ]
  },
  {
   "cell_type": "code",
   "execution_count": 80,
   "id": "919aaceb-41c3-44d1-a353-faf97c1c57f7",
   "metadata": {},
   "outputs": [],
   "source": [
    "## Function copy\n",
    "def welcome():\n",
    "    return \"Welcome\""
   ]
  },
  {
   "cell_type": "code",
   "execution_count": 81,
   "id": "fc58bdb5-3b2c-4f6c-ba5c-21419bbde0de",
   "metadata": {},
   "outputs": [],
   "source": [
    "kl=welcome()"
   ]
  },
  {
   "cell_type": "code",
   "execution_count": 82,
   "id": "e81df04c-b742-47e7-8ba7-7fa9fa90dbb7",
   "metadata": {},
   "outputs": [
    {
     "data": {
      "text/plain": [
       "'Welcome'"
      ]
     },
     "execution_count": 82,
     "metadata": {},
     "output_type": "execute_result"
    }
   ],
   "source": [
    "kl"
   ]
  },
  {
   "cell_type": "code",
   "execution_count": 83,
   "id": "d59959d2-7a26-48b4-af6c-2c3fbacbebba",
   "metadata": {},
   "outputs": [],
   "source": [
    "del welcome # we deleted the function"
   ]
  },
  {
   "cell_type": "code",
   "execution_count": 84,
   "id": "a64e4ca8-dab8-4601-aefb-b1989924f955",
   "metadata": {},
   "outputs": [
    {
     "data": {
      "text/plain": [
       "'Welcome'"
      ]
     },
     "execution_count": 84,
     "metadata": {},
     "output_type": "execute_result"
    }
   ],
   "source": [
    "kl # Even as we deleted the function we aregetting the value because \n",
    "    # we saved the valuere turned from the function inside of a variable"
   ]
  },
  {
   "cell_type": "code",
   "execution_count": 85,
   "id": "3f470869-e885-4fc7-afd6-4e352c2806c8",
   "metadata": {},
   "outputs": [],
   "source": [
    "### Closures\n",
    "def main_welcome(msg):\n",
    "    k=50\n",
    "    def sub_welcome():\n",
    "        print('Welcome to krish naik')\n",
    "        print(msg)\n",
    "        print('lern new things')\n",
    "        def test():\n",
    "            print(msg)\n",
    "            print(k)\n",
    "        return test()\n",
    "    return sub_welcome()"
   ]
  },
  {
   "cell_type": "code",
   "execution_count": 86,
   "id": "675ca3e6-b9eb-4afd-85bc-3eaa93b98576",
   "metadata": {},
   "outputs": [
    {
     "name": "stdout",
     "output_type": "stream",
     "text": [
      "Welcome to krish naik\n",
      "krish\n",
      "lern new things\n",
      "krish\n",
      "50\n"
     ]
    }
   ],
   "source": [
    "main_welcome('krish')"
   ]
  },
  {
   "cell_type": "code",
   "execution_count": 87,
   "id": "0a98c610-b49f-4965-9e86-0fc434155963",
   "metadata": {},
   "outputs": [],
   "source": [
    "## Closeures and decorators\n",
    "### Closures\n",
    "\n",
    "# inside a function we can give another function\n",
    "def main_welcome(func):# in function calling print in the paremater input the print \n",
    "                       # function will replace by func that we passed inside a function\n",
    "    def sub_welcome():\n",
    "        print('Welcome to krish naik')\n",
    "        print(func()) # as we called hereit will reflectas print and prin the statement\n",
    "        print('lern new things')\n",
    "    return sub_welcome()"
   ]
  },
  {
   "cell_type": "code",
   "execution_count": 89,
   "id": "6110b1fd-3a76-4aff-8b6a-b75e721befe3",
   "metadata": {},
   "outputs": [
    {
     "name": "stdout",
     "output_type": "stream",
     "text": [
      "Welcome to krish naik\n",
      "this is crishnaik yt chalnnel\n",
      "None\n",
      "lern new things\n"
     ]
    }
   ],
   "source": [
    "@main_welcome\n",
    "def channel_name():\n",
    "    print(\"this is crishnaik yt chalnnel\")"
   ]
  },
  {
   "cell_type": "code",
   "execution_count": 90,
   "id": "3e88715e-0483-46b6-a0b7-20468119ec4a",
   "metadata": {},
   "outputs": [
    {
     "name": "stdout",
     "output_type": "stream",
     "text": [
      "Welcome to krish naik\n",
      "tehbd f\n",
      "None\n",
      "lern new things\n"
     ]
    }
   ],
   "source": [
    "@main_welcome ## this @main_welcome decorator takes the below function and pass the function as permeter to the main_welcom function\n",
    "def channel_name():\n",
    "    print('tehbd f')"
   ]
  },
  {
   "cell_type": "code",
   "execution_count": 91,
   "id": "cc2ca5bc-6b1b-43b6-b270-d48d1ede8745",
   "metadata": {},
   "outputs": [
    {
     "name": "stdout",
     "output_type": "stream",
     "text": [
      "Welcome to krish naik\n"
     ]
    },
    {
     "ename": "TypeError",
     "evalue": "'NoneType' object is not callable",
     "output_type": "error",
     "traceback": [
      "\u001b[1;31m---------------------------------------------------------------------------\u001b[0m",
      "\u001b[1;31mTypeError\u001b[0m                                 Traceback (most recent call last)",
      "\u001b[1;32m~\\AppData\\Local\\Temp/ipykernel_728/2040585426.py\u001b[0m in \u001b[0;36m<module>\u001b[1;34m\u001b[0m\n\u001b[1;32m----> 1\u001b[1;33m \u001b[0mmain_welcome\u001b[0m\u001b[1;33m(\u001b[0m\u001b[0mchannel_name\u001b[0m\u001b[1;33m)\u001b[0m\u001b[1;31m# in here what ever function that we are passing\u001b[0m\u001b[1;33m\u001b[0m\u001b[1;33m\u001b[0m\u001b[0m\n\u001b[0m\u001b[0;32m      2\u001b[0m                    \u001b[1;31m# inside a peranthasis it will reflect on the inside function of function\u001b[0m\u001b[1;33m\u001b[0m\u001b[1;33m\u001b[0m\u001b[0m\n",
      "\u001b[1;32m~\\AppData\\Local\\Temp/ipykernel_728/549427007.py\u001b[0m in \u001b[0;36mmain_welcome\u001b[1;34m(func)\u001b[0m\n\u001b[0;32m      9\u001b[0m         \u001b[0mprint\u001b[0m\u001b[1;33m(\u001b[0m\u001b[0mfunc\u001b[0m\u001b[1;33m(\u001b[0m\u001b[1;33m)\u001b[0m\u001b[1;33m)\u001b[0m \u001b[1;31m# as we called hereit will reflectas print and prin the statement\u001b[0m\u001b[1;33m\u001b[0m\u001b[1;33m\u001b[0m\u001b[0m\n\u001b[0;32m     10\u001b[0m         \u001b[0mprint\u001b[0m\u001b[1;33m(\u001b[0m\u001b[1;34m'lern new things'\u001b[0m\u001b[1;33m)\u001b[0m\u001b[1;33m\u001b[0m\u001b[1;33m\u001b[0m\u001b[0m\n\u001b[1;32m---> 11\u001b[1;33m     \u001b[1;32mreturn\u001b[0m \u001b[0msub_welcome\u001b[0m\u001b[1;33m(\u001b[0m\u001b[1;33m)\u001b[0m\u001b[1;33m\u001b[0m\u001b[1;33m\u001b[0m\u001b[0m\n\u001b[0m",
      "\u001b[1;32m~\\AppData\\Local\\Temp/ipykernel_728/549427007.py\u001b[0m in \u001b[0;36msub_welcome\u001b[1;34m()\u001b[0m\n\u001b[0;32m      7\u001b[0m     \u001b[1;32mdef\u001b[0m \u001b[0msub_welcome\u001b[0m\u001b[1;33m(\u001b[0m\u001b[1;33m)\u001b[0m\u001b[1;33m:\u001b[0m\u001b[1;33m\u001b[0m\u001b[1;33m\u001b[0m\u001b[0m\n\u001b[0;32m      8\u001b[0m         \u001b[0mprint\u001b[0m\u001b[1;33m(\u001b[0m\u001b[1;34m'Welcome to krish naik'\u001b[0m\u001b[1;33m)\u001b[0m\u001b[1;33m\u001b[0m\u001b[1;33m\u001b[0m\u001b[0m\n\u001b[1;32m----> 9\u001b[1;33m         \u001b[0mprint\u001b[0m\u001b[1;33m(\u001b[0m\u001b[0mfunc\u001b[0m\u001b[1;33m(\u001b[0m\u001b[1;33m)\u001b[0m\u001b[1;33m)\u001b[0m \u001b[1;31m# as we called hereit will reflectas print and prin the statement\u001b[0m\u001b[1;33m\u001b[0m\u001b[1;33m\u001b[0m\u001b[0m\n\u001b[0m\u001b[0;32m     10\u001b[0m         \u001b[0mprint\u001b[0m\u001b[1;33m(\u001b[0m\u001b[1;34m'lern new things'\u001b[0m\u001b[1;33m)\u001b[0m\u001b[1;33m\u001b[0m\u001b[1;33m\u001b[0m\u001b[0m\n\u001b[0;32m     11\u001b[0m     \u001b[1;32mreturn\u001b[0m \u001b[0msub_welcome\u001b[0m\u001b[1;33m(\u001b[0m\u001b[1;33m)\u001b[0m\u001b[1;33m\u001b[0m\u001b[1;33m\u001b[0m\u001b[0m\n",
      "\u001b[1;31mTypeError\u001b[0m: 'NoneType' object is not callable"
     ]
    }
   ],
   "source": [
    "main_welcome(channel_name)# in here what ever function that we are passing \n",
    "                   # inside a peranthasis it will reflect on the inside function of function"
   ]
  },
  {
   "cell_type": "markdown",
   "id": "a154edb4-e8f5-439b-934d-cc760b6d4148",
   "metadata": {},
   "source": [
    "## is vs == keywords\n",
    "- ### `is`\n",
    "    - is keyword will compare the values of two elements and also where it was stored in memory (Location)\n",
    "- ### `==`\n",
    "    - == keyword will compare only the values stored inside of the variable"
   ]
  },
  {
   "cell_type": "code",
   "execution_count": 92,
   "id": "44689654-0c5a-478e-8b64-c6337d82ec6e",
   "metadata": {},
   "outputs": [],
   "source": [
    "lst1=['krish','krish1','kris2']\n",
    "lst2=['krish','krish1','kris2']"
   ]
  },
  {
   "cell_type": "code",
   "execution_count": 93,
   "id": "675856a8-07c5-4ffe-88c7-9da68118bf54",
   "metadata": {},
   "outputs": [
    {
     "data": {
      "text/plain": [
       "True"
      ]
     },
     "execution_count": 93,
     "metadata": {},
     "output_type": "execute_result"
    }
   ],
   "source": [
    "lst1==lst2"
   ]
  },
  {
   "cell_type": "code",
   "execution_count": 94,
   "id": "8bea872c-25e6-4c8c-8a82-41d8b58d6a1e",
   "metadata": {},
   "outputs": [
    {
     "data": {
      "text/plain": [
       "True"
      ]
     },
     "execution_count": 94,
     "metadata": {},
     "output_type": "execute_result"
    }
   ],
   "source": [
    "a='krish'\n",
    "b='krish'\n",
    "a==b"
   ]
  },
  {
   "cell_type": "code",
   "execution_count": 95,
   "id": "a4ea4c23-ef9d-4795-ab88-581ec09f40d0",
   "metadata": {},
   "outputs": [
    {
     "data": {
      "text/plain": [
       "True"
      ]
     },
     "execution_count": 95,
     "metadata": {},
     "output_type": "execute_result"
    }
   ],
   "source": [
    "lst1=['krish','krish1','kris2']\n",
    "lst2=lst1\n",
    "lst1 is lst2"
   ]
  },
  {
   "cell_type": "code",
   "execution_count": 96,
   "id": "929a64fc-4e4c-4ba5-94d1-b2a8f0e13b4e",
   "metadata": {},
   "outputs": [
    {
     "data": {
      "text/plain": [
       "True"
      ]
     },
     "execution_count": 96,
     "metadata": {},
     "output_type": "execute_result"
    }
   ],
   "source": [
    "lst2 is lst1"
   ]
  },
  {
   "cell_type": "markdown",
   "id": "883ebf2c-a477-404d-a91b-838f08bb9d25",
   "metadata": {
    "tags": []
   },
   "source": [
    "## Shallow copy vs Deep copy\n",
    "- ### Shallow copy\n",
    "    - in here we are refering to the list that was stored in one memory location with the two variables \n",
    "        - so if we change lst2 it will reflect on the lst1\n",
    "        - this is called as Shllow copy\n",
    "        - it is done by using variable.copy()\n",
    "    - in single dimention shallow copy is good\n",
    "    - but in nested lists shallow copy wont work\n",
    "- ### Deep copy\n",
    "    - in deep copy the data is written in the different memory location \n",
    "    - the deep copy is done by using the module `copy` with `copy.deepcopy(lst1)` variable\n",
    "    - it will work fine for nested and mormal objects"
   ]
  },
  {
   "cell_type": "code",
   "execution_count": 97,
   "id": "5c9a8cd5-e6cc-4207-a376-2c486bc990fd",
   "metadata": {},
   "outputs": [],
   "source": [
    "\n",
    "lst1=[1,2,3,4]\n",
    "lst2=lst1"
   ]
  },
  {
   "cell_type": "code",
   "execution_count": 98,
   "id": "d810def3-e932-4d28-bce8-a4212a23584b",
   "metadata": {},
   "outputs": [],
   "source": [
    "# Shallow copy\n",
    "lst1=[1,2,3,4]\n",
    "lst2=lst1.copy() \n",
    "# this method will not work with the nested objects as they are refereing to the same objects once copied"
   ]
  },
  {
   "cell_type": "code",
   "execution_count": 99,
   "id": "ff978653-4169-476f-ba14-f0c484d2a000",
   "metadata": {},
   "outputs": [],
   "source": [
    "lst2[2]=4"
   ]
  },
  {
   "cell_type": "code",
   "execution_count": 100,
   "id": "dd2bcf6c-c4b2-4a4b-8caa-ced433c34df7",
   "metadata": {},
   "outputs": [
    {
     "data": {
      "text/plain": [
       "([1, 2, 4, 4], [1, 2, 3, 4])"
      ]
     },
     "execution_count": 100,
     "metadata": {},
     "output_type": "execute_result"
    }
   ],
   "source": [
    "lst2, lst1"
   ]
  },
  {
   "cell_type": "code",
   "execution_count": 101,
   "id": "2f69b5a2-9e60-4c79-86ab-7a8f4e1dfd3d",
   "metadata": {},
   "outputs": [],
   "source": [
    "lst1=[[4,1,3,5],[0,8,5,32]]\n",
    "lst2=lst1.copy()"
   ]
  },
  {
   "cell_type": "code",
   "execution_count": 102,
   "id": "40e9df39-9419-4f53-8943-cf46f7996b80",
   "metadata": {},
   "outputs": [],
   "source": [
    "lst2[0][3]=100"
   ]
  },
  {
   "cell_type": "code",
   "execution_count": 103,
   "id": "94768fcb-c20b-42c7-a03c-b6a66c612b6a",
   "metadata": {},
   "outputs": [
    {
     "data": {
      "text/plain": [
       "([[4, 1, 3, 100], [0, 8, 5, 32]], [[4, 1, 3, 100], [0, 8, 5, 32]])"
      ]
     },
     "execution_count": 103,
     "metadata": {},
     "output_type": "execute_result"
    }
   ],
   "source": [
    "lst2,lst1"
   ]
  },
  {
   "cell_type": "code",
   "execution_count": 104,
   "id": "104ceebe-b46e-4bdc-92fe-bc8f81bdaeb4",
   "metadata": {},
   "outputs": [],
   "source": [
    "lst1.append([6,3,9,2])"
   ]
  },
  {
   "cell_type": "code",
   "execution_count": 105,
   "id": "c3bda09e-ad42-4d0a-9430-ea187009ed2e",
   "metadata": {},
   "outputs": [
    {
     "data": {
      "text/plain": [
       "([[4, 1, 3, 100], [0, 8, 5, 32]],\n",
       " [[4, 1, 3, 100], [0, 8, 5, 32], [6, 3, 9, 2]])"
      ]
     },
     "execution_count": 105,
     "metadata": {},
     "output_type": "execute_result"
    }
   ],
   "source": [
    "lst2,lst1"
   ]
  },
  {
   "cell_type": "code",
   "execution_count": 106,
   "id": "f9288a13-e627-4d7d-b9fa-3a2ed61f40f9",
   "metadata": {},
   "outputs": [],
   "source": [
    "## Deep copy\n",
    "import copy"
   ]
  },
  {
   "cell_type": "code",
   "execution_count": 107,
   "id": "b6cc379a-67c7-4b2e-84a1-bb46e8a96347",
   "metadata": {},
   "outputs": [],
   "source": [
    "lst1=[1,2,3,4,3]\n",
    "lst2=copy.deepcopy( )"
   ]
  },
  {
   "cell_type": "code",
   "execution_count": 108,
   "id": "852eda72-9fa5-4380-b6e8-1476c43cd114",
   "metadata": {},
   "outputs": [
    {
     "data": {
      "text/plain": [
       "([1, 2, 3, 4, 3], [1, 2, 3, 4, 3])"
      ]
     },
     "execution_count": 108,
     "metadata": {},
     "output_type": "execute_result"
    }
   ],
   "source": [
    "lst1,lst2"
   ]
  },
  {
   "cell_type": "code",
   "execution_count": 109,
   "id": "374ecd6c-60ce-479a-a14b-fa4f5472f139",
   "metadata": {},
   "outputs": [],
   "source": [
    "lst2[1]=1000"
   ]
  },
  {
   "cell_type": "code",
   "execution_count": 110,
   "id": "d05ba99f-6564-48d9-8bb2-5706b275f3de",
   "metadata": {},
   "outputs": [
    {
     "name": "stdout",
     "output_type": "stream",
     "text": [
      "Wall time: 0 ns\n"
     ]
    },
    {
     "data": {
      "text/plain": [
       "([1, 2, 3, 4, 3], [1, 1000, 3, 4, 3])"
      ]
     },
     "execution_count": 110,
     "metadata": {},
     "output_type": "execute_result"
    }
   ],
   "source": [
    "%%time\n",
    "lst1,lst2"
   ]
  },
  {
   "cell_type": "markdown",
   "id": "43c4779f-2d42-47bc-a655-9ad9609180c1",
   "metadata": {},
   "source": [
    " "
   ]
  },
  {
   "cell_type": "markdown",
   "id": "676a818a-e4ae-4de1-875a-49af4cc4ebc1",
   "metadata": {
    "tags": []
   },
   "source": [
    "## Speeding pandas\n",
    "- this will improve the running speed of the pandas import module\n",
    "- pandas was slow when we compared with the numpy as the numpy was compiled with Cpython \n",
    "    - Cpython was a combination of the C and python language \n",
    "    - but in pandas it was compiled using only the python language\n",
    "- ### We have a module named modin which improves the speed of the python \n",
    "- nativily pandas run on single CPU core \n",
    "- Modin splits the pandas execution to the all CPU core so it will increases the speed of the pandas"
   ]
  },
  {
   "cell_type": "code",
   "execution_count": 115,
   "id": "3c041c18-1625-4d7d-9bc7-9460d0ed3f87",
   "metadata": {},
   "outputs": [
    {
     "name": "stdout",
     "output_type": "stream",
     "text": [
      "Wall time: 1.33 s\n"
     ]
    },
    {
     "data": {
      "text/html": [
       "<div>\n",
       "<style scoped>\n",
       "    .dataframe tbody tr th:only-of-type {\n",
       "        vertical-align: middle;\n",
       "    }\n",
       "\n",
       "    .dataframe tbody tr th {\n",
       "        vertical-align: top;\n",
       "    }\n",
       "\n",
       "    .dataframe thead th {\n",
       "        text-align: right;\n",
       "    }\n",
       "</style>\n",
       "<table border=\"1\" class=\"dataframe\">\n",
       "  <thead>\n",
       "    <tr style=\"text-align: right;\">\n",
       "      <th></th>\n",
       "      <th>Alcohol</th>\n",
       "      <th>Malic acid</th>\n",
       "      <th>Ash</th>\n",
       "      <th>Alcalinity of ash</th>\n",
       "      <th>Magnesium</th>\n",
       "      <th>Total phenols</th>\n",
       "      <th>Flavanoids</th>\n",
       "      <th>Nonflavanoid phenols</th>\n",
       "      <th>Proanthocyanins</th>\n",
       "      <th>Color intensity</th>\n",
       "      <th>Hue</th>\n",
       "      <th>OD280/OD315 of diluted wines</th>\n",
       "      <th>Proline</th>\n",
       "      <th>Class</th>\n",
       "    </tr>\n",
       "  </thead>\n",
       "  <tbody>\n",
       "    <tr>\n",
       "      <th>0</th>\n",
       "      <td>14.23</td>\n",
       "      <td>1.71</td>\n",
       "      <td>2.43</td>\n",
       "      <td>15.6</td>\n",
       "      <td>127</td>\n",
       "      <td>2.80</td>\n",
       "      <td>3.06</td>\n",
       "      <td>0.28</td>\n",
       "      <td>2.29</td>\n",
       "      <td>5.64</td>\n",
       "      <td>1.04</td>\n",
       "      <td>3.92</td>\n",
       "      <td>1065</td>\n",
       "      <td>one</td>\n",
       "    </tr>\n",
       "    <tr>\n",
       "      <th>1</th>\n",
       "      <td>13.20</td>\n",
       "      <td>1.78</td>\n",
       "      <td>2.14</td>\n",
       "      <td>11.2</td>\n",
       "      <td>100</td>\n",
       "      <td>2.65</td>\n",
       "      <td>2.76</td>\n",
       "      <td>0.26</td>\n",
       "      <td>1.28</td>\n",
       "      <td>4.38</td>\n",
       "      <td>1.05</td>\n",
       "      <td>3.40</td>\n",
       "      <td>1050</td>\n",
       "      <td>one</td>\n",
       "    </tr>\n",
       "    <tr>\n",
       "      <th>2</th>\n",
       "      <td>13.16</td>\n",
       "      <td>2.36</td>\n",
       "      <td>2.67</td>\n",
       "      <td>18.6</td>\n",
       "      <td>101</td>\n",
       "      <td>2.80</td>\n",
       "      <td>3.24</td>\n",
       "      <td>0.30</td>\n",
       "      <td>2.81</td>\n",
       "      <td>5.68</td>\n",
       "      <td>1.03</td>\n",
       "      <td>3.17</td>\n",
       "      <td>1185</td>\n",
       "      <td>one</td>\n",
       "    </tr>\n",
       "    <tr>\n",
       "      <th>3</th>\n",
       "      <td>14.37</td>\n",
       "      <td>1.95</td>\n",
       "      <td>2.50</td>\n",
       "      <td>16.8</td>\n",
       "      <td>113</td>\n",
       "      <td>3.85</td>\n",
       "      <td>3.49</td>\n",
       "      <td>0.24</td>\n",
       "      <td>2.18</td>\n",
       "      <td>7.80</td>\n",
       "      <td>0.86</td>\n",
       "      <td>3.45</td>\n",
       "      <td>1480</td>\n",
       "      <td>one</td>\n",
       "    </tr>\n",
       "    <tr>\n",
       "      <th>4</th>\n",
       "      <td>13.24</td>\n",
       "      <td>2.59</td>\n",
       "      <td>2.87</td>\n",
       "      <td>21.0</td>\n",
       "      <td>118</td>\n",
       "      <td>2.80</td>\n",
       "      <td>2.69</td>\n",
       "      <td>0.39</td>\n",
       "      <td>1.82</td>\n",
       "      <td>4.32</td>\n",
       "      <td>1.04</td>\n",
       "      <td>2.93</td>\n",
       "      <td>735</td>\n",
       "      <td>one</td>\n",
       "    </tr>\n",
       "    <tr>\n",
       "      <th>...</th>\n",
       "      <td>...</td>\n",
       "      <td>...</td>\n",
       "      <td>...</td>\n",
       "      <td>...</td>\n",
       "      <td>...</td>\n",
       "      <td>...</td>\n",
       "      <td>...</td>\n",
       "      <td>...</td>\n",
       "      <td>...</td>\n",
       "      <td>...</td>\n",
       "      <td>...</td>\n",
       "      <td>...</td>\n",
       "      <td>...</td>\n",
       "      <td>...</td>\n",
       "    </tr>\n",
       "    <tr>\n",
       "      <th>173</th>\n",
       "      <td>13.71</td>\n",
       "      <td>5.65</td>\n",
       "      <td>2.45</td>\n",
       "      <td>20.5</td>\n",
       "      <td>95</td>\n",
       "      <td>1.68</td>\n",
       "      <td>0.61</td>\n",
       "      <td>0.52</td>\n",
       "      <td>1.06</td>\n",
       "      <td>7.70</td>\n",
       "      <td>0.64</td>\n",
       "      <td>1.74</td>\n",
       "      <td>740</td>\n",
       "      <td>three</td>\n",
       "    </tr>\n",
       "    <tr>\n",
       "      <th>174</th>\n",
       "      <td>13.40</td>\n",
       "      <td>3.91</td>\n",
       "      <td>2.48</td>\n",
       "      <td>23.0</td>\n",
       "      <td>102</td>\n",
       "      <td>1.80</td>\n",
       "      <td>0.75</td>\n",
       "      <td>0.43</td>\n",
       "      <td>1.41</td>\n",
       "      <td>7.30</td>\n",
       "      <td>0.70</td>\n",
       "      <td>1.56</td>\n",
       "      <td>750</td>\n",
       "      <td>three</td>\n",
       "    </tr>\n",
       "    <tr>\n",
       "      <th>175</th>\n",
       "      <td>13.27</td>\n",
       "      <td>4.28</td>\n",
       "      <td>2.26</td>\n",
       "      <td>20.0</td>\n",
       "      <td>120</td>\n",
       "      <td>1.59</td>\n",
       "      <td>0.69</td>\n",
       "      <td>0.43</td>\n",
       "      <td>1.35</td>\n",
       "      <td>10.20</td>\n",
       "      <td>0.59</td>\n",
       "      <td>1.56</td>\n",
       "      <td>835</td>\n",
       "      <td>three</td>\n",
       "    </tr>\n",
       "    <tr>\n",
       "      <th>176</th>\n",
       "      <td>13.17</td>\n",
       "      <td>2.59</td>\n",
       "      <td>2.37</td>\n",
       "      <td>20.0</td>\n",
       "      <td>120</td>\n",
       "      <td>1.65</td>\n",
       "      <td>0.68</td>\n",
       "      <td>0.53</td>\n",
       "      <td>1.46</td>\n",
       "      <td>9.30</td>\n",
       "      <td>0.60</td>\n",
       "      <td>1.62</td>\n",
       "      <td>840</td>\n",
       "      <td>three</td>\n",
       "    </tr>\n",
       "    <tr>\n",
       "      <th>177</th>\n",
       "      <td>14.13</td>\n",
       "      <td>4.10</td>\n",
       "      <td>2.74</td>\n",
       "      <td>24.5</td>\n",
       "      <td>96</td>\n",
       "      <td>2.05</td>\n",
       "      <td>0.76</td>\n",
       "      <td>0.56</td>\n",
       "      <td>1.35</td>\n",
       "      <td>9.20</td>\n",
       "      <td>0.61</td>\n",
       "      <td>1.60</td>\n",
       "      <td>560</td>\n",
       "      <td>three</td>\n",
       "    </tr>\n",
       "  </tbody>\n",
       "</table>\n",
       "<p>178 rows × 14 columns</p>\n",
       "</div>"
      ],
      "text/plain": [
       "     Alcohol  Malic acid   Ash  Alcalinity of ash  Magnesium  Total phenols  \\\n",
       "0      14.23        1.71  2.43               15.6        127           2.80   \n",
       "1      13.20        1.78  2.14               11.2        100           2.65   \n",
       "2      13.16        2.36  2.67               18.6        101           2.80   \n",
       "3      14.37        1.95  2.50               16.8        113           3.85   \n",
       "4      13.24        2.59  2.87               21.0        118           2.80   \n",
       "..       ...         ...   ...                ...        ...            ...   \n",
       "173    13.71        5.65  2.45               20.5         95           1.68   \n",
       "174    13.40        3.91  2.48               23.0        102           1.80   \n",
       "175    13.27        4.28  2.26               20.0        120           1.59   \n",
       "176    13.17        2.59  2.37               20.0        120           1.65   \n",
       "177    14.13        4.10  2.74               24.5         96           2.05   \n",
       "\n",
       "     Flavanoids  Nonflavanoid phenols  Proanthocyanins  Color intensity   Hue  \\\n",
       "0          3.06                  0.28             2.29             5.64  1.04   \n",
       "1          2.76                  0.26             1.28             4.38  1.05   \n",
       "2          3.24                  0.30             2.81             5.68  1.03   \n",
       "3          3.49                  0.24             2.18             7.80  0.86   \n",
       "4          2.69                  0.39             1.82             4.32  1.04   \n",
       "..          ...                   ...              ...              ...   ...   \n",
       "173        0.61                  0.52             1.06             7.70  0.64   \n",
       "174        0.75                  0.43             1.41             7.30  0.70   \n",
       "175        0.69                  0.43             1.35            10.20  0.59   \n",
       "176        0.68                  0.53             1.46             9.30  0.60   \n",
       "177        0.76                  0.56             1.35             9.20  0.61   \n",
       "\n",
       "     OD280/OD315 of diluted wines  Proline  Class  \n",
       "0                            3.92     1065    one  \n",
       "1                            3.40     1050    one  \n",
       "2                            3.17     1185    one  \n",
       "3                            3.45     1480    one  \n",
       "4                            2.93      735    one  \n",
       "..                            ...      ...    ...  \n",
       "173                          1.74      740  three  \n",
       "174                          1.56      750  three  \n",
       "175                          1.56      835  three  \n",
       "176                          1.62      840  three  \n",
       "177                          1.60      560  three  \n",
       "\n",
       "[178 rows x 14 columns]"
      ]
     },
     "execution_count": 115,
     "metadata": {},
     "output_type": "execute_result"
    }
   ],
   "source": [
    "%%time\n",
    "import pandas as pd\n",
    "df=pd.read_csv('https://raw.githubusercontent.com/MateLabs/Public-Datasets/master/Datasets/wine.csv')\n",
    "df"
   ]
  },
  {
   "cell_type": "code",
   "execution_count": 116,
   "id": "3807044b-7069-47a5-b59c-7cac51c34833",
   "metadata": {},
   "outputs": [
    {
     "name": "stderr",
     "output_type": "stream",
     "text": [
      "UserWarning: Ray execution environment not yet initialized. Initializing...\n",
      "To remove this warning, run the following python code before doing dataframe operations:\n",
      "\n",
      "    import ray\n",
      "    ray.init()\n",
      "\n",
      "UserWarning: Parameters provided defaulting to pandas implementation.\n",
      "Please refer to https://modin.readthedocs.io/en/stable/supported_apis/defaulting_to_pandas.html for explanation.\n"
     ]
    },
    {
     "name": "stdout",
     "output_type": "stream",
     "text": [
      "Wall time: 10.1 s\n"
     ]
    },
    {
     "data": {
      "text/html": [
       "<div>\n",
       "<style scoped>\n",
       "    .dataframe tbody tr th:only-of-type {\n",
       "        vertical-align: middle;\n",
       "    }\n",
       "\n",
       "    .dataframe tbody tr th {\n",
       "        vertical-align: top;\n",
       "    }\n",
       "\n",
       "    .dataframe thead th {\n",
       "        text-align: right;\n",
       "    }\n",
       "</style>\n",
       "<table border=\"1\" class=\"dataframe\">\n",
       "  <thead>\n",
       "    <tr style=\"text-align: right;\">\n",
       "      <th></th>\n",
       "      <th>Alcohol</th>\n",
       "      <th>Malic acid</th>\n",
       "      <th>Ash</th>\n",
       "      <th>Alcalinity of ash</th>\n",
       "      <th>Magnesium</th>\n",
       "      <th>Total phenols</th>\n",
       "      <th>Flavanoids</th>\n",
       "      <th>Nonflavanoid phenols</th>\n",
       "      <th>Proanthocyanins</th>\n",
       "      <th>Color intensity</th>\n",
       "      <th>Hue</th>\n",
       "      <th>OD280/OD315 of diluted wines</th>\n",
       "      <th>Proline</th>\n",
       "      <th>Class</th>\n",
       "    </tr>\n",
       "  </thead>\n",
       "  <tbody>\n",
       "    <tr>\n",
       "      <th>0</th>\n",
       "      <td>14.23</td>\n",
       "      <td>1.71</td>\n",
       "      <td>2.43</td>\n",
       "      <td>15.6</td>\n",
       "      <td>127</td>\n",
       "      <td>2.80</td>\n",
       "      <td>3.06</td>\n",
       "      <td>0.28</td>\n",
       "      <td>2.29</td>\n",
       "      <td>5.64</td>\n",
       "      <td>1.04</td>\n",
       "      <td>3.92</td>\n",
       "      <td>1065</td>\n",
       "      <td>one</td>\n",
       "    </tr>\n",
       "    <tr>\n",
       "      <th>1</th>\n",
       "      <td>13.20</td>\n",
       "      <td>1.78</td>\n",
       "      <td>2.14</td>\n",
       "      <td>11.2</td>\n",
       "      <td>100</td>\n",
       "      <td>2.65</td>\n",
       "      <td>2.76</td>\n",
       "      <td>0.26</td>\n",
       "      <td>1.28</td>\n",
       "      <td>4.38</td>\n",
       "      <td>1.05</td>\n",
       "      <td>3.40</td>\n",
       "      <td>1050</td>\n",
       "      <td>one</td>\n",
       "    </tr>\n",
       "    <tr>\n",
       "      <th>2</th>\n",
       "      <td>13.16</td>\n",
       "      <td>2.36</td>\n",
       "      <td>2.67</td>\n",
       "      <td>18.6</td>\n",
       "      <td>101</td>\n",
       "      <td>2.80</td>\n",
       "      <td>3.24</td>\n",
       "      <td>0.30</td>\n",
       "      <td>2.81</td>\n",
       "      <td>5.68</td>\n",
       "      <td>1.03</td>\n",
       "      <td>3.17</td>\n",
       "      <td>1185</td>\n",
       "      <td>one</td>\n",
       "    </tr>\n",
       "    <tr>\n",
       "      <th>3</th>\n",
       "      <td>14.37</td>\n",
       "      <td>1.95</td>\n",
       "      <td>2.50</td>\n",
       "      <td>16.8</td>\n",
       "      <td>113</td>\n",
       "      <td>3.85</td>\n",
       "      <td>3.49</td>\n",
       "      <td>0.24</td>\n",
       "      <td>2.18</td>\n",
       "      <td>7.80</td>\n",
       "      <td>0.86</td>\n",
       "      <td>3.45</td>\n",
       "      <td>1480</td>\n",
       "      <td>one</td>\n",
       "    </tr>\n",
       "    <tr>\n",
       "      <th>4</th>\n",
       "      <td>13.24</td>\n",
       "      <td>2.59</td>\n",
       "      <td>2.87</td>\n",
       "      <td>21.0</td>\n",
       "      <td>118</td>\n",
       "      <td>2.80</td>\n",
       "      <td>2.69</td>\n",
       "      <td>0.39</td>\n",
       "      <td>1.82</td>\n",
       "      <td>4.32</td>\n",
       "      <td>1.04</td>\n",
       "      <td>2.93</td>\n",
       "      <td>735</td>\n",
       "      <td>one</td>\n",
       "    </tr>\n",
       "    <tr>\n",
       "      <th>...</th>\n",
       "      <td>...</td>\n",
       "      <td>...</td>\n",
       "      <td>...</td>\n",
       "      <td>...</td>\n",
       "      <td>...</td>\n",
       "      <td>...</td>\n",
       "      <td>...</td>\n",
       "      <td>...</td>\n",
       "      <td>...</td>\n",
       "      <td>...</td>\n",
       "      <td>...</td>\n",
       "      <td>...</td>\n",
       "      <td>...</td>\n",
       "      <td>...</td>\n",
       "    </tr>\n",
       "    <tr>\n",
       "      <th>173</th>\n",
       "      <td>13.71</td>\n",
       "      <td>5.65</td>\n",
       "      <td>2.45</td>\n",
       "      <td>20.5</td>\n",
       "      <td>95</td>\n",
       "      <td>1.68</td>\n",
       "      <td>0.61</td>\n",
       "      <td>0.52</td>\n",
       "      <td>1.06</td>\n",
       "      <td>7.70</td>\n",
       "      <td>0.64</td>\n",
       "      <td>1.74</td>\n",
       "      <td>740</td>\n",
       "      <td>three</td>\n",
       "    </tr>\n",
       "    <tr>\n",
       "      <th>174</th>\n",
       "      <td>13.40</td>\n",
       "      <td>3.91</td>\n",
       "      <td>2.48</td>\n",
       "      <td>23.0</td>\n",
       "      <td>102</td>\n",
       "      <td>1.80</td>\n",
       "      <td>0.75</td>\n",
       "      <td>0.43</td>\n",
       "      <td>1.41</td>\n",
       "      <td>7.30</td>\n",
       "      <td>0.70</td>\n",
       "      <td>1.56</td>\n",
       "      <td>750</td>\n",
       "      <td>three</td>\n",
       "    </tr>\n",
       "    <tr>\n",
       "      <th>175</th>\n",
       "      <td>13.27</td>\n",
       "      <td>4.28</td>\n",
       "      <td>2.26</td>\n",
       "      <td>20.0</td>\n",
       "      <td>120</td>\n",
       "      <td>1.59</td>\n",
       "      <td>0.69</td>\n",
       "      <td>0.43</td>\n",
       "      <td>1.35</td>\n",
       "      <td>10.20</td>\n",
       "      <td>0.59</td>\n",
       "      <td>1.56</td>\n",
       "      <td>835</td>\n",
       "      <td>three</td>\n",
       "    </tr>\n",
       "    <tr>\n",
       "      <th>176</th>\n",
       "      <td>13.17</td>\n",
       "      <td>2.59</td>\n",
       "      <td>2.37</td>\n",
       "      <td>20.0</td>\n",
       "      <td>120</td>\n",
       "      <td>1.65</td>\n",
       "      <td>0.68</td>\n",
       "      <td>0.53</td>\n",
       "      <td>1.46</td>\n",
       "      <td>9.30</td>\n",
       "      <td>0.60</td>\n",
       "      <td>1.62</td>\n",
       "      <td>840</td>\n",
       "      <td>three</td>\n",
       "    </tr>\n",
       "    <tr>\n",
       "      <th>177</th>\n",
       "      <td>14.13</td>\n",
       "      <td>4.10</td>\n",
       "      <td>2.74</td>\n",
       "      <td>24.5</td>\n",
       "      <td>96</td>\n",
       "      <td>2.05</td>\n",
       "      <td>0.76</td>\n",
       "      <td>0.56</td>\n",
       "      <td>1.35</td>\n",
       "      <td>9.20</td>\n",
       "      <td>0.61</td>\n",
       "      <td>1.60</td>\n",
       "      <td>560</td>\n",
       "      <td>three</td>\n",
       "    </tr>\n",
       "  </tbody>\n",
       "</table>\n",
       "<p>178 rows x 14 columns</p>\n",
       "</div>"
      ],
      "text/plain": [
       "     Alcohol  Malic acid   Ash  Alcalinity of ash  Magnesium  Total phenols  \\\n",
       "0      14.23        1.71  2.43               15.6        127           2.80   \n",
       "1      13.20        1.78  2.14               11.2        100           2.65   \n",
       "2      13.16        2.36  2.67               18.6        101           2.80   \n",
       "3      14.37        1.95  2.50               16.8        113           3.85   \n",
       "4      13.24        2.59  2.87               21.0        118           2.80   \n",
       "..       ...         ...   ...                ...        ...            ...   \n",
       "173    13.71        5.65  2.45               20.5         95           1.68   \n",
       "174    13.40        3.91  2.48               23.0        102           1.80   \n",
       "175    13.27        4.28  2.26               20.0        120           1.59   \n",
       "176    13.17        2.59  2.37               20.0        120           1.65   \n",
       "177    14.13        4.10  2.74               24.5         96           2.05   \n",
       "\n",
       "     Flavanoids  Nonflavanoid phenols  Proanthocyanins  Color intensity   Hue  \\\n",
       "0          3.06                  0.28             2.29             5.64  1.04   \n",
       "1          2.76                  0.26             1.28             4.38  1.05   \n",
       "2          3.24                  0.30             2.81             5.68  1.03   \n",
       "3          3.49                  0.24             2.18             7.80  0.86   \n",
       "4          2.69                  0.39             1.82             4.32  1.04   \n",
       "..          ...                   ...              ...              ...   ...   \n",
       "173        0.61                  0.52             1.06             7.70  0.64   \n",
       "174        0.75                  0.43             1.41             7.30  0.70   \n",
       "175        0.69                  0.43             1.35            10.20  0.59   \n",
       "176        0.68                  0.53             1.46             9.30  0.60   \n",
       "177        0.76                  0.56             1.35             9.20  0.61   \n",
       "\n",
       "     OD280/OD315 of diluted wines  Proline  Class  \n",
       "0                            3.92     1065    one  \n",
       "1                            3.40     1050    one  \n",
       "2                            3.17     1185    one  \n",
       "3                            3.45     1480    one  \n",
       "4                            2.93      735    one  \n",
       "..                            ...      ...    ...  \n",
       "173                          1.74      740  three  \n",
       "174                          1.56      750  three  \n",
       "175                          1.56      835  three  \n",
       "176                          1.62      840  three  \n",
       "177                          1.60      560  three  \n",
       "\n",
       "[178 rows x 14 columns]"
      ]
     },
     "execution_count": 116,
     "metadata": {},
     "output_type": "execute_result"
    }
   ],
   "source": [
    "%%time\n",
    "import modin.pandas as pd\n",
    "df=pd.read_csv('https://raw.githubusercontent.com/MateLabs/Public-Datasets/master/Datasets/wine.csv')\n",
    "df"
   ]
  },
  {
   "cell_type": "markdown",
   "id": "e97f1e84-9d29-4c65-93ff-3fa64a7293f6",
   "metadata": {
    "tags": []
   },
   "source": [
    " "
   ]
  },
  {
   "cell_type": "code",
   "execution_count": null,
   "id": "3828f893-2fcf-46fe-8abd-1ab8ba364c2d",
   "metadata": {},
   "outputs": [],
   "source": []
  },
  {
   "cell_type": "code",
   "execution_count": null,
   "id": "de301c2b-5b4d-40c1-bcf1-04d4f57e4b8c",
   "metadata": {},
   "outputs": [],
   "source": []
  },
  {
   "cell_type": "code",
   "execution_count": null,
   "id": "71d2d8d8-0457-440a-89bd-97e929bfd73e",
   "metadata": {},
   "outputs": [],
   "source": []
  },
  {
   "cell_type": "code",
   "execution_count": null,
   "id": "7a0e1ca1-706d-48d2-996b-83362a2263aa",
   "metadata": {},
   "outputs": [],
   "source": []
  },
  {
   "cell_type": "code",
   "execution_count": null,
   "id": "257c72fd-04e7-47af-9381-5baece2cc179",
   "metadata": {},
   "outputs": [],
   "source": []
  },
  {
   "cell_type": "code",
   "execution_count": null,
   "id": "8676957a-c53b-4ae7-8892-1513b59bca65",
   "metadata": {},
   "outputs": [],
   "source": []
  },
  {
   "cell_type": "code",
   "execution_count": null,
   "id": "7430f075-0f6c-4ba9-a0f2-18e072a846b0",
   "metadata": {},
   "outputs": [],
   "source": []
  },
  {
   "cell_type": "code",
   "execution_count": null,
   "id": "8d584556-2401-4c31-9dcc-fe06d39f35ca",
   "metadata": {},
   "outputs": [],
   "source": []
  },
  {
   "cell_type": "code",
   "execution_count": null,
   "id": "24ab72c8-6d03-408a-8735-c8bce2469ebe",
   "metadata": {},
   "outputs": [],
   "source": []
  },
  {
   "cell_type": "code",
   "execution_count": null,
   "id": "56a9e817-1b96-47fd-8c0e-dc01f1fb1f0e",
   "metadata": {},
   "outputs": [],
   "source": []
  },
  {
   "cell_type": "code",
   "execution_count": null,
   "id": "0acc640c-da02-42af-adc6-e1263d6f972b",
   "metadata": {},
   "outputs": [],
   "source": []
  },
  {
   "cell_type": "code",
   "execution_count": null,
   "id": "78f8d0f2-1272-4503-9904-5840abfc7c6e",
   "metadata": {},
   "outputs": [],
   "source": []
  },
  {
   "cell_type": "code",
   "execution_count": null,
   "id": "fad41b3f-da1f-499b-8049-dddb1c907707",
   "metadata": {},
   "outputs": [],
   "source": []
  },
  {
   "cell_type": "code",
   "execution_count": null,
   "id": "09f25413-145f-4b73-8b9c-074d6def9cae",
   "metadata": {},
   "outputs": [],
   "source": []
  },
  {
   "cell_type": "code",
   "execution_count": null,
   "id": "22a2045e-8a66-4d27-82d2-5acd34c91084",
   "metadata": {},
   "outputs": [],
   "source": []
  },
  {
   "cell_type": "code",
   "execution_count": null,
   "id": "2224664f-52c5-4f26-9736-42f608cdeed5",
   "metadata": {},
   "outputs": [],
   "source": []
  },
  {
   "cell_type": "code",
   "execution_count": null,
   "id": "867e2d66-72b9-466b-9a2e-4e7ad963130d",
   "metadata": {},
   "outputs": [],
   "source": []
  },
  {
   "cell_type": "code",
   "execution_count": null,
   "id": "ad305872-d9de-4e64-ae37-5672f8eabc13",
   "metadata": {},
   "outputs": [],
   "source": []
  },
  {
   "cell_type": "code",
   "execution_count": null,
   "id": "6b3f9fde-88e7-41b5-a136-301439169436",
   "metadata": {},
   "outputs": [],
   "source": []
  },
  {
   "cell_type": "code",
   "execution_count": null,
   "id": "619cdb16-322f-4e37-a2c7-3d0460a4b397",
   "metadata": {},
   "outputs": [],
   "source": []
  },
  {
   "cell_type": "code",
   "execution_count": null,
   "id": "6870f5a5-9f0f-4750-b6cb-e10ae452507d",
   "metadata": {},
   "outputs": [],
   "source": []
  },
  {
   "cell_type": "code",
   "execution_count": null,
   "id": "9cef4fdd-25b0-41c5-b49c-acc0a439f25c",
   "metadata": {},
   "outputs": [],
   "source": []
  },
  {
   "cell_type": "code",
   "execution_count": null,
   "id": "d5318d88-cc54-4b51-ab09-b2f1e2f9e4ab",
   "metadata": {},
   "outputs": [],
   "source": []
  },
  {
   "cell_type": "code",
   "execution_count": null,
   "id": "7a1e6a68-527e-4c2f-89eb-5306b5784146",
   "metadata": {},
   "outputs": [],
   "source": []
  },
  {
   "cell_type": "code",
   "execution_count": null,
   "id": "0c653bff-3727-49e6-863a-08e594a9bb68",
   "metadata": {},
   "outputs": [],
   "source": [
    "empty.array vs empty.asarray  "
   ]
  },
  {
   "cell_type": "code",
   "execution_count": null,
   "id": "c1af0ae6-59c7-4d4d-b322-73f4ecc4ea02",
   "metadata": {},
   "outputs": [],
   "source": []
  }
 ],
 "metadata": {
  "kernelspec": {
   "display_name": "Python 3 (ipykernel)",
   "language": "python",
   "name": "python3"
  },
  "language_info": {
   "codemirror_mode": {
    "name": "ipython",
    "version": 3
   },
   "file_extension": ".py",
   "mimetype": "text/x-python",
   "name": "python",
   "nbconvert_exporter": "python",
   "pygments_lexer": "ipython3",
   "version": "3.9.7"
  }
 },
 "nbformat": 4,
 "nbformat_minor": 5
}
